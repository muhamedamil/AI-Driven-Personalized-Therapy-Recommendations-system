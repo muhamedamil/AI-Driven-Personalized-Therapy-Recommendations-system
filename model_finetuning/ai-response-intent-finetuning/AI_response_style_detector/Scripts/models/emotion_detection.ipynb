{
 "cells": [
  {
   "cell_type": "code",
   "execution_count": null,
   "metadata": {
    "colab": {
     "base_uri": "https://localhost:8080/"
    },
    "executionInfo": {
     "elapsed": 109732,
     "status": "ok",
     "timestamp": 1740840924509,
     "user": {
      "displayName": "Muhammed amil",
      "userId": "02127285972568360205"
     },
     "user_tz": -330
    },
    "id": "cGP8NQnnw7kS",
    "outputId": "d6591720-47ef-4fc3-fa55-0a0d2f66c44b"
   },
   "outputs": [
    {
     "name": "stdout",
     "output_type": "stream",
     "text": [
      "Requirement already satisfied: transformers in /usr/local/lib/python3.11/dist-packages (4.48.3)\n",
      "Requirement already satisfied: torch in /usr/local/lib/python3.11/dist-packages (2.5.1+cu124)\n",
      "Requirement already satisfied: pandas in /usr/local/lib/python3.11/dist-packages (2.2.2)\n",
      "Requirement already satisfied: numpy in /usr/local/lib/python3.11/dist-packages (1.26.4)\n",
      "Requirement already satisfied: scipy in /usr/local/lib/python3.11/dist-packages (1.13.1)\n",
      "Requirement already satisfied: tqdm in /usr/local/lib/python3.11/dist-packages (4.67.1)\n",
      "Requirement already satisfied: filelock in /usr/local/lib/python3.11/dist-packages (from transformers) (3.17.0)\n",
      "Requirement already satisfied: huggingface-hub<1.0,>=0.24.0 in /usr/local/lib/python3.11/dist-packages (from transformers) (0.28.1)\n",
      "Requirement already satisfied: packaging>=20.0 in /usr/local/lib/python3.11/dist-packages (from transformers) (24.2)\n",
      "Requirement already satisfied: pyyaml>=5.1 in /usr/local/lib/python3.11/dist-packages (from transformers) (6.0.2)\n",
      "Requirement already satisfied: regex!=2019.12.17 in /usr/local/lib/python3.11/dist-packages (from transformers) (2024.11.6)\n",
      "Requirement already satisfied: requests in /usr/local/lib/python3.11/dist-packages (from transformers) (2.32.3)\n",
      "Requirement already satisfied: tokenizers<0.22,>=0.21 in /usr/local/lib/python3.11/dist-packages (from transformers) (0.21.0)\n",
      "Requirement already satisfied: safetensors>=0.4.1 in /usr/local/lib/python3.11/dist-packages (from transformers) (0.5.3)\n",
      "Requirement already satisfied: typing-extensions>=4.8.0 in /usr/local/lib/python3.11/dist-packages (from torch) (4.12.2)\n",
      "Requirement already satisfied: networkx in /usr/local/lib/python3.11/dist-packages (from torch) (3.4.2)\n",
      "Requirement already satisfied: jinja2 in /usr/local/lib/python3.11/dist-packages (from torch) (3.1.5)\n",
      "Requirement already satisfied: fsspec in /usr/local/lib/python3.11/dist-packages (from torch) (2024.10.0)\n",
      "Collecting nvidia-cuda-nvrtc-cu12==12.4.127 (from torch)\n",
      "  Downloading nvidia_cuda_nvrtc_cu12-12.4.127-py3-none-manylinux2014_x86_64.whl.metadata (1.5 kB)\n",
      "Collecting nvidia-cuda-runtime-cu12==12.4.127 (from torch)\n",
      "  Downloading nvidia_cuda_runtime_cu12-12.4.127-py3-none-manylinux2014_x86_64.whl.metadata (1.5 kB)\n",
      "Collecting nvidia-cuda-cupti-cu12==12.4.127 (from torch)\n",
      "  Downloading nvidia_cuda_cupti_cu12-12.4.127-py3-none-manylinux2014_x86_64.whl.metadata (1.6 kB)\n",
      "Collecting nvidia-cudnn-cu12==9.1.0.70 (from torch)\n",
      "  Downloading nvidia_cudnn_cu12-9.1.0.70-py3-none-manylinux2014_x86_64.whl.metadata (1.6 kB)\n",
      "Collecting nvidia-cublas-cu12==12.4.5.8 (from torch)\n",
      "  Downloading nvidia_cublas_cu12-12.4.5.8-py3-none-manylinux2014_x86_64.whl.metadata (1.5 kB)\n",
      "Collecting nvidia-cufft-cu12==11.2.1.3 (from torch)\n",
      "  Downloading nvidia_cufft_cu12-11.2.1.3-py3-none-manylinux2014_x86_64.whl.metadata (1.5 kB)\n",
      "Collecting nvidia-curand-cu12==10.3.5.147 (from torch)\n",
      "  Downloading nvidia_curand_cu12-10.3.5.147-py3-none-manylinux2014_x86_64.whl.metadata (1.5 kB)\n",
      "Collecting nvidia-cusolver-cu12==11.6.1.9 (from torch)\n",
      "  Downloading nvidia_cusolver_cu12-11.6.1.9-py3-none-manylinux2014_x86_64.whl.metadata (1.6 kB)\n",
      "Collecting nvidia-cusparse-cu12==12.3.1.170 (from torch)\n",
      "  Downloading nvidia_cusparse_cu12-12.3.1.170-py3-none-manylinux2014_x86_64.whl.metadata (1.6 kB)\n",
      "Requirement already satisfied: nvidia-nccl-cu12==2.21.5 in /usr/local/lib/python3.11/dist-packages (from torch) (2.21.5)\n",
      "Requirement already satisfied: nvidia-nvtx-cu12==12.4.127 in /usr/local/lib/python3.11/dist-packages (from torch) (12.4.127)\n",
      "Collecting nvidia-nvjitlink-cu12==12.4.127 (from torch)\n",
      "  Downloading nvidia_nvjitlink_cu12-12.4.127-py3-none-manylinux2014_x86_64.whl.metadata (1.5 kB)\n",
      "Requirement already satisfied: triton==3.1.0 in /usr/local/lib/python3.11/dist-packages (from torch) (3.1.0)\n",
      "Requirement already satisfied: sympy==1.13.1 in /usr/local/lib/python3.11/dist-packages (from torch) (1.13.1)\n",
      "Requirement already satisfied: mpmath<1.4,>=1.1.0 in /usr/local/lib/python3.11/dist-packages (from sympy==1.13.1->torch) (1.3.0)\n",
      "Requirement already satisfied: python-dateutil>=2.8.2 in /usr/local/lib/python3.11/dist-packages (from pandas) (2.8.2)\n",
      "Requirement already satisfied: pytz>=2020.1 in /usr/local/lib/python3.11/dist-packages (from pandas) (2025.1)\n",
      "Requirement already satisfied: tzdata>=2022.7 in /usr/local/lib/python3.11/dist-packages (from pandas) (2025.1)\n",
      "Requirement already satisfied: six>=1.5 in /usr/local/lib/python3.11/dist-packages (from python-dateutil>=2.8.2->pandas) (1.17.0)\n",
      "Requirement already satisfied: MarkupSafe>=2.0 in /usr/local/lib/python3.11/dist-packages (from jinja2->torch) (3.0.2)\n",
      "Requirement already satisfied: charset-normalizer<4,>=2 in /usr/local/lib/python3.11/dist-packages (from requests->transformers) (3.4.1)\n",
      "Requirement already satisfied: idna<4,>=2.5 in /usr/local/lib/python3.11/dist-packages (from requests->transformers) (3.10)\n",
      "Requirement already satisfied: urllib3<3,>=1.21.1 in /usr/local/lib/python3.11/dist-packages (from requests->transformers) (2.3.0)\n",
      "Requirement already satisfied: certifi>=2017.4.17 in /usr/local/lib/python3.11/dist-packages (from requests->transformers) (2025.1.31)\n",
      "Downloading nvidia_cublas_cu12-12.4.5.8-py3-none-manylinux2014_x86_64.whl (363.4 MB)\n",
      "\u001b[2K   \u001b[90m━━━━━━━━━━━━━━━━━━━━━━━━━━━━━━━━━━━━━━━━\u001b[0m \u001b[32m363.4/363.4 MB\u001b[0m \u001b[31m3.2 MB/s\u001b[0m eta \u001b[36m0:00:00\u001b[0m\n",
      "\u001b[?25hDownloading nvidia_cuda_cupti_cu12-12.4.127-py3-none-manylinux2014_x86_64.whl (13.8 MB)\n",
      "\u001b[2K   \u001b[90m━━━━━━━━━━━━━━━━━━━━━━━━━━━━━━━━━━━━━━━━\u001b[0m \u001b[32m13.8/13.8 MB\u001b[0m \u001b[31m41.3 MB/s\u001b[0m eta \u001b[36m0:00:00\u001b[0m\n",
      "\u001b[?25hDownloading nvidia_cuda_nvrtc_cu12-12.4.127-py3-none-manylinux2014_x86_64.whl (24.6 MB)\n",
      "\u001b[2K   \u001b[90m━━━━━━━━━━━━━━━━━━━━━━━━━━━━━━━━━━━━━━━━\u001b[0m \u001b[32m24.6/24.6 MB\u001b[0m \u001b[31m15.5 MB/s\u001b[0m eta \u001b[36m0:00:00\u001b[0m\n",
      "\u001b[?25hDownloading nvidia_cuda_runtime_cu12-12.4.127-py3-none-manylinux2014_x86_64.whl (883 kB)\n",
      "\u001b[2K   \u001b[90m━━━━━━━━━━━━━━━━━━━━━━━━━━━━━━━━━━━━━━━━\u001b[0m \u001b[32m883.7/883.7 kB\u001b[0m \u001b[31m29.9 MB/s\u001b[0m eta \u001b[36m0:00:00\u001b[0m\n",
      "\u001b[?25hDownloading nvidia_cudnn_cu12-9.1.0.70-py3-none-manylinux2014_x86_64.whl (664.8 MB)\n",
      "\u001b[2K   \u001b[90m━━━━━━━━━━━━━━━━━━━━━━━━━━━━━━━━━━━━━━━━\u001b[0m \u001b[32m664.8/664.8 MB\u001b[0m \u001b[31m1.2 MB/s\u001b[0m eta \u001b[36m0:00:00\u001b[0m\n",
      "\u001b[?25hDownloading nvidia_cufft_cu12-11.2.1.3-py3-none-manylinux2014_x86_64.whl (211.5 MB)\n",
      "\u001b[2K   \u001b[90m━━━━━━━━━━━━━━━━━━━━━━━━━━━━━━━━━━━━━━━━\u001b[0m \u001b[32m211.5/211.5 MB\u001b[0m \u001b[31m5.5 MB/s\u001b[0m eta \u001b[36m0:00:00\u001b[0m\n",
      "\u001b[?25hDownloading nvidia_curand_cu12-10.3.5.147-py3-none-manylinux2014_x86_64.whl (56.3 MB)\n",
      "\u001b[2K   \u001b[90m━━━━━━━━━━━━━━━━━━━━━━━━━━━━━━━━━━━━━━━━\u001b[0m \u001b[32m56.3/56.3 MB\u001b[0m \u001b[31m11.9 MB/s\u001b[0m eta \u001b[36m0:00:00\u001b[0m\n",
      "\u001b[?25hDownloading nvidia_cusolver_cu12-11.6.1.9-py3-none-manylinux2014_x86_64.whl (127.9 MB)\n",
      "\u001b[2K   \u001b[90m━━━━━━━━━━━━━━━━━━━━━━━━━━━━━━━━━━━━━━━━\u001b[0m \u001b[32m127.9/127.9 MB\u001b[0m \u001b[31m7.7 MB/s\u001b[0m eta \u001b[36m0:00:00\u001b[0m\n",
      "\u001b[?25hDownloading nvidia_cusparse_cu12-12.3.1.170-py3-none-manylinux2014_x86_64.whl (207.5 MB)\n",
      "\u001b[2K   \u001b[90m━━━━━━━━━━━━━━━━━━━━━━━━━━━━━━━━━━━━━━━━\u001b[0m \u001b[32m207.5/207.5 MB\u001b[0m \u001b[31m5.6 MB/s\u001b[0m eta \u001b[36m0:00:00\u001b[0m\n",
      "\u001b[?25hDownloading nvidia_nvjitlink_cu12-12.4.127-py3-none-manylinux2014_x86_64.whl (21.1 MB)\n",
      "\u001b[2K   \u001b[90m━━━━━━━━━━━━━━━━━━━━━━━━━━━━━━━━━━━━━━━━\u001b[0m \u001b[32m21.1/21.1 MB\u001b[0m \u001b[31m74.3 MB/s\u001b[0m eta \u001b[36m0:00:00\u001b[0m\n",
      "\u001b[?25hInstalling collected packages: nvidia-nvjitlink-cu12, nvidia-curand-cu12, nvidia-cufft-cu12, nvidia-cuda-runtime-cu12, nvidia-cuda-nvrtc-cu12, nvidia-cuda-cupti-cu12, nvidia-cublas-cu12, nvidia-cusparse-cu12, nvidia-cudnn-cu12, nvidia-cusolver-cu12\n",
      "  Attempting uninstall: nvidia-nvjitlink-cu12\n",
      "    Found existing installation: nvidia-nvjitlink-cu12 12.5.82\n",
      "    Uninstalling nvidia-nvjitlink-cu12-12.5.82:\n",
      "      Successfully uninstalled nvidia-nvjitlink-cu12-12.5.82\n",
      "  Attempting uninstall: nvidia-curand-cu12\n",
      "    Found existing installation: nvidia-curand-cu12 10.3.6.82\n",
      "    Uninstalling nvidia-curand-cu12-10.3.6.82:\n",
      "      Successfully uninstalled nvidia-curand-cu12-10.3.6.82\n",
      "  Attempting uninstall: nvidia-cufft-cu12\n",
      "    Found existing installation: nvidia-cufft-cu12 11.2.3.61\n",
      "    Uninstalling nvidia-cufft-cu12-11.2.3.61:\n",
      "      Successfully uninstalled nvidia-cufft-cu12-11.2.3.61\n",
      "  Attempting uninstall: nvidia-cuda-runtime-cu12\n",
      "    Found existing installation: nvidia-cuda-runtime-cu12 12.5.82\n",
      "    Uninstalling nvidia-cuda-runtime-cu12-12.5.82:\n",
      "      Successfully uninstalled nvidia-cuda-runtime-cu12-12.5.82\n",
      "  Attempting uninstall: nvidia-cuda-nvrtc-cu12\n",
      "    Found existing installation: nvidia-cuda-nvrtc-cu12 12.5.82\n",
      "    Uninstalling nvidia-cuda-nvrtc-cu12-12.5.82:\n",
      "      Successfully uninstalled nvidia-cuda-nvrtc-cu12-12.5.82\n",
      "  Attempting uninstall: nvidia-cuda-cupti-cu12\n",
      "    Found existing installation: nvidia-cuda-cupti-cu12 12.5.82\n",
      "    Uninstalling nvidia-cuda-cupti-cu12-12.5.82:\n",
      "      Successfully uninstalled nvidia-cuda-cupti-cu12-12.5.82\n",
      "  Attempting uninstall: nvidia-cublas-cu12\n",
      "    Found existing installation: nvidia-cublas-cu12 12.5.3.2\n",
      "    Uninstalling nvidia-cublas-cu12-12.5.3.2:\n",
      "      Successfully uninstalled nvidia-cublas-cu12-12.5.3.2\n",
      "  Attempting uninstall: nvidia-cusparse-cu12\n",
      "    Found existing installation: nvidia-cusparse-cu12 12.5.1.3\n",
      "    Uninstalling nvidia-cusparse-cu12-12.5.1.3:\n",
      "      Successfully uninstalled nvidia-cusparse-cu12-12.5.1.3\n",
      "  Attempting uninstall: nvidia-cudnn-cu12\n",
      "    Found existing installation: nvidia-cudnn-cu12 9.3.0.75\n",
      "    Uninstalling nvidia-cudnn-cu12-9.3.0.75:\n",
      "      Successfully uninstalled nvidia-cudnn-cu12-9.3.0.75\n",
      "  Attempting uninstall: nvidia-cusolver-cu12\n",
      "    Found existing installation: nvidia-cusolver-cu12 11.6.3.83\n",
      "    Uninstalling nvidia-cusolver-cu12-11.6.3.83:\n",
      "      Successfully uninstalled nvidia-cusolver-cu12-11.6.3.83\n",
      "Successfully installed nvidia-cublas-cu12-12.4.5.8 nvidia-cuda-cupti-cu12-12.4.127 nvidia-cuda-nvrtc-cu12-12.4.127 nvidia-cuda-runtime-cu12-12.4.127 nvidia-cudnn-cu12-9.1.0.70 nvidia-cufft-cu12-11.2.1.3 nvidia-curand-cu12-10.3.5.147 nvidia-cusolver-cu12-11.6.1.9 nvidia-cusparse-cu12-12.3.1.170 nvidia-nvjitlink-cu12-12.4.127\n"
     ]
    }
   ],
   "source": [
    "!pip install transformers torch pandas numpy scipy tqdm"
   ]
  },
  {
   "cell_type": "code",
   "execution_count": null,
   "metadata": {
    "colab": {
     "base_uri": "https://localhost:8080/"
    },
    "executionInfo": {
     "elapsed": 300424,
     "status": "ok",
     "timestamp": 1740841839433,
     "user": {
      "displayName": "Muhammed amil",
      "userId": "02127285972568360205"
     },
     "user_tz": -330
    },
    "id": "oqZciN7mw-XI",
    "outputId": "3e29a3ce-0f8e-450e-b395-ea1ee0229780"
   },
   "outputs": [
    {
     "name": "stdout",
     "output_type": "stream",
     "text": [
      "Using device: cuda\n"
     ]
    },
    {
     "name": "stderr",
     "output_type": "stream",
     "text": [
      "Processing Emotions:   0%|          | 2/2383 [00:00<08:14,  4.82it/s]"
     ]
    },
    {
     "name": "stdout",
     "output_type": "stream",
     "text": [
      "Scores shape: (32, 7), Expected labels: 7\n",
      "Scores shape: (32, 7), Expected labels: 7\n"
     ]
    },
    {
     "name": "stderr",
     "output_type": "stream",
     "text": [
      "Processing Emotions:   0%|          | 4/2383 [00:00<06:57,  5.70it/s]"
     ]
    },
    {
     "name": "stdout",
     "output_type": "stream",
     "text": [
      "Scores shape: (32, 7), Expected labels: 7\n",
      "Scores shape: (32, 7), Expected labels: 7\n"
     ]
    },
    {
     "name": "stderr",
     "output_type": "stream",
     "text": [
      "Processing Emotions:   0%|          | 6/2383 [00:01<06:13,  6.37it/s]"
     ]
    },
    {
     "name": "stdout",
     "output_type": "stream",
     "text": [
      "Scores shape: (32, 7), Expected labels: 7\n",
      "Scores shape: (32, 7), Expected labels: 7\n"
     ]
    },
    {
     "name": "stderr",
     "output_type": "stream",
     "text": [
      "Processing Emotions:   0%|          | 8/2383 [00:01<06:04,  6.51it/s]"
     ]
    },
    {
     "name": "stdout",
     "output_type": "stream",
     "text": [
      "Scores shape: (32, 7), Expected labels: 7\n",
      "Scores shape: (32, 7), Expected labels: 7\n"
     ]
    },
    {
     "name": "stderr",
     "output_type": "stream",
     "text": [
      "Processing Emotions:   0%|          | 10/2383 [00:01<06:02,  6.55it/s]"
     ]
    },
    {
     "name": "stdout",
     "output_type": "stream",
     "text": [
      "Scores shape: (32, 7), Expected labels: 7\n",
      "Scores shape: (32, 7), Expected labels: 7\n"
     ]
    },
    {
     "name": "stderr",
     "output_type": "stream",
     "text": [
      "Processing Emotions:   1%|          | 12/2383 [00:01<06:11,  6.39it/s]"
     ]
    },
    {
     "name": "stdout",
     "output_type": "stream",
     "text": [
      "Scores shape: (32, 7), Expected labels: 7\n",
      "Scores shape: (32, 7), Expected labels: 7\n"
     ]
    },
    {
     "name": "stderr",
     "output_type": "stream",
     "text": [
      "Processing Emotions:   1%|          | 14/2383 [00:02<05:51,  6.74it/s]"
     ]
    },
    {
     "name": "stdout",
     "output_type": "stream",
     "text": [
      "Scores shape: (32, 7), Expected labels: 7\n",
      "Scores shape: (32, 7), Expected labels: 7\n"
     ]
    },
    {
     "name": "stderr",
     "output_type": "stream",
     "text": [
      "Processing Emotions:   1%|          | 16/2383 [00:02<06:12,  6.35it/s]"
     ]
    },
    {
     "name": "stdout",
     "output_type": "stream",
     "text": [
      "Scores shape: (32, 7), Expected labels: 7\n",
      "Scores shape: (32, 7), Expected labels: 7\n"
     ]
    },
    {
     "name": "stderr",
     "output_type": "stream",
     "text": [
      "Processing Emotions:   1%|          | 18/2383 [00:02<05:59,  6.58it/s]"
     ]
    },
    {
     "name": "stdout",
     "output_type": "stream",
     "text": [
      "Scores shape: (32, 7), Expected labels: 7\n",
      "Scores shape: (32, 7), Expected labels: 7\n"
     ]
    },
    {
     "name": "stderr",
     "output_type": "stream",
     "text": [
      "Processing Emotions:   1%|          | 20/2383 [00:03<05:38,  6.98it/s]"
     ]
    },
    {
     "name": "stdout",
     "output_type": "stream",
     "text": [
      "Scores shape: (32, 7), Expected labels: 7\n",
      "Scores shape: (32, 7), Expected labels: 7\n"
     ]
    },
    {
     "name": "stderr",
     "output_type": "stream",
     "text": [
      "Processing Emotions:   1%|          | 22/2383 [00:03<05:56,  6.62it/s]"
     ]
    },
    {
     "name": "stdout",
     "output_type": "stream",
     "text": [
      "Scores shape: (32, 7), Expected labels: 7\n",
      "Scores shape: (32, 7), Expected labels: 7\n"
     ]
    },
    {
     "name": "stderr",
     "output_type": "stream",
     "text": [
      "Processing Emotions:   1%|          | 24/2383 [00:03<06:32,  6.01it/s]"
     ]
    },
    {
     "name": "stdout",
     "output_type": "stream",
     "text": [
      "Scores shape: (32, 7), Expected labels: 7\n",
      "Scores shape: (32, 7), Expected labels: 7\n"
     ]
    },
    {
     "name": "stderr",
     "output_type": "stream",
     "text": [
      "Processing Emotions:   1%|          | 26/2383 [00:04<05:38,  6.95it/s]"
     ]
    },
    {
     "name": "stdout",
     "output_type": "stream",
     "text": [
      "Scores shape: (32, 7), Expected labels: 7\n",
      "Scores shape: (32, 7), Expected labels: 7\n"
     ]
    },
    {
     "name": "stderr",
     "output_type": "stream",
     "text": [
      "Processing Emotions:   1%|          | 28/2383 [00:04<05:03,  7.77it/s]"
     ]
    },
    {
     "name": "stdout",
     "output_type": "stream",
     "text": [
      "Scores shape: (32, 7), Expected labels: 7\n",
      "Scores shape: (32, 7), Expected labels: 7\n"
     ]
    },
    {
     "name": "stderr",
     "output_type": "stream",
     "text": [
      "Processing Emotions:   1%|▏         | 30/2383 [00:04<04:46,  8.22it/s]"
     ]
    },
    {
     "name": "stdout",
     "output_type": "stream",
     "text": [
      "Scores shape: (32, 7), Expected labels: 7\n",
      "Scores shape: (32, 7), Expected labels: 7\n"
     ]
    },
    {
     "name": "stderr",
     "output_type": "stream",
     "text": [
      "Processing Emotions:   1%|▏         | 32/2383 [00:04<04:36,  8.51it/s]"
     ]
    },
    {
     "name": "stdout",
     "output_type": "stream",
     "text": [
      "Scores shape: (32, 7), Expected labels: 7\n",
      "Scores shape: (32, 7), Expected labels: 7\n"
     ]
    },
    {
     "name": "stderr",
     "output_type": "stream",
     "text": [
      "Processing Emotions:   1%|▏         | 34/2383 [00:04<04:31,  8.66it/s]"
     ]
    },
    {
     "name": "stdout",
     "output_type": "stream",
     "text": [
      "Scores shape: (32, 7), Expected labels: 7\n",
      "Scores shape: (32, 7), Expected labels: 7\n"
     ]
    },
    {
     "name": "stderr",
     "output_type": "stream",
     "text": [
      "Processing Emotions:   2%|▏         | 36/2383 [00:05<04:31,  8.63it/s]"
     ]
    },
    {
     "name": "stdout",
     "output_type": "stream",
     "text": [
      "Scores shape: (32, 7), Expected labels: 7\n",
      "Scores shape: (32, 7), Expected labels: 7\n"
     ]
    },
    {
     "name": "stderr",
     "output_type": "stream",
     "text": [
      "Processing Emotions:   2%|▏         | 38/2383 [00:05<04:42,  8.29it/s]"
     ]
    },
    {
     "name": "stdout",
     "output_type": "stream",
     "text": [
      "Scores shape: (32, 7), Expected labels: 7\n",
      "Scores shape: (32, 7), Expected labels: 7\n"
     ]
    },
    {
     "name": "stderr",
     "output_type": "stream",
     "text": [
      "Processing Emotions:   2%|▏         | 40/2383 [00:05<04:44,  8.22it/s]"
     ]
    },
    {
     "name": "stdout",
     "output_type": "stream",
     "text": [
      "Scores shape: (32, 7), Expected labels: 7\n",
      "Scores shape: (32, 7), Expected labels: 7\n"
     ]
    },
    {
     "name": "stderr",
     "output_type": "stream",
     "text": [
      "Processing Emotions:   2%|▏         | 42/2383 [00:05<04:43,  8.27it/s]"
     ]
    },
    {
     "name": "stdout",
     "output_type": "stream",
     "text": [
      "Scores shape: (32, 7), Expected labels: 7\n",
      "Scores shape: (32, 7), Expected labels: 7\n"
     ]
    },
    {
     "name": "stderr",
     "output_type": "stream",
     "text": [
      "Processing Emotions:   2%|▏         | 44/2383 [00:06<04:42,  8.29it/s]"
     ]
    },
    {
     "name": "stdout",
     "output_type": "stream",
     "text": [
      "Scores shape: (32, 7), Expected labels: 7\n",
      "Scores shape: (32, 7), Expected labels: 7\n"
     ]
    },
    {
     "name": "stderr",
     "output_type": "stream",
     "text": [
      "Processing Emotions:   2%|▏         | 46/2383 [00:06<04:40,  8.32it/s]"
     ]
    },
    {
     "name": "stdout",
     "output_type": "stream",
     "text": [
      "Scores shape: (32, 7), Expected labels: 7\n",
      "Scores shape: (32, 7), Expected labels: 7\n"
     ]
    },
    {
     "name": "stderr",
     "output_type": "stream",
     "text": [
      "Processing Emotions:   2%|▏         | 48/2383 [00:06<04:40,  8.31it/s]"
     ]
    },
    {
     "name": "stdout",
     "output_type": "stream",
     "text": [
      "Scores shape: (32, 7), Expected labels: 7\n",
      "Scores shape: (32, 7), Expected labels: 7\n"
     ]
    },
    {
     "name": "stderr",
     "output_type": "stream",
     "text": [
      "Processing Emotions:   2%|▏         | 50/2383 [00:06<04:46,  8.15it/s]"
     ]
    },
    {
     "name": "stdout",
     "output_type": "stream",
     "text": [
      "Scores shape: (32, 7), Expected labels: 7\n",
      "Scores shape: (32, 7), Expected labels: 7\n"
     ]
    },
    {
     "name": "stderr",
     "output_type": "stream",
     "text": [
      "Processing Emotions:   2%|▏         | 52/2383 [00:07<04:40,  8.30it/s]"
     ]
    },
    {
     "name": "stdout",
     "output_type": "stream",
     "text": [
      "Scores shape: (32, 7), Expected labels: 7\n",
      "Scores shape: (32, 7), Expected labels: 7\n"
     ]
    },
    {
     "name": "stderr",
     "output_type": "stream",
     "text": [
      "Processing Emotions:   2%|▏         | 54/2383 [00:07<04:45,  8.16it/s]"
     ]
    },
    {
     "name": "stdout",
     "output_type": "stream",
     "text": [
      "Scores shape: (32, 7), Expected labels: 7\n",
      "Scores shape: (32, 7), Expected labels: 7\n"
     ]
    },
    {
     "name": "stderr",
     "output_type": "stream",
     "text": [
      "Processing Emotions:   2%|▏         | 56/2383 [00:07<04:45,  8.14it/s]"
     ]
    },
    {
     "name": "stdout",
     "output_type": "stream",
     "text": [
      "Scores shape: (32, 7), Expected labels: 7\n",
      "Scores shape: (32, 7), Expected labels: 7\n"
     ]
    },
    {
     "name": "stderr",
     "output_type": "stream",
     "text": [
      "Processing Emotions:   2%|▏         | 58/2383 [00:07<04:51,  7.98it/s]"
     ]
    },
    {
     "name": "stdout",
     "output_type": "stream",
     "text": [
      "Scores shape: (32, 7), Expected labels: 7\n",
      "Scores shape: (32, 7), Expected labels: 7\n"
     ]
    },
    {
     "name": "stderr",
     "output_type": "stream",
     "text": [
      "Processing Emotions:   3%|▎         | 60/2383 [00:08<04:51,  7.96it/s]"
     ]
    },
    {
     "name": "stdout",
     "output_type": "stream",
     "text": [
      "Scores shape: (32, 7), Expected labels: 7\n",
      "Scores shape: (32, 7), Expected labels: 7\n"
     ]
    },
    {
     "name": "stderr",
     "output_type": "stream",
     "text": [
      "Processing Emotions:   3%|▎         | 62/2383 [00:08<04:48,  8.05it/s]"
     ]
    },
    {
     "name": "stdout",
     "output_type": "stream",
     "text": [
      "Scores shape: (32, 7), Expected labels: 7\n",
      "Scores shape: (32, 7), Expected labels: 7\n"
     ]
    },
    {
     "name": "stderr",
     "output_type": "stream",
     "text": [
      "Processing Emotions:   3%|▎         | 64/2383 [00:08<04:43,  8.19it/s]"
     ]
    },
    {
     "name": "stdout",
     "output_type": "stream",
     "text": [
      "Scores shape: (32, 7), Expected labels: 7\n",
      "Scores shape: (32, 7), Expected labels: 7\n"
     ]
    },
    {
     "name": "stderr",
     "output_type": "stream",
     "text": [
      "Processing Emotions:   3%|▎         | 66/2383 [00:08<04:42,  8.20it/s]"
     ]
    },
    {
     "name": "stdout",
     "output_type": "stream",
     "text": [
      "Scores shape: (32, 7), Expected labels: 7\n",
      "Scores shape: (32, 7), Expected labels: 7\n"
     ]
    },
    {
     "name": "stderr",
     "output_type": "stream",
     "text": [
      "Processing Emotions:   3%|▎         | 68/2383 [00:09<04:42,  8.19it/s]"
     ]
    },
    {
     "name": "stdout",
     "output_type": "stream",
     "text": [
      "Scores shape: (32, 7), Expected labels: 7\n",
      "Scores shape: (32, 7), Expected labels: 7\n"
     ]
    },
    {
     "name": "stderr",
     "output_type": "stream",
     "text": [
      "Processing Emotions:   3%|▎         | 70/2383 [00:09<04:43,  8.16it/s]"
     ]
    },
    {
     "name": "stdout",
     "output_type": "stream",
     "text": [
      "Scores shape: (32, 7), Expected labels: 7\n",
      "Scores shape: (32, 7), Expected labels: 7\n"
     ]
    },
    {
     "name": "stderr",
     "output_type": "stream",
     "text": [
      "Processing Emotions:   3%|▎         | 72/2383 [00:09<05:15,  7.33it/s]"
     ]
    },
    {
     "name": "stdout",
     "output_type": "stream",
     "text": [
      "Scores shape: (32, 7), Expected labels: 7\n",
      "Scores shape: (32, 7), Expected labels: 7\n"
     ]
    },
    {
     "name": "stderr",
     "output_type": "stream",
     "text": [
      "Processing Emotions:   3%|▎         | 74/2383 [00:09<05:15,  7.31it/s]"
     ]
    },
    {
     "name": "stdout",
     "output_type": "stream",
     "text": [
      "Scores shape: (32, 7), Expected labels: 7\n",
      "Scores shape: (32, 7), Expected labels: 7\n"
     ]
    },
    {
     "name": "stderr",
     "output_type": "stream",
     "text": [
      "Processing Emotions:   3%|▎         | 76/2383 [00:10<05:37,  6.83it/s]"
     ]
    },
    {
     "name": "stdout",
     "output_type": "stream",
     "text": [
      "Scores shape: (32, 7), Expected labels: 7\n",
      "Scores shape: (32, 7), Expected labels: 7\n"
     ]
    },
    {
     "name": "stderr",
     "output_type": "stream",
     "text": [
      "Processing Emotions:   3%|▎         | 78/2383 [00:10<05:10,  7.41it/s]"
     ]
    },
    {
     "name": "stdout",
     "output_type": "stream",
     "text": [
      "Scores shape: (32, 7), Expected labels: 7\n",
      "Scores shape: (32, 7), Expected labels: 7\n"
     ]
    },
    {
     "name": "stderr",
     "output_type": "stream",
     "text": [
      "Processing Emotions:   3%|▎         | 80/2383 [00:10<05:45,  6.66it/s]"
     ]
    },
    {
     "name": "stdout",
     "output_type": "stream",
     "text": [
      "Scores shape: (32, 7), Expected labels: 7\n",
      "Scores shape: (32, 7), Expected labels: 7\n"
     ]
    },
    {
     "name": "stderr",
     "output_type": "stream",
     "text": [
      "Processing Emotions:   3%|▎         | 82/2383 [00:11<05:36,  6.84it/s]"
     ]
    },
    {
     "name": "stdout",
     "output_type": "stream",
     "text": [
      "Scores shape: (32, 7), Expected labels: 7\n",
      "Scores shape: (32, 7), Expected labels: 7\n"
     ]
    },
    {
     "name": "stderr",
     "output_type": "stream",
     "text": [
      "Processing Emotions:   4%|▎         | 84/2383 [00:11<05:13,  7.34it/s]"
     ]
    },
    {
     "name": "stdout",
     "output_type": "stream",
     "text": [
      "Scores shape: (32, 7), Expected labels: 7\n",
      "Scores shape: (32, 7), Expected labels: 7\n"
     ]
    },
    {
     "name": "stderr",
     "output_type": "stream",
     "text": [
      "Processing Emotions:   4%|▎         | 86/2383 [00:11<05:23,  7.10it/s]"
     ]
    },
    {
     "name": "stdout",
     "output_type": "stream",
     "text": [
      "Scores shape: (32, 7), Expected labels: 7\n",
      "Scores shape: (32, 7), Expected labels: 7\n"
     ]
    },
    {
     "name": "stderr",
     "output_type": "stream",
     "text": [
      "Processing Emotions:   4%|▎         | 88/2383 [00:12<05:42,  6.70it/s]"
     ]
    },
    {
     "name": "stdout",
     "output_type": "stream",
     "text": [
      "Scores shape: (32, 7), Expected labels: 7\n",
      "Scores shape: (32, 7), Expected labels: 7\n"
     ]
    },
    {
     "name": "stderr",
     "output_type": "stream",
     "text": [
      "Processing Emotions:   4%|▍         | 90/2383 [00:12<05:52,  6.50it/s]"
     ]
    },
    {
     "name": "stdout",
     "output_type": "stream",
     "text": [
      "Scores shape: (32, 7), Expected labels: 7\n",
      "Scores shape: (32, 7), Expected labels: 7\n"
     ]
    },
    {
     "name": "stderr",
     "output_type": "stream",
     "text": [
      "Processing Emotions:   4%|▍         | 92/2383 [00:12<05:41,  6.70it/s]"
     ]
    },
    {
     "name": "stdout",
     "output_type": "stream",
     "text": [
      "Scores shape: (32, 7), Expected labels: 7\n",
      "Scores shape: (32, 7), Expected labels: 7\n"
     ]
    },
    {
     "name": "stderr",
     "output_type": "stream",
     "text": [
      "Processing Emotions:   4%|▍         | 94/2383 [00:12<05:24,  7.06it/s]"
     ]
    },
    {
     "name": "stdout",
     "output_type": "stream",
     "text": [
      "Scores shape: (32, 7), Expected labels: 7\n",
      "Scores shape: (32, 7), Expected labels: 7\n"
     ]
    },
    {
     "name": "stderr",
     "output_type": "stream",
     "text": [
      "Processing Emotions:   4%|▍         | 96/2383 [00:13<05:37,  6.78it/s]"
     ]
    },
    {
     "name": "stdout",
     "output_type": "stream",
     "text": [
      "Scores shape: (32, 7), Expected labels: 7\n",
      "Scores shape: (32, 7), Expected labels: 7\n"
     ]
    },
    {
     "name": "stderr",
     "output_type": "stream",
     "text": [
      "Processing Emotions:   4%|▍         | 98/2383 [00:13<05:36,  6.80it/s]"
     ]
    },
    {
     "name": "stdout",
     "output_type": "stream",
     "text": [
      "Scores shape: (32, 7), Expected labels: 7\n",
      "Scores shape: (32, 7), Expected labels: 7\n"
     ]
    },
    {
     "name": "stderr",
     "output_type": "stream",
     "text": [
      "Processing Emotions:   4%|▍         | 100/2383 [00:13<05:36,  6.79it/s]"
     ]
    },
    {
     "name": "stdout",
     "output_type": "stream",
     "text": [
      "Scores shape: (32, 7), Expected labels: 7\n",
      "Scores shape: (32, 7), Expected labels: 7\n"
     ]
    },
    {
     "name": "stderr",
     "output_type": "stream",
     "text": [
      "Processing Emotions:   4%|▍         | 102/2383 [00:14<05:46,  6.59it/s]"
     ]
    },
    {
     "name": "stdout",
     "output_type": "stream",
     "text": [
      "Scores shape: (32, 7), Expected labels: 7\n",
      "Scores shape: (32, 7), Expected labels: 7\n"
     ]
    },
    {
     "name": "stderr",
     "output_type": "stream",
     "text": [
      "Processing Emotions:   4%|▍         | 104/2383 [00:14<05:18,  7.15it/s]"
     ]
    },
    {
     "name": "stdout",
     "output_type": "stream",
     "text": [
      "Scores shape: (32, 7), Expected labels: 7\n",
      "Scores shape: (32, 7), Expected labels: 7\n"
     ]
    },
    {
     "name": "stderr",
     "output_type": "stream",
     "text": [
      "Processing Emotions:   4%|▍         | 106/2383 [00:14<05:18,  7.15it/s]"
     ]
    },
    {
     "name": "stdout",
     "output_type": "stream",
     "text": [
      "Scores shape: (32, 7), Expected labels: 7\n",
      "Scores shape: (32, 7), Expected labels: 7\n"
     ]
    },
    {
     "name": "stderr",
     "output_type": "stream",
     "text": [
      "Processing Emotions:   5%|▍         | 108/2383 [00:14<04:59,  7.61it/s]"
     ]
    },
    {
     "name": "stdout",
     "output_type": "stream",
     "text": [
      "Scores shape: (32, 7), Expected labels: 7\n",
      "Scores shape: (32, 7), Expected labels: 7\n"
     ]
    },
    {
     "name": "stderr",
     "output_type": "stream",
     "text": [
      "Processing Emotions:   5%|▍         | 110/2383 [00:15<04:48,  7.89it/s]"
     ]
    },
    {
     "name": "stdout",
     "output_type": "stream",
     "text": [
      "Scores shape: (32, 7), Expected labels: 7\n",
      "Scores shape: (32, 7), Expected labels: 7\n"
     ]
    },
    {
     "name": "stderr",
     "output_type": "stream",
     "text": [
      "Processing Emotions:   5%|▍         | 112/2383 [00:15<04:41,  8.08it/s]"
     ]
    },
    {
     "name": "stdout",
     "output_type": "stream",
     "text": [
      "Scores shape: (32, 7), Expected labels: 7\n",
      "Scores shape: (32, 7), Expected labels: 7\n"
     ]
    },
    {
     "name": "stderr",
     "output_type": "stream",
     "text": [
      "Processing Emotions:   5%|▍         | 114/2383 [00:15<04:35,  8.24it/s]"
     ]
    },
    {
     "name": "stdout",
     "output_type": "stream",
     "text": [
      "Scores shape: (32, 7), Expected labels: 7\n",
      "Scores shape: (32, 7), Expected labels: 7\n"
     ]
    },
    {
     "name": "stderr",
     "output_type": "stream",
     "text": [
      "Processing Emotions:   5%|▍         | 116/2383 [00:15<04:30,  8.37it/s]"
     ]
    },
    {
     "name": "stdout",
     "output_type": "stream",
     "text": [
      "Scores shape: (32, 7), Expected labels: 7\n",
      "Scores shape: (32, 7), Expected labels: 7\n"
     ]
    },
    {
     "name": "stderr",
     "output_type": "stream",
     "text": [
      "Processing Emotions:   5%|▍         | 118/2383 [00:16<04:27,  8.47it/s]"
     ]
    },
    {
     "name": "stdout",
     "output_type": "stream",
     "text": [
      "Scores shape: (32, 7), Expected labels: 7\n",
      "Scores shape: (32, 7), Expected labels: 7\n"
     ]
    },
    {
     "name": "stderr",
     "output_type": "stream",
     "text": [
      "Processing Emotions:   5%|▌         | 120/2383 [00:16<04:28,  8.44it/s]"
     ]
    },
    {
     "name": "stdout",
     "output_type": "stream",
     "text": [
      "Scores shape: (32, 7), Expected labels: 7\n",
      "Scores shape: (32, 7), Expected labels: 7\n"
     ]
    },
    {
     "name": "stderr",
     "output_type": "stream",
     "text": [
      "Processing Emotions:   5%|▌         | 122/2383 [00:16<04:25,  8.53it/s]"
     ]
    },
    {
     "name": "stdout",
     "output_type": "stream",
     "text": [
      "Scores shape: (32, 7), Expected labels: 7\n",
      "Scores shape: (32, 7), Expected labels: 7\n"
     ]
    },
    {
     "name": "stderr",
     "output_type": "stream",
     "text": [
      "Processing Emotions:   5%|▌         | 124/2383 [00:16<04:21,  8.64it/s]"
     ]
    },
    {
     "name": "stdout",
     "output_type": "stream",
     "text": [
      "Scores shape: (32, 7), Expected labels: 7\n",
      "Scores shape: (32, 7), Expected labels: 7\n"
     ]
    },
    {
     "name": "stderr",
     "output_type": "stream",
     "text": [
      "Processing Emotions:   5%|▌         | 126/2383 [00:17<04:27,  8.45it/s]"
     ]
    },
    {
     "name": "stdout",
     "output_type": "stream",
     "text": [
      "Scores shape: (32, 7), Expected labels: 7\n",
      "Scores shape: (32, 7), Expected labels: 7\n"
     ]
    },
    {
     "name": "stderr",
     "output_type": "stream",
     "text": [
      "Processing Emotions:   5%|▌         | 128/2383 [00:17<04:22,  8.57it/s]"
     ]
    },
    {
     "name": "stdout",
     "output_type": "stream",
     "text": [
      "Scores shape: (32, 7), Expected labels: 7\n",
      "Scores shape: (32, 7), Expected labels: 7\n"
     ]
    },
    {
     "name": "stderr",
     "output_type": "stream",
     "text": [
      "Processing Emotions:   5%|▌         | 130/2383 [00:17<04:21,  8.62it/s]"
     ]
    },
    {
     "name": "stdout",
     "output_type": "stream",
     "text": [
      "Scores shape: (32, 7), Expected labels: 7\n",
      "Scores shape: (32, 7), Expected labels: 7\n"
     ]
    },
    {
     "name": "stderr",
     "output_type": "stream",
     "text": [
      "Processing Emotions:   6%|▌         | 132/2383 [00:17<04:28,  8.39it/s]"
     ]
    },
    {
     "name": "stdout",
     "output_type": "stream",
     "text": [
      "Scores shape: (32, 7), Expected labels: 7\n",
      "Scores shape: (32, 7), Expected labels: 7\n"
     ]
    },
    {
     "name": "stderr",
     "output_type": "stream",
     "text": [
      "Processing Emotions:   6%|▌         | 134/2383 [00:17<04:24,  8.52it/s]"
     ]
    },
    {
     "name": "stdout",
     "output_type": "stream",
     "text": [
      "Scores shape: (32, 7), Expected labels: 7\n",
      "Scores shape: (32, 7), Expected labels: 7\n"
     ]
    },
    {
     "name": "stderr",
     "output_type": "stream",
     "text": [
      "Processing Emotions:   6%|▌         | 136/2383 [00:18<05:08,  7.27it/s]"
     ]
    },
    {
     "name": "stdout",
     "output_type": "stream",
     "text": [
      "Scores shape: (32, 7), Expected labels: 7\n",
      "Scores shape: (32, 7), Expected labels: 7\n"
     ]
    },
    {
     "name": "stderr",
     "output_type": "stream",
     "text": [
      "Processing Emotions:   6%|▌         | 138/2383 [00:18<05:33,  6.73it/s]"
     ]
    },
    {
     "name": "stdout",
     "output_type": "stream",
     "text": [
      "Scores shape: (32, 7), Expected labels: 7\n",
      "Scores shape: (32, 7), Expected labels: 7\n"
     ]
    },
    {
     "name": "stderr",
     "output_type": "stream",
     "text": [
      "Processing Emotions:   6%|▌         | 140/2383 [00:18<05:39,  6.61it/s]"
     ]
    },
    {
     "name": "stdout",
     "output_type": "stream",
     "text": [
      "Scores shape: (32, 7), Expected labels: 7\n",
      "Scores shape: (32, 7), Expected labels: 7\n"
     ]
    },
    {
     "name": "stderr",
     "output_type": "stream",
     "text": [
      "Processing Emotions:   6%|▌         | 142/2383 [00:19<05:17,  7.07it/s]"
     ]
    },
    {
     "name": "stdout",
     "output_type": "stream",
     "text": [
      "Scores shape: (32, 7), Expected labels: 7\n",
      "Scores shape: (32, 7), Expected labels: 7\n"
     ]
    },
    {
     "name": "stderr",
     "output_type": "stream",
     "text": [
      "Processing Emotions:   6%|▌         | 144/2383 [00:19<05:34,  6.69it/s]"
     ]
    },
    {
     "name": "stdout",
     "output_type": "stream",
     "text": [
      "Scores shape: (32, 7), Expected labels: 7\n",
      "Scores shape: (32, 7), Expected labels: 7\n"
     ]
    },
    {
     "name": "stderr",
     "output_type": "stream",
     "text": [
      "Processing Emotions:   6%|▌         | 146/2383 [00:19<05:21,  6.95it/s]"
     ]
    },
    {
     "name": "stdout",
     "output_type": "stream",
     "text": [
      "Scores shape: (32, 7), Expected labels: 7\n",
      "Scores shape: (32, 7), Expected labels: 7\n"
     ]
    },
    {
     "name": "stderr",
     "output_type": "stream",
     "text": [
      "Processing Emotions:   6%|▌         | 148/2383 [00:20<05:19,  7.01it/s]"
     ]
    },
    {
     "name": "stdout",
     "output_type": "stream",
     "text": [
      "Scores shape: (32, 7), Expected labels: 7\n",
      "Scores shape: (32, 7), Expected labels: 7\n"
     ]
    },
    {
     "name": "stderr",
     "output_type": "stream",
     "text": [
      "Processing Emotions:   6%|▋         | 150/2383 [00:20<05:10,  7.20it/s]"
     ]
    },
    {
     "name": "stdout",
     "output_type": "stream",
     "text": [
      "Scores shape: (32, 7), Expected labels: 7\n",
      "Scores shape: (32, 7), Expected labels: 7\n"
     ]
    },
    {
     "name": "stderr",
     "output_type": "stream",
     "text": [
      "Processing Emotions:   6%|▋         | 152/2383 [00:20<05:28,  6.79it/s]"
     ]
    },
    {
     "name": "stdout",
     "output_type": "stream",
     "text": [
      "Scores shape: (32, 7), Expected labels: 7\n",
      "Scores shape: (32, 7), Expected labels: 7\n"
     ]
    },
    {
     "name": "stderr",
     "output_type": "stream",
     "text": [
      "Processing Emotions:   6%|▋         | 154/2383 [00:20<05:02,  7.36it/s]"
     ]
    },
    {
     "name": "stdout",
     "output_type": "stream",
     "text": [
      "Scores shape: (32, 7), Expected labels: 7\n",
      "Scores shape: (32, 7), Expected labels: 7\n"
     ]
    },
    {
     "name": "stderr",
     "output_type": "stream",
     "text": [
      "Processing Emotions:   7%|▋         | 156/2383 [00:21<05:04,  7.30it/s]"
     ]
    },
    {
     "name": "stdout",
     "output_type": "stream",
     "text": [
      "Scores shape: (32, 7), Expected labels: 7\n",
      "Scores shape: (32, 7), Expected labels: 7\n"
     ]
    },
    {
     "name": "stderr",
     "output_type": "stream",
     "text": [
      "Processing Emotions:   7%|▋         | 158/2383 [00:21<04:47,  7.75it/s]"
     ]
    },
    {
     "name": "stdout",
     "output_type": "stream",
     "text": [
      "Scores shape: (32, 7), Expected labels: 7\n",
      "Scores shape: (32, 7), Expected labels: 7\n"
     ]
    },
    {
     "name": "stderr",
     "output_type": "stream",
     "text": [
      "Processing Emotions:   7%|▋         | 160/2383 [00:21<04:37,  8.00it/s]"
     ]
    },
    {
     "name": "stdout",
     "output_type": "stream",
     "text": [
      "Scores shape: (32, 7), Expected labels: 7\n",
      "Scores shape: (32, 7), Expected labels: 7\n"
     ]
    },
    {
     "name": "stderr",
     "output_type": "stream",
     "text": [
      "Processing Emotions:   7%|▋         | 162/2383 [00:21<04:27,  8.30it/s]"
     ]
    },
    {
     "name": "stdout",
     "output_type": "stream",
     "text": [
      "Scores shape: (32, 7), Expected labels: 7\n",
      "Scores shape: (32, 7), Expected labels: 7\n"
     ]
    },
    {
     "name": "stderr",
     "output_type": "stream",
     "text": [
      "Processing Emotions:   7%|▋         | 164/2383 [00:22<04:37,  8.00it/s]"
     ]
    },
    {
     "name": "stdout",
     "output_type": "stream",
     "text": [
      "Scores shape: (32, 7), Expected labels: 7\n",
      "Scores shape: (32, 7), Expected labels: 7\n"
     ]
    },
    {
     "name": "stderr",
     "output_type": "stream",
     "text": [
      "Processing Emotions:   7%|▋         | 166/2383 [00:22<04:57,  7.46it/s]"
     ]
    },
    {
     "name": "stdout",
     "output_type": "stream",
     "text": [
      "Scores shape: (32, 7), Expected labels: 7\n",
      "Scores shape: (32, 7), Expected labels: 7\n"
     ]
    },
    {
     "name": "stderr",
     "output_type": "stream",
     "text": [
      "Processing Emotions:   7%|▋         | 168/2383 [00:22<04:55,  7.48it/s]"
     ]
    },
    {
     "name": "stdout",
     "output_type": "stream",
     "text": [
      "Scores shape: (32, 7), Expected labels: 7\n",
      "Scores shape: (32, 7), Expected labels: 7\n"
     ]
    },
    {
     "name": "stderr",
     "output_type": "stream",
     "text": [
      "Processing Emotions:   7%|▋         | 170/2383 [00:22<04:50,  7.61it/s]"
     ]
    },
    {
     "name": "stdout",
     "output_type": "stream",
     "text": [
      "Scores shape: (32, 7), Expected labels: 7\n",
      "Scores shape: (32, 7), Expected labels: 7\n"
     ]
    },
    {
     "name": "stderr",
     "output_type": "stream",
     "text": [
      "Processing Emotions:   7%|▋         | 172/2383 [00:23<04:51,  7.58it/s]"
     ]
    },
    {
     "name": "stdout",
     "output_type": "stream",
     "text": [
      "Scores shape: (32, 7), Expected labels: 7\n",
      "Scores shape: (32, 7), Expected labels: 7\n"
     ]
    },
    {
     "name": "stderr",
     "output_type": "stream",
     "text": [
      "Processing Emotions:   7%|▋         | 174/2383 [00:23<04:42,  7.81it/s]"
     ]
    },
    {
     "name": "stdout",
     "output_type": "stream",
     "text": [
      "Scores shape: (32, 7), Expected labels: 7\n",
      "Scores shape: (32, 7), Expected labels: 7\n"
     ]
    },
    {
     "name": "stderr",
     "output_type": "stream",
     "text": [
      "Processing Emotions:   7%|▋         | 176/2383 [00:23<04:52,  7.55it/s]"
     ]
    },
    {
     "name": "stdout",
     "output_type": "stream",
     "text": [
      "Scores shape: (32, 7), Expected labels: 7\n",
      "Scores shape: (32, 7), Expected labels: 7\n"
     ]
    },
    {
     "name": "stderr",
     "output_type": "stream",
     "text": [
      "Processing Emotions:   7%|▋         | 178/2383 [00:23<04:42,  7.80it/s]"
     ]
    },
    {
     "name": "stdout",
     "output_type": "stream",
     "text": [
      "Scores shape: (32, 7), Expected labels: 7\n",
      "Scores shape: (32, 7), Expected labels: 7\n"
     ]
    },
    {
     "name": "stderr",
     "output_type": "stream",
     "text": [
      "Processing Emotions:   8%|▊         | 180/2383 [00:24<04:40,  7.86it/s]"
     ]
    },
    {
     "name": "stdout",
     "output_type": "stream",
     "text": [
      "Scores shape: (32, 7), Expected labels: 7\n",
      "Scores shape: (32, 7), Expected labels: 7\n"
     ]
    },
    {
     "name": "stderr",
     "output_type": "stream",
     "text": [
      "Processing Emotions:   8%|▊         | 182/2383 [00:24<04:45,  7.70it/s]"
     ]
    },
    {
     "name": "stdout",
     "output_type": "stream",
     "text": [
      "Scores shape: (32, 7), Expected labels: 7\n",
      "Scores shape: (32, 7), Expected labels: 7\n"
     ]
    },
    {
     "name": "stderr",
     "output_type": "stream",
     "text": [
      "Processing Emotions:   8%|▊         | 184/2383 [00:24<05:09,  7.11it/s]"
     ]
    },
    {
     "name": "stdout",
     "output_type": "stream",
     "text": [
      "Scores shape: (32, 7), Expected labels: 7\n",
      "Scores shape: (32, 7), Expected labels: 7\n"
     ]
    },
    {
     "name": "stderr",
     "output_type": "stream",
     "text": [
      "Processing Emotions:   8%|▊         | 186/2383 [00:25<05:29,  6.67it/s]"
     ]
    },
    {
     "name": "stdout",
     "output_type": "stream",
     "text": [
      "Scores shape: (32, 7), Expected labels: 7\n",
      "Scores shape: (32, 7), Expected labels: 7\n"
     ]
    },
    {
     "name": "stderr",
     "output_type": "stream",
     "text": [
      "Processing Emotions:   8%|▊         | 188/2383 [00:25<05:24,  6.76it/s]"
     ]
    },
    {
     "name": "stdout",
     "output_type": "stream",
     "text": [
      "Scores shape: (32, 7), Expected labels: 7\n",
      "Scores shape: (32, 7), Expected labels: 7\n"
     ]
    },
    {
     "name": "stderr",
     "output_type": "stream",
     "text": [
      "Processing Emotions:   8%|▊         | 190/2383 [00:25<05:27,  6.70it/s]"
     ]
    },
    {
     "name": "stdout",
     "output_type": "stream",
     "text": [
      "Scores shape: (32, 7), Expected labels: 7\n",
      "Scores shape: (32, 7), Expected labels: 7\n"
     ]
    },
    {
     "name": "stderr",
     "output_type": "stream",
     "text": [
      "Processing Emotions:   8%|▊         | 192/2383 [00:25<05:18,  6.87it/s]"
     ]
    },
    {
     "name": "stdout",
     "output_type": "stream",
     "text": [
      "Scores shape: (32, 7), Expected labels: 7\n",
      "Scores shape: (32, 7), Expected labels: 7\n"
     ]
    },
    {
     "name": "stderr",
     "output_type": "stream",
     "text": [
      "Processing Emotions:   8%|▊         | 194/2383 [00:26<05:36,  6.51it/s]"
     ]
    },
    {
     "name": "stdout",
     "output_type": "stream",
     "text": [
      "Scores shape: (32, 7), Expected labels: 7\n",
      "Scores shape: (32, 7), Expected labels: 7\n"
     ]
    },
    {
     "name": "stderr",
     "output_type": "stream",
     "text": [
      "Processing Emotions:   8%|▊         | 196/2383 [00:26<05:41,  6.40it/s]"
     ]
    },
    {
     "name": "stdout",
     "output_type": "stream",
     "text": [
      "Scores shape: (32, 7), Expected labels: 7\n",
      "Scores shape: (32, 7), Expected labels: 7\n"
     ]
    },
    {
     "name": "stderr",
     "output_type": "stream",
     "text": [
      "\r",
      "Processing Emotions:   8%|▊         | 197/2383 [00:26<05:38,  6.45it/s]"
     ]
    },
    {
     "name": "stdout",
     "output_type": "stream",
     "text": [
      "Scores shape: (32, 7), Expected labels: 7\n"
     ]
    },
    {
     "name": "stderr",
     "output_type": "stream",
     "text": [
      "Processing Emotions:   8%|▊         | 199/2383 [00:27<06:10,  5.90it/s]"
     ]
    },
    {
     "name": "stdout",
     "output_type": "stream",
     "text": [
      "Scores shape: (32, 7), Expected labels: 7\n",
      "Scores shape: (32, 7), Expected labels: 7\n"
     ]
    },
    {
     "name": "stderr",
     "output_type": "stream",
     "text": [
      "Processing Emotions:   8%|▊         | 201/2383 [00:27<05:32,  6.56it/s]"
     ]
    },
    {
     "name": "stdout",
     "output_type": "stream",
     "text": [
      "Scores shape: (32, 7), Expected labels: 7\n",
      "Scores shape: (32, 7), Expected labels: 7\n"
     ]
    },
    {
     "name": "stderr",
     "output_type": "stream",
     "text": [
      "Processing Emotions:   9%|▊         | 203/2383 [00:27<05:41,  6.39it/s]"
     ]
    },
    {
     "name": "stdout",
     "output_type": "stream",
     "text": [
      "Scores shape: (32, 7), Expected labels: 7\n",
      "Scores shape: (32, 7), Expected labels: 7\n"
     ]
    },
    {
     "name": "stderr",
     "output_type": "stream",
     "text": [
      "Processing Emotions:   9%|▊         | 205/2383 [00:28<05:15,  6.91it/s]"
     ]
    },
    {
     "name": "stdout",
     "output_type": "stream",
     "text": [
      "Scores shape: (32, 7), Expected labels: 7\n",
      "Scores shape: (32, 7), Expected labels: 7\n"
     ]
    },
    {
     "name": "stderr",
     "output_type": "stream",
     "text": [
      "Processing Emotions:   9%|▊         | 207/2383 [00:28<04:45,  7.62it/s]"
     ]
    },
    {
     "name": "stdout",
     "output_type": "stream",
     "text": [
      "Scores shape: (32, 7), Expected labels: 7\n",
      "Scores shape: (32, 7), Expected labels: 7\n"
     ]
    },
    {
     "name": "stderr",
     "output_type": "stream",
     "text": [
      "Processing Emotions:   9%|▉         | 209/2383 [00:28<04:29,  8.06it/s]"
     ]
    },
    {
     "name": "stdout",
     "output_type": "stream",
     "text": [
      "Scores shape: (32, 7), Expected labels: 7\n",
      "Scores shape: (32, 7), Expected labels: 7\n"
     ]
    },
    {
     "name": "stderr",
     "output_type": "stream",
     "text": [
      "Processing Emotions:   9%|▉         | 211/2383 [00:28<04:36,  7.84it/s]"
     ]
    },
    {
     "name": "stdout",
     "output_type": "stream",
     "text": [
      "Scores shape: (32, 7), Expected labels: 7\n",
      "Scores shape: (32, 7), Expected labels: 7\n"
     ]
    },
    {
     "name": "stderr",
     "output_type": "stream",
     "text": [
      "Processing Emotions:   9%|▉         | 213/2383 [00:29<04:36,  7.85it/s]"
     ]
    },
    {
     "name": "stdout",
     "output_type": "stream",
     "text": [
      "Scores shape: (32, 7), Expected labels: 7\n",
      "Scores shape: (32, 7), Expected labels: 7\n"
     ]
    },
    {
     "name": "stderr",
     "output_type": "stream",
     "text": [
      "Processing Emotions:   9%|▉         | 215/2383 [00:29<04:31,  7.98it/s]"
     ]
    },
    {
     "name": "stdout",
     "output_type": "stream",
     "text": [
      "Scores shape: (32, 7), Expected labels: 7\n",
      "Scores shape: (32, 7), Expected labels: 7\n"
     ]
    },
    {
     "name": "stderr",
     "output_type": "stream",
     "text": [
      "Processing Emotions:   9%|▉         | 217/2383 [00:29<04:32,  7.94it/s]"
     ]
    },
    {
     "name": "stdout",
     "output_type": "stream",
     "text": [
      "Scores shape: (32, 7), Expected labels: 7\n",
      "Scores shape: (32, 7), Expected labels: 7\n"
     ]
    },
    {
     "name": "stderr",
     "output_type": "stream",
     "text": [
      "Processing Emotions:   9%|▉         | 219/2383 [00:29<04:31,  7.99it/s]"
     ]
    },
    {
     "name": "stdout",
     "output_type": "stream",
     "text": [
      "Scores shape: (32, 7), Expected labels: 7\n",
      "Scores shape: (32, 7), Expected labels: 7\n"
     ]
    },
    {
     "name": "stderr",
     "output_type": "stream",
     "text": [
      "Processing Emotions:   9%|▉         | 221/2383 [00:30<04:19,  8.34it/s]"
     ]
    },
    {
     "name": "stdout",
     "output_type": "stream",
     "text": [
      "Scores shape: (32, 7), Expected labels: 7\n",
      "Scores shape: (32, 7), Expected labels: 7\n"
     ]
    },
    {
     "name": "stderr",
     "output_type": "stream",
     "text": [
      "Processing Emotions:   9%|▉         | 223/2383 [00:30<04:17,  8.38it/s]"
     ]
    },
    {
     "name": "stdout",
     "output_type": "stream",
     "text": [
      "Scores shape: (32, 7), Expected labels: 7\n",
      "Scores shape: (32, 7), Expected labels: 7\n"
     ]
    },
    {
     "name": "stderr",
     "output_type": "stream",
     "text": [
      "Processing Emotions:   9%|▉         | 225/2383 [00:30<04:13,  8.52it/s]"
     ]
    },
    {
     "name": "stdout",
     "output_type": "stream",
     "text": [
      "Scores shape: (32, 7), Expected labels: 7\n",
      "Scores shape: (32, 7), Expected labels: 7\n"
     ]
    },
    {
     "name": "stderr",
     "output_type": "stream",
     "text": [
      "Processing Emotions:  10%|▉         | 227/2383 [00:30<04:12,  8.52it/s]"
     ]
    },
    {
     "name": "stdout",
     "output_type": "stream",
     "text": [
      "Scores shape: (32, 7), Expected labels: 7\n",
      "Scores shape: (32, 7), Expected labels: 7\n"
     ]
    },
    {
     "name": "stderr",
     "output_type": "stream",
     "text": [
      "Processing Emotions:  10%|▉         | 229/2383 [00:30<04:09,  8.62it/s]"
     ]
    },
    {
     "name": "stdout",
     "output_type": "stream",
     "text": [
      "Scores shape: (32, 7), Expected labels: 7\n",
      "Scores shape: (32, 7), Expected labels: 7\n"
     ]
    },
    {
     "name": "stderr",
     "output_type": "stream",
     "text": [
      "Processing Emotions:  10%|▉         | 231/2383 [00:31<04:14,  8.47it/s]"
     ]
    },
    {
     "name": "stdout",
     "output_type": "stream",
     "text": [
      "Scores shape: (32, 7), Expected labels: 7\n",
      "Scores shape: (32, 7), Expected labels: 7\n"
     ]
    },
    {
     "name": "stderr",
     "output_type": "stream",
     "text": [
      "Processing Emotions:  10%|▉         | 233/2383 [00:31<04:13,  8.49it/s]"
     ]
    },
    {
     "name": "stdout",
     "output_type": "stream",
     "text": [
      "Scores shape: (32, 7), Expected labels: 7\n",
      "Scores shape: (32, 7), Expected labels: 7\n"
     ]
    },
    {
     "name": "stderr",
     "output_type": "stream",
     "text": [
      "Processing Emotions:  10%|▉         | 235/2383 [00:31<04:15,  8.42it/s]"
     ]
    },
    {
     "name": "stdout",
     "output_type": "stream",
     "text": [
      "Scores shape: (32, 7), Expected labels: 7\n",
      "Scores shape: (32, 7), Expected labels: 7\n"
     ]
    },
    {
     "name": "stderr",
     "output_type": "stream",
     "text": [
      "Processing Emotions:  10%|▉         | 237/2383 [00:31<04:14,  8.42it/s]"
     ]
    },
    {
     "name": "stdout",
     "output_type": "stream",
     "text": [
      "Scores shape: (32, 7), Expected labels: 7\n",
      "Scores shape: (32, 7), Expected labels: 7\n"
     ]
    },
    {
     "name": "stderr",
     "output_type": "stream",
     "text": [
      "Processing Emotions:  10%|█         | 239/2383 [00:32<04:08,  8.64it/s]"
     ]
    },
    {
     "name": "stdout",
     "output_type": "stream",
     "text": [
      "Scores shape: (32, 7), Expected labels: 7\n",
      "Scores shape: (32, 7), Expected labels: 7\n"
     ]
    },
    {
     "name": "stderr",
     "output_type": "stream",
     "text": [
      "Processing Emotions:  10%|█         | 241/2383 [00:32<04:12,  8.49it/s]"
     ]
    },
    {
     "name": "stdout",
     "output_type": "stream",
     "text": [
      "Scores shape: (32, 7), Expected labels: 7\n",
      "Scores shape: (32, 7), Expected labels: 7\n"
     ]
    },
    {
     "name": "stderr",
     "output_type": "stream",
     "text": [
      "Processing Emotions:  10%|█         | 243/2383 [00:32<04:14,  8.42it/s]"
     ]
    },
    {
     "name": "stdout",
     "output_type": "stream",
     "text": [
      "Scores shape: (32, 7), Expected labels: 7\n",
      "Scores shape: (32, 7), Expected labels: 7\n"
     ]
    },
    {
     "name": "stderr",
     "output_type": "stream",
     "text": [
      "Processing Emotions:  10%|█         | 245/2383 [00:32<04:11,  8.50it/s]"
     ]
    },
    {
     "name": "stdout",
     "output_type": "stream",
     "text": [
      "Scores shape: (32, 7), Expected labels: 7\n",
      "Scores shape: (32, 7), Expected labels: 7\n"
     ]
    },
    {
     "name": "stderr",
     "output_type": "stream",
     "text": [
      "Processing Emotions:  10%|█         | 247/2383 [00:33<04:14,  8.41it/s]"
     ]
    },
    {
     "name": "stdout",
     "output_type": "stream",
     "text": [
      "Scores shape: (32, 7), Expected labels: 7\n",
      "Scores shape: (32, 7), Expected labels: 7\n"
     ]
    },
    {
     "name": "stderr",
     "output_type": "stream",
     "text": [
      "Processing Emotions:  10%|█         | 249/2383 [00:33<04:11,  8.47it/s]"
     ]
    },
    {
     "name": "stdout",
     "output_type": "stream",
     "text": [
      "Scores shape: (32, 7), Expected labels: 7\n",
      "Scores shape: (32, 7), Expected labels: 7\n"
     ]
    },
    {
     "name": "stderr",
     "output_type": "stream",
     "text": [
      "Processing Emotions:  11%|█         | 251/2383 [00:33<04:09,  8.54it/s]"
     ]
    },
    {
     "name": "stdout",
     "output_type": "stream",
     "text": [
      "Scores shape: (32, 7), Expected labels: 7\n",
      "Scores shape: (32, 7), Expected labels: 7\n"
     ]
    },
    {
     "name": "stderr",
     "output_type": "stream",
     "text": [
      "Processing Emotions:  11%|█         | 253/2383 [00:33<04:13,  8.40it/s]"
     ]
    },
    {
     "name": "stdout",
     "output_type": "stream",
     "text": [
      "Scores shape: (32, 7), Expected labels: 7\n",
      "Scores shape: (32, 7), Expected labels: 7\n"
     ]
    },
    {
     "name": "stderr",
     "output_type": "stream",
     "text": [
      "Processing Emotions:  11%|█         | 255/2383 [00:34<04:15,  8.33it/s]"
     ]
    },
    {
     "name": "stdout",
     "output_type": "stream",
     "text": [
      "Scores shape: (32, 7), Expected labels: 7\n",
      "Scores shape: (32, 7), Expected labels: 7\n"
     ]
    },
    {
     "name": "stderr",
     "output_type": "stream",
     "text": [
      "Processing Emotions:  11%|█         | 257/2383 [00:34<04:19,  8.19it/s]"
     ]
    },
    {
     "name": "stdout",
     "output_type": "stream",
     "text": [
      "Scores shape: (32, 7), Expected labels: 7\n",
      "Scores shape: (32, 7), Expected labels: 7\n"
     ]
    },
    {
     "name": "stderr",
     "output_type": "stream",
     "text": [
      "Processing Emotions:  11%|█         | 259/2383 [00:34<04:17,  8.25it/s]"
     ]
    },
    {
     "name": "stdout",
     "output_type": "stream",
     "text": [
      "Scores shape: (32, 7), Expected labels: 7\n",
      "Scores shape: (32, 7), Expected labels: 7\n"
     ]
    },
    {
     "name": "stderr",
     "output_type": "stream",
     "text": [
      "Processing Emotions:  11%|█         | 261/2383 [00:34<04:12,  8.40it/s]"
     ]
    },
    {
     "name": "stdout",
     "output_type": "stream",
     "text": [
      "Scores shape: (32, 7), Expected labels: 7\n",
      "Scores shape: (32, 7), Expected labels: 7\n"
     ]
    },
    {
     "name": "stderr",
     "output_type": "stream",
     "text": [
      "Processing Emotions:  11%|█         | 263/2383 [00:34<04:11,  8.42it/s]"
     ]
    },
    {
     "name": "stdout",
     "output_type": "stream",
     "text": [
      "Scores shape: (32, 7), Expected labels: 7\n",
      "Scores shape: (32, 7), Expected labels: 7\n"
     ]
    },
    {
     "name": "stderr",
     "output_type": "stream",
     "text": [
      "Processing Emotions:  11%|█         | 265/2383 [00:35<04:04,  8.67it/s]"
     ]
    },
    {
     "name": "stdout",
     "output_type": "stream",
     "text": [
      "Scores shape: (32, 7), Expected labels: 7\n",
      "Scores shape: (32, 7), Expected labels: 7\n"
     ]
    },
    {
     "name": "stderr",
     "output_type": "stream",
     "text": [
      "Processing Emotions:  11%|█         | 267/2383 [00:35<04:00,  8.80it/s]"
     ]
    },
    {
     "name": "stdout",
     "output_type": "stream",
     "text": [
      "Scores shape: (32, 7), Expected labels: 7\n",
      "Scores shape: (32, 7), Expected labels: 7\n"
     ]
    },
    {
     "name": "stderr",
     "output_type": "stream",
     "text": [
      "Processing Emotions:  11%|█▏        | 269/2383 [00:35<04:00,  8.79it/s]"
     ]
    },
    {
     "name": "stdout",
     "output_type": "stream",
     "text": [
      "Scores shape: (32, 7), Expected labels: 7\n",
      "Scores shape: (32, 7), Expected labels: 7\n"
     ]
    },
    {
     "name": "stderr",
     "output_type": "stream",
     "text": [
      "Processing Emotions:  11%|█▏        | 271/2383 [00:35<03:56,  8.93it/s]"
     ]
    },
    {
     "name": "stdout",
     "output_type": "stream",
     "text": [
      "Scores shape: (32, 7), Expected labels: 7\n",
      "Scores shape: (32, 7), Expected labels: 7\n"
     ]
    },
    {
     "name": "stderr",
     "output_type": "stream",
     "text": [
      "Processing Emotions:  11%|█▏        | 273/2383 [00:36<03:57,  8.87it/s]"
     ]
    },
    {
     "name": "stdout",
     "output_type": "stream",
     "text": [
      "Scores shape: (32, 7), Expected labels: 7\n",
      "Scores shape: (32, 7), Expected labels: 7\n"
     ]
    },
    {
     "name": "stderr",
     "output_type": "stream",
     "text": [
      "Processing Emotions:  12%|█▏        | 275/2383 [00:36<03:57,  8.89it/s]"
     ]
    },
    {
     "name": "stdout",
     "output_type": "stream",
     "text": [
      "Scores shape: (32, 7), Expected labels: 7\n",
      "Scores shape: (32, 7), Expected labels: 7\n"
     ]
    },
    {
     "name": "stderr",
     "output_type": "stream",
     "text": [
      "Processing Emotions:  12%|█▏        | 277/2383 [00:36<03:54,  8.98it/s]"
     ]
    },
    {
     "name": "stdout",
     "output_type": "stream",
     "text": [
      "Scores shape: (32, 7), Expected labels: 7\n",
      "Scores shape: (32, 7), Expected labels: 7\n"
     ]
    },
    {
     "name": "stderr",
     "output_type": "stream",
     "text": [
      "Processing Emotions:  12%|█▏        | 279/2383 [00:36<03:56,  8.90it/s]"
     ]
    },
    {
     "name": "stdout",
     "output_type": "stream",
     "text": [
      "Scores shape: (32, 7), Expected labels: 7\n",
      "Scores shape: (32, 7), Expected labels: 7\n"
     ]
    },
    {
     "name": "stderr",
     "output_type": "stream",
     "text": [
      "Processing Emotions:  12%|█▏        | 281/2383 [00:37<03:55,  8.94it/s]"
     ]
    },
    {
     "name": "stdout",
     "output_type": "stream",
     "text": [
      "Scores shape: (32, 7), Expected labels: 7\n",
      "Scores shape: (32, 7), Expected labels: 7\n"
     ]
    },
    {
     "name": "stderr",
     "output_type": "stream",
     "text": [
      "Processing Emotions:  12%|█▏        | 283/2383 [00:37<03:59,  8.78it/s]"
     ]
    },
    {
     "name": "stdout",
     "output_type": "stream",
     "text": [
      "Scores shape: (32, 7), Expected labels: 7\n",
      "Scores shape: (32, 7), Expected labels: 7\n"
     ]
    },
    {
     "name": "stderr",
     "output_type": "stream",
     "text": [
      "Processing Emotions:  12%|█▏        | 285/2383 [00:37<03:57,  8.84it/s]"
     ]
    },
    {
     "name": "stdout",
     "output_type": "stream",
     "text": [
      "Scores shape: (32, 7), Expected labels: 7\n",
      "Scores shape: (32, 7), Expected labels: 7\n"
     ]
    },
    {
     "name": "stderr",
     "output_type": "stream",
     "text": [
      "Processing Emotions:  12%|█▏        | 287/2383 [00:37<03:57,  8.82it/s]"
     ]
    },
    {
     "name": "stdout",
     "output_type": "stream",
     "text": [
      "Scores shape: (32, 7), Expected labels: 7\n",
      "Scores shape: (32, 7), Expected labels: 7\n"
     ]
    },
    {
     "name": "stderr",
     "output_type": "stream",
     "text": [
      "Processing Emotions:  12%|█▏        | 289/2383 [00:37<04:13,  8.25it/s]"
     ]
    },
    {
     "name": "stdout",
     "output_type": "stream",
     "text": [
      "Scores shape: (32, 7), Expected labels: 7\n",
      "Scores shape: (32, 7), Expected labels: 7\n"
     ]
    },
    {
     "name": "stderr",
     "output_type": "stream",
     "text": [
      "Processing Emotions:  12%|█▏        | 291/2383 [00:38<04:15,  8.18it/s]"
     ]
    },
    {
     "name": "stdout",
     "output_type": "stream",
     "text": [
      "Scores shape: (32, 7), Expected labels: 7\n",
      "Scores shape: (32, 7), Expected labels: 7\n"
     ]
    },
    {
     "name": "stderr",
     "output_type": "stream",
     "text": [
      "Processing Emotions:  12%|█▏        | 293/2383 [00:38<04:21,  8.00it/s]"
     ]
    },
    {
     "name": "stdout",
     "output_type": "stream",
     "text": [
      "Scores shape: (32, 7), Expected labels: 7\n",
      "Scores shape: (32, 7), Expected labels: 7\n"
     ]
    },
    {
     "name": "stderr",
     "output_type": "stream",
     "text": [
      "Processing Emotions:  12%|█▏        | 295/2383 [00:38<04:20,  8.02it/s]"
     ]
    },
    {
     "name": "stdout",
     "output_type": "stream",
     "text": [
      "Scores shape: (32, 7), Expected labels: 7\n",
      "Scores shape: (32, 7), Expected labels: 7\n"
     ]
    },
    {
     "name": "stderr",
     "output_type": "stream",
     "text": [
      "Processing Emotions:  12%|█▏        | 297/2383 [00:38<04:19,  8.04it/s]"
     ]
    },
    {
     "name": "stdout",
     "output_type": "stream",
     "text": [
      "Scores shape: (32, 7), Expected labels: 7\n",
      "Scores shape: (32, 7), Expected labels: 7\n"
     ]
    },
    {
     "name": "stderr",
     "output_type": "stream",
     "text": [
      "Processing Emotions:  13%|█▎        | 299/2383 [00:39<04:23,  7.91it/s]"
     ]
    },
    {
     "name": "stdout",
     "output_type": "stream",
     "text": [
      "Scores shape: (32, 7), Expected labels: 7\n",
      "Scores shape: (32, 7), Expected labels: 7\n"
     ]
    },
    {
     "name": "stderr",
     "output_type": "stream",
     "text": [
      "Processing Emotions:  13%|█▎        | 301/2383 [00:39<04:25,  7.84it/s]"
     ]
    },
    {
     "name": "stdout",
     "output_type": "stream",
     "text": [
      "Scores shape: (32, 7), Expected labels: 7\n",
      "Scores shape: (32, 7), Expected labels: 7\n"
     ]
    },
    {
     "name": "stderr",
     "output_type": "stream",
     "text": [
      "Processing Emotions:  13%|█▎        | 303/2383 [00:39<04:26,  7.81it/s]"
     ]
    },
    {
     "name": "stdout",
     "output_type": "stream",
     "text": [
      "Scores shape: (32, 7), Expected labels: 7\n",
      "Scores shape: (32, 7), Expected labels: 7\n"
     ]
    },
    {
     "name": "stderr",
     "output_type": "stream",
     "text": [
      "Processing Emotions:  13%|█▎        | 305/2383 [00:39<04:23,  7.89it/s]"
     ]
    },
    {
     "name": "stdout",
     "output_type": "stream",
     "text": [
      "Scores shape: (32, 7), Expected labels: 7\n",
      "Scores shape: (32, 7), Expected labels: 7\n"
     ]
    },
    {
     "name": "stderr",
     "output_type": "stream",
     "text": [
      "Processing Emotions:  13%|█▎        | 307/2383 [00:40<04:27,  7.76it/s]"
     ]
    },
    {
     "name": "stdout",
     "output_type": "stream",
     "text": [
      "Scores shape: (32, 7), Expected labels: 7\n",
      "Scores shape: (32, 7), Expected labels: 7\n"
     ]
    },
    {
     "name": "stderr",
     "output_type": "stream",
     "text": [
      "Processing Emotions:  13%|█▎        | 309/2383 [00:40<04:21,  7.93it/s]"
     ]
    },
    {
     "name": "stdout",
     "output_type": "stream",
     "text": [
      "Scores shape: (32, 7), Expected labels: 7\n",
      "Scores shape: (32, 7), Expected labels: 7\n"
     ]
    },
    {
     "name": "stderr",
     "output_type": "stream",
     "text": [
      "Processing Emotions:  13%|█▎        | 311/2383 [00:40<04:22,  7.88it/s]"
     ]
    },
    {
     "name": "stdout",
     "output_type": "stream",
     "text": [
      "Scores shape: (32, 7), Expected labels: 7\n",
      "Scores shape: (32, 7), Expected labels: 7\n"
     ]
    },
    {
     "name": "stderr",
     "output_type": "stream",
     "text": [
      "Processing Emotions:  13%|█▎        | 313/2383 [00:40<04:21,  7.93it/s]"
     ]
    },
    {
     "name": "stdout",
     "output_type": "stream",
     "text": [
      "Scores shape: (32, 7), Expected labels: 7\n",
      "Scores shape: (32, 7), Expected labels: 7\n"
     ]
    },
    {
     "name": "stderr",
     "output_type": "stream",
     "text": [
      "Processing Emotions:  13%|█▎        | 315/2383 [00:41<04:03,  8.51it/s]"
     ]
    },
    {
     "name": "stdout",
     "output_type": "stream",
     "text": [
      "Scores shape: (32, 7), Expected labels: 7\n",
      "Scores shape: (32, 7), Expected labels: 7\n"
     ]
    },
    {
     "name": "stderr",
     "output_type": "stream",
     "text": [
      "Processing Emotions:  13%|█▎        | 317/2383 [00:41<03:57,  8.69it/s]"
     ]
    },
    {
     "name": "stdout",
     "output_type": "stream",
     "text": [
      "Scores shape: (32, 7), Expected labels: 7\n",
      "Scores shape: (32, 7), Expected labels: 7\n"
     ]
    },
    {
     "name": "stderr",
     "output_type": "stream",
     "text": [
      "Processing Emotions:  13%|█▎        | 319/2383 [00:41<03:54,  8.80it/s]"
     ]
    },
    {
     "name": "stdout",
     "output_type": "stream",
     "text": [
      "Scores shape: (32, 7), Expected labels: 7\n",
      "Scores shape: (32, 7), Expected labels: 7\n"
     ]
    },
    {
     "name": "stderr",
     "output_type": "stream",
     "text": [
      "Processing Emotions:  13%|█▎        | 321/2383 [00:41<03:57,  8.68it/s]"
     ]
    },
    {
     "name": "stdout",
     "output_type": "stream",
     "text": [
      "Scores shape: (32, 7), Expected labels: 7\n",
      "Scores shape: (32, 7), Expected labels: 7\n"
     ]
    },
    {
     "name": "stderr",
     "output_type": "stream",
     "text": [
      "Processing Emotions:  14%|█▎        | 323/2383 [00:42<03:56,  8.71it/s]"
     ]
    },
    {
     "name": "stdout",
     "output_type": "stream",
     "text": [
      "Scores shape: (32, 7), Expected labels: 7\n",
      "Scores shape: (32, 7), Expected labels: 7\n"
     ]
    },
    {
     "name": "stderr",
     "output_type": "stream",
     "text": [
      "Processing Emotions:  14%|█▎        | 325/2383 [00:42<03:58,  8.62it/s]"
     ]
    },
    {
     "name": "stdout",
     "output_type": "stream",
     "text": [
      "Scores shape: (32, 7), Expected labels: 7\n",
      "Scores shape: (32, 7), Expected labels: 7\n"
     ]
    },
    {
     "name": "stderr",
     "output_type": "stream",
     "text": [
      "Processing Emotions:  14%|█▎        | 327/2383 [00:42<03:57,  8.64it/s]"
     ]
    },
    {
     "name": "stdout",
     "output_type": "stream",
     "text": [
      "Scores shape: (32, 7), Expected labels: 7\n",
      "Scores shape: (32, 7), Expected labels: 7\n"
     ]
    },
    {
     "name": "stderr",
     "output_type": "stream",
     "text": [
      "Processing Emotions:  14%|█▍        | 329/2383 [00:42<03:55,  8.71it/s]"
     ]
    },
    {
     "name": "stdout",
     "output_type": "stream",
     "text": [
      "Scores shape: (32, 7), Expected labels: 7\n",
      "Scores shape: (32, 7), Expected labels: 7\n"
     ]
    },
    {
     "name": "stderr",
     "output_type": "stream",
     "text": [
      "Processing Emotions:  14%|█▍        | 331/2383 [00:43<03:53,  8.81it/s]"
     ]
    },
    {
     "name": "stdout",
     "output_type": "stream",
     "text": [
      "Scores shape: (32, 7), Expected labels: 7\n",
      "Scores shape: (32, 7), Expected labels: 7\n"
     ]
    },
    {
     "name": "stderr",
     "output_type": "stream",
     "text": [
      "Processing Emotions:  14%|█▍        | 333/2383 [00:43<03:50,  8.89it/s]"
     ]
    },
    {
     "name": "stdout",
     "output_type": "stream",
     "text": [
      "Scores shape: (32, 7), Expected labels: 7\n",
      "Scores shape: (32, 7), Expected labels: 7\n"
     ]
    },
    {
     "name": "stderr",
     "output_type": "stream",
     "text": [
      "Processing Emotions:  14%|█▍        | 335/2383 [00:43<03:50,  8.89it/s]"
     ]
    },
    {
     "name": "stdout",
     "output_type": "stream",
     "text": [
      "Scores shape: (32, 7), Expected labels: 7\n",
      "Scores shape: (32, 7), Expected labels: 7\n"
     ]
    },
    {
     "name": "stderr",
     "output_type": "stream",
     "text": [
      "Processing Emotions:  14%|█▍        | 337/2383 [00:43<03:53,  8.76it/s]"
     ]
    },
    {
     "name": "stdout",
     "output_type": "stream",
     "text": [
      "Scores shape: (32, 7), Expected labels: 7\n",
      "Scores shape: (32, 7), Expected labels: 7\n"
     ]
    },
    {
     "name": "stderr",
     "output_type": "stream",
     "text": [
      "Processing Emotions:  14%|█▍        | 339/2383 [00:43<03:55,  8.70it/s]"
     ]
    },
    {
     "name": "stdout",
     "output_type": "stream",
     "text": [
      "Scores shape: (32, 7), Expected labels: 7\n",
      "Scores shape: (32, 7), Expected labels: 7\n"
     ]
    },
    {
     "name": "stderr",
     "output_type": "stream",
     "text": [
      "Processing Emotions:  14%|█▍        | 341/2383 [00:44<03:51,  8.80it/s]"
     ]
    },
    {
     "name": "stdout",
     "output_type": "stream",
     "text": [
      "Scores shape: (32, 7), Expected labels: 7\n",
      "Scores shape: (32, 7), Expected labels: 7\n"
     ]
    },
    {
     "name": "stderr",
     "output_type": "stream",
     "text": [
      "Processing Emotions:  14%|█▍        | 343/2383 [00:44<03:51,  8.81it/s]"
     ]
    },
    {
     "name": "stdout",
     "output_type": "stream",
     "text": [
      "Scores shape: (32, 7), Expected labels: 7\n",
      "Scores shape: (32, 7), Expected labels: 7\n"
     ]
    },
    {
     "name": "stderr",
     "output_type": "stream",
     "text": [
      "Processing Emotions:  14%|█▍        | 345/2383 [00:44<03:52,  8.78it/s]"
     ]
    },
    {
     "name": "stdout",
     "output_type": "stream",
     "text": [
      "Scores shape: (32, 7), Expected labels: 7\n",
      "Scores shape: (32, 7), Expected labels: 7\n"
     ]
    },
    {
     "name": "stderr",
     "output_type": "stream",
     "text": [
      "Processing Emotions:  15%|█▍        | 347/2383 [00:44<03:49,  8.87it/s]"
     ]
    },
    {
     "name": "stdout",
     "output_type": "stream",
     "text": [
      "Scores shape: (32, 7), Expected labels: 7\n",
      "Scores shape: (32, 7), Expected labels: 7\n"
     ]
    },
    {
     "name": "stderr",
     "output_type": "stream",
     "text": [
      "Processing Emotions:  15%|█▍        | 349/2383 [00:45<03:46,  8.96it/s]"
     ]
    },
    {
     "name": "stdout",
     "output_type": "stream",
     "text": [
      "Scores shape: (32, 7), Expected labels: 7\n",
      "Scores shape: (32, 7), Expected labels: 7\n"
     ]
    },
    {
     "name": "stderr",
     "output_type": "stream",
     "text": [
      "Processing Emotions:  15%|█▍        | 351/2383 [00:45<03:52,  8.74it/s]"
     ]
    },
    {
     "name": "stdout",
     "output_type": "stream",
     "text": [
      "Scores shape: (32, 7), Expected labels: 7\n",
      "Scores shape: (32, 7), Expected labels: 7\n"
     ]
    },
    {
     "name": "stderr",
     "output_type": "stream",
     "text": [
      "Processing Emotions:  15%|█▍        | 353/2383 [00:45<04:00,  8.43it/s]"
     ]
    },
    {
     "name": "stdout",
     "output_type": "stream",
     "text": [
      "Scores shape: (32, 7), Expected labels: 7\n",
      "Scores shape: (32, 7), Expected labels: 7\n"
     ]
    },
    {
     "name": "stderr",
     "output_type": "stream",
     "text": [
      "Processing Emotions:  15%|█▍        | 355/2383 [00:45<03:56,  8.59it/s]"
     ]
    },
    {
     "name": "stdout",
     "output_type": "stream",
     "text": [
      "Scores shape: (32, 7), Expected labels: 7\n",
      "Scores shape: (32, 7), Expected labels: 7\n"
     ]
    },
    {
     "name": "stderr",
     "output_type": "stream",
     "text": [
      "Processing Emotions:  15%|█▍        | 357/2383 [00:46<03:58,  8.48it/s]"
     ]
    },
    {
     "name": "stdout",
     "output_type": "stream",
     "text": [
      "Scores shape: (32, 7), Expected labels: 7\n",
      "Scores shape: (32, 7), Expected labels: 7\n"
     ]
    },
    {
     "name": "stderr",
     "output_type": "stream",
     "text": [
      "Processing Emotions:  15%|█▌        | 359/2383 [00:46<03:52,  8.72it/s]"
     ]
    },
    {
     "name": "stdout",
     "output_type": "stream",
     "text": [
      "Scores shape: (32, 7), Expected labels: 7\n",
      "Scores shape: (32, 7), Expected labels: 7\n"
     ]
    },
    {
     "name": "stderr",
     "output_type": "stream",
     "text": [
      "Processing Emotions:  15%|█▌        | 361/2383 [00:46<03:55,  8.58it/s]"
     ]
    },
    {
     "name": "stdout",
     "output_type": "stream",
     "text": [
      "Scores shape: (32, 7), Expected labels: 7\n",
      "Scores shape: (32, 7), Expected labels: 7\n"
     ]
    },
    {
     "name": "stderr",
     "output_type": "stream",
     "text": [
      "Processing Emotions:  15%|█▌        | 363/2383 [00:46<03:53,  8.66it/s]"
     ]
    },
    {
     "name": "stdout",
     "output_type": "stream",
     "text": [
      "Scores shape: (32, 7), Expected labels: 7\n",
      "Scores shape: (32, 7), Expected labels: 7\n"
     ]
    },
    {
     "name": "stderr",
     "output_type": "stream",
     "text": [
      "Processing Emotions:  15%|█▌        | 365/2383 [00:46<03:49,  8.78it/s]"
     ]
    },
    {
     "name": "stdout",
     "output_type": "stream",
     "text": [
      "Scores shape: (32, 7), Expected labels: 7\n",
      "Scores shape: (32, 7), Expected labels: 7\n"
     ]
    },
    {
     "name": "stderr",
     "output_type": "stream",
     "text": [
      "Processing Emotions:  15%|█▌        | 367/2383 [00:47<03:53,  8.62it/s]"
     ]
    },
    {
     "name": "stdout",
     "output_type": "stream",
     "text": [
      "Scores shape: (32, 7), Expected labels: 7\n",
      "Scores shape: (32, 7), Expected labels: 7\n"
     ]
    },
    {
     "name": "stderr",
     "output_type": "stream",
     "text": [
      "Processing Emotions:  15%|█▌        | 369/2383 [00:47<03:50,  8.73it/s]"
     ]
    },
    {
     "name": "stdout",
     "output_type": "stream",
     "text": [
      "Scores shape: (32, 7), Expected labels: 7\n",
      "Scores shape: (32, 7), Expected labels: 7\n"
     ]
    },
    {
     "name": "stderr",
     "output_type": "stream",
     "text": [
      "Processing Emotions:  16%|█▌        | 371/2383 [00:47<03:46,  8.90it/s]"
     ]
    },
    {
     "name": "stdout",
     "output_type": "stream",
     "text": [
      "Scores shape: (32, 7), Expected labels: 7\n",
      "Scores shape: (32, 7), Expected labels: 7\n"
     ]
    },
    {
     "name": "stderr",
     "output_type": "stream",
     "text": [
      "Processing Emotions:  16%|█▌        | 373/2383 [00:47<03:49,  8.77it/s]"
     ]
    },
    {
     "name": "stdout",
     "output_type": "stream",
     "text": [
      "Scores shape: (32, 7), Expected labels: 7\n",
      "Scores shape: (32, 7), Expected labels: 7\n"
     ]
    },
    {
     "name": "stderr",
     "output_type": "stream",
     "text": [
      "Processing Emotions:  16%|█▌        | 375/2383 [00:48<03:50,  8.69it/s]"
     ]
    },
    {
     "name": "stdout",
     "output_type": "stream",
     "text": [
      "Scores shape: (32, 7), Expected labels: 7\n",
      "Scores shape: (32, 7), Expected labels: 7\n"
     ]
    },
    {
     "name": "stderr",
     "output_type": "stream",
     "text": [
      "Processing Emotions:  16%|█▌        | 377/2383 [00:48<03:54,  8.56it/s]"
     ]
    },
    {
     "name": "stdout",
     "output_type": "stream",
     "text": [
      "Scores shape: (32, 7), Expected labels: 7\n",
      "Scores shape: (32, 7), Expected labels: 7\n"
     ]
    },
    {
     "name": "stderr",
     "output_type": "stream",
     "text": [
      "Processing Emotions:  16%|█▌        | 379/2383 [00:48<03:52,  8.63it/s]"
     ]
    },
    {
     "name": "stdout",
     "output_type": "stream",
     "text": [
      "Scores shape: (32, 7), Expected labels: 7\n",
      "Scores shape: (32, 7), Expected labels: 7\n"
     ]
    },
    {
     "name": "stderr",
     "output_type": "stream",
     "text": [
      "Processing Emotions:  16%|█▌        | 381/2383 [00:48<03:50,  8.67it/s]"
     ]
    },
    {
     "name": "stdout",
     "output_type": "stream",
     "text": [
      "Scores shape: (32, 7), Expected labels: 7\n",
      "Scores shape: (32, 7), Expected labels: 7\n"
     ]
    },
    {
     "name": "stderr",
     "output_type": "stream",
     "text": [
      "Processing Emotions:  16%|█▌        | 383/2383 [00:48<03:49,  8.71it/s]"
     ]
    },
    {
     "name": "stdout",
     "output_type": "stream",
     "text": [
      "Scores shape: (32, 7), Expected labels: 7\n",
      "Scores shape: (32, 7), Expected labels: 7\n"
     ]
    },
    {
     "name": "stderr",
     "output_type": "stream",
     "text": [
      "Processing Emotions:  16%|█▌        | 385/2383 [00:49<03:54,  8.51it/s]"
     ]
    },
    {
     "name": "stdout",
     "output_type": "stream",
     "text": [
      "Scores shape: (32, 7), Expected labels: 7\n",
      "Scores shape: (32, 7), Expected labels: 7\n"
     ]
    },
    {
     "name": "stderr",
     "output_type": "stream",
     "text": [
      "Processing Emotions:  16%|█▌        | 387/2383 [00:49<03:49,  8.71it/s]"
     ]
    },
    {
     "name": "stdout",
     "output_type": "stream",
     "text": [
      "Scores shape: (32, 7), Expected labels: 7\n",
      "Scores shape: (32, 7), Expected labels: 7\n"
     ]
    },
    {
     "name": "stderr",
     "output_type": "stream",
     "text": [
      "Processing Emotions:  16%|█▋        | 389/2383 [00:49<03:52,  8.57it/s]"
     ]
    },
    {
     "name": "stdout",
     "output_type": "stream",
     "text": [
      "Scores shape: (32, 7), Expected labels: 7\n",
      "Scores shape: (32, 7), Expected labels: 7\n"
     ]
    },
    {
     "name": "stderr",
     "output_type": "stream",
     "text": [
      "Processing Emotions:  16%|█▋        | 391/2383 [00:49<03:49,  8.68it/s]"
     ]
    },
    {
     "name": "stdout",
     "output_type": "stream",
     "text": [
      "Scores shape: (32, 7), Expected labels: 7\n",
      "Scores shape: (32, 7), Expected labels: 7\n"
     ]
    },
    {
     "name": "stderr",
     "output_type": "stream",
     "text": [
      "Processing Emotions:  16%|█▋        | 393/2383 [00:50<03:48,  8.70it/s]"
     ]
    },
    {
     "name": "stdout",
     "output_type": "stream",
     "text": [
      "Scores shape: (32, 7), Expected labels: 7\n",
      "Scores shape: (32, 7), Expected labels: 7\n"
     ]
    },
    {
     "name": "stderr",
     "output_type": "stream",
     "text": [
      "Processing Emotions:  17%|█▋        | 395/2383 [00:50<03:48,  8.71it/s]"
     ]
    },
    {
     "name": "stdout",
     "output_type": "stream",
     "text": [
      "Scores shape: (32, 7), Expected labels: 7\n",
      "Scores shape: (32, 7), Expected labels: 7\n"
     ]
    },
    {
     "name": "stderr",
     "output_type": "stream",
     "text": [
      "Processing Emotions:  17%|█▋        | 397/2383 [00:50<03:50,  8.60it/s]"
     ]
    },
    {
     "name": "stdout",
     "output_type": "stream",
     "text": [
      "Scores shape: (32, 7), Expected labels: 7\n",
      "Scores shape: (32, 7), Expected labels: 7\n"
     ]
    },
    {
     "name": "stderr",
     "output_type": "stream",
     "text": [
      "Processing Emotions:  17%|█▋        | 399/2383 [00:50<03:48,  8.67it/s]"
     ]
    },
    {
     "name": "stdout",
     "output_type": "stream",
     "text": [
      "Scores shape: (32, 7), Expected labels: 7\n",
      "Scores shape: (32, 7), Expected labels: 7\n"
     ]
    },
    {
     "name": "stderr",
     "output_type": "stream",
     "text": [
      "Processing Emotions:  17%|█▋        | 401/2383 [00:51<04:01,  8.21it/s]"
     ]
    },
    {
     "name": "stdout",
     "output_type": "stream",
     "text": [
      "Scores shape: (32, 7), Expected labels: 7\n",
      "Scores shape: (32, 7), Expected labels: 7\n"
     ]
    },
    {
     "name": "stderr",
     "output_type": "stream",
     "text": [
      "Processing Emotions:  17%|█▋        | 403/2383 [00:51<04:05,  8.06it/s]"
     ]
    },
    {
     "name": "stdout",
     "output_type": "stream",
     "text": [
      "Scores shape: (32, 7), Expected labels: 7\n",
      "Scores shape: (32, 7), Expected labels: 7\n"
     ]
    },
    {
     "name": "stderr",
     "output_type": "stream",
     "text": [
      "Processing Emotions:  17%|█▋        | 405/2383 [00:51<04:10,  7.90it/s]"
     ]
    },
    {
     "name": "stdout",
     "output_type": "stream",
     "text": [
      "Scores shape: (32, 7), Expected labels: 7\n",
      "Scores shape: (32, 7), Expected labels: 7\n"
     ]
    },
    {
     "name": "stderr",
     "output_type": "stream",
     "text": [
      "Processing Emotions:  17%|█▋        | 407/2383 [00:51<04:07,  7.99it/s]"
     ]
    },
    {
     "name": "stdout",
     "output_type": "stream",
     "text": [
      "Scores shape: (32, 7), Expected labels: 7\n",
      "Scores shape: (32, 7), Expected labels: 7\n"
     ]
    },
    {
     "name": "stderr",
     "output_type": "stream",
     "text": [
      "Processing Emotions:  17%|█▋        | 409/2383 [00:52<04:03,  8.10it/s]"
     ]
    },
    {
     "name": "stdout",
     "output_type": "stream",
     "text": [
      "Scores shape: (32, 7), Expected labels: 7\n",
      "Scores shape: (32, 7), Expected labels: 7\n"
     ]
    },
    {
     "name": "stderr",
     "output_type": "stream",
     "text": [
      "Processing Emotions:  17%|█▋        | 411/2383 [00:52<04:07,  7.95it/s]"
     ]
    },
    {
     "name": "stdout",
     "output_type": "stream",
     "text": [
      "Scores shape: (32, 7), Expected labels: 7\n",
      "Scores shape: (32, 7), Expected labels: 7\n"
     ]
    },
    {
     "name": "stderr",
     "output_type": "stream",
     "text": [
      "Processing Emotions:  17%|█▋        | 413/2383 [00:52<04:10,  7.87it/s]"
     ]
    },
    {
     "name": "stdout",
     "output_type": "stream",
     "text": [
      "Scores shape: (32, 7), Expected labels: 7\n",
      "Scores shape: (32, 7), Expected labels: 7\n"
     ]
    },
    {
     "name": "stderr",
     "output_type": "stream",
     "text": [
      "Processing Emotions:  17%|█▋        | 415/2383 [00:52<04:04,  8.05it/s]"
     ]
    },
    {
     "name": "stdout",
     "output_type": "stream",
     "text": [
      "Scores shape: (32, 7), Expected labels: 7\n",
      "Scores shape: (32, 7), Expected labels: 7\n"
     ]
    },
    {
     "name": "stderr",
     "output_type": "stream",
     "text": [
      "Processing Emotions:  17%|█▋        | 417/2383 [00:53<04:09,  7.87it/s]"
     ]
    },
    {
     "name": "stdout",
     "output_type": "stream",
     "text": [
      "Scores shape: (32, 7), Expected labels: 7\n",
      "Scores shape: (32, 7), Expected labels: 7\n"
     ]
    },
    {
     "name": "stderr",
     "output_type": "stream",
     "text": [
      "Processing Emotions:  18%|█▊        | 419/2383 [00:53<04:06,  7.97it/s]"
     ]
    },
    {
     "name": "stdout",
     "output_type": "stream",
     "text": [
      "Scores shape: (32, 7), Expected labels: 7\n",
      "Scores shape: (32, 7), Expected labels: 7\n"
     ]
    },
    {
     "name": "stderr",
     "output_type": "stream",
     "text": [
      "Processing Emotions:  18%|█▊        | 421/2383 [00:53<04:03,  8.06it/s]"
     ]
    },
    {
     "name": "stdout",
     "output_type": "stream",
     "text": [
      "Scores shape: (32, 7), Expected labels: 7\n",
      "Scores shape: (32, 7), Expected labels: 7\n"
     ]
    },
    {
     "name": "stderr",
     "output_type": "stream",
     "text": [
      "Processing Emotions:  18%|█▊        | 423/2383 [00:53<04:03,  8.06it/s]"
     ]
    },
    {
     "name": "stdout",
     "output_type": "stream",
     "text": [
      "Scores shape: (32, 7), Expected labels: 7\n",
      "Scores shape: (32, 7), Expected labels: 7\n"
     ]
    },
    {
     "name": "stderr",
     "output_type": "stream",
     "text": [
      "Processing Emotions:  18%|█▊        | 425/2383 [00:54<04:04,  8.00it/s]"
     ]
    },
    {
     "name": "stdout",
     "output_type": "stream",
     "text": [
      "Scores shape: (32, 7), Expected labels: 7\n",
      "Scores shape: (32, 7), Expected labels: 7\n"
     ]
    },
    {
     "name": "stderr",
     "output_type": "stream",
     "text": [
      "Processing Emotions:  18%|█▊        | 427/2383 [00:54<03:56,  8.29it/s]"
     ]
    },
    {
     "name": "stdout",
     "output_type": "stream",
     "text": [
      "Scores shape: (32, 7), Expected labels: 7\n",
      "Scores shape: (32, 7), Expected labels: 7\n"
     ]
    },
    {
     "name": "stderr",
     "output_type": "stream",
     "text": [
      "Processing Emotions:  18%|█▊        | 429/2383 [00:54<03:52,  8.42it/s]"
     ]
    },
    {
     "name": "stdout",
     "output_type": "stream",
     "text": [
      "Scores shape: (32, 7), Expected labels: 7\n",
      "Scores shape: (32, 7), Expected labels: 7\n"
     ]
    },
    {
     "name": "stderr",
     "output_type": "stream",
     "text": [
      "Processing Emotions:  18%|█▊        | 431/2383 [00:54<03:52,  8.41it/s]"
     ]
    },
    {
     "name": "stdout",
     "output_type": "stream",
     "text": [
      "Scores shape: (32, 7), Expected labels: 7\n",
      "Scores shape: (32, 7), Expected labels: 7\n"
     ]
    },
    {
     "name": "stderr",
     "output_type": "stream",
     "text": [
      "Processing Emotions:  18%|█▊        | 433/2383 [00:55<03:50,  8.47it/s]"
     ]
    },
    {
     "name": "stdout",
     "output_type": "stream",
     "text": [
      "Scores shape: (32, 7), Expected labels: 7\n",
      "Scores shape: (32, 7), Expected labels: 7\n"
     ]
    },
    {
     "name": "stderr",
     "output_type": "stream",
     "text": [
      "Processing Emotions:  18%|█▊        | 435/2383 [00:55<03:46,  8.62it/s]"
     ]
    },
    {
     "name": "stdout",
     "output_type": "stream",
     "text": [
      "Scores shape: (32, 7), Expected labels: 7\n",
      "Scores shape: (32, 7), Expected labels: 7\n"
     ]
    },
    {
     "name": "stderr",
     "output_type": "stream",
     "text": [
      "Processing Emotions:  18%|█▊        | 437/2383 [00:55<03:41,  8.79it/s]"
     ]
    },
    {
     "name": "stdout",
     "output_type": "stream",
     "text": [
      "Scores shape: (32, 7), Expected labels: 7\n",
      "Scores shape: (32, 7), Expected labels: 7\n"
     ]
    },
    {
     "name": "stderr",
     "output_type": "stream",
     "text": [
      "Processing Emotions:  18%|█▊        | 439/2383 [00:55<03:42,  8.74it/s]"
     ]
    },
    {
     "name": "stdout",
     "output_type": "stream",
     "text": [
      "Scores shape: (32, 7), Expected labels: 7\n",
      "Scores shape: (32, 7), Expected labels: 7\n"
     ]
    },
    {
     "name": "stderr",
     "output_type": "stream",
     "text": [
      "Processing Emotions:  19%|█▊        | 441/2383 [00:55<03:42,  8.71it/s]"
     ]
    },
    {
     "name": "stdout",
     "output_type": "stream",
     "text": [
      "Scores shape: (32, 7), Expected labels: 7\n",
      "Scores shape: (32, 7), Expected labels: 7\n"
     ]
    },
    {
     "name": "stderr",
     "output_type": "stream",
     "text": [
      "Processing Emotions:  19%|█▊        | 443/2383 [00:56<03:43,  8.69it/s]"
     ]
    },
    {
     "name": "stdout",
     "output_type": "stream",
     "text": [
      "Scores shape: (32, 7), Expected labels: 7\n",
      "Scores shape: (32, 7), Expected labels: 7\n"
     ]
    },
    {
     "name": "stderr",
     "output_type": "stream",
     "text": [
      "Processing Emotions:  19%|█▊        | 445/2383 [00:56<03:42,  8.72it/s]"
     ]
    },
    {
     "name": "stdout",
     "output_type": "stream",
     "text": [
      "Scores shape: (32, 7), Expected labels: 7\n",
      "Scores shape: (32, 7), Expected labels: 7\n"
     ]
    },
    {
     "name": "stderr",
     "output_type": "stream",
     "text": [
      "Processing Emotions:  19%|█▉        | 447/2383 [00:56<03:46,  8.53it/s]"
     ]
    },
    {
     "name": "stdout",
     "output_type": "stream",
     "text": [
      "Scores shape: (32, 7), Expected labels: 7\n",
      "Scores shape: (32, 7), Expected labels: 7\n"
     ]
    },
    {
     "name": "stderr",
     "output_type": "stream",
     "text": [
      "Processing Emotions:  19%|█▉        | 449/2383 [00:56<03:56,  8.19it/s]"
     ]
    },
    {
     "name": "stdout",
     "output_type": "stream",
     "text": [
      "Scores shape: (32, 7), Expected labels: 7\n",
      "Scores shape: (32, 7), Expected labels: 7\n"
     ]
    },
    {
     "name": "stderr",
     "output_type": "stream",
     "text": [
      "Processing Emotions:  19%|█▉        | 451/2383 [00:57<03:51,  8.34it/s]"
     ]
    },
    {
     "name": "stdout",
     "output_type": "stream",
     "text": [
      "Scores shape: (32, 7), Expected labels: 7\n",
      "Scores shape: (32, 7), Expected labels: 7\n"
     ]
    },
    {
     "name": "stderr",
     "output_type": "stream",
     "text": [
      "Processing Emotions:  19%|█▉        | 453/2383 [00:57<03:47,  8.49it/s]"
     ]
    },
    {
     "name": "stdout",
     "output_type": "stream",
     "text": [
      "Scores shape: (32, 7), Expected labels: 7\n",
      "Scores shape: (32, 7), Expected labels: 7\n"
     ]
    },
    {
     "name": "stderr",
     "output_type": "stream",
     "text": [
      "Processing Emotions:  19%|█▉        | 455/2383 [00:57<03:48,  8.45it/s]"
     ]
    },
    {
     "name": "stdout",
     "output_type": "stream",
     "text": [
      "Scores shape: (32, 7), Expected labels: 7\n",
      "Scores shape: (32, 7), Expected labels: 7\n"
     ]
    },
    {
     "name": "stderr",
     "output_type": "stream",
     "text": [
      "Processing Emotions:  19%|█▉        | 457/2383 [00:57<03:45,  8.53it/s]"
     ]
    },
    {
     "name": "stdout",
     "output_type": "stream",
     "text": [
      "Scores shape: (32, 7), Expected labels: 7\n",
      "Scores shape: (32, 7), Expected labels: 7\n"
     ]
    },
    {
     "name": "stderr",
     "output_type": "stream",
     "text": [
      "Processing Emotions:  19%|█▉        | 459/2383 [00:58<03:47,  8.47it/s]"
     ]
    },
    {
     "name": "stdout",
     "output_type": "stream",
     "text": [
      "Scores shape: (32, 7), Expected labels: 7\n",
      "Scores shape: (32, 7), Expected labels: 7\n"
     ]
    },
    {
     "name": "stderr",
     "output_type": "stream",
     "text": [
      "Processing Emotions:  19%|█▉        | 461/2383 [00:58<03:48,  8.40it/s]"
     ]
    },
    {
     "name": "stdout",
     "output_type": "stream",
     "text": [
      "Scores shape: (32, 7), Expected labels: 7\n",
      "Scores shape: (32, 7), Expected labels: 7\n"
     ]
    },
    {
     "name": "stderr",
     "output_type": "stream",
     "text": [
      "Processing Emotions:  19%|█▉        | 463/2383 [00:58<03:51,  8.29it/s]"
     ]
    },
    {
     "name": "stdout",
     "output_type": "stream",
     "text": [
      "Scores shape: (32, 7), Expected labels: 7\n",
      "Scores shape: (32, 7), Expected labels: 7\n"
     ]
    },
    {
     "name": "stderr",
     "output_type": "stream",
     "text": [
      "Processing Emotions:  20%|█▉        | 465/2383 [00:58<03:50,  8.32it/s]"
     ]
    },
    {
     "name": "stdout",
     "output_type": "stream",
     "text": [
      "Scores shape: (32, 7), Expected labels: 7\n",
      "Scores shape: (32, 7), Expected labels: 7\n"
     ]
    },
    {
     "name": "stderr",
     "output_type": "stream",
     "text": [
      "Processing Emotions:  20%|█▉        | 467/2383 [00:59<03:50,  8.33it/s]"
     ]
    },
    {
     "name": "stdout",
     "output_type": "stream",
     "text": [
      "Scores shape: (32, 7), Expected labels: 7\n",
      "Scores shape: (32, 7), Expected labels: 7\n"
     ]
    },
    {
     "name": "stderr",
     "output_type": "stream",
     "text": [
      "Processing Emotions:  20%|█▉        | 469/2383 [00:59<03:52,  8.22it/s]"
     ]
    },
    {
     "name": "stdout",
     "output_type": "stream",
     "text": [
      "Scores shape: (32, 7), Expected labels: 7\n",
      "Scores shape: (32, 7), Expected labels: 7\n"
     ]
    },
    {
     "name": "stderr",
     "output_type": "stream",
     "text": [
      "Processing Emotions:  20%|█▉        | 471/2383 [00:59<03:47,  8.39it/s]"
     ]
    },
    {
     "name": "stdout",
     "output_type": "stream",
     "text": [
      "Scores shape: (32, 7), Expected labels: 7\n",
      "Scores shape: (32, 7), Expected labels: 7\n"
     ]
    },
    {
     "name": "stderr",
     "output_type": "stream",
     "text": [
      "Processing Emotions:  20%|█▉        | 473/2383 [00:59<03:43,  8.56it/s]"
     ]
    },
    {
     "name": "stdout",
     "output_type": "stream",
     "text": [
      "Scores shape: (32, 7), Expected labels: 7\n",
      "Scores shape: (32, 7), Expected labels: 7\n"
     ]
    },
    {
     "name": "stderr",
     "output_type": "stream",
     "text": [
      "Processing Emotions:  20%|█▉        | 475/2383 [01:00<03:42,  8.57it/s]"
     ]
    },
    {
     "name": "stdout",
     "output_type": "stream",
     "text": [
      "Scores shape: (32, 7), Expected labels: 7\n",
      "Scores shape: (32, 7), Expected labels: 7\n"
     ]
    },
    {
     "name": "stderr",
     "output_type": "stream",
     "text": [
      "Processing Emotions:  20%|██        | 477/2383 [01:00<03:47,  8.39it/s]"
     ]
    },
    {
     "name": "stdout",
     "output_type": "stream",
     "text": [
      "Scores shape: (32, 7), Expected labels: 7\n",
      "Scores shape: (32, 7), Expected labels: 7\n"
     ]
    },
    {
     "name": "stderr",
     "output_type": "stream",
     "text": [
      "Processing Emotions:  20%|██        | 479/2383 [01:00<03:44,  8.48it/s]"
     ]
    },
    {
     "name": "stdout",
     "output_type": "stream",
     "text": [
      "Scores shape: (32, 7), Expected labels: 7\n",
      "Scores shape: (32, 7), Expected labels: 7\n"
     ]
    },
    {
     "name": "stderr",
     "output_type": "stream",
     "text": [
      "Processing Emotions:  20%|██        | 481/2383 [01:00<03:45,  8.44it/s]"
     ]
    },
    {
     "name": "stdout",
     "output_type": "stream",
     "text": [
      "Scores shape: (32, 7), Expected labels: 7\n",
      "Scores shape: (32, 7), Expected labels: 7\n"
     ]
    },
    {
     "name": "stderr",
     "output_type": "stream",
     "text": [
      "Processing Emotions:  20%|██        | 483/2383 [01:00<03:50,  8.25it/s]"
     ]
    },
    {
     "name": "stdout",
     "output_type": "stream",
     "text": [
      "Scores shape: (32, 7), Expected labels: 7\n",
      "Scores shape: (32, 7), Expected labels: 7\n"
     ]
    },
    {
     "name": "stderr",
     "output_type": "stream",
     "text": [
      "Processing Emotions:  20%|██        | 485/2383 [01:01<03:48,  8.32it/s]"
     ]
    },
    {
     "name": "stdout",
     "output_type": "stream",
     "text": [
      "Scores shape: (32, 7), Expected labels: 7\n",
      "Scores shape: (32, 7), Expected labels: 7\n"
     ]
    },
    {
     "name": "stderr",
     "output_type": "stream",
     "text": [
      "Processing Emotions:  20%|██        | 487/2383 [01:01<03:44,  8.45it/s]"
     ]
    },
    {
     "name": "stdout",
     "output_type": "stream",
     "text": [
      "Scores shape: (32, 7), Expected labels: 7\n",
      "Scores shape: (32, 7), Expected labels: 7\n"
     ]
    },
    {
     "name": "stderr",
     "output_type": "stream",
     "text": [
      "Processing Emotions:  21%|██        | 489/2383 [01:01<03:44,  8.43it/s]"
     ]
    },
    {
     "name": "stdout",
     "output_type": "stream",
     "text": [
      "Scores shape: (32, 7), Expected labels: 7\n",
      "Scores shape: (32, 7), Expected labels: 7\n"
     ]
    },
    {
     "name": "stderr",
     "output_type": "stream",
     "text": [
      "Processing Emotions:  21%|██        | 491/2383 [01:01<03:45,  8.39it/s]"
     ]
    },
    {
     "name": "stdout",
     "output_type": "stream",
     "text": [
      "Scores shape: (32, 7), Expected labels: 7\n",
      "Scores shape: (32, 7), Expected labels: 7\n"
     ]
    },
    {
     "name": "stderr",
     "output_type": "stream",
     "text": [
      "Processing Emotions:  21%|██        | 493/2383 [01:02<03:43,  8.46it/s]"
     ]
    },
    {
     "name": "stdout",
     "output_type": "stream",
     "text": [
      "Scores shape: (32, 7), Expected labels: 7\n",
      "Scores shape: (32, 7), Expected labels: 7\n"
     ]
    },
    {
     "name": "stderr",
     "output_type": "stream",
     "text": [
      "Processing Emotions:  21%|██        | 495/2383 [01:02<03:43,  8.44it/s]"
     ]
    },
    {
     "name": "stdout",
     "output_type": "stream",
     "text": [
      "Scores shape: (32, 7), Expected labels: 7\n",
      "Scores shape: (32, 7), Expected labels: 7\n"
     ]
    },
    {
     "name": "stderr",
     "output_type": "stream",
     "text": [
      "Processing Emotions:  21%|██        | 497/2383 [01:02<03:44,  8.40it/s]"
     ]
    },
    {
     "name": "stdout",
     "output_type": "stream",
     "text": [
      "Scores shape: (32, 7), Expected labels: 7\n",
      "Scores shape: (32, 7), Expected labels: 7\n"
     ]
    },
    {
     "name": "stderr",
     "output_type": "stream",
     "text": [
      "Processing Emotions:  21%|██        | 499/2383 [01:02<03:44,  8.38it/s]"
     ]
    },
    {
     "name": "stdout",
     "output_type": "stream",
     "text": [
      "Scores shape: (32, 7), Expected labels: 7\n",
      "Scores shape: (32, 7), Expected labels: 7\n"
     ]
    },
    {
     "name": "stderr",
     "output_type": "stream",
     "text": [
      "Processing Emotions:  21%|██        | 501/2383 [01:03<03:44,  8.39it/s]"
     ]
    },
    {
     "name": "stdout",
     "output_type": "stream",
     "text": [
      "Scores shape: (32, 7), Expected labels: 7\n",
      "Scores shape: (32, 7), Expected labels: 7\n"
     ]
    },
    {
     "name": "stderr",
     "output_type": "stream",
     "text": [
      "Processing Emotions:  21%|██        | 503/2383 [01:03<03:43,  8.41it/s]"
     ]
    },
    {
     "name": "stdout",
     "output_type": "stream",
     "text": [
      "Scores shape: (32, 7), Expected labels: 7\n",
      "Scores shape: (32, 7), Expected labels: 7\n"
     ]
    },
    {
     "name": "stderr",
     "output_type": "stream",
     "text": [
      "Processing Emotions:  21%|██        | 505/2383 [01:03<03:43,  8.42it/s]"
     ]
    },
    {
     "name": "stdout",
     "output_type": "stream",
     "text": [
      "Scores shape: (32, 7), Expected labels: 7\n",
      "Scores shape: (32, 7), Expected labels: 7\n"
     ]
    },
    {
     "name": "stderr",
     "output_type": "stream",
     "text": [
      "Processing Emotions:  21%|██▏       | 507/2383 [01:03<03:45,  8.31it/s]"
     ]
    },
    {
     "name": "stdout",
     "output_type": "stream",
     "text": [
      "Scores shape: (32, 7), Expected labels: 7\n",
      "Scores shape: (32, 7), Expected labels: 7\n"
     ]
    },
    {
     "name": "stderr",
     "output_type": "stream",
     "text": [
      "Processing Emotions:  21%|██▏       | 509/2383 [01:04<03:44,  8.35it/s]"
     ]
    },
    {
     "name": "stdout",
     "output_type": "stream",
     "text": [
      "Scores shape: (32, 7), Expected labels: 7\n",
      "Scores shape: (32, 7), Expected labels: 7\n"
     ]
    },
    {
     "name": "stderr",
     "output_type": "stream",
     "text": [
      "Processing Emotions:  21%|██▏       | 511/2383 [01:04<03:45,  8.29it/s]"
     ]
    },
    {
     "name": "stdout",
     "output_type": "stream",
     "text": [
      "Scores shape: (32, 7), Expected labels: 7\n",
      "Scores shape: (32, 7), Expected labels: 7\n"
     ]
    },
    {
     "name": "stderr",
     "output_type": "stream",
     "text": [
      "Processing Emotions:  22%|██▏       | 513/2383 [01:04<03:53,  8.02it/s]"
     ]
    },
    {
     "name": "stdout",
     "output_type": "stream",
     "text": [
      "Scores shape: (32, 7), Expected labels: 7\n",
      "Scores shape: (32, 7), Expected labels: 7\n"
     ]
    },
    {
     "name": "stderr",
     "output_type": "stream",
     "text": [
      "Processing Emotions:  22%|██▏       | 515/2383 [01:04<03:55,  7.94it/s]"
     ]
    },
    {
     "name": "stdout",
     "output_type": "stream",
     "text": [
      "Scores shape: (32, 7), Expected labels: 7\n",
      "Scores shape: (32, 7), Expected labels: 7\n"
     ]
    },
    {
     "name": "stderr",
     "output_type": "stream",
     "text": [
      "Processing Emotions:  22%|██▏       | 517/2383 [01:05<04:00,  7.75it/s]"
     ]
    },
    {
     "name": "stdout",
     "output_type": "stream",
     "text": [
      "Scores shape: (32, 7), Expected labels: 7\n",
      "Scores shape: (32, 7), Expected labels: 7\n"
     ]
    },
    {
     "name": "stderr",
     "output_type": "stream",
     "text": [
      "Processing Emotions:  22%|██▏       | 519/2383 [01:05<03:56,  7.87it/s]"
     ]
    },
    {
     "name": "stdout",
     "output_type": "stream",
     "text": [
      "Scores shape: (32, 7), Expected labels: 7\n",
      "Scores shape: (32, 7), Expected labels: 7\n"
     ]
    },
    {
     "name": "stderr",
     "output_type": "stream",
     "text": [
      "Processing Emotions:  22%|██▏       | 521/2383 [01:05<04:09,  7.48it/s]"
     ]
    },
    {
     "name": "stdout",
     "output_type": "stream",
     "text": [
      "Scores shape: (32, 7), Expected labels: 7\n",
      "Scores shape: (32, 7), Expected labels: 7\n"
     ]
    },
    {
     "name": "stderr",
     "output_type": "stream",
     "text": [
      "Processing Emotions:  22%|██▏       | 523/2383 [01:05<04:01,  7.69it/s]"
     ]
    },
    {
     "name": "stdout",
     "output_type": "stream",
     "text": [
      "Scores shape: (32, 7), Expected labels: 7\n",
      "Scores shape: (32, 7), Expected labels: 7\n"
     ]
    },
    {
     "name": "stderr",
     "output_type": "stream",
     "text": [
      "Processing Emotions:  22%|██▏       | 525/2383 [01:06<04:11,  7.39it/s]"
     ]
    },
    {
     "name": "stdout",
     "output_type": "stream",
     "text": [
      "Scores shape: (32, 7), Expected labels: 7\n",
      "Scores shape: (32, 7), Expected labels: 7\n"
     ]
    },
    {
     "name": "stderr",
     "output_type": "stream",
     "text": [
      "Processing Emotions:  22%|██▏       | 527/2383 [01:06<04:06,  7.52it/s]"
     ]
    },
    {
     "name": "stdout",
     "output_type": "stream",
     "text": [
      "Scores shape: (32, 7), Expected labels: 7\n",
      "Scores shape: (32, 7), Expected labels: 7\n"
     ]
    },
    {
     "name": "stderr",
     "output_type": "stream",
     "text": [
      "Processing Emotions:  22%|██▏       | 529/2383 [01:06<04:06,  7.52it/s]"
     ]
    },
    {
     "name": "stdout",
     "output_type": "stream",
     "text": [
      "Scores shape: (32, 7), Expected labels: 7\n",
      "Scores shape: (32, 7), Expected labels: 7\n"
     ]
    },
    {
     "name": "stderr",
     "output_type": "stream",
     "text": [
      "Processing Emotions:  22%|██▏       | 531/2383 [01:06<04:16,  7.21it/s]"
     ]
    },
    {
     "name": "stdout",
     "output_type": "stream",
     "text": [
      "Scores shape: (32, 7), Expected labels: 7\n",
      "Scores shape: (32, 7), Expected labels: 7\n"
     ]
    },
    {
     "name": "stderr",
     "output_type": "stream",
     "text": [
      "Processing Emotions:  22%|██▏       | 533/2383 [01:07<04:08,  7.43it/s]"
     ]
    },
    {
     "name": "stdout",
     "output_type": "stream",
     "text": [
      "Scores shape: (32, 7), Expected labels: 7\n",
      "Scores shape: (32, 7), Expected labels: 7\n"
     ]
    },
    {
     "name": "stderr",
     "output_type": "stream",
     "text": [
      "Processing Emotions:  22%|██▏       | 535/2383 [01:07<04:00,  7.67it/s]"
     ]
    },
    {
     "name": "stdout",
     "output_type": "stream",
     "text": [
      "Scores shape: (32, 7), Expected labels: 7\n",
      "Scores shape: (32, 7), Expected labels: 7\n"
     ]
    },
    {
     "name": "stderr",
     "output_type": "stream",
     "text": [
      "Processing Emotions:  23%|██▎       | 537/2383 [01:07<03:54,  7.86it/s]"
     ]
    },
    {
     "name": "stdout",
     "output_type": "stream",
     "text": [
      "Scores shape: (32, 7), Expected labels: 7\n",
      "Scores shape: (32, 7), Expected labels: 7\n"
     ]
    },
    {
     "name": "stderr",
     "output_type": "stream",
     "text": [
      "Processing Emotions:  23%|██▎       | 539/2383 [01:07<03:48,  8.08it/s]"
     ]
    },
    {
     "name": "stdout",
     "output_type": "stream",
     "text": [
      "Scores shape: (32, 7), Expected labels: 7\n",
      "Scores shape: (32, 7), Expected labels: 7\n"
     ]
    },
    {
     "name": "stderr",
     "output_type": "stream",
     "text": [
      "Processing Emotions:  23%|██▎       | 541/2383 [01:08<03:43,  8.26it/s]"
     ]
    },
    {
     "name": "stdout",
     "output_type": "stream",
     "text": [
      "Scores shape: (32, 7), Expected labels: 7\n",
      "Scores shape: (32, 7), Expected labels: 7\n"
     ]
    },
    {
     "name": "stderr",
     "output_type": "stream",
     "text": [
      "Processing Emotions:  23%|██▎       | 543/2383 [01:08<03:39,  8.40it/s]"
     ]
    },
    {
     "name": "stdout",
     "output_type": "stream",
     "text": [
      "Scores shape: (32, 7), Expected labels: 7\n",
      "Scores shape: (32, 7), Expected labels: 7\n"
     ]
    },
    {
     "name": "stderr",
     "output_type": "stream",
     "text": [
      "Processing Emotions:  23%|██▎       | 545/2383 [01:08<03:39,  8.36it/s]"
     ]
    },
    {
     "name": "stdout",
     "output_type": "stream",
     "text": [
      "Scores shape: (32, 7), Expected labels: 7\n",
      "Scores shape: (32, 7), Expected labels: 7\n"
     ]
    },
    {
     "name": "stderr",
     "output_type": "stream",
     "text": [
      "Processing Emotions:  23%|██▎       | 547/2383 [01:08<03:44,  8.19it/s]"
     ]
    },
    {
     "name": "stdout",
     "output_type": "stream",
     "text": [
      "Scores shape: (32, 7), Expected labels: 7\n",
      "Scores shape: (32, 7), Expected labels: 7\n"
     ]
    },
    {
     "name": "stderr",
     "output_type": "stream",
     "text": [
      "Processing Emotions:  23%|██▎       | 549/2383 [01:09<03:41,  8.27it/s]"
     ]
    },
    {
     "name": "stdout",
     "output_type": "stream",
     "text": [
      "Scores shape: (32, 7), Expected labels: 7\n",
      "Scores shape: (32, 7), Expected labels: 7\n"
     ]
    },
    {
     "name": "stderr",
     "output_type": "stream",
     "text": [
      "Processing Emotions:  23%|██▎       | 551/2383 [01:09<03:39,  8.35it/s]"
     ]
    },
    {
     "name": "stdout",
     "output_type": "stream",
     "text": [
      "Scores shape: (32, 7), Expected labels: 7\n",
      "Scores shape: (32, 7), Expected labels: 7\n"
     ]
    },
    {
     "name": "stderr",
     "output_type": "stream",
     "text": [
      "Processing Emotions:  23%|██▎       | 553/2383 [01:09<03:37,  8.40it/s]"
     ]
    },
    {
     "name": "stdout",
     "output_type": "stream",
     "text": [
      "Scores shape: (32, 7), Expected labels: 7\n",
      "Scores shape: (32, 7), Expected labels: 7\n"
     ]
    },
    {
     "name": "stderr",
     "output_type": "stream",
     "text": [
      "Processing Emotions:  23%|██▎       | 555/2383 [01:09<03:38,  8.36it/s]"
     ]
    },
    {
     "name": "stdout",
     "output_type": "stream",
     "text": [
      "Scores shape: (32, 7), Expected labels: 7\n",
      "Scores shape: (32, 7), Expected labels: 7\n"
     ]
    },
    {
     "name": "stderr",
     "output_type": "stream",
     "text": [
      "Processing Emotions:  23%|██▎       | 557/2383 [01:10<03:38,  8.35it/s]"
     ]
    },
    {
     "name": "stdout",
     "output_type": "stream",
     "text": [
      "Scores shape: (32, 7), Expected labels: 7\n",
      "Scores shape: (32, 7), Expected labels: 7\n"
     ]
    },
    {
     "name": "stderr",
     "output_type": "stream",
     "text": [
      "Processing Emotions:  23%|██▎       | 559/2383 [01:10<03:38,  8.34it/s]"
     ]
    },
    {
     "name": "stdout",
     "output_type": "stream",
     "text": [
      "Scores shape: (32, 7), Expected labels: 7\n",
      "Scores shape: (32, 7), Expected labels: 7\n"
     ]
    },
    {
     "name": "stderr",
     "output_type": "stream",
     "text": [
      "Processing Emotions:  24%|██▎       | 561/2383 [01:10<03:44,  8.13it/s]"
     ]
    },
    {
     "name": "stdout",
     "output_type": "stream",
     "text": [
      "Scores shape: (32, 7), Expected labels: 7\n",
      "Scores shape: (32, 7), Expected labels: 7\n"
     ]
    },
    {
     "name": "stderr",
     "output_type": "stream",
     "text": [
      "Processing Emotions:  24%|██▎       | 563/2383 [01:10<03:39,  8.28it/s]"
     ]
    },
    {
     "name": "stdout",
     "output_type": "stream",
     "text": [
      "Scores shape: (32, 7), Expected labels: 7\n",
      "Scores shape: (32, 7), Expected labels: 7\n"
     ]
    },
    {
     "name": "stderr",
     "output_type": "stream",
     "text": [
      "Processing Emotions:  24%|██▎       | 565/2383 [01:11<03:37,  8.35it/s]"
     ]
    },
    {
     "name": "stdout",
     "output_type": "stream",
     "text": [
      "Scores shape: (32, 7), Expected labels: 7\n",
      "Scores shape: (32, 7), Expected labels: 7\n"
     ]
    },
    {
     "name": "stderr",
     "output_type": "stream",
     "text": [
      "Processing Emotions:  24%|██▍       | 567/2383 [01:11<03:38,  8.32it/s]"
     ]
    },
    {
     "name": "stdout",
     "output_type": "stream",
     "text": [
      "Scores shape: (32, 7), Expected labels: 7\n",
      "Scores shape: (32, 7), Expected labels: 7\n"
     ]
    },
    {
     "name": "stderr",
     "output_type": "stream",
     "text": [
      "Processing Emotions:  24%|██▍       | 569/2383 [01:11<03:33,  8.48it/s]"
     ]
    },
    {
     "name": "stdout",
     "output_type": "stream",
     "text": [
      "Scores shape: (32, 7), Expected labels: 7\n",
      "Scores shape: (32, 7), Expected labels: 7\n"
     ]
    },
    {
     "name": "stderr",
     "output_type": "stream",
     "text": [
      "Processing Emotions:  24%|██▍       | 571/2383 [01:11<03:38,  8.28it/s]"
     ]
    },
    {
     "name": "stdout",
     "output_type": "stream",
     "text": [
      "Scores shape: (32, 7), Expected labels: 7\n",
      "Scores shape: (32, 7), Expected labels: 7\n"
     ]
    },
    {
     "name": "stderr",
     "output_type": "stream",
     "text": [
      "Processing Emotions:  24%|██▍       | 573/2383 [01:12<03:36,  8.36it/s]"
     ]
    },
    {
     "name": "stdout",
     "output_type": "stream",
     "text": [
      "Scores shape: (32, 7), Expected labels: 7\n",
      "Scores shape: (32, 7), Expected labels: 7\n"
     ]
    },
    {
     "name": "stderr",
     "output_type": "stream",
     "text": [
      "Processing Emotions:  24%|██▍       | 575/2383 [01:12<03:32,  8.51it/s]"
     ]
    },
    {
     "name": "stdout",
     "output_type": "stream",
     "text": [
      "Scores shape: (32, 7), Expected labels: 7\n",
      "Scores shape: (32, 7), Expected labels: 7\n"
     ]
    },
    {
     "name": "stderr",
     "output_type": "stream",
     "text": [
      "Processing Emotions:  24%|██▍       | 577/2383 [01:12<03:32,  8.49it/s]"
     ]
    },
    {
     "name": "stdout",
     "output_type": "stream",
     "text": [
      "Scores shape: (32, 7), Expected labels: 7\n",
      "Scores shape: (32, 7), Expected labels: 7\n"
     ]
    },
    {
     "name": "stderr",
     "output_type": "stream",
     "text": [
      "Processing Emotions:  24%|██▍       | 579/2383 [01:12<03:33,  8.43it/s]"
     ]
    },
    {
     "name": "stdout",
     "output_type": "stream",
     "text": [
      "Scores shape: (32, 7), Expected labels: 7\n",
      "Scores shape: (32, 7), Expected labels: 7\n"
     ]
    },
    {
     "name": "stderr",
     "output_type": "stream",
     "text": [
      "Processing Emotions:  24%|██▍       | 581/2383 [01:12<03:35,  8.37it/s]"
     ]
    },
    {
     "name": "stdout",
     "output_type": "stream",
     "text": [
      "Scores shape: (32, 7), Expected labels: 7\n",
      "Scores shape: (32, 7), Expected labels: 7\n"
     ]
    },
    {
     "name": "stderr",
     "output_type": "stream",
     "text": [
      "Processing Emotions:  24%|██▍       | 583/2383 [01:13<03:32,  8.45it/s]"
     ]
    },
    {
     "name": "stdout",
     "output_type": "stream",
     "text": [
      "Scores shape: (32, 7), Expected labels: 7\n",
      "Scores shape: (32, 7), Expected labels: 7\n"
     ]
    },
    {
     "name": "stderr",
     "output_type": "stream",
     "text": [
      "Processing Emotions:  25%|██▍       | 585/2383 [01:13<03:30,  8.53it/s]"
     ]
    },
    {
     "name": "stdout",
     "output_type": "stream",
     "text": [
      "Scores shape: (32, 7), Expected labels: 7\n",
      "Scores shape: (32, 7), Expected labels: 7\n"
     ]
    },
    {
     "name": "stderr",
     "output_type": "stream",
     "text": [
      "Processing Emotions:  25%|██▍       | 587/2383 [01:13<03:28,  8.63it/s]"
     ]
    },
    {
     "name": "stdout",
     "output_type": "stream",
     "text": [
      "Scores shape: (32, 7), Expected labels: 7\n",
      "Scores shape: (32, 7), Expected labels: 7\n"
     ]
    },
    {
     "name": "stderr",
     "output_type": "stream",
     "text": [
      "Processing Emotions:  25%|██▍       | 589/2383 [01:13<03:28,  8.61it/s]"
     ]
    },
    {
     "name": "stdout",
     "output_type": "stream",
     "text": [
      "Scores shape: (32, 7), Expected labels: 7\n",
      "Scores shape: (32, 7), Expected labels: 7\n"
     ]
    },
    {
     "name": "stderr",
     "output_type": "stream",
     "text": [
      "Processing Emotions:  25%|██▍       | 591/2383 [01:14<03:32,  8.44it/s]"
     ]
    },
    {
     "name": "stdout",
     "output_type": "stream",
     "text": [
      "Scores shape: (32, 7), Expected labels: 7\n",
      "Scores shape: (32, 7), Expected labels: 7\n"
     ]
    },
    {
     "name": "stderr",
     "output_type": "stream",
     "text": [
      "Processing Emotions:  25%|██▍       | 593/2383 [01:14<03:30,  8.50it/s]"
     ]
    },
    {
     "name": "stdout",
     "output_type": "stream",
     "text": [
      "Scores shape: (32, 7), Expected labels: 7\n",
      "Scores shape: (32, 7), Expected labels: 7\n"
     ]
    },
    {
     "name": "stderr",
     "output_type": "stream",
     "text": [
      "Processing Emotions:  25%|██▍       | 595/2383 [01:14<03:33,  8.39it/s]"
     ]
    },
    {
     "name": "stdout",
     "output_type": "stream",
     "text": [
      "Scores shape: (32, 7), Expected labels: 7\n",
      "Scores shape: (32, 7), Expected labels: 7\n"
     ]
    },
    {
     "name": "stderr",
     "output_type": "stream",
     "text": [
      "Processing Emotions:  25%|██▌       | 597/2383 [01:14<03:40,  8.09it/s]"
     ]
    },
    {
     "name": "stdout",
     "output_type": "stream",
     "text": [
      "Scores shape: (32, 7), Expected labels: 7\n",
      "Scores shape: (32, 7), Expected labels: 7\n"
     ]
    },
    {
     "name": "stderr",
     "output_type": "stream",
     "text": [
      "Processing Emotions:  25%|██▌       | 599/2383 [01:15<03:33,  8.36it/s]"
     ]
    },
    {
     "name": "stdout",
     "output_type": "stream",
     "text": [
      "Scores shape: (32, 7), Expected labels: 7\n",
      "Scores shape: (32, 7), Expected labels: 7\n"
     ]
    },
    {
     "name": "stderr",
     "output_type": "stream",
     "text": [
      "Processing Emotions:  25%|██▌       | 601/2383 [01:15<03:32,  8.40it/s]"
     ]
    },
    {
     "name": "stdout",
     "output_type": "stream",
     "text": [
      "Scores shape: (32, 7), Expected labels: 7\n",
      "Scores shape: (32, 7), Expected labels: 7\n"
     ]
    },
    {
     "name": "stderr",
     "output_type": "stream",
     "text": [
      "Processing Emotions:  25%|██▌       | 603/2383 [01:15<03:34,  8.31it/s]"
     ]
    },
    {
     "name": "stdout",
     "output_type": "stream",
     "text": [
      "Scores shape: (32, 7), Expected labels: 7\n",
      "Scores shape: (32, 7), Expected labels: 7\n"
     ]
    },
    {
     "name": "stderr",
     "output_type": "stream",
     "text": [
      "Processing Emotions:  25%|██▌       | 605/2383 [01:15<03:35,  8.25it/s]"
     ]
    },
    {
     "name": "stdout",
     "output_type": "stream",
     "text": [
      "Scores shape: (32, 7), Expected labels: 7\n",
      "Scores shape: (32, 7), Expected labels: 7\n"
     ]
    },
    {
     "name": "stderr",
     "output_type": "stream",
     "text": [
      "Processing Emotions:  25%|██▌       | 607/2383 [01:16<03:34,  8.28it/s]"
     ]
    },
    {
     "name": "stdout",
     "output_type": "stream",
     "text": [
      "Scores shape: (32, 7), Expected labels: 7\n",
      "Scores shape: (32, 7), Expected labels: 7\n"
     ]
    },
    {
     "name": "stderr",
     "output_type": "stream",
     "text": [
      "Processing Emotions:  26%|██▌       | 609/2383 [01:16<03:33,  8.29it/s]"
     ]
    },
    {
     "name": "stdout",
     "output_type": "stream",
     "text": [
      "Scores shape: (32, 7), Expected labels: 7\n",
      "Scores shape: (32, 7), Expected labels: 7\n"
     ]
    },
    {
     "name": "stderr",
     "output_type": "stream",
     "text": [
      "Processing Emotions:  26%|██▌       | 611/2383 [01:16<03:26,  8.57it/s]"
     ]
    },
    {
     "name": "stdout",
     "output_type": "stream",
     "text": [
      "Scores shape: (32, 7), Expected labels: 7\n",
      "Scores shape: (32, 7), Expected labels: 7\n"
     ]
    },
    {
     "name": "stderr",
     "output_type": "stream",
     "text": [
      "Processing Emotions:  26%|██▌       | 613/2383 [01:16<03:29,  8.47it/s]"
     ]
    },
    {
     "name": "stdout",
     "output_type": "stream",
     "text": [
      "Scores shape: (32, 7), Expected labels: 7\n",
      "Scores shape: (32, 7), Expected labels: 7\n"
     ]
    },
    {
     "name": "stderr",
     "output_type": "stream",
     "text": [
      "Processing Emotions:  26%|██▌       | 615/2383 [01:17<03:29,  8.42it/s]"
     ]
    },
    {
     "name": "stdout",
     "output_type": "stream",
     "text": [
      "Scores shape: (32, 7), Expected labels: 7\n",
      "Scores shape: (32, 7), Expected labels: 7\n"
     ]
    },
    {
     "name": "stderr",
     "output_type": "stream",
     "text": [
      "Processing Emotions:  26%|██▌       | 617/2383 [01:17<03:28,  8.45it/s]"
     ]
    },
    {
     "name": "stdout",
     "output_type": "stream",
     "text": [
      "Scores shape: (32, 7), Expected labels: 7\n",
      "Scores shape: (32, 7), Expected labels: 7\n"
     ]
    },
    {
     "name": "stderr",
     "output_type": "stream",
     "text": [
      "Processing Emotions:  26%|██▌       | 619/2383 [01:17<03:37,  8.11it/s]"
     ]
    },
    {
     "name": "stdout",
     "output_type": "stream",
     "text": [
      "Scores shape: (32, 7), Expected labels: 7\n",
      "Scores shape: (32, 7), Expected labels: 7\n"
     ]
    },
    {
     "name": "stderr",
     "output_type": "stream",
     "text": [
      "Processing Emotions:  26%|██▌       | 621/2383 [01:17<03:43,  7.90it/s]"
     ]
    },
    {
     "name": "stdout",
     "output_type": "stream",
     "text": [
      "Scores shape: (32, 7), Expected labels: 7\n",
      "Scores shape: (32, 7), Expected labels: 7\n"
     ]
    },
    {
     "name": "stderr",
     "output_type": "stream",
     "text": [
      "Processing Emotions:  26%|██▌       | 623/2383 [01:18<03:48,  7.72it/s]"
     ]
    },
    {
     "name": "stdout",
     "output_type": "stream",
     "text": [
      "Scores shape: (32, 7), Expected labels: 7\n",
      "Scores shape: (32, 7), Expected labels: 7\n"
     ]
    },
    {
     "name": "stderr",
     "output_type": "stream",
     "text": [
      "Processing Emotions:  26%|██▌       | 625/2383 [01:18<03:44,  7.84it/s]"
     ]
    },
    {
     "name": "stdout",
     "output_type": "stream",
     "text": [
      "Scores shape: (32, 7), Expected labels: 7\n",
      "Scores shape: (32, 7), Expected labels: 7\n"
     ]
    },
    {
     "name": "stderr",
     "output_type": "stream",
     "text": [
      "Processing Emotions:  26%|██▋       | 627/2383 [01:18<03:49,  7.66it/s]"
     ]
    },
    {
     "name": "stdout",
     "output_type": "stream",
     "text": [
      "Scores shape: (32, 7), Expected labels: 7\n",
      "Scores shape: (32, 7), Expected labels: 7\n"
     ]
    },
    {
     "name": "stderr",
     "output_type": "stream",
     "text": [
      "Processing Emotions:  26%|██▋       | 629/2383 [01:18<03:49,  7.65it/s]"
     ]
    },
    {
     "name": "stdout",
     "output_type": "stream",
     "text": [
      "Scores shape: (32, 7), Expected labels: 7\n",
      "Scores shape: (32, 7), Expected labels: 7\n"
     ]
    },
    {
     "name": "stderr",
     "output_type": "stream",
     "text": [
      "Processing Emotions:  26%|██▋       | 631/2383 [01:19<03:44,  7.79it/s]"
     ]
    },
    {
     "name": "stdout",
     "output_type": "stream",
     "text": [
      "Scores shape: (32, 7), Expected labels: 7\n",
      "Scores shape: (32, 7), Expected labels: 7\n"
     ]
    },
    {
     "name": "stderr",
     "output_type": "stream",
     "text": [
      "Processing Emotions:  27%|██▋       | 633/2383 [01:19<03:49,  7.61it/s]"
     ]
    },
    {
     "name": "stdout",
     "output_type": "stream",
     "text": [
      "Scores shape: (32, 7), Expected labels: 7\n",
      "Scores shape: (32, 7), Expected labels: 7\n"
     ]
    },
    {
     "name": "stderr",
     "output_type": "stream",
     "text": [
      "Processing Emotions:  27%|██▋       | 635/2383 [01:19<03:52,  7.53it/s]"
     ]
    },
    {
     "name": "stdout",
     "output_type": "stream",
     "text": [
      "Scores shape: (32, 7), Expected labels: 7\n",
      "Scores shape: (32, 7), Expected labels: 7\n"
     ]
    },
    {
     "name": "stderr",
     "output_type": "stream",
     "text": [
      "Processing Emotions:  27%|██▋       | 637/2383 [01:19<03:53,  7.48it/s]"
     ]
    },
    {
     "name": "stdout",
     "output_type": "stream",
     "text": [
      "Scores shape: (32, 7), Expected labels: 7\n",
      "Scores shape: (32, 7), Expected labels: 7\n"
     ]
    },
    {
     "name": "stderr",
     "output_type": "stream",
     "text": [
      "Processing Emotions:  27%|██▋       | 639/2383 [01:20<03:55,  7.40it/s]"
     ]
    },
    {
     "name": "stdout",
     "output_type": "stream",
     "text": [
      "Scores shape: (32, 7), Expected labels: 7\n",
      "Scores shape: (32, 7), Expected labels: 7\n"
     ]
    },
    {
     "name": "stderr",
     "output_type": "stream",
     "text": [
      "Processing Emotions:  27%|██▋       | 641/2383 [01:20<03:56,  7.35it/s]"
     ]
    },
    {
     "name": "stdout",
     "output_type": "stream",
     "text": [
      "Scores shape: (32, 7), Expected labels: 7\n",
      "Scores shape: (32, 7), Expected labels: 7\n"
     ]
    },
    {
     "name": "stderr",
     "output_type": "stream",
     "text": [
      "Processing Emotions:  27%|██▋       | 643/2383 [01:20<03:51,  7.52it/s]"
     ]
    },
    {
     "name": "stdout",
     "output_type": "stream",
     "text": [
      "Scores shape: (32, 7), Expected labels: 7\n",
      "Scores shape: (32, 7), Expected labels: 7\n"
     ]
    },
    {
     "name": "stderr",
     "output_type": "stream",
     "text": [
      "Processing Emotions:  27%|██▋       | 645/2383 [01:20<03:37,  7.99it/s]"
     ]
    },
    {
     "name": "stdout",
     "output_type": "stream",
     "text": [
      "Scores shape: (32, 7), Expected labels: 7\n",
      "Scores shape: (32, 7), Expected labels: 7\n"
     ]
    },
    {
     "name": "stderr",
     "output_type": "stream",
     "text": [
      "Processing Emotions:  27%|██▋       | 647/2383 [01:21<03:28,  8.31it/s]"
     ]
    },
    {
     "name": "stdout",
     "output_type": "stream",
     "text": [
      "Scores shape: (32, 7), Expected labels: 7\n",
      "Scores shape: (32, 7), Expected labels: 7\n"
     ]
    },
    {
     "name": "stderr",
     "output_type": "stream",
     "text": [
      "Processing Emotions:  27%|██▋       | 649/2383 [01:21<03:26,  8.39it/s]"
     ]
    },
    {
     "name": "stdout",
     "output_type": "stream",
     "text": [
      "Scores shape: (32, 7), Expected labels: 7\n",
      "Scores shape: (32, 7), Expected labels: 7\n"
     ]
    },
    {
     "name": "stderr",
     "output_type": "stream",
     "text": [
      "Processing Emotions:  27%|██▋       | 651/2383 [01:21<03:28,  8.30it/s]"
     ]
    },
    {
     "name": "stdout",
     "output_type": "stream",
     "text": [
      "Scores shape: (32, 7), Expected labels: 7\n",
      "Scores shape: (32, 7), Expected labels: 7\n"
     ]
    },
    {
     "name": "stderr",
     "output_type": "stream",
     "text": [
      "Processing Emotions:  27%|██▋       | 653/2383 [01:21<03:29,  8.25it/s]"
     ]
    },
    {
     "name": "stdout",
     "output_type": "stream",
     "text": [
      "Scores shape: (32, 7), Expected labels: 7\n",
      "Scores shape: (32, 7), Expected labels: 7\n"
     ]
    },
    {
     "name": "stderr",
     "output_type": "stream",
     "text": [
      "Processing Emotions:  27%|██▋       | 655/2383 [01:22<03:27,  8.32it/s]"
     ]
    },
    {
     "name": "stdout",
     "output_type": "stream",
     "text": [
      "Scores shape: (32, 7), Expected labels: 7\n",
      "Scores shape: (32, 7), Expected labels: 7\n"
     ]
    },
    {
     "name": "stderr",
     "output_type": "stream",
     "text": [
      "Processing Emotions:  28%|██▊       | 657/2383 [01:22<03:27,  8.32it/s]"
     ]
    },
    {
     "name": "stdout",
     "output_type": "stream",
     "text": [
      "Scores shape: (32, 7), Expected labels: 7\n",
      "Scores shape: (32, 7), Expected labels: 7\n"
     ]
    },
    {
     "name": "stderr",
     "output_type": "stream",
     "text": [
      "Processing Emotions:  28%|██▊       | 659/2383 [01:22<03:24,  8.41it/s]"
     ]
    },
    {
     "name": "stdout",
     "output_type": "stream",
     "text": [
      "Scores shape: (32, 7), Expected labels: 7\n",
      "Scores shape: (32, 7), Expected labels: 7\n"
     ]
    },
    {
     "name": "stderr",
     "output_type": "stream",
     "text": [
      "Processing Emotions:  28%|██▊       | 661/2383 [01:22<03:23,  8.47it/s]"
     ]
    },
    {
     "name": "stdout",
     "output_type": "stream",
     "text": [
      "Scores shape: (32, 7), Expected labels: 7\n",
      "Scores shape: (32, 7), Expected labels: 7\n"
     ]
    },
    {
     "name": "stderr",
     "output_type": "stream",
     "text": [
      "Processing Emotions:  28%|██▊       | 663/2383 [01:23<03:19,  8.60it/s]"
     ]
    },
    {
     "name": "stdout",
     "output_type": "stream",
     "text": [
      "Scores shape: (32, 7), Expected labels: 7\n",
      "Scores shape: (32, 7), Expected labels: 7\n"
     ]
    },
    {
     "name": "stderr",
     "output_type": "stream",
     "text": [
      "Processing Emotions:  28%|██▊       | 665/2383 [01:23<03:24,  8.38it/s]"
     ]
    },
    {
     "name": "stdout",
     "output_type": "stream",
     "text": [
      "Scores shape: (32, 7), Expected labels: 7\n",
      "Scores shape: (32, 7), Expected labels: 7\n"
     ]
    },
    {
     "name": "stderr",
     "output_type": "stream",
     "text": [
      "Processing Emotions:  28%|██▊       | 667/2383 [01:23<03:23,  8.43it/s]"
     ]
    },
    {
     "name": "stdout",
     "output_type": "stream",
     "text": [
      "Scores shape: (32, 7), Expected labels: 7\n",
      "Scores shape: (32, 7), Expected labels: 7\n"
     ]
    },
    {
     "name": "stderr",
     "output_type": "stream",
     "text": [
      "Processing Emotions:  28%|██▊       | 669/2383 [01:23<03:19,  8.60it/s]"
     ]
    },
    {
     "name": "stdout",
     "output_type": "stream",
     "text": [
      "Scores shape: (32, 7), Expected labels: 7\n",
      "Scores shape: (32, 7), Expected labels: 7\n"
     ]
    },
    {
     "name": "stderr",
     "output_type": "stream",
     "text": [
      "Processing Emotions:  28%|██▊       | 671/2383 [01:24<03:25,  8.32it/s]"
     ]
    },
    {
     "name": "stdout",
     "output_type": "stream",
     "text": [
      "Scores shape: (32, 7), Expected labels: 7\n",
      "Scores shape: (32, 7), Expected labels: 7\n"
     ]
    },
    {
     "name": "stderr",
     "output_type": "stream",
     "text": [
      "Processing Emotions:  28%|██▊       | 673/2383 [01:24<03:22,  8.43it/s]"
     ]
    },
    {
     "name": "stdout",
     "output_type": "stream",
     "text": [
      "Scores shape: (32, 7), Expected labels: 7\n",
      "Scores shape: (32, 7), Expected labels: 7\n"
     ]
    },
    {
     "name": "stderr",
     "output_type": "stream",
     "text": [
      "Processing Emotions:  28%|██▊       | 675/2383 [01:24<03:22,  8.42it/s]"
     ]
    },
    {
     "name": "stdout",
     "output_type": "stream",
     "text": [
      "Scores shape: (32, 7), Expected labels: 7\n",
      "Scores shape: (32, 7), Expected labels: 7\n"
     ]
    },
    {
     "name": "stderr",
     "output_type": "stream",
     "text": [
      "Processing Emotions:  28%|██▊       | 677/2383 [01:24<03:22,  8.43it/s]"
     ]
    },
    {
     "name": "stdout",
     "output_type": "stream",
     "text": [
      "Scores shape: (32, 7), Expected labels: 7\n",
      "Scores shape: (32, 7), Expected labels: 7\n"
     ]
    },
    {
     "name": "stderr",
     "output_type": "stream",
     "text": [
      "Processing Emotions:  28%|██▊       | 679/2383 [01:24<03:18,  8.58it/s]"
     ]
    },
    {
     "name": "stdout",
     "output_type": "stream",
     "text": [
      "Scores shape: (32, 7), Expected labels: 7\n",
      "Scores shape: (32, 7), Expected labels: 7\n"
     ]
    },
    {
     "name": "stderr",
     "output_type": "stream",
     "text": [
      "Processing Emotions:  29%|██▊       | 681/2383 [01:25<03:16,  8.67it/s]"
     ]
    },
    {
     "name": "stdout",
     "output_type": "stream",
     "text": [
      "Scores shape: (32, 7), Expected labels: 7\n",
      "Scores shape: (32, 7), Expected labels: 7\n"
     ]
    },
    {
     "name": "stderr",
     "output_type": "stream",
     "text": [
      "Processing Emotions:  29%|██▊       | 683/2383 [01:25<03:19,  8.53it/s]"
     ]
    },
    {
     "name": "stdout",
     "output_type": "stream",
     "text": [
      "Scores shape: (32, 7), Expected labels: 7\n",
      "Scores shape: (32, 7), Expected labels: 7\n"
     ]
    },
    {
     "name": "stderr",
     "output_type": "stream",
     "text": [
      "Processing Emotions:  29%|██▊       | 685/2383 [01:25<03:18,  8.54it/s]"
     ]
    },
    {
     "name": "stdout",
     "output_type": "stream",
     "text": [
      "Scores shape: (32, 7), Expected labels: 7\n",
      "Scores shape: (32, 7), Expected labels: 7\n"
     ]
    },
    {
     "name": "stderr",
     "output_type": "stream",
     "text": [
      "Processing Emotions:  29%|██▉       | 687/2383 [01:25<03:17,  8.59it/s]"
     ]
    },
    {
     "name": "stdout",
     "output_type": "stream",
     "text": [
      "Scores shape: (32, 7), Expected labels: 7\n",
      "Scores shape: (32, 7), Expected labels: 7\n"
     ]
    },
    {
     "name": "stderr",
     "output_type": "stream",
     "text": [
      "Processing Emotions:  29%|██▉       | 689/2383 [01:26<03:18,  8.52it/s]"
     ]
    },
    {
     "name": "stdout",
     "output_type": "stream",
     "text": [
      "Scores shape: (32, 7), Expected labels: 7\n",
      "Scores shape: (32, 7), Expected labels: 7\n"
     ]
    },
    {
     "name": "stderr",
     "output_type": "stream",
     "text": [
      "Processing Emotions:  29%|██▉       | 691/2383 [01:26<03:22,  8.35it/s]"
     ]
    },
    {
     "name": "stdout",
     "output_type": "stream",
     "text": [
      "Scores shape: (32, 7), Expected labels: 7\n",
      "Scores shape: (32, 7), Expected labels: 7\n"
     ]
    },
    {
     "name": "stderr",
     "output_type": "stream",
     "text": [
      "Processing Emotions:  29%|██▉       | 693/2383 [01:26<03:21,  8.40it/s]"
     ]
    },
    {
     "name": "stdout",
     "output_type": "stream",
     "text": [
      "Scores shape: (32, 7), Expected labels: 7\n",
      "Scores shape: (32, 7), Expected labels: 7\n"
     ]
    },
    {
     "name": "stderr",
     "output_type": "stream",
     "text": [
      "Processing Emotions:  29%|██▉       | 695/2383 [01:26<03:21,  8.38it/s]"
     ]
    },
    {
     "name": "stdout",
     "output_type": "stream",
     "text": [
      "Scores shape: (32, 7), Expected labels: 7\n",
      "Scores shape: (32, 7), Expected labels: 7\n"
     ]
    },
    {
     "name": "stderr",
     "output_type": "stream",
     "text": [
      "Processing Emotions:  29%|██▉       | 697/2383 [01:27<03:18,  8.51it/s]"
     ]
    },
    {
     "name": "stdout",
     "output_type": "stream",
     "text": [
      "Scores shape: (32, 7), Expected labels: 7\n",
      "Scores shape: (32, 7), Expected labels: 7\n"
     ]
    },
    {
     "name": "stderr",
     "output_type": "stream",
     "text": [
      "Processing Emotions:  29%|██▉       | 699/2383 [01:27<03:17,  8.52it/s]"
     ]
    },
    {
     "name": "stdout",
     "output_type": "stream",
     "text": [
      "Scores shape: (32, 7), Expected labels: 7\n",
      "Scores shape: (32, 7), Expected labels: 7\n"
     ]
    },
    {
     "name": "stderr",
     "output_type": "stream",
     "text": [
      "Processing Emotions:  29%|██▉       | 701/2383 [01:27<03:19,  8.44it/s]"
     ]
    },
    {
     "name": "stdout",
     "output_type": "stream",
     "text": [
      "Scores shape: (32, 7), Expected labels: 7\n",
      "Scores shape: (32, 7), Expected labels: 7\n"
     ]
    },
    {
     "name": "stderr",
     "output_type": "stream",
     "text": [
      "Processing Emotions:  30%|██▉       | 703/2383 [01:27<03:16,  8.57it/s]"
     ]
    },
    {
     "name": "stdout",
     "output_type": "stream",
     "text": [
      "Scores shape: (32, 7), Expected labels: 7\n",
      "Scores shape: (32, 7), Expected labels: 7\n"
     ]
    },
    {
     "name": "stderr",
     "output_type": "stream",
     "text": [
      "Processing Emotions:  30%|██▉       | 705/2383 [01:28<03:15,  8.60it/s]"
     ]
    },
    {
     "name": "stdout",
     "output_type": "stream",
     "text": [
      "Scores shape: (32, 7), Expected labels: 7\n",
      "Scores shape: (32, 7), Expected labels: 7\n"
     ]
    },
    {
     "name": "stderr",
     "output_type": "stream",
     "text": [
      "Processing Emotions:  30%|██▉       | 707/2383 [01:28<03:13,  8.67it/s]"
     ]
    },
    {
     "name": "stdout",
     "output_type": "stream",
     "text": [
      "Scores shape: (32, 7), Expected labels: 7\n",
      "Scores shape: (32, 7), Expected labels: 7\n"
     ]
    },
    {
     "name": "stderr",
     "output_type": "stream",
     "text": [
      "Processing Emotions:  30%|██▉       | 709/2383 [01:28<03:14,  8.61it/s]"
     ]
    },
    {
     "name": "stdout",
     "output_type": "stream",
     "text": [
      "Scores shape: (32, 7), Expected labels: 7\n",
      "Scores shape: (32, 7), Expected labels: 7\n"
     ]
    },
    {
     "name": "stderr",
     "output_type": "stream",
     "text": [
      "Processing Emotions:  30%|██▉       | 711/2383 [01:28<03:19,  8.40it/s]"
     ]
    },
    {
     "name": "stdout",
     "output_type": "stream",
     "text": [
      "Scores shape: (32, 7), Expected labels: 7\n",
      "Scores shape: (32, 7), Expected labels: 7\n"
     ]
    },
    {
     "name": "stderr",
     "output_type": "stream",
     "text": [
      "Processing Emotions:  30%|██▉       | 713/2383 [01:28<03:17,  8.45it/s]"
     ]
    },
    {
     "name": "stdout",
     "output_type": "stream",
     "text": [
      "Scores shape: (32, 7), Expected labels: 7\n",
      "Scores shape: (32, 7), Expected labels: 7\n"
     ]
    },
    {
     "name": "stderr",
     "output_type": "stream",
     "text": [
      "Processing Emotions:  30%|███       | 715/2383 [01:29<03:17,  8.43it/s]"
     ]
    },
    {
     "name": "stdout",
     "output_type": "stream",
     "text": [
      "Scores shape: (32, 7), Expected labels: 7\n",
      "Scores shape: (32, 7), Expected labels: 7\n"
     ]
    },
    {
     "name": "stderr",
     "output_type": "stream",
     "text": [
      "Processing Emotions:  30%|███       | 717/2383 [01:29<03:17,  8.42it/s]"
     ]
    },
    {
     "name": "stdout",
     "output_type": "stream",
     "text": [
      "Scores shape: (32, 7), Expected labels: 7\n",
      "Scores shape: (32, 7), Expected labels: 7\n"
     ]
    },
    {
     "name": "stderr",
     "output_type": "stream",
     "text": [
      "Processing Emotions:  30%|███       | 719/2383 [01:29<03:16,  8.48it/s]"
     ]
    },
    {
     "name": "stdout",
     "output_type": "stream",
     "text": [
      "Scores shape: (32, 7), Expected labels: 7\n",
      "Scores shape: (32, 7), Expected labels: 7\n"
     ]
    },
    {
     "name": "stderr",
     "output_type": "stream",
     "text": [
      "Processing Emotions:  30%|███       | 721/2383 [01:29<03:17,  8.42it/s]"
     ]
    },
    {
     "name": "stdout",
     "output_type": "stream",
     "text": [
      "Scores shape: (32, 7), Expected labels: 7\n",
      "Scores shape: (32, 7), Expected labels: 7\n"
     ]
    },
    {
     "name": "stderr",
     "output_type": "stream",
     "text": [
      "Processing Emotions:  30%|███       | 723/2383 [01:30<03:12,  8.62it/s]"
     ]
    },
    {
     "name": "stdout",
     "output_type": "stream",
     "text": [
      "Scores shape: (32, 7), Expected labels: 7\n",
      "Scores shape: (32, 7), Expected labels: 7\n"
     ]
    },
    {
     "name": "stderr",
     "output_type": "stream",
     "text": [
      "Processing Emotions:  30%|███       | 725/2383 [01:30<03:13,  8.58it/s]"
     ]
    },
    {
     "name": "stdout",
     "output_type": "stream",
     "text": [
      "Scores shape: (32, 7), Expected labels: 7\n",
      "Scores shape: (32, 7), Expected labels: 7\n"
     ]
    },
    {
     "name": "stderr",
     "output_type": "stream",
     "text": [
      "Processing Emotions:  31%|███       | 727/2383 [01:30<03:19,  8.30it/s]"
     ]
    },
    {
     "name": "stdout",
     "output_type": "stream",
     "text": [
      "Scores shape: (32, 7), Expected labels: 7\n",
      "Scores shape: (32, 7), Expected labels: 7\n"
     ]
    },
    {
     "name": "stderr",
     "output_type": "stream",
     "text": [
      "Processing Emotions:  31%|███       | 729/2383 [01:30<03:21,  8.20it/s]"
     ]
    },
    {
     "name": "stdout",
     "output_type": "stream",
     "text": [
      "Scores shape: (32, 7), Expected labels: 7\n",
      "Scores shape: (32, 7), Expected labels: 7\n"
     ]
    },
    {
     "name": "stderr",
     "output_type": "stream",
     "text": [
      "Processing Emotions:  31%|███       | 731/2383 [01:31<03:21,  8.19it/s]"
     ]
    },
    {
     "name": "stdout",
     "output_type": "stream",
     "text": [
      "Scores shape: (32, 7), Expected labels: 7\n",
      "Scores shape: (32, 7), Expected labels: 7\n"
     ]
    },
    {
     "name": "stderr",
     "output_type": "stream",
     "text": [
      "Processing Emotions:  31%|███       | 733/2383 [01:31<03:27,  7.94it/s]"
     ]
    },
    {
     "name": "stdout",
     "output_type": "stream",
     "text": [
      "Scores shape: (32, 7), Expected labels: 7\n",
      "Scores shape: (32, 7), Expected labels: 7\n"
     ]
    },
    {
     "name": "stderr",
     "output_type": "stream",
     "text": [
      "Processing Emotions:  31%|███       | 735/2383 [01:31<03:27,  7.93it/s]"
     ]
    },
    {
     "name": "stdout",
     "output_type": "stream",
     "text": [
      "Scores shape: (32, 7), Expected labels: 7\n",
      "Scores shape: (32, 7), Expected labels: 7\n"
     ]
    },
    {
     "name": "stderr",
     "output_type": "stream",
     "text": [
      "Processing Emotions:  31%|███       | 737/2383 [01:31<03:35,  7.64it/s]"
     ]
    },
    {
     "name": "stdout",
     "output_type": "stream",
     "text": [
      "Scores shape: (32, 7), Expected labels: 7\n",
      "Scores shape: (32, 7), Expected labels: 7\n"
     ]
    },
    {
     "name": "stderr",
     "output_type": "stream",
     "text": [
      "Processing Emotions:  31%|███       | 739/2383 [01:32<03:41,  7.41it/s]"
     ]
    },
    {
     "name": "stdout",
     "output_type": "stream",
     "text": [
      "Scores shape: (32, 7), Expected labels: 7\n",
      "Scores shape: (32, 7), Expected labels: 7\n"
     ]
    },
    {
     "name": "stderr",
     "output_type": "stream",
     "text": [
      "Processing Emotions:  31%|███       | 741/2383 [01:32<03:30,  7.79it/s]"
     ]
    },
    {
     "name": "stdout",
     "output_type": "stream",
     "text": [
      "Scores shape: (32, 7), Expected labels: 7\n",
      "Scores shape: (32, 7), Expected labels: 7\n"
     ]
    },
    {
     "name": "stderr",
     "output_type": "stream",
     "text": [
      "Processing Emotions:  31%|███       | 743/2383 [01:32<03:33,  7.70it/s]"
     ]
    },
    {
     "name": "stdout",
     "output_type": "stream",
     "text": [
      "Scores shape: (32, 7), Expected labels: 7\n",
      "Scores shape: (32, 7), Expected labels: 7\n"
     ]
    },
    {
     "name": "stderr",
     "output_type": "stream",
     "text": [
      "Processing Emotions:  31%|███▏      | 745/2383 [01:32<03:32,  7.72it/s]"
     ]
    },
    {
     "name": "stdout",
     "output_type": "stream",
     "text": [
      "Scores shape: (32, 7), Expected labels: 7\n",
      "Scores shape: (32, 7), Expected labels: 7\n"
     ]
    },
    {
     "name": "stderr",
     "output_type": "stream",
     "text": [
      "Processing Emotions:  31%|███▏      | 747/2383 [01:33<03:33,  7.67it/s]"
     ]
    },
    {
     "name": "stdout",
     "output_type": "stream",
     "text": [
      "Scores shape: (32, 7), Expected labels: 7\n",
      "Scores shape: (32, 7), Expected labels: 7\n"
     ]
    },
    {
     "name": "stderr",
     "output_type": "stream",
     "text": [
      "Processing Emotions:  31%|███▏      | 749/2383 [01:33<03:26,  7.91it/s]"
     ]
    },
    {
     "name": "stdout",
     "output_type": "stream",
     "text": [
      "Scores shape: (32, 7), Expected labels: 7\n",
      "Scores shape: (32, 7), Expected labels: 7\n"
     ]
    },
    {
     "name": "stderr",
     "output_type": "stream",
     "text": [
      "Processing Emotions:  32%|███▏      | 751/2383 [01:33<03:28,  7.83it/s]"
     ]
    },
    {
     "name": "stdout",
     "output_type": "stream",
     "text": [
      "Scores shape: (32, 7), Expected labels: 7\n",
      "Scores shape: (32, 7), Expected labels: 7\n"
     ]
    },
    {
     "name": "stderr",
     "output_type": "stream",
     "text": [
      "Processing Emotions:  32%|███▏      | 753/2383 [01:33<03:25,  7.95it/s]"
     ]
    },
    {
     "name": "stdout",
     "output_type": "stream",
     "text": [
      "Scores shape: (32, 7), Expected labels: 7\n",
      "Scores shape: (32, 7), Expected labels: 7\n"
     ]
    },
    {
     "name": "stderr",
     "output_type": "stream",
     "text": [
      "Processing Emotions:  32%|███▏      | 755/2383 [01:34<03:18,  8.22it/s]"
     ]
    },
    {
     "name": "stdout",
     "output_type": "stream",
     "text": [
      "Scores shape: (32, 7), Expected labels: 7\n",
      "Scores shape: (32, 7), Expected labels: 7\n"
     ]
    },
    {
     "name": "stderr",
     "output_type": "stream",
     "text": [
      "Processing Emotions:  32%|███▏      | 757/2383 [01:34<03:17,  8.22it/s]"
     ]
    },
    {
     "name": "stdout",
     "output_type": "stream",
     "text": [
      "Scores shape: (32, 7), Expected labels: 7\n",
      "Scores shape: (32, 7), Expected labels: 7\n"
     ]
    },
    {
     "name": "stderr",
     "output_type": "stream",
     "text": [
      "Processing Emotions:  32%|███▏      | 759/2383 [01:34<03:13,  8.39it/s]"
     ]
    },
    {
     "name": "stdout",
     "output_type": "stream",
     "text": [
      "Scores shape: (32, 7), Expected labels: 7\n",
      "Scores shape: (32, 7), Expected labels: 7\n"
     ]
    },
    {
     "name": "stderr",
     "output_type": "stream",
     "text": [
      "Processing Emotions:  32%|███▏      | 761/2383 [01:34<03:15,  8.31it/s]"
     ]
    },
    {
     "name": "stdout",
     "output_type": "stream",
     "text": [
      "Scores shape: (32, 7), Expected labels: 7\n",
      "Scores shape: (32, 7), Expected labels: 7\n"
     ]
    },
    {
     "name": "stderr",
     "output_type": "stream",
     "text": [
      "Processing Emotions:  32%|███▏      | 763/2383 [01:35<03:12,  8.42it/s]"
     ]
    },
    {
     "name": "stdout",
     "output_type": "stream",
     "text": [
      "Scores shape: (32, 7), Expected labels: 7\n",
      "Scores shape: (32, 7), Expected labels: 7\n"
     ]
    },
    {
     "name": "stderr",
     "output_type": "stream",
     "text": [
      "Processing Emotions:  32%|███▏      | 765/2383 [01:35<03:08,  8.58it/s]"
     ]
    },
    {
     "name": "stdout",
     "output_type": "stream",
     "text": [
      "Scores shape: (32, 7), Expected labels: 7\n",
      "Scores shape: (32, 7), Expected labels: 7\n"
     ]
    },
    {
     "name": "stderr",
     "output_type": "stream",
     "text": [
      "Processing Emotions:  32%|███▏      | 767/2383 [01:35<03:12,  8.41it/s]"
     ]
    },
    {
     "name": "stdout",
     "output_type": "stream",
     "text": [
      "Scores shape: (32, 7), Expected labels: 7\n",
      "Scores shape: (32, 7), Expected labels: 7\n"
     ]
    },
    {
     "name": "stderr",
     "output_type": "stream",
     "text": [
      "Processing Emotions:  32%|███▏      | 769/2383 [01:35<03:08,  8.58it/s]"
     ]
    },
    {
     "name": "stdout",
     "output_type": "stream",
     "text": [
      "Scores shape: (32, 7), Expected labels: 7\n",
      "Scores shape: (32, 7), Expected labels: 7\n"
     ]
    },
    {
     "name": "stderr",
     "output_type": "stream",
     "text": [
      "Processing Emotions:  32%|███▏      | 771/2383 [01:36<03:07,  8.61it/s]"
     ]
    },
    {
     "name": "stdout",
     "output_type": "stream",
     "text": [
      "Scores shape: (32, 7), Expected labels: 7\n",
      "Scores shape: (32, 7), Expected labels: 7\n"
     ]
    },
    {
     "name": "stderr",
     "output_type": "stream",
     "text": [
      "Processing Emotions:  32%|███▏      | 773/2383 [01:36<03:05,  8.69it/s]"
     ]
    },
    {
     "name": "stdout",
     "output_type": "stream",
     "text": [
      "Scores shape: (32, 7), Expected labels: 7\n",
      "Scores shape: (32, 7), Expected labels: 7\n"
     ]
    },
    {
     "name": "stderr",
     "output_type": "stream",
     "text": [
      "Processing Emotions:  33%|███▎      | 775/2383 [01:36<03:06,  8.61it/s]"
     ]
    },
    {
     "name": "stdout",
     "output_type": "stream",
     "text": [
      "Scores shape: (32, 7), Expected labels: 7\n",
      "Scores shape: (32, 7), Expected labels: 7\n"
     ]
    },
    {
     "name": "stderr",
     "output_type": "stream",
     "text": [
      "Processing Emotions:  33%|███▎      | 777/2383 [01:36<03:11,  8.37it/s]"
     ]
    },
    {
     "name": "stdout",
     "output_type": "stream",
     "text": [
      "Scores shape: (32, 7), Expected labels: 7\n",
      "Scores shape: (32, 7), Expected labels: 7\n"
     ]
    },
    {
     "name": "stderr",
     "output_type": "stream",
     "text": [
      "Processing Emotions:  33%|███▎      | 779/2383 [01:37<03:11,  8.36it/s]"
     ]
    },
    {
     "name": "stdout",
     "output_type": "stream",
     "text": [
      "Scores shape: (32, 7), Expected labels: 7\n",
      "Scores shape: (32, 7), Expected labels: 7\n"
     ]
    },
    {
     "name": "stderr",
     "output_type": "stream",
     "text": [
      "Processing Emotions:  33%|███▎      | 781/2383 [01:37<03:07,  8.53it/s]"
     ]
    },
    {
     "name": "stdout",
     "output_type": "stream",
     "text": [
      "Scores shape: (32, 7), Expected labels: 7\n",
      "Scores shape: (32, 7), Expected labels: 7\n"
     ]
    },
    {
     "name": "stderr",
     "output_type": "stream",
     "text": [
      "Processing Emotions:  33%|███▎      | 783/2383 [01:37<03:05,  8.61it/s]"
     ]
    },
    {
     "name": "stdout",
     "output_type": "stream",
     "text": [
      "Scores shape: (32, 7), Expected labels: 7\n",
      "Scores shape: (32, 7), Expected labels: 7\n"
     ]
    },
    {
     "name": "stderr",
     "output_type": "stream",
     "text": [
      "Processing Emotions:  33%|███▎      | 785/2383 [01:37<03:07,  8.52it/s]"
     ]
    },
    {
     "name": "stdout",
     "output_type": "stream",
     "text": [
      "Scores shape: (32, 7), Expected labels: 7\n",
      "Scores shape: (32, 7), Expected labels: 7\n"
     ]
    },
    {
     "name": "stderr",
     "output_type": "stream",
     "text": [
      "Processing Emotions:  33%|███▎      | 787/2383 [01:37<03:05,  8.61it/s]"
     ]
    },
    {
     "name": "stdout",
     "output_type": "stream",
     "text": [
      "Scores shape: (32, 7), Expected labels: 7\n",
      "Scores shape: (32, 7), Expected labels: 7\n"
     ]
    },
    {
     "name": "stderr",
     "output_type": "stream",
     "text": [
      "Processing Emotions:  33%|███▎      | 789/2383 [01:38<03:02,  8.74it/s]"
     ]
    },
    {
     "name": "stdout",
     "output_type": "stream",
     "text": [
      "Scores shape: (32, 7), Expected labels: 7\n",
      "Scores shape: (32, 7), Expected labels: 7\n"
     ]
    },
    {
     "name": "stderr",
     "output_type": "stream",
     "text": [
      "Processing Emotions:  33%|███▎      | 791/2383 [01:38<03:03,  8.66it/s]"
     ]
    },
    {
     "name": "stdout",
     "output_type": "stream",
     "text": [
      "Scores shape: (32, 7), Expected labels: 7\n",
      "Scores shape: (32, 7), Expected labels: 7\n"
     ]
    },
    {
     "name": "stderr",
     "output_type": "stream",
     "text": [
      "Processing Emotions:  33%|███▎      | 793/2383 [01:38<03:04,  8.61it/s]"
     ]
    },
    {
     "name": "stdout",
     "output_type": "stream",
     "text": [
      "Scores shape: (32, 7), Expected labels: 7\n",
      "Scores shape: (32, 7), Expected labels: 7\n"
     ]
    },
    {
     "name": "stderr",
     "output_type": "stream",
     "text": [
      "Processing Emotions:  33%|███▎      | 795/2383 [01:38<03:05,  8.55it/s]"
     ]
    },
    {
     "name": "stdout",
     "output_type": "stream",
     "text": [
      "Scores shape: (32, 7), Expected labels: 7\n",
      "Scores shape: (32, 7), Expected labels: 7\n"
     ]
    },
    {
     "name": "stderr",
     "output_type": "stream",
     "text": [
      "Processing Emotions:  33%|███▎      | 797/2383 [01:39<03:02,  8.70it/s]"
     ]
    },
    {
     "name": "stdout",
     "output_type": "stream",
     "text": [
      "Scores shape: (32, 7), Expected labels: 7\n",
      "Scores shape: (32, 7), Expected labels: 7\n"
     ]
    },
    {
     "name": "stderr",
     "output_type": "stream",
     "text": [
      "Processing Emotions:  34%|███▎      | 799/2383 [01:39<03:05,  8.54it/s]"
     ]
    },
    {
     "name": "stdout",
     "output_type": "stream",
     "text": [
      "Scores shape: (32, 7), Expected labels: 7\n",
      "Scores shape: (32, 7), Expected labels: 7\n"
     ]
    },
    {
     "name": "stderr",
     "output_type": "stream",
     "text": [
      "Processing Emotions:  34%|███▎      | 801/2383 [01:39<03:07,  8.42it/s]"
     ]
    },
    {
     "name": "stdout",
     "output_type": "stream",
     "text": [
      "Scores shape: (32, 7), Expected labels: 7\n",
      "Scores shape: (32, 7), Expected labels: 7\n"
     ]
    },
    {
     "name": "stderr",
     "output_type": "stream",
     "text": [
      "Processing Emotions:  34%|███▎      | 803/2383 [01:39<03:11,  8.25it/s]"
     ]
    },
    {
     "name": "stdout",
     "output_type": "stream",
     "text": [
      "Scores shape: (32, 7), Expected labels: 7\n",
      "Scores shape: (32, 7), Expected labels: 7\n"
     ]
    },
    {
     "name": "stderr",
     "output_type": "stream",
     "text": [
      "Processing Emotions:  34%|███▍      | 805/2383 [01:40<03:05,  8.49it/s]"
     ]
    },
    {
     "name": "stdout",
     "output_type": "stream",
     "text": [
      "Scores shape: (32, 7), Expected labels: 7\n",
      "Scores shape: (32, 7), Expected labels: 7\n"
     ]
    },
    {
     "name": "stderr",
     "output_type": "stream",
     "text": [
      "Processing Emotions:  34%|███▍      | 807/2383 [01:40<03:01,  8.67it/s]"
     ]
    },
    {
     "name": "stdout",
     "output_type": "stream",
     "text": [
      "Scores shape: (32, 7), Expected labels: 7\n",
      "Scores shape: (32, 7), Expected labels: 7\n"
     ]
    },
    {
     "name": "stderr",
     "output_type": "stream",
     "text": [
      "Processing Emotions:  34%|███▍      | 809/2383 [01:40<03:01,  8.68it/s]"
     ]
    },
    {
     "name": "stdout",
     "output_type": "stream",
     "text": [
      "Scores shape: (32, 7), Expected labels: 7\n",
      "Scores shape: (32, 7), Expected labels: 7\n"
     ]
    },
    {
     "name": "stderr",
     "output_type": "stream",
     "text": [
      "Processing Emotions:  34%|███▍      | 811/2383 [01:40<03:00,  8.72it/s]"
     ]
    },
    {
     "name": "stdout",
     "output_type": "stream",
     "text": [
      "Scores shape: (32, 7), Expected labels: 7\n",
      "Scores shape: (32, 7), Expected labels: 7\n"
     ]
    },
    {
     "name": "stderr",
     "output_type": "stream",
     "text": [
      "Processing Emotions:  34%|███▍      | 813/2383 [01:40<03:01,  8.63it/s]"
     ]
    },
    {
     "name": "stdout",
     "output_type": "stream",
     "text": [
      "Scores shape: (32, 7), Expected labels: 7\n",
      "Scores shape: (32, 7), Expected labels: 7\n"
     ]
    },
    {
     "name": "stderr",
     "output_type": "stream",
     "text": [
      "Processing Emotions:  34%|███▍      | 815/2383 [01:41<02:59,  8.74it/s]"
     ]
    },
    {
     "name": "stdout",
     "output_type": "stream",
     "text": [
      "Scores shape: (32, 7), Expected labels: 7\n",
      "Scores shape: (32, 7), Expected labels: 7\n"
     ]
    },
    {
     "name": "stderr",
     "output_type": "stream",
     "text": [
      "Processing Emotions:  34%|███▍      | 817/2383 [01:41<02:56,  8.87it/s]"
     ]
    },
    {
     "name": "stdout",
     "output_type": "stream",
     "text": [
      "Scores shape: (32, 7), Expected labels: 7\n",
      "Scores shape: (32, 7), Expected labels: 7\n"
     ]
    },
    {
     "name": "stderr",
     "output_type": "stream",
     "text": [
      "Processing Emotions:  34%|███▍      | 819/2383 [01:41<02:58,  8.75it/s]"
     ]
    },
    {
     "name": "stdout",
     "output_type": "stream",
     "text": [
      "Scores shape: (32, 7), Expected labels: 7\n",
      "Scores shape: (32, 7), Expected labels: 7\n"
     ]
    },
    {
     "name": "stderr",
     "output_type": "stream",
     "text": [
      "Processing Emotions:  34%|███▍      | 821/2383 [01:41<02:58,  8.74it/s]"
     ]
    },
    {
     "name": "stdout",
     "output_type": "stream",
     "text": [
      "Scores shape: (32, 7), Expected labels: 7\n",
      "Scores shape: (32, 7), Expected labels: 7\n"
     ]
    },
    {
     "name": "stderr",
     "output_type": "stream",
     "text": [
      "Processing Emotions:  35%|███▍      | 823/2383 [01:42<03:01,  8.60it/s]"
     ]
    },
    {
     "name": "stdout",
     "output_type": "stream",
     "text": [
      "Scores shape: (32, 7), Expected labels: 7\n",
      "Scores shape: (32, 7), Expected labels: 7\n"
     ]
    },
    {
     "name": "stderr",
     "output_type": "stream",
     "text": [
      "Processing Emotions:  35%|███▍      | 825/2383 [01:42<03:01,  8.58it/s]"
     ]
    },
    {
     "name": "stdout",
     "output_type": "stream",
     "text": [
      "Scores shape: (32, 7), Expected labels: 7\n",
      "Scores shape: (32, 7), Expected labels: 7\n"
     ]
    },
    {
     "name": "stderr",
     "output_type": "stream",
     "text": [
      "Processing Emotions:  35%|███▍      | 827/2383 [01:42<03:03,  8.46it/s]"
     ]
    },
    {
     "name": "stdout",
     "output_type": "stream",
     "text": [
      "Scores shape: (32, 7), Expected labels: 7\n",
      "Scores shape: (32, 7), Expected labels: 7\n"
     ]
    },
    {
     "name": "stderr",
     "output_type": "stream",
     "text": [
      "Processing Emotions:  35%|███▍      | 829/2383 [01:42<03:01,  8.56it/s]"
     ]
    },
    {
     "name": "stdout",
     "output_type": "stream",
     "text": [
      "Scores shape: (32, 7), Expected labels: 7\n",
      "Scores shape: (32, 7), Expected labels: 7\n"
     ]
    },
    {
     "name": "stderr",
     "output_type": "stream",
     "text": [
      "Processing Emotions:  35%|███▍      | 831/2383 [01:43<03:00,  8.59it/s]"
     ]
    },
    {
     "name": "stdout",
     "output_type": "stream",
     "text": [
      "Scores shape: (32, 7), Expected labels: 7\n",
      "Scores shape: (32, 7), Expected labels: 7\n"
     ]
    },
    {
     "name": "stderr",
     "output_type": "stream",
     "text": [
      "Processing Emotions:  35%|███▍      | 833/2383 [01:43<02:59,  8.62it/s]"
     ]
    },
    {
     "name": "stdout",
     "output_type": "stream",
     "text": [
      "Scores shape: (32, 7), Expected labels: 7\n",
      "Scores shape: (32, 7), Expected labels: 7\n"
     ]
    },
    {
     "name": "stderr",
     "output_type": "stream",
     "text": [
      "Processing Emotions:  35%|███▌      | 835/2383 [01:43<02:58,  8.68it/s]"
     ]
    },
    {
     "name": "stdout",
     "output_type": "stream",
     "text": [
      "Scores shape: (32, 7), Expected labels: 7\n",
      "Scores shape: (32, 7), Expected labels: 7\n"
     ]
    },
    {
     "name": "stderr",
     "output_type": "stream",
     "text": [
      "Processing Emotions:  35%|███▌      | 837/2383 [01:43<02:57,  8.73it/s]"
     ]
    },
    {
     "name": "stdout",
     "output_type": "stream",
     "text": [
      "Scores shape: (32, 7), Expected labels: 7\n",
      "Scores shape: (32, 7), Expected labels: 7\n"
     ]
    },
    {
     "name": "stderr",
     "output_type": "stream",
     "text": [
      "Processing Emotions:  35%|███▌      | 839/2383 [01:43<02:58,  8.65it/s]"
     ]
    },
    {
     "name": "stdout",
     "output_type": "stream",
     "text": [
      "Scores shape: (32, 7), Expected labels: 7\n",
      "Scores shape: (32, 7), Expected labels: 7\n"
     ]
    },
    {
     "name": "stderr",
     "output_type": "stream",
     "text": [
      "Processing Emotions:  35%|███▌      | 841/2383 [01:44<03:03,  8.41it/s]"
     ]
    },
    {
     "name": "stdout",
     "output_type": "stream",
     "text": [
      "Scores shape: (32, 7), Expected labels: 7\n",
      "Scores shape: (32, 7), Expected labels: 7\n"
     ]
    },
    {
     "name": "stderr",
     "output_type": "stream",
     "text": [
      "Processing Emotions:  35%|███▌      | 843/2383 [01:44<03:10,  8.10it/s]"
     ]
    },
    {
     "name": "stdout",
     "output_type": "stream",
     "text": [
      "Scores shape: (32, 7), Expected labels: 7\n",
      "Scores shape: (32, 7), Expected labels: 7\n"
     ]
    },
    {
     "name": "stderr",
     "output_type": "stream",
     "text": [
      "Processing Emotions:  35%|███▌      | 845/2383 [01:44<03:14,  7.92it/s]"
     ]
    },
    {
     "name": "stdout",
     "output_type": "stream",
     "text": [
      "Scores shape: (32, 7), Expected labels: 7\n",
      "Scores shape: (32, 7), Expected labels: 7\n"
     ]
    },
    {
     "name": "stderr",
     "output_type": "stream",
     "text": [
      "Processing Emotions:  36%|███▌      | 847/2383 [01:45<03:27,  7.40it/s]"
     ]
    },
    {
     "name": "stdout",
     "output_type": "stream",
     "text": [
      "Scores shape: (32, 7), Expected labels: 7\n",
      "Scores shape: (32, 7), Expected labels: 7\n"
     ]
    },
    {
     "name": "stderr",
     "output_type": "stream",
     "text": [
      "Processing Emotions:  36%|███▌      | 849/2383 [01:45<03:24,  7.51it/s]"
     ]
    },
    {
     "name": "stdout",
     "output_type": "stream",
     "text": [
      "Scores shape: (32, 7), Expected labels: 7\n",
      "Scores shape: (32, 7), Expected labels: 7\n"
     ]
    },
    {
     "name": "stderr",
     "output_type": "stream",
     "text": [
      "Processing Emotions:  36%|███▌      | 851/2383 [01:45<03:17,  7.74it/s]"
     ]
    },
    {
     "name": "stdout",
     "output_type": "stream",
     "text": [
      "Scores shape: (32, 7), Expected labels: 7\n",
      "Scores shape: (32, 7), Expected labels: 7\n"
     ]
    },
    {
     "name": "stderr",
     "output_type": "stream",
     "text": [
      "Processing Emotions:  36%|███▌      | 853/2383 [01:45<03:16,  7.79it/s]"
     ]
    },
    {
     "name": "stdout",
     "output_type": "stream",
     "text": [
      "Scores shape: (32, 7), Expected labels: 7\n",
      "Scores shape: (32, 7), Expected labels: 7\n"
     ]
    },
    {
     "name": "stderr",
     "output_type": "stream",
     "text": [
      "Processing Emotions:  36%|███▌      | 855/2383 [01:46<03:10,  8.01it/s]"
     ]
    },
    {
     "name": "stdout",
     "output_type": "stream",
     "text": [
      "Scores shape: (32, 7), Expected labels: 7\n",
      "Scores shape: (32, 7), Expected labels: 7\n"
     ]
    },
    {
     "name": "stderr",
     "output_type": "stream",
     "text": [
      "Processing Emotions:  36%|███▌      | 857/2383 [01:46<03:14,  7.86it/s]"
     ]
    },
    {
     "name": "stdout",
     "output_type": "stream",
     "text": [
      "Scores shape: (32, 7), Expected labels: 7\n",
      "Scores shape: (32, 7), Expected labels: 7\n"
     ]
    },
    {
     "name": "stderr",
     "output_type": "stream",
     "text": [
      "Processing Emotions:  36%|███▌      | 859/2383 [01:46<03:14,  7.85it/s]"
     ]
    },
    {
     "name": "stdout",
     "output_type": "stream",
     "text": [
      "Scores shape: (32, 7), Expected labels: 7\n",
      "Scores shape: (32, 7), Expected labels: 7\n"
     ]
    },
    {
     "name": "stderr",
     "output_type": "stream",
     "text": [
      "Processing Emotions:  36%|███▌      | 861/2383 [01:46<03:14,  7.84it/s]"
     ]
    },
    {
     "name": "stdout",
     "output_type": "stream",
     "text": [
      "Scores shape: (32, 7), Expected labels: 7\n",
      "Scores shape: (32, 7), Expected labels: 7\n"
     ]
    },
    {
     "name": "stderr",
     "output_type": "stream",
     "text": [
      "Processing Emotions:  36%|███▌      | 863/2383 [01:47<03:16,  7.75it/s]"
     ]
    },
    {
     "name": "stdout",
     "output_type": "stream",
     "text": [
      "Scores shape: (32, 7), Expected labels: 7\n",
      "Scores shape: (32, 7), Expected labels: 7\n"
     ]
    },
    {
     "name": "stderr",
     "output_type": "stream",
     "text": [
      "Processing Emotions:  36%|███▋      | 865/2383 [01:47<03:22,  7.50it/s]"
     ]
    },
    {
     "name": "stdout",
     "output_type": "stream",
     "text": [
      "Scores shape: (32, 7), Expected labels: 7\n",
      "Scores shape: (32, 7), Expected labels: 7\n"
     ]
    },
    {
     "name": "stderr",
     "output_type": "stream",
     "text": [
      "Processing Emotions:  36%|███▋      | 867/2383 [01:47<03:12,  7.87it/s]"
     ]
    },
    {
     "name": "stdout",
     "output_type": "stream",
     "text": [
      "Scores shape: (32, 7), Expected labels: 7\n",
      "Scores shape: (32, 7), Expected labels: 7\n"
     ]
    },
    {
     "name": "stderr",
     "output_type": "stream",
     "text": [
      "Processing Emotions:  36%|███▋      | 869/2383 [01:47<03:01,  8.32it/s]"
     ]
    },
    {
     "name": "stdout",
     "output_type": "stream",
     "text": [
      "Scores shape: (32, 7), Expected labels: 7\n",
      "Scores shape: (32, 7), Expected labels: 7\n"
     ]
    },
    {
     "name": "stderr",
     "output_type": "stream",
     "text": [
      "Processing Emotions:  37%|███▋      | 871/2383 [01:48<02:58,  8.45it/s]"
     ]
    },
    {
     "name": "stdout",
     "output_type": "stream",
     "text": [
      "Scores shape: (32, 7), Expected labels: 7\n",
      "Scores shape: (32, 7), Expected labels: 7\n"
     ]
    },
    {
     "name": "stderr",
     "output_type": "stream",
     "text": [
      "Processing Emotions:  37%|███▋      | 873/2383 [01:48<02:58,  8.48it/s]"
     ]
    },
    {
     "name": "stdout",
     "output_type": "stream",
     "text": [
      "Scores shape: (32, 7), Expected labels: 7\n",
      "Scores shape: (32, 7), Expected labels: 7\n"
     ]
    },
    {
     "name": "stderr",
     "output_type": "stream",
     "text": [
      "Processing Emotions:  37%|███▋      | 875/2383 [01:48<02:54,  8.64it/s]"
     ]
    },
    {
     "name": "stdout",
     "output_type": "stream",
     "text": [
      "Scores shape: (32, 7), Expected labels: 7\n",
      "Scores shape: (32, 7), Expected labels: 7\n"
     ]
    },
    {
     "name": "stderr",
     "output_type": "stream",
     "text": [
      "Processing Emotions:  37%|███▋      | 877/2383 [01:48<02:54,  8.63it/s]"
     ]
    },
    {
     "name": "stdout",
     "output_type": "stream",
     "text": [
      "Scores shape: (32, 7), Expected labels: 7\n",
      "Scores shape: (32, 7), Expected labels: 7\n"
     ]
    },
    {
     "name": "stderr",
     "output_type": "stream",
     "text": [
      "Processing Emotions:  37%|███▋      | 879/2383 [01:48<02:52,  8.73it/s]"
     ]
    },
    {
     "name": "stdout",
     "output_type": "stream",
     "text": [
      "Scores shape: (32, 7), Expected labels: 7\n",
      "Scores shape: (32, 7), Expected labels: 7\n"
     ]
    },
    {
     "name": "stderr",
     "output_type": "stream",
     "text": [
      "Processing Emotions:  37%|███▋      | 881/2383 [01:49<02:53,  8.66it/s]"
     ]
    },
    {
     "name": "stdout",
     "output_type": "stream",
     "text": [
      "Scores shape: (32, 7), Expected labels: 7\n",
      "Scores shape: (32, 7), Expected labels: 7\n"
     ]
    },
    {
     "name": "stderr",
     "output_type": "stream",
     "text": [
      "Processing Emotions:  37%|███▋      | 883/2383 [01:49<02:56,  8.50it/s]"
     ]
    },
    {
     "name": "stdout",
     "output_type": "stream",
     "text": [
      "Scores shape: (32, 7), Expected labels: 7\n",
      "Scores shape: (32, 7), Expected labels: 7\n"
     ]
    },
    {
     "name": "stderr",
     "output_type": "stream",
     "text": [
      "Processing Emotions:  37%|███▋      | 885/2383 [01:49<02:53,  8.62it/s]"
     ]
    },
    {
     "name": "stdout",
     "output_type": "stream",
     "text": [
      "Scores shape: (32, 7), Expected labels: 7\n",
      "Scores shape: (32, 7), Expected labels: 7\n"
     ]
    },
    {
     "name": "stderr",
     "output_type": "stream",
     "text": [
      "Processing Emotions:  37%|███▋      | 887/2383 [01:49<02:53,  8.64it/s]"
     ]
    },
    {
     "name": "stdout",
     "output_type": "stream",
     "text": [
      "Scores shape: (32, 7), Expected labels: 7\n",
      "Scores shape: (32, 7), Expected labels: 7\n"
     ]
    },
    {
     "name": "stderr",
     "output_type": "stream",
     "text": [
      "Processing Emotions:  37%|███▋      | 889/2383 [01:50<02:51,  8.72it/s]"
     ]
    },
    {
     "name": "stdout",
     "output_type": "stream",
     "text": [
      "Scores shape: (32, 7), Expected labels: 7\n",
      "Scores shape: (32, 7), Expected labels: 7\n"
     ]
    },
    {
     "name": "stderr",
     "output_type": "stream",
     "text": [
      "Processing Emotions:  37%|███▋      | 891/2383 [01:50<02:53,  8.61it/s]"
     ]
    },
    {
     "name": "stdout",
     "output_type": "stream",
     "text": [
      "Scores shape: (32, 7), Expected labels: 7\n",
      "Scores shape: (32, 7), Expected labels: 7\n"
     ]
    },
    {
     "name": "stderr",
     "output_type": "stream",
     "text": [
      "Processing Emotions:  37%|███▋      | 893/2383 [01:50<02:52,  8.63it/s]"
     ]
    },
    {
     "name": "stdout",
     "output_type": "stream",
     "text": [
      "Scores shape: (32, 7), Expected labels: 7\n",
      "Scores shape: (32, 7), Expected labels: 7\n"
     ]
    },
    {
     "name": "stderr",
     "output_type": "stream",
     "text": [
      "Processing Emotions:  38%|███▊      | 895/2383 [01:50<02:52,  8.63it/s]"
     ]
    },
    {
     "name": "stdout",
     "output_type": "stream",
     "text": [
      "Scores shape: (32, 7), Expected labels: 7\n",
      "Scores shape: (32, 7), Expected labels: 7\n"
     ]
    },
    {
     "name": "stderr",
     "output_type": "stream",
     "text": [
      "Processing Emotions:  38%|███▊      | 897/2383 [01:51<02:54,  8.50it/s]"
     ]
    },
    {
     "name": "stdout",
     "output_type": "stream",
     "text": [
      "Scores shape: (32, 7), Expected labels: 7\n",
      "Scores shape: (32, 7), Expected labels: 7\n"
     ]
    },
    {
     "name": "stderr",
     "output_type": "stream",
     "text": [
      "Processing Emotions:  38%|███▊      | 899/2383 [01:51<02:52,  8.59it/s]"
     ]
    },
    {
     "name": "stdout",
     "output_type": "stream",
     "text": [
      "Scores shape: (32, 7), Expected labels: 7\n",
      "Scores shape: (32, 7), Expected labels: 7\n"
     ]
    },
    {
     "name": "stderr",
     "output_type": "stream",
     "text": [
      "Processing Emotions:  38%|███▊      | 901/2383 [01:51<02:50,  8.70it/s]"
     ]
    },
    {
     "name": "stdout",
     "output_type": "stream",
     "text": [
      "Scores shape: (32, 7), Expected labels: 7\n",
      "Scores shape: (32, 7), Expected labels: 7\n"
     ]
    },
    {
     "name": "stderr",
     "output_type": "stream",
     "text": [
      "Processing Emotions:  38%|███▊      | 903/2383 [01:51<02:46,  8.88it/s]"
     ]
    },
    {
     "name": "stdout",
     "output_type": "stream",
     "text": [
      "Scores shape: (32, 7), Expected labels: 7\n",
      "Scores shape: (32, 7), Expected labels: 7\n"
     ]
    },
    {
     "name": "stderr",
     "output_type": "stream",
     "text": [
      "Processing Emotions:  38%|███▊      | 905/2383 [01:51<02:50,  8.69it/s]"
     ]
    },
    {
     "name": "stdout",
     "output_type": "stream",
     "text": [
      "Scores shape: (32, 7), Expected labels: 7\n",
      "Scores shape: (32, 7), Expected labels: 7\n"
     ]
    },
    {
     "name": "stderr",
     "output_type": "stream",
     "text": [
      "Processing Emotions:  38%|███▊      | 907/2383 [01:52<02:50,  8.64it/s]"
     ]
    },
    {
     "name": "stdout",
     "output_type": "stream",
     "text": [
      "Scores shape: (32, 7), Expected labels: 7\n",
      "Scores shape: (32, 7), Expected labels: 7\n"
     ]
    },
    {
     "name": "stderr",
     "output_type": "stream",
     "text": [
      "Processing Emotions:  38%|███▊      | 909/2383 [01:52<02:52,  8.56it/s]"
     ]
    },
    {
     "name": "stdout",
     "output_type": "stream",
     "text": [
      "Scores shape: (32, 7), Expected labels: 7\n",
      "Scores shape: (32, 7), Expected labels: 7\n"
     ]
    },
    {
     "name": "stderr",
     "output_type": "stream",
     "text": [
      "Processing Emotions:  38%|███▊      | 911/2383 [01:52<02:52,  8.55it/s]"
     ]
    },
    {
     "name": "stdout",
     "output_type": "stream",
     "text": [
      "Scores shape: (32, 7), Expected labels: 7\n",
      "Scores shape: (32, 7), Expected labels: 7\n"
     ]
    },
    {
     "name": "stderr",
     "output_type": "stream",
     "text": [
      "Processing Emotions:  38%|███▊      | 913/2383 [01:52<02:48,  8.71it/s]"
     ]
    },
    {
     "name": "stdout",
     "output_type": "stream",
     "text": [
      "Scores shape: (32, 7), Expected labels: 7\n",
      "Scores shape: (32, 7), Expected labels: 7\n"
     ]
    },
    {
     "name": "stderr",
     "output_type": "stream",
     "text": [
      "Processing Emotions:  38%|███▊      | 915/2383 [01:53<02:51,  8.55it/s]"
     ]
    },
    {
     "name": "stdout",
     "output_type": "stream",
     "text": [
      "Scores shape: (32, 7), Expected labels: 7\n",
      "Scores shape: (32, 7), Expected labels: 7\n"
     ]
    },
    {
     "name": "stderr",
     "output_type": "stream",
     "text": [
      "Processing Emotions:  38%|███▊      | 917/2383 [01:53<02:53,  8.43it/s]"
     ]
    },
    {
     "name": "stdout",
     "output_type": "stream",
     "text": [
      "Scores shape: (32, 7), Expected labels: 7\n",
      "Scores shape: (32, 7), Expected labels: 7\n"
     ]
    },
    {
     "name": "stderr",
     "output_type": "stream",
     "text": [
      "Processing Emotions:  39%|███▊      | 919/2383 [01:53<02:53,  8.45it/s]"
     ]
    },
    {
     "name": "stdout",
     "output_type": "stream",
     "text": [
      "Scores shape: (32, 7), Expected labels: 7\n",
      "Scores shape: (32, 7), Expected labels: 7\n"
     ]
    },
    {
     "name": "stderr",
     "output_type": "stream",
     "text": [
      "Processing Emotions:  39%|███▊      | 921/2383 [01:53<02:48,  8.66it/s]"
     ]
    },
    {
     "name": "stdout",
     "output_type": "stream",
     "text": [
      "Scores shape: (32, 7), Expected labels: 7\n",
      "Scores shape: (32, 7), Expected labels: 7\n"
     ]
    },
    {
     "name": "stderr",
     "output_type": "stream",
     "text": [
      "Processing Emotions:  39%|███▊      | 923/2383 [01:54<02:49,  8.63it/s]"
     ]
    },
    {
     "name": "stdout",
     "output_type": "stream",
     "text": [
      "Scores shape: (32, 7), Expected labels: 7\n",
      "Scores shape: (32, 7), Expected labels: 7\n"
     ]
    },
    {
     "name": "stderr",
     "output_type": "stream",
     "text": [
      "Processing Emotions:  39%|███▉      | 925/2383 [01:54<02:46,  8.75it/s]"
     ]
    },
    {
     "name": "stdout",
     "output_type": "stream",
     "text": [
      "Scores shape: (32, 7), Expected labels: 7\n",
      "Scores shape: (32, 7), Expected labels: 7\n"
     ]
    },
    {
     "name": "stderr",
     "output_type": "stream",
     "text": [
      "Processing Emotions:  39%|███▉      | 927/2383 [01:54<02:52,  8.44it/s]"
     ]
    },
    {
     "name": "stdout",
     "output_type": "stream",
     "text": [
      "Scores shape: (32, 7), Expected labels: 7\n",
      "Scores shape: (32, 7), Expected labels: 7\n"
     ]
    },
    {
     "name": "stderr",
     "output_type": "stream",
     "text": [
      "Processing Emotions:  39%|███▉      | 929/2383 [01:54<02:51,  8.46it/s]"
     ]
    },
    {
     "name": "stdout",
     "output_type": "stream",
     "text": [
      "Scores shape: (32, 7), Expected labels: 7\n",
      "Scores shape: (32, 7), Expected labels: 7\n"
     ]
    },
    {
     "name": "stderr",
     "output_type": "stream",
     "text": [
      "Processing Emotions:  39%|███▉      | 931/2383 [01:55<02:49,  8.59it/s]"
     ]
    },
    {
     "name": "stdout",
     "output_type": "stream",
     "text": [
      "Scores shape: (32, 7), Expected labels: 7\n",
      "Scores shape: (32, 7), Expected labels: 7\n"
     ]
    },
    {
     "name": "stderr",
     "output_type": "stream",
     "text": [
      "Processing Emotions:  39%|███▉      | 933/2383 [01:55<02:50,  8.53it/s]"
     ]
    },
    {
     "name": "stdout",
     "output_type": "stream",
     "text": [
      "Scores shape: (32, 7), Expected labels: 7\n",
      "Scores shape: (32, 7), Expected labels: 7\n"
     ]
    },
    {
     "name": "stderr",
     "output_type": "stream",
     "text": [
      "Processing Emotions:  39%|███▉      | 935/2383 [01:55<02:48,  8.59it/s]"
     ]
    },
    {
     "name": "stdout",
     "output_type": "stream",
     "text": [
      "Scores shape: (32, 7), Expected labels: 7\n",
      "Scores shape: (32, 7), Expected labels: 7\n"
     ]
    },
    {
     "name": "stderr",
     "output_type": "stream",
     "text": [
      "Processing Emotions:  39%|███▉      | 937/2383 [01:55<02:47,  8.64it/s]"
     ]
    },
    {
     "name": "stdout",
     "output_type": "stream",
     "text": [
      "Scores shape: (32, 7), Expected labels: 7\n",
      "Scores shape: (32, 7), Expected labels: 7\n"
     ]
    },
    {
     "name": "stderr",
     "output_type": "stream",
     "text": [
      "Processing Emotions:  39%|███▉      | 939/2383 [01:55<02:51,  8.42it/s]"
     ]
    },
    {
     "name": "stdout",
     "output_type": "stream",
     "text": [
      "Scores shape: (32, 7), Expected labels: 7\n",
      "Scores shape: (32, 7), Expected labels: 7\n"
     ]
    },
    {
     "name": "stderr",
     "output_type": "stream",
     "text": [
      "Processing Emotions:  39%|███▉      | 941/2383 [01:56<02:47,  8.63it/s]"
     ]
    },
    {
     "name": "stdout",
     "output_type": "stream",
     "text": [
      "Scores shape: (32, 7), Expected labels: 7\n",
      "Scores shape: (32, 7), Expected labels: 7\n"
     ]
    },
    {
     "name": "stderr",
     "output_type": "stream",
     "text": [
      "Processing Emotions:  40%|███▉      | 943/2383 [01:56<02:49,  8.49it/s]"
     ]
    },
    {
     "name": "stdout",
     "output_type": "stream",
     "text": [
      "Scores shape: (32, 7), Expected labels: 7\n",
      "Scores shape: (32, 7), Expected labels: 7\n"
     ]
    },
    {
     "name": "stderr",
     "output_type": "stream",
     "text": [
      "Processing Emotions:  40%|███▉      | 945/2383 [01:56<02:48,  8.56it/s]"
     ]
    },
    {
     "name": "stdout",
     "output_type": "stream",
     "text": [
      "Scores shape: (32, 7), Expected labels: 7\n",
      "Scores shape: (32, 7), Expected labels: 7\n"
     ]
    },
    {
     "name": "stderr",
     "output_type": "stream",
     "text": [
      "Processing Emotions:  40%|███▉      | 947/2383 [01:56<02:46,  8.61it/s]"
     ]
    },
    {
     "name": "stdout",
     "output_type": "stream",
     "text": [
      "Scores shape: (32, 7), Expected labels: 7\n",
      "Scores shape: (32, 7), Expected labels: 7\n"
     ]
    },
    {
     "name": "stderr",
     "output_type": "stream",
     "text": [
      "Processing Emotions:  40%|███▉      | 949/2383 [01:57<02:50,  8.41it/s]"
     ]
    },
    {
     "name": "stdout",
     "output_type": "stream",
     "text": [
      "Scores shape: (32, 7), Expected labels: 7\n",
      "Scores shape: (32, 7), Expected labels: 7\n"
     ]
    },
    {
     "name": "stderr",
     "output_type": "stream",
     "text": [
      "Processing Emotions:  40%|███▉      | 951/2383 [01:57<02:46,  8.59it/s]"
     ]
    },
    {
     "name": "stdout",
     "output_type": "stream",
     "text": [
      "Scores shape: (32, 7), Expected labels: 7\n",
      "Scores shape: (32, 7), Expected labels: 7\n"
     ]
    },
    {
     "name": "stderr",
     "output_type": "stream",
     "text": [
      "Processing Emotions:  40%|███▉      | 953/2383 [01:57<03:02,  7.83it/s]"
     ]
    },
    {
     "name": "stdout",
     "output_type": "stream",
     "text": [
      "Scores shape: (32, 7), Expected labels: 7\n",
      "Scores shape: (32, 7), Expected labels: 7\n"
     ]
    },
    {
     "name": "stderr",
     "output_type": "stream",
     "text": [
      "Processing Emotions:  40%|████      | 955/2383 [01:57<03:10,  7.50it/s]"
     ]
    },
    {
     "name": "stdout",
     "output_type": "stream",
     "text": [
      "Scores shape: (32, 7), Expected labels: 7\n",
      "Scores shape: (32, 7), Expected labels: 7\n"
     ]
    },
    {
     "name": "stderr",
     "output_type": "stream",
     "text": [
      "Processing Emotions:  40%|████      | 957/2383 [01:58<03:09,  7.52it/s]"
     ]
    },
    {
     "name": "stdout",
     "output_type": "stream",
     "text": [
      "Scores shape: (32, 7), Expected labels: 7\n",
      "Scores shape: (32, 7), Expected labels: 7\n"
     ]
    },
    {
     "name": "stderr",
     "output_type": "stream",
     "text": [
      "Processing Emotions:  40%|████      | 959/2383 [01:58<03:04,  7.72it/s]"
     ]
    },
    {
     "name": "stdout",
     "output_type": "stream",
     "text": [
      "Scores shape: (32, 7), Expected labels: 7\n",
      "Scores shape: (32, 7), Expected labels: 7\n"
     ]
    },
    {
     "name": "stderr",
     "output_type": "stream",
     "text": [
      "Processing Emotions:  40%|████      | 961/2383 [01:58<03:07,  7.57it/s]"
     ]
    },
    {
     "name": "stdout",
     "output_type": "stream",
     "text": [
      "Scores shape: (32, 7), Expected labels: 7\n",
      "Scores shape: (32, 7), Expected labels: 7\n"
     ]
    },
    {
     "name": "stderr",
     "output_type": "stream",
     "text": [
      "Processing Emotions:  40%|████      | 963/2383 [01:58<03:03,  7.76it/s]"
     ]
    },
    {
     "name": "stdout",
     "output_type": "stream",
     "text": [
      "Scores shape: (32, 7), Expected labels: 7\n",
      "Scores shape: (32, 7), Expected labels: 7\n"
     ]
    },
    {
     "name": "stderr",
     "output_type": "stream",
     "text": [
      "Processing Emotions:  40%|████      | 965/2383 [01:59<02:56,  8.02it/s]"
     ]
    },
    {
     "name": "stdout",
     "output_type": "stream",
     "text": [
      "Scores shape: (32, 7), Expected labels: 7\n",
      "Scores shape: (32, 7), Expected labels: 7\n"
     ]
    },
    {
     "name": "stderr",
     "output_type": "stream",
     "text": [
      "Processing Emotions:  41%|████      | 967/2383 [01:59<03:11,  7.39it/s]"
     ]
    },
    {
     "name": "stdout",
     "output_type": "stream",
     "text": [
      "Scores shape: (32, 7), Expected labels: 7\n",
      "Scores shape: (32, 7), Expected labels: 7\n"
     ]
    },
    {
     "name": "stderr",
     "output_type": "stream",
     "text": [
      "Processing Emotions:  41%|████      | 969/2383 [01:59<03:13,  7.32it/s]"
     ]
    },
    {
     "name": "stdout",
     "output_type": "stream",
     "text": [
      "Scores shape: (32, 7), Expected labels: 7\n",
      "Scores shape: (32, 7), Expected labels: 7\n"
     ]
    },
    {
     "name": "stderr",
     "output_type": "stream",
     "text": [
      "Processing Emotions:  41%|████      | 971/2383 [02:00<03:07,  7.52it/s]"
     ]
    },
    {
     "name": "stdout",
     "output_type": "stream",
     "text": [
      "Scores shape: (32, 7), Expected labels: 7\n",
      "Scores shape: (32, 7), Expected labels: 7\n"
     ]
    },
    {
     "name": "stderr",
     "output_type": "stream",
     "text": [
      "Processing Emotions:  41%|████      | 973/2383 [02:00<03:07,  7.51it/s]"
     ]
    },
    {
     "name": "stdout",
     "output_type": "stream",
     "text": [
      "Scores shape: (32, 7), Expected labels: 7\n",
      "Scores shape: (32, 7), Expected labels: 7\n"
     ]
    },
    {
     "name": "stderr",
     "output_type": "stream",
     "text": [
      "Processing Emotions:  41%|████      | 975/2383 [02:00<03:01,  7.77it/s]"
     ]
    },
    {
     "name": "stdout",
     "output_type": "stream",
     "text": [
      "Scores shape: (32, 7), Expected labels: 7\n",
      "Scores shape: (32, 7), Expected labels: 7\n"
     ]
    },
    {
     "name": "stderr",
     "output_type": "stream",
     "text": [
      "Processing Emotions:  41%|████      | 977/2383 [02:00<02:56,  7.95it/s]"
     ]
    },
    {
     "name": "stdout",
     "output_type": "stream",
     "text": [
      "Scores shape: (32, 7), Expected labels: 7\n",
      "Scores shape: (32, 7), Expected labels: 7\n"
     ]
    },
    {
     "name": "stderr",
     "output_type": "stream",
     "text": [
      "Processing Emotions:  41%|████      | 979/2383 [02:01<02:55,  8.02it/s]"
     ]
    },
    {
     "name": "stdout",
     "output_type": "stream",
     "text": [
      "Scores shape: (32, 7), Expected labels: 7\n",
      "Scores shape: (32, 7), Expected labels: 7\n"
     ]
    },
    {
     "name": "stderr",
     "output_type": "stream",
     "text": [
      "Processing Emotions:  41%|████      | 981/2383 [02:01<02:47,  8.39it/s]"
     ]
    },
    {
     "name": "stdout",
     "output_type": "stream",
     "text": [
      "Scores shape: (32, 7), Expected labels: 7\n",
      "Scores shape: (32, 7), Expected labels: 7\n"
     ]
    },
    {
     "name": "stderr",
     "output_type": "stream",
     "text": [
      "Processing Emotions:  41%|████▏     | 983/2383 [02:01<02:44,  8.52it/s]"
     ]
    },
    {
     "name": "stdout",
     "output_type": "stream",
     "text": [
      "Scores shape: (32, 7), Expected labels: 7\n",
      "Scores shape: (32, 7), Expected labels: 7\n"
     ]
    },
    {
     "name": "stderr",
     "output_type": "stream",
     "text": [
      "Processing Emotions:  41%|████▏     | 985/2383 [02:01<02:42,  8.60it/s]"
     ]
    },
    {
     "name": "stdout",
     "output_type": "stream",
     "text": [
      "Scores shape: (32, 7), Expected labels: 7\n",
      "Scores shape: (32, 7), Expected labels: 7\n"
     ]
    },
    {
     "name": "stderr",
     "output_type": "stream",
     "text": [
      "Processing Emotions:  41%|████▏     | 987/2383 [02:01<02:43,  8.54it/s]"
     ]
    },
    {
     "name": "stdout",
     "output_type": "stream",
     "text": [
      "Scores shape: (32, 7), Expected labels: 7\n",
      "Scores shape: (32, 7), Expected labels: 7\n"
     ]
    },
    {
     "name": "stderr",
     "output_type": "stream",
     "text": [
      "Processing Emotions:  42%|████▏     | 989/2383 [02:02<02:43,  8.52it/s]"
     ]
    },
    {
     "name": "stdout",
     "output_type": "stream",
     "text": [
      "Scores shape: (32, 7), Expected labels: 7\n",
      "Scores shape: (32, 7), Expected labels: 7\n"
     ]
    },
    {
     "name": "stderr",
     "output_type": "stream",
     "text": [
      "Processing Emotions:  42%|████▏     | 991/2383 [02:02<02:41,  8.64it/s]"
     ]
    },
    {
     "name": "stdout",
     "output_type": "stream",
     "text": [
      "Scores shape: (32, 7), Expected labels: 7\n",
      "Scores shape: (32, 7), Expected labels: 7\n"
     ]
    },
    {
     "name": "stderr",
     "output_type": "stream",
     "text": [
      "Processing Emotions:  42%|████▏     | 993/2383 [02:02<02:40,  8.65it/s]"
     ]
    },
    {
     "name": "stdout",
     "output_type": "stream",
     "text": [
      "Scores shape: (32, 7), Expected labels: 7\n",
      "Scores shape: (32, 7), Expected labels: 7\n"
     ]
    },
    {
     "name": "stderr",
     "output_type": "stream",
     "text": [
      "Processing Emotions:  42%|████▏     | 995/2383 [02:02<02:37,  8.82it/s]"
     ]
    },
    {
     "name": "stdout",
     "output_type": "stream",
     "text": [
      "Scores shape: (32, 7), Expected labels: 7\n",
      "Scores shape: (32, 7), Expected labels: 7\n"
     ]
    },
    {
     "name": "stderr",
     "output_type": "stream",
     "text": [
      "Processing Emotions:  42%|████▏     | 997/2383 [02:03<02:41,  8.57it/s]"
     ]
    },
    {
     "name": "stdout",
     "output_type": "stream",
     "text": [
      "Scores shape: (32, 7), Expected labels: 7\n",
      "Scores shape: (32, 7), Expected labels: 7\n"
     ]
    },
    {
     "name": "stderr",
     "output_type": "stream",
     "text": [
      "Processing Emotions:  42%|████▏     | 999/2383 [02:03<02:44,  8.43it/s]"
     ]
    },
    {
     "name": "stdout",
     "output_type": "stream",
     "text": [
      "Scores shape: (32, 7), Expected labels: 7\n",
      "Scores shape: (32, 7), Expected labels: 7\n"
     ]
    },
    {
     "name": "stderr",
     "output_type": "stream",
     "text": [
      "Processing Emotions:  42%|████▏     | 1001/2383 [02:03<02:41,  8.57it/s]"
     ]
    },
    {
     "name": "stdout",
     "output_type": "stream",
     "text": [
      "Scores shape: (32, 7), Expected labels: 7\n",
      "Scores shape: (32, 7), Expected labels: 7\n"
     ]
    },
    {
     "name": "stderr",
     "output_type": "stream",
     "text": [
      "Processing Emotions:  42%|████▏     | 1003/2383 [02:03<02:42,  8.52it/s]"
     ]
    },
    {
     "name": "stdout",
     "output_type": "stream",
     "text": [
      "Scores shape: (32, 7), Expected labels: 7\n",
      "Scores shape: (32, 7), Expected labels: 7\n"
     ]
    },
    {
     "name": "stderr",
     "output_type": "stream",
     "text": [
      "Processing Emotions:  42%|████▏     | 1005/2383 [02:04<02:42,  8.49it/s]"
     ]
    },
    {
     "name": "stdout",
     "output_type": "stream",
     "text": [
      "Scores shape: (32, 7), Expected labels: 7\n",
      "Scores shape: (32, 7), Expected labels: 7\n"
     ]
    },
    {
     "name": "stderr",
     "output_type": "stream",
     "text": [
      "Processing Emotions:  42%|████▏     | 1007/2383 [02:04<02:39,  8.64it/s]"
     ]
    },
    {
     "name": "stdout",
     "output_type": "stream",
     "text": [
      "Scores shape: (32, 7), Expected labels: 7\n",
      "Scores shape: (32, 7), Expected labels: 7\n"
     ]
    },
    {
     "name": "stderr",
     "output_type": "stream",
     "text": [
      "Processing Emotions:  42%|████▏     | 1009/2383 [02:04<02:38,  8.68it/s]"
     ]
    },
    {
     "name": "stdout",
     "output_type": "stream",
     "text": [
      "Scores shape: (32, 7), Expected labels: 7\n",
      "Scores shape: (32, 7), Expected labels: 7\n"
     ]
    },
    {
     "name": "stderr",
     "output_type": "stream",
     "text": [
      "Processing Emotions:  42%|████▏     | 1011/2383 [02:04<02:44,  8.36it/s]"
     ]
    },
    {
     "name": "stdout",
     "output_type": "stream",
     "text": [
      "Scores shape: (32, 7), Expected labels: 7\n",
      "Scores shape: (32, 7), Expected labels: 7\n"
     ]
    },
    {
     "name": "stderr",
     "output_type": "stream",
     "text": [
      "Processing Emotions:  43%|████▎     | 1013/2383 [02:04<02:41,  8.47it/s]"
     ]
    },
    {
     "name": "stdout",
     "output_type": "stream",
     "text": [
      "Scores shape: (32, 7), Expected labels: 7\n",
      "Scores shape: (32, 7), Expected labels: 7\n"
     ]
    },
    {
     "name": "stderr",
     "output_type": "stream",
     "text": [
      "Processing Emotions:  43%|████▎     | 1015/2383 [02:05<02:38,  8.65it/s]"
     ]
    },
    {
     "name": "stdout",
     "output_type": "stream",
     "text": [
      "Scores shape: (32, 7), Expected labels: 7\n",
      "Scores shape: (32, 7), Expected labels: 7\n"
     ]
    },
    {
     "name": "stderr",
     "output_type": "stream",
     "text": [
      "Processing Emotions:  43%|████▎     | 1017/2383 [02:05<02:40,  8.49it/s]"
     ]
    },
    {
     "name": "stdout",
     "output_type": "stream",
     "text": [
      "Scores shape: (32, 7), Expected labels: 7\n",
      "Scores shape: (32, 7), Expected labels: 7\n"
     ]
    },
    {
     "name": "stderr",
     "output_type": "stream",
     "text": [
      "Processing Emotions:  43%|████▎     | 1019/2383 [02:05<02:41,  8.43it/s]"
     ]
    },
    {
     "name": "stdout",
     "output_type": "stream",
     "text": [
      "Scores shape: (32, 7), Expected labels: 7\n",
      "Scores shape: (32, 7), Expected labels: 7\n"
     ]
    },
    {
     "name": "stderr",
     "output_type": "stream",
     "text": [
      "Processing Emotions:  43%|████▎     | 1021/2383 [02:05<02:39,  8.51it/s]"
     ]
    },
    {
     "name": "stdout",
     "output_type": "stream",
     "text": [
      "Scores shape: (32, 7), Expected labels: 7\n",
      "Scores shape: (32, 7), Expected labels: 7\n"
     ]
    },
    {
     "name": "stderr",
     "output_type": "stream",
     "text": [
      "Processing Emotions:  43%|████▎     | 1023/2383 [02:06<02:38,  8.57it/s]"
     ]
    },
    {
     "name": "stdout",
     "output_type": "stream",
     "text": [
      "Scores shape: (32, 7), Expected labels: 7\n",
      "Scores shape: (32, 7), Expected labels: 7\n"
     ]
    },
    {
     "name": "stderr",
     "output_type": "stream",
     "text": [
      "Processing Emotions:  43%|████▎     | 1025/2383 [02:06<02:40,  8.49it/s]"
     ]
    },
    {
     "name": "stdout",
     "output_type": "stream",
     "text": [
      "Scores shape: (32, 7), Expected labels: 7\n",
      "Scores shape: (32, 7), Expected labels: 7\n"
     ]
    },
    {
     "name": "stderr",
     "output_type": "stream",
     "text": [
      "Processing Emotions:  43%|████▎     | 1027/2383 [02:06<02:38,  8.54it/s]"
     ]
    },
    {
     "name": "stdout",
     "output_type": "stream",
     "text": [
      "Scores shape: (32, 7), Expected labels: 7\n",
      "Scores shape: (32, 7), Expected labels: 7\n"
     ]
    },
    {
     "name": "stderr",
     "output_type": "stream",
     "text": [
      "Processing Emotions:  43%|████▎     | 1029/2383 [02:06<02:36,  8.63it/s]"
     ]
    },
    {
     "name": "stdout",
     "output_type": "stream",
     "text": [
      "Scores shape: (32, 7), Expected labels: 7\n",
      "Scores shape: (32, 7), Expected labels: 7\n"
     ]
    },
    {
     "name": "stderr",
     "output_type": "stream",
     "text": [
      "Processing Emotions:  43%|████▎     | 1031/2383 [02:07<02:37,  8.58it/s]"
     ]
    },
    {
     "name": "stdout",
     "output_type": "stream",
     "text": [
      "Scores shape: (32, 7), Expected labels: 7\n",
      "Scores shape: (32, 7), Expected labels: 7\n"
     ]
    },
    {
     "name": "stderr",
     "output_type": "stream",
     "text": [
      "Processing Emotions:  43%|████▎     | 1033/2383 [02:07<02:36,  8.64it/s]"
     ]
    },
    {
     "name": "stdout",
     "output_type": "stream",
     "text": [
      "Scores shape: (32, 7), Expected labels: 7\n",
      "Scores shape: (32, 7), Expected labels: 7\n"
     ]
    },
    {
     "name": "stderr",
     "output_type": "stream",
     "text": [
      "Processing Emotions:  43%|████▎     | 1035/2383 [02:07<02:36,  8.62it/s]"
     ]
    },
    {
     "name": "stdout",
     "output_type": "stream",
     "text": [
      "Scores shape: (32, 7), Expected labels: 7\n",
      "Scores shape: (32, 7), Expected labels: 7\n"
     ]
    },
    {
     "name": "stderr",
     "output_type": "stream",
     "text": [
      "Processing Emotions:  44%|████▎     | 1037/2383 [02:07<02:35,  8.64it/s]"
     ]
    },
    {
     "name": "stdout",
     "output_type": "stream",
     "text": [
      "Scores shape: (32, 7), Expected labels: 7\n",
      "Scores shape: (32, 7), Expected labels: 7\n"
     ]
    },
    {
     "name": "stderr",
     "output_type": "stream",
     "text": [
      "Processing Emotions:  44%|████▎     | 1039/2383 [02:08<02:36,  8.61it/s]"
     ]
    },
    {
     "name": "stdout",
     "output_type": "stream",
     "text": [
      "Scores shape: (32, 7), Expected labels: 7\n",
      "Scores shape: (32, 7), Expected labels: 7\n"
     ]
    },
    {
     "name": "stderr",
     "output_type": "stream",
     "text": [
      "Processing Emotions:  44%|████▎     | 1041/2383 [02:08<02:35,  8.64it/s]"
     ]
    },
    {
     "name": "stdout",
     "output_type": "stream",
     "text": [
      "Scores shape: (32, 7), Expected labels: 7\n",
      "Scores shape: (32, 7), Expected labels: 7\n"
     ]
    },
    {
     "name": "stderr",
     "output_type": "stream",
     "text": [
      "Processing Emotions:  44%|████▍     | 1043/2383 [02:08<02:33,  8.73it/s]"
     ]
    },
    {
     "name": "stdout",
     "output_type": "stream",
     "text": [
      "Scores shape: (32, 7), Expected labels: 7\n",
      "Scores shape: (32, 7), Expected labels: 7\n"
     ]
    },
    {
     "name": "stderr",
     "output_type": "stream",
     "text": [
      "Processing Emotions:  44%|████▍     | 1045/2383 [02:08<02:33,  8.69it/s]"
     ]
    },
    {
     "name": "stdout",
     "output_type": "stream",
     "text": [
      "Scores shape: (32, 7), Expected labels: 7\n",
      "Scores shape: (32, 7), Expected labels: 7\n"
     ]
    },
    {
     "name": "stderr",
     "output_type": "stream",
     "text": [
      "Processing Emotions:  44%|████▍     | 1047/2383 [02:08<02:40,  8.33it/s]"
     ]
    },
    {
     "name": "stdout",
     "output_type": "stream",
     "text": [
      "Scores shape: (32, 7), Expected labels: 7\n",
      "Scores shape: (32, 7), Expected labels: 7\n"
     ]
    },
    {
     "name": "stderr",
     "output_type": "stream",
     "text": [
      "Processing Emotions:  44%|████▍     | 1049/2383 [02:09<02:37,  8.49it/s]"
     ]
    },
    {
     "name": "stdout",
     "output_type": "stream",
     "text": [
      "Scores shape: (32, 7), Expected labels: 7\n",
      "Scores shape: (32, 7), Expected labels: 7\n"
     ]
    },
    {
     "name": "stderr",
     "output_type": "stream",
     "text": [
      "Processing Emotions:  44%|████▍     | 1051/2383 [02:09<02:35,  8.55it/s]"
     ]
    },
    {
     "name": "stdout",
     "output_type": "stream",
     "text": [
      "Scores shape: (32, 7), Expected labels: 7\n",
      "Scores shape: (32, 7), Expected labels: 7\n"
     ]
    },
    {
     "name": "stderr",
     "output_type": "stream",
     "text": [
      "Processing Emotions:  44%|████▍     | 1053/2383 [02:09<02:35,  8.56it/s]"
     ]
    },
    {
     "name": "stdout",
     "output_type": "stream",
     "text": [
      "Scores shape: (32, 7), Expected labels: 7\n",
      "Scores shape: (32, 7), Expected labels: 7\n"
     ]
    },
    {
     "name": "stderr",
     "output_type": "stream",
     "text": [
      "Processing Emotions:  44%|████▍     | 1055/2383 [02:09<02:38,  8.40it/s]"
     ]
    },
    {
     "name": "stdout",
     "output_type": "stream",
     "text": [
      "Scores shape: (32, 7), Expected labels: 7\n",
      "Scores shape: (32, 7), Expected labels: 7\n"
     ]
    },
    {
     "name": "stderr",
     "output_type": "stream",
     "text": [
      "Processing Emotions:  44%|████▍     | 1057/2383 [02:10<02:37,  8.44it/s]"
     ]
    },
    {
     "name": "stdout",
     "output_type": "stream",
     "text": [
      "Scores shape: (32, 7), Expected labels: 7\n",
      "Scores shape: (32, 7), Expected labels: 7\n"
     ]
    },
    {
     "name": "stderr",
     "output_type": "stream",
     "text": [
      "Processing Emotions:  44%|████▍     | 1059/2383 [02:10<02:36,  8.44it/s]"
     ]
    },
    {
     "name": "stdout",
     "output_type": "stream",
     "text": [
      "Scores shape: (32, 7), Expected labels: 7\n",
      "Scores shape: (32, 7), Expected labels: 7\n"
     ]
    },
    {
     "name": "stderr",
     "output_type": "stream",
     "text": [
      "Processing Emotions:  45%|████▍     | 1061/2383 [02:10<02:37,  8.38it/s]"
     ]
    },
    {
     "name": "stdout",
     "output_type": "stream",
     "text": [
      "Scores shape: (32, 7), Expected labels: 7\n",
      "Scores shape: (32, 7), Expected labels: 7\n"
     ]
    },
    {
     "name": "stderr",
     "output_type": "stream",
     "text": [
      "Processing Emotions:  45%|████▍     | 1063/2383 [02:10<02:34,  8.53it/s]"
     ]
    },
    {
     "name": "stdout",
     "output_type": "stream",
     "text": [
      "Scores shape: (32, 7), Expected labels: 7\n",
      "Scores shape: (32, 7), Expected labels: 7\n"
     ]
    },
    {
     "name": "stderr",
     "output_type": "stream",
     "text": [
      "Processing Emotions:  45%|████▍     | 1065/2383 [02:11<02:47,  7.86it/s]"
     ]
    },
    {
     "name": "stdout",
     "output_type": "stream",
     "text": [
      "Scores shape: (32, 7), Expected labels: 7\n",
      "Scores shape: (32, 7), Expected labels: 7\n"
     ]
    },
    {
     "name": "stderr",
     "output_type": "stream",
     "text": [
      "Processing Emotions:  45%|████▍     | 1067/2383 [02:11<02:52,  7.64it/s]"
     ]
    },
    {
     "name": "stdout",
     "output_type": "stream",
     "text": [
      "Scores shape: (32, 7), Expected labels: 7\n",
      "Scores shape: (32, 7), Expected labels: 7\n"
     ]
    },
    {
     "name": "stderr",
     "output_type": "stream",
     "text": [
      "Processing Emotions:  45%|████▍     | 1069/2383 [02:11<02:57,  7.41it/s]"
     ]
    },
    {
     "name": "stdout",
     "output_type": "stream",
     "text": [
      "Scores shape: (32, 7), Expected labels: 7\n",
      "Scores shape: (32, 7), Expected labels: 7\n"
     ]
    },
    {
     "name": "stderr",
     "output_type": "stream",
     "text": [
      "Processing Emotions:  45%|████▍     | 1071/2383 [02:11<02:54,  7.53it/s]"
     ]
    },
    {
     "name": "stdout",
     "output_type": "stream",
     "text": [
      "Scores shape: (32, 7), Expected labels: 7\n",
      "Scores shape: (32, 7), Expected labels: 7\n"
     ]
    },
    {
     "name": "stderr",
     "output_type": "stream",
     "text": [
      "Processing Emotions:  45%|████▌     | 1073/2383 [02:12<02:47,  7.81it/s]"
     ]
    },
    {
     "name": "stdout",
     "output_type": "stream",
     "text": [
      "Scores shape: (32, 7), Expected labels: 7\n",
      "Scores shape: (32, 7), Expected labels: 7\n"
     ]
    },
    {
     "name": "stderr",
     "output_type": "stream",
     "text": [
      "Processing Emotions:  45%|████▌     | 1075/2383 [02:12<02:43,  8.01it/s]"
     ]
    },
    {
     "name": "stdout",
     "output_type": "stream",
     "text": [
      "Scores shape: (32, 7), Expected labels: 7\n",
      "Scores shape: (32, 7), Expected labels: 7\n"
     ]
    },
    {
     "name": "stderr",
     "output_type": "stream",
     "text": [
      "Processing Emotions:  45%|████▌     | 1077/2383 [02:12<02:51,  7.60it/s]"
     ]
    },
    {
     "name": "stdout",
     "output_type": "stream",
     "text": [
      "Scores shape: (32, 7), Expected labels: 7\n",
      "Scores shape: (32, 7), Expected labels: 7\n"
     ]
    },
    {
     "name": "stderr",
     "output_type": "stream",
     "text": [
      "Processing Emotions:  45%|████▌     | 1079/2383 [02:12<02:56,  7.38it/s]"
     ]
    },
    {
     "name": "stdout",
     "output_type": "stream",
     "text": [
      "Scores shape: (32, 7), Expected labels: 7\n",
      "Scores shape: (32, 7), Expected labels: 7\n"
     ]
    },
    {
     "name": "stderr",
     "output_type": "stream",
     "text": [
      "Processing Emotions:  45%|████▌     | 1081/2383 [02:13<02:54,  7.47it/s]"
     ]
    },
    {
     "name": "stdout",
     "output_type": "stream",
     "text": [
      "Scores shape: (32, 7), Expected labels: 7\n",
      "Scores shape: (32, 7), Expected labels: 7\n"
     ]
    },
    {
     "name": "stderr",
     "output_type": "stream",
     "text": [
      "Processing Emotions:  45%|████▌     | 1083/2383 [02:13<02:50,  7.61it/s]"
     ]
    },
    {
     "name": "stdout",
     "output_type": "stream",
     "text": [
      "Scores shape: (32, 7), Expected labels: 7\n",
      "Scores shape: (32, 7), Expected labels: 7\n"
     ]
    },
    {
     "name": "stderr",
     "output_type": "stream",
     "text": [
      "Processing Emotions:  46%|████▌     | 1085/2383 [02:13<02:49,  7.64it/s]"
     ]
    },
    {
     "name": "stdout",
     "output_type": "stream",
     "text": [
      "Scores shape: (32, 7), Expected labels: 7\n",
      "Scores shape: (32, 7), Expected labels: 7\n"
     ]
    },
    {
     "name": "stderr",
     "output_type": "stream",
     "text": [
      "Processing Emotions:  46%|████▌     | 1087/2383 [02:14<02:52,  7.53it/s]"
     ]
    },
    {
     "name": "stdout",
     "output_type": "stream",
     "text": [
      "Scores shape: (32, 7), Expected labels: 7\n",
      "Scores shape: (32, 7), Expected labels: 7\n"
     ]
    },
    {
     "name": "stderr",
     "output_type": "stream",
     "text": [
      "Processing Emotions:  46%|████▌     | 1089/2383 [02:14<02:45,  7.83it/s]"
     ]
    },
    {
     "name": "stdout",
     "output_type": "stream",
     "text": [
      "Scores shape: (32, 7), Expected labels: 7\n",
      "Scores shape: (32, 7), Expected labels: 7\n"
     ]
    },
    {
     "name": "stderr",
     "output_type": "stream",
     "text": [
      "Processing Emotions:  46%|████▌     | 1091/2383 [02:14<02:38,  8.17it/s]"
     ]
    },
    {
     "name": "stdout",
     "output_type": "stream",
     "text": [
      "Scores shape: (32, 7), Expected labels: 7\n",
      "Scores shape: (32, 7), Expected labels: 7\n"
     ]
    },
    {
     "name": "stderr",
     "output_type": "stream",
     "text": [
      "Processing Emotions:  46%|████▌     | 1093/2383 [02:14<02:35,  8.29it/s]"
     ]
    },
    {
     "name": "stdout",
     "output_type": "stream",
     "text": [
      "Scores shape: (32, 7), Expected labels: 7\n",
      "Scores shape: (32, 7), Expected labels: 7\n"
     ]
    },
    {
     "name": "stderr",
     "output_type": "stream",
     "text": [
      "Processing Emotions:  46%|████▌     | 1095/2383 [02:14<02:34,  8.32it/s]"
     ]
    },
    {
     "name": "stdout",
     "output_type": "stream",
     "text": [
      "Scores shape: (32, 7), Expected labels: 7\n",
      "Scores shape: (32, 7), Expected labels: 7\n"
     ]
    },
    {
     "name": "stderr",
     "output_type": "stream",
     "text": [
      "Processing Emotions:  46%|████▌     | 1097/2383 [02:15<02:34,  8.33it/s]"
     ]
    },
    {
     "name": "stdout",
     "output_type": "stream",
     "text": [
      "Scores shape: (32, 7), Expected labels: 7\n",
      "Scores shape: (32, 7), Expected labels: 7\n"
     ]
    },
    {
     "name": "stderr",
     "output_type": "stream",
     "text": [
      "Processing Emotions:  46%|████▌     | 1099/2383 [02:15<02:31,  8.46it/s]"
     ]
    },
    {
     "name": "stdout",
     "output_type": "stream",
     "text": [
      "Scores shape: (32, 7), Expected labels: 7\n",
      "Scores shape: (32, 7), Expected labels: 7\n"
     ]
    },
    {
     "name": "stderr",
     "output_type": "stream",
     "text": [
      "Processing Emotions:  46%|████▌     | 1101/2383 [02:15<02:30,  8.52it/s]"
     ]
    },
    {
     "name": "stdout",
     "output_type": "stream",
     "text": [
      "Scores shape: (32, 7), Expected labels: 7\n",
      "Scores shape: (32, 7), Expected labels: 7\n"
     ]
    },
    {
     "name": "stderr",
     "output_type": "stream",
     "text": [
      "Processing Emotions:  46%|████▋     | 1103/2383 [02:15<02:27,  8.66it/s]"
     ]
    },
    {
     "name": "stdout",
     "output_type": "stream",
     "text": [
      "Scores shape: (32, 7), Expected labels: 7\n",
      "Scores shape: (32, 7), Expected labels: 7\n"
     ]
    },
    {
     "name": "stderr",
     "output_type": "stream",
     "text": [
      "Processing Emotions:  46%|████▋     | 1105/2383 [02:16<02:29,  8.56it/s]"
     ]
    },
    {
     "name": "stdout",
     "output_type": "stream",
     "text": [
      "Scores shape: (32, 7), Expected labels: 7\n",
      "Scores shape: (32, 7), Expected labels: 7\n"
     ]
    },
    {
     "name": "stderr",
     "output_type": "stream",
     "text": [
      "Processing Emotions:  46%|████▋     | 1107/2383 [02:16<02:27,  8.65it/s]"
     ]
    },
    {
     "name": "stdout",
     "output_type": "stream",
     "text": [
      "Scores shape: (32, 7), Expected labels: 7\n",
      "Scores shape: (32, 7), Expected labels: 7\n"
     ]
    },
    {
     "name": "stderr",
     "output_type": "stream",
     "text": [
      "Processing Emotions:  47%|████▋     | 1109/2383 [02:16<02:28,  8.59it/s]"
     ]
    },
    {
     "name": "stdout",
     "output_type": "stream",
     "text": [
      "Scores shape: (32, 7), Expected labels: 7\n",
      "Scores shape: (32, 7), Expected labels: 7\n"
     ]
    },
    {
     "name": "stderr",
     "output_type": "stream",
     "text": [
      "Processing Emotions:  47%|████▋     | 1111/2383 [02:16<02:31,  8.38it/s]"
     ]
    },
    {
     "name": "stdout",
     "output_type": "stream",
     "text": [
      "Scores shape: (32, 7), Expected labels: 7\n",
      "Scores shape: (32, 7), Expected labels: 7\n"
     ]
    },
    {
     "name": "stderr",
     "output_type": "stream",
     "text": [
      "Processing Emotions:  47%|████▋     | 1113/2383 [02:17<02:29,  8.51it/s]"
     ]
    },
    {
     "name": "stdout",
     "output_type": "stream",
     "text": [
      "Scores shape: (32, 7), Expected labels: 7\n",
      "Scores shape: (32, 7), Expected labels: 7\n"
     ]
    },
    {
     "name": "stderr",
     "output_type": "stream",
     "text": [
      "Processing Emotions:  47%|████▋     | 1115/2383 [02:17<02:29,  8.50it/s]"
     ]
    },
    {
     "name": "stdout",
     "output_type": "stream",
     "text": [
      "Scores shape: (32, 7), Expected labels: 7\n",
      "Scores shape: (32, 7), Expected labels: 7\n"
     ]
    },
    {
     "name": "stderr",
     "output_type": "stream",
     "text": [
      "Processing Emotions:  47%|████▋     | 1117/2383 [02:17<02:28,  8.52it/s]"
     ]
    },
    {
     "name": "stdout",
     "output_type": "stream",
     "text": [
      "Scores shape: (32, 7), Expected labels: 7\n",
      "Scores shape: (32, 7), Expected labels: 7\n"
     ]
    },
    {
     "name": "stderr",
     "output_type": "stream",
     "text": [
      "Processing Emotions:  47%|████▋     | 1119/2383 [02:17<02:29,  8.46it/s]"
     ]
    },
    {
     "name": "stdout",
     "output_type": "stream",
     "text": [
      "Scores shape: (32, 7), Expected labels: 7\n",
      "Scores shape: (32, 7), Expected labels: 7\n"
     ]
    },
    {
     "name": "stderr",
     "output_type": "stream",
     "text": [
      "Processing Emotions:  47%|████▋     | 1121/2383 [02:18<02:26,  8.61it/s]"
     ]
    },
    {
     "name": "stdout",
     "output_type": "stream",
     "text": [
      "Scores shape: (32, 7), Expected labels: 7\n",
      "Scores shape: (32, 7), Expected labels: 7\n"
     ]
    },
    {
     "name": "stderr",
     "output_type": "stream",
     "text": [
      "Processing Emotions:  47%|████▋     | 1123/2383 [02:18<02:28,  8.50it/s]"
     ]
    },
    {
     "name": "stdout",
     "output_type": "stream",
     "text": [
      "Scores shape: (32, 7), Expected labels: 7\n",
      "Scores shape: (32, 7), Expected labels: 7\n"
     ]
    },
    {
     "name": "stderr",
     "output_type": "stream",
     "text": [
      "Processing Emotions:  47%|████▋     | 1125/2383 [02:18<02:26,  8.58it/s]"
     ]
    },
    {
     "name": "stdout",
     "output_type": "stream",
     "text": [
      "Scores shape: (32, 7), Expected labels: 7\n",
      "Scores shape: (32, 7), Expected labels: 7\n"
     ]
    },
    {
     "name": "stderr",
     "output_type": "stream",
     "text": [
      "Processing Emotions:  47%|████▋     | 1127/2383 [02:18<02:28,  8.46it/s]"
     ]
    },
    {
     "name": "stdout",
     "output_type": "stream",
     "text": [
      "Scores shape: (32, 7), Expected labels: 7\n",
      "Scores shape: (32, 7), Expected labels: 7\n"
     ]
    },
    {
     "name": "stderr",
     "output_type": "stream",
     "text": [
      "Processing Emotions:  47%|████▋     | 1129/2383 [02:18<02:27,  8.48it/s]"
     ]
    },
    {
     "name": "stdout",
     "output_type": "stream",
     "text": [
      "Scores shape: (32, 7), Expected labels: 7\n",
      "Scores shape: (32, 7), Expected labels: 7\n"
     ]
    },
    {
     "name": "stderr",
     "output_type": "stream",
     "text": [
      "Processing Emotions:  47%|████▋     | 1131/2383 [02:19<02:27,  8.49it/s]"
     ]
    },
    {
     "name": "stdout",
     "output_type": "stream",
     "text": [
      "Scores shape: (32, 7), Expected labels: 7\n",
      "Scores shape: (32, 7), Expected labels: 7\n"
     ]
    },
    {
     "name": "stderr",
     "output_type": "stream",
     "text": [
      "Processing Emotions:  48%|████▊     | 1133/2383 [02:19<02:29,  8.33it/s]"
     ]
    },
    {
     "name": "stdout",
     "output_type": "stream",
     "text": [
      "Scores shape: (32, 7), Expected labels: 7\n",
      "Scores shape: (32, 7), Expected labels: 7\n"
     ]
    },
    {
     "name": "stderr",
     "output_type": "stream",
     "text": [
      "Processing Emotions:  48%|████▊     | 1135/2383 [02:19<02:28,  8.39it/s]"
     ]
    },
    {
     "name": "stdout",
     "output_type": "stream",
     "text": [
      "Scores shape: (32, 7), Expected labels: 7\n",
      "Scores shape: (32, 7), Expected labels: 7\n"
     ]
    },
    {
     "name": "stderr",
     "output_type": "stream",
     "text": [
      "Processing Emotions:  48%|████▊     | 1137/2383 [02:19<02:29,  8.34it/s]"
     ]
    },
    {
     "name": "stdout",
     "output_type": "stream",
     "text": [
      "Scores shape: (32, 7), Expected labels: 7\n",
      "Scores shape: (32, 7), Expected labels: 7\n"
     ]
    },
    {
     "name": "stderr",
     "output_type": "stream",
     "text": [
      "Processing Emotions:  48%|████▊     | 1139/2383 [02:20<02:25,  8.56it/s]"
     ]
    },
    {
     "name": "stdout",
     "output_type": "stream",
     "text": [
      "Scores shape: (32, 7), Expected labels: 7\n",
      "Scores shape: (32, 7), Expected labels: 7\n"
     ]
    },
    {
     "name": "stderr",
     "output_type": "stream",
     "text": [
      "Processing Emotions:  48%|████▊     | 1141/2383 [02:20<02:28,  8.39it/s]"
     ]
    },
    {
     "name": "stdout",
     "output_type": "stream",
     "text": [
      "Scores shape: (32, 7), Expected labels: 7\n",
      "Scores shape: (32, 7), Expected labels: 7\n"
     ]
    },
    {
     "name": "stderr",
     "output_type": "stream",
     "text": [
      "Processing Emotions:  48%|████▊     | 1143/2383 [02:20<02:24,  8.60it/s]"
     ]
    },
    {
     "name": "stdout",
     "output_type": "stream",
     "text": [
      "Scores shape: (32, 7), Expected labels: 7\n",
      "Scores shape: (32, 7), Expected labels: 7\n"
     ]
    },
    {
     "name": "stderr",
     "output_type": "stream",
     "text": [
      "Processing Emotions:  48%|████▊     | 1145/2383 [02:20<02:28,  8.36it/s]"
     ]
    },
    {
     "name": "stdout",
     "output_type": "stream",
     "text": [
      "Scores shape: (32, 7), Expected labels: 7\n",
      "Scores shape: (32, 7), Expected labels: 7\n"
     ]
    },
    {
     "name": "stderr",
     "output_type": "stream",
     "text": [
      "Processing Emotions:  48%|████▊     | 1147/2383 [02:21<02:26,  8.46it/s]"
     ]
    },
    {
     "name": "stdout",
     "output_type": "stream",
     "text": [
      "Scores shape: (32, 7), Expected labels: 7\n",
      "Scores shape: (32, 7), Expected labels: 7\n"
     ]
    },
    {
     "name": "stderr",
     "output_type": "stream",
     "text": [
      "Processing Emotions:  48%|████▊     | 1149/2383 [02:21<02:25,  8.50it/s]"
     ]
    },
    {
     "name": "stdout",
     "output_type": "stream",
     "text": [
      "Scores shape: (32, 7), Expected labels: 7\n",
      "Scores shape: (32, 7), Expected labels: 7\n"
     ]
    },
    {
     "name": "stderr",
     "output_type": "stream",
     "text": [
      "Processing Emotions:  48%|████▊     | 1151/2383 [02:21<02:25,  8.45it/s]"
     ]
    },
    {
     "name": "stdout",
     "output_type": "stream",
     "text": [
      "Scores shape: (32, 7), Expected labels: 7\n",
      "Scores shape: (32, 7), Expected labels: 7\n"
     ]
    },
    {
     "name": "stderr",
     "output_type": "stream",
     "text": [
      "Processing Emotions:  48%|████▊     | 1153/2383 [02:21<02:26,  8.40it/s]"
     ]
    },
    {
     "name": "stdout",
     "output_type": "stream",
     "text": [
      "Scores shape: (32, 7), Expected labels: 7\n",
      "Scores shape: (32, 7), Expected labels: 7\n"
     ]
    },
    {
     "name": "stderr",
     "output_type": "stream",
     "text": [
      "Processing Emotions:  48%|████▊     | 1155/2383 [02:22<02:26,  8.35it/s]"
     ]
    },
    {
     "name": "stdout",
     "output_type": "stream",
     "text": [
      "Scores shape: (32, 7), Expected labels: 7\n",
      "Scores shape: (32, 7), Expected labels: 7\n"
     ]
    },
    {
     "name": "stderr",
     "output_type": "stream",
     "text": [
      "Processing Emotions:  49%|████▊     | 1157/2383 [02:22<02:25,  8.45it/s]"
     ]
    },
    {
     "name": "stdout",
     "output_type": "stream",
     "text": [
      "Scores shape: (32, 7), Expected labels: 7\n",
      "Scores shape: (32, 7), Expected labels: 7\n"
     ]
    },
    {
     "name": "stderr",
     "output_type": "stream",
     "text": [
      "Processing Emotions:  49%|████▊     | 1159/2383 [02:22<02:25,  8.43it/s]"
     ]
    },
    {
     "name": "stdout",
     "output_type": "stream",
     "text": [
      "Scores shape: (32, 7), Expected labels: 7\n",
      "Scores shape: (32, 7), Expected labels: 7\n"
     ]
    },
    {
     "name": "stderr",
     "output_type": "stream",
     "text": [
      "Processing Emotions:  49%|████▊     | 1161/2383 [02:22<02:24,  8.47it/s]"
     ]
    },
    {
     "name": "stdout",
     "output_type": "stream",
     "text": [
      "Scores shape: (32, 7), Expected labels: 7\n",
      "Scores shape: (32, 7), Expected labels: 7\n"
     ]
    },
    {
     "name": "stderr",
     "output_type": "stream",
     "text": [
      "Processing Emotions:  49%|████▉     | 1163/2383 [02:22<02:23,  8.50it/s]"
     ]
    },
    {
     "name": "stdout",
     "output_type": "stream",
     "text": [
      "Scores shape: (32, 7), Expected labels: 7\n",
      "Scores shape: (32, 7), Expected labels: 7\n"
     ]
    },
    {
     "name": "stderr",
     "output_type": "stream",
     "text": [
      "Processing Emotions:  49%|████▉     | 1165/2383 [02:23<02:25,  8.40it/s]"
     ]
    },
    {
     "name": "stdout",
     "output_type": "stream",
     "text": [
      "Scores shape: (32, 7), Expected labels: 7\n",
      "Scores shape: (32, 7), Expected labels: 7\n"
     ]
    },
    {
     "name": "stderr",
     "output_type": "stream",
     "text": [
      "Processing Emotions:  49%|████▉     | 1167/2383 [02:23<02:23,  8.50it/s]"
     ]
    },
    {
     "name": "stdout",
     "output_type": "stream",
     "text": [
      "Scores shape: (32, 7), Expected labels: 7\n",
      "Scores shape: (32, 7), Expected labels: 7\n"
     ]
    },
    {
     "name": "stderr",
     "output_type": "stream",
     "text": [
      "Processing Emotions:  49%|████▉     | 1169/2383 [02:23<02:22,  8.50it/s]"
     ]
    },
    {
     "name": "stdout",
     "output_type": "stream",
     "text": [
      "Scores shape: (32, 7), Expected labels: 7\n",
      "Scores shape: (32, 7), Expected labels: 7\n"
     ]
    },
    {
     "name": "stderr",
     "output_type": "stream",
     "text": [
      "Processing Emotions:  49%|████▉     | 1171/2383 [02:23<02:20,  8.60it/s]"
     ]
    },
    {
     "name": "stdout",
     "output_type": "stream",
     "text": [
      "Scores shape: (32, 7), Expected labels: 7\n",
      "Scores shape: (32, 7), Expected labels: 7\n"
     ]
    },
    {
     "name": "stderr",
     "output_type": "stream",
     "text": [
      "Processing Emotions:  49%|████▉     | 1173/2383 [02:24<02:22,  8.52it/s]"
     ]
    },
    {
     "name": "stdout",
     "output_type": "stream",
     "text": [
      "Scores shape: (32, 7), Expected labels: 7\n",
      "Scores shape: (32, 7), Expected labels: 7\n"
     ]
    },
    {
     "name": "stderr",
     "output_type": "stream",
     "text": [
      "Processing Emotions:  49%|████▉     | 1175/2383 [02:24<02:25,  8.29it/s]"
     ]
    },
    {
     "name": "stdout",
     "output_type": "stream",
     "text": [
      "Scores shape: (32, 7), Expected labels: 7\n",
      "Scores shape: (32, 7), Expected labels: 7\n"
     ]
    },
    {
     "name": "stderr",
     "output_type": "stream",
     "text": [
      "Processing Emotions:  49%|████▉     | 1177/2383 [02:24<02:29,  8.09it/s]"
     ]
    },
    {
     "name": "stdout",
     "output_type": "stream",
     "text": [
      "Scores shape: (32, 7), Expected labels: 7\n",
      "Scores shape: (32, 7), Expected labels: 7\n"
     ]
    },
    {
     "name": "stderr",
     "output_type": "stream",
     "text": [
      "Processing Emotions:  49%|████▉     | 1179/2383 [02:24<02:35,  7.76it/s]"
     ]
    },
    {
     "name": "stdout",
     "output_type": "stream",
     "text": [
      "Scores shape: (32, 7), Expected labels: 7\n",
      "Scores shape: (32, 7), Expected labels: 7\n"
     ]
    },
    {
     "name": "stderr",
     "output_type": "stream",
     "text": [
      "Processing Emotions:  50%|████▉     | 1181/2383 [02:25<02:49,  7.10it/s]"
     ]
    },
    {
     "name": "stdout",
     "output_type": "stream",
     "text": [
      "Scores shape: (32, 7), Expected labels: 7\n",
      "Scores shape: (32, 7), Expected labels: 7\n"
     ]
    },
    {
     "name": "stderr",
     "output_type": "stream",
     "text": [
      "Processing Emotions:  50%|████▉     | 1183/2383 [02:25<02:46,  7.20it/s]"
     ]
    },
    {
     "name": "stdout",
     "output_type": "stream",
     "text": [
      "Scores shape: (32, 7), Expected labels: 7\n",
      "Scores shape: (32, 7), Expected labels: 7\n"
     ]
    },
    {
     "name": "stderr",
     "output_type": "stream",
     "text": [
      "Processing Emotions:  50%|████▉     | 1185/2383 [02:25<02:42,  7.38it/s]"
     ]
    },
    {
     "name": "stdout",
     "output_type": "stream",
     "text": [
      "Scores shape: (32, 7), Expected labels: 7\n",
      "Scores shape: (32, 7), Expected labels: 7\n"
     ]
    },
    {
     "name": "stderr",
     "output_type": "stream",
     "text": [
      "Processing Emotions:  50%|████▉     | 1187/2383 [02:26<02:44,  7.28it/s]"
     ]
    },
    {
     "name": "stdout",
     "output_type": "stream",
     "text": [
      "Scores shape: (32, 7), Expected labels: 7\n",
      "Scores shape: (32, 7), Expected labels: 7\n"
     ]
    },
    {
     "name": "stderr",
     "output_type": "stream",
     "text": [
      "Processing Emotions:  50%|████▉     | 1189/2383 [02:26<02:36,  7.63it/s]"
     ]
    },
    {
     "name": "stdout",
     "output_type": "stream",
     "text": [
      "Scores shape: (32, 7), Expected labels: 7\n",
      "Scores shape: (32, 7), Expected labels: 7\n"
     ]
    },
    {
     "name": "stderr",
     "output_type": "stream",
     "text": [
      "Processing Emotions:  50%|████▉     | 1191/2383 [02:26<02:32,  7.82it/s]"
     ]
    },
    {
     "name": "stdout",
     "output_type": "stream",
     "text": [
      "Scores shape: (32, 7), Expected labels: 7\n",
      "Scores shape: (32, 7), Expected labels: 7\n"
     ]
    },
    {
     "name": "stderr",
     "output_type": "stream",
     "text": [
      "Processing Emotions:  50%|█████     | 1193/2383 [02:26<02:34,  7.70it/s]"
     ]
    },
    {
     "name": "stdout",
     "output_type": "stream",
     "text": [
      "Scores shape: (32, 7), Expected labels: 7\n",
      "Scores shape: (32, 7), Expected labels: 7\n"
     ]
    },
    {
     "name": "stderr",
     "output_type": "stream",
     "text": [
      "Processing Emotions:  50%|█████     | 1195/2383 [02:27<02:32,  7.81it/s]"
     ]
    },
    {
     "name": "stdout",
     "output_type": "stream",
     "text": [
      "Scores shape: (32, 7), Expected labels: 7\n",
      "Scores shape: (32, 7), Expected labels: 7\n"
     ]
    },
    {
     "name": "stderr",
     "output_type": "stream",
     "text": [
      "Processing Emotions:  50%|█████     | 1197/2383 [02:27<02:30,  7.88it/s]"
     ]
    },
    {
     "name": "stdout",
     "output_type": "stream",
     "text": [
      "Scores shape: (32, 7), Expected labels: 7\n",
      "Scores shape: (32, 7), Expected labels: 7\n"
     ]
    },
    {
     "name": "stderr",
     "output_type": "stream",
     "text": [
      "Processing Emotions:  50%|█████     | 1199/2383 [02:27<02:30,  7.87it/s]"
     ]
    },
    {
     "name": "stdout",
     "output_type": "stream",
     "text": [
      "Scores shape: (32, 7), Expected labels: 7\n",
      "Scores shape: (32, 7), Expected labels: 7\n"
     ]
    },
    {
     "name": "stderr",
     "output_type": "stream",
     "text": [
      "Processing Emotions:  50%|█████     | 1201/2383 [02:27<02:23,  8.24it/s]"
     ]
    },
    {
     "name": "stdout",
     "output_type": "stream",
     "text": [
      "Scores shape: (32, 7), Expected labels: 7\n",
      "Scores shape: (32, 7), Expected labels: 7\n"
     ]
    },
    {
     "name": "stderr",
     "output_type": "stream",
     "text": [
      "Processing Emotions:  50%|█████     | 1203/2383 [02:28<02:20,  8.37it/s]"
     ]
    },
    {
     "name": "stdout",
     "output_type": "stream",
     "text": [
      "Scores shape: (32, 7), Expected labels: 7\n",
      "Scores shape: (32, 7), Expected labels: 7\n"
     ]
    },
    {
     "name": "stderr",
     "output_type": "stream",
     "text": [
      "Processing Emotions:  51%|█████     | 1205/2383 [02:28<02:21,  8.30it/s]"
     ]
    },
    {
     "name": "stdout",
     "output_type": "stream",
     "text": [
      "Scores shape: (32, 7), Expected labels: 7\n",
      "Scores shape: (32, 7), Expected labels: 7\n"
     ]
    },
    {
     "name": "stderr",
     "output_type": "stream",
     "text": [
      "Processing Emotions:  51%|█████     | 1207/2383 [02:28<02:18,  8.48it/s]"
     ]
    },
    {
     "name": "stdout",
     "output_type": "stream",
     "text": [
      "Scores shape: (32, 7), Expected labels: 7\n",
      "Scores shape: (32, 7), Expected labels: 7\n"
     ]
    },
    {
     "name": "stderr",
     "output_type": "stream",
     "text": [
      "Processing Emotions:  51%|█████     | 1209/2383 [02:28<02:18,  8.45it/s]"
     ]
    },
    {
     "name": "stdout",
     "output_type": "stream",
     "text": [
      "Scores shape: (32, 7), Expected labels: 7\n",
      "Scores shape: (32, 7), Expected labels: 7\n"
     ]
    },
    {
     "name": "stderr",
     "output_type": "stream",
     "text": [
      "Processing Emotions:  51%|█████     | 1211/2383 [02:28<02:15,  8.65it/s]"
     ]
    },
    {
     "name": "stdout",
     "output_type": "stream",
     "text": [
      "Scores shape: (32, 7), Expected labels: 7\n",
      "Scores shape: (32, 7), Expected labels: 7\n"
     ]
    },
    {
     "name": "stderr",
     "output_type": "stream",
     "text": [
      "Processing Emotions:  51%|█████     | 1213/2383 [02:29<02:14,  8.68it/s]"
     ]
    },
    {
     "name": "stdout",
     "output_type": "stream",
     "text": [
      "Scores shape: (32, 7), Expected labels: 7\n",
      "Scores shape: (32, 7), Expected labels: 7\n"
     ]
    },
    {
     "name": "stderr",
     "output_type": "stream",
     "text": [
      "Processing Emotions:  51%|█████     | 1215/2383 [02:29<02:18,  8.43it/s]"
     ]
    },
    {
     "name": "stdout",
     "output_type": "stream",
     "text": [
      "Scores shape: (32, 7), Expected labels: 7\n",
      "Scores shape: (32, 7), Expected labels: 7\n"
     ]
    },
    {
     "name": "stderr",
     "output_type": "stream",
     "text": [
      "Processing Emotions:  51%|█████     | 1217/2383 [02:29<02:16,  8.53it/s]"
     ]
    },
    {
     "name": "stdout",
     "output_type": "stream",
     "text": [
      "Scores shape: (32, 7), Expected labels: 7\n",
      "Scores shape: (32, 7), Expected labels: 7\n"
     ]
    },
    {
     "name": "stderr",
     "output_type": "stream",
     "text": [
      "Processing Emotions:  51%|█████     | 1219/2383 [02:29<02:16,  8.53it/s]"
     ]
    },
    {
     "name": "stdout",
     "output_type": "stream",
     "text": [
      "Scores shape: (32, 7), Expected labels: 7\n",
      "Scores shape: (32, 7), Expected labels: 7\n"
     ]
    },
    {
     "name": "stderr",
     "output_type": "stream",
     "text": [
      "Processing Emotions:  51%|█████     | 1221/2383 [02:30<02:17,  8.45it/s]"
     ]
    },
    {
     "name": "stdout",
     "output_type": "stream",
     "text": [
      "Scores shape: (32, 7), Expected labels: 7\n",
      "Scores shape: (32, 7), Expected labels: 7\n"
     ]
    },
    {
     "name": "stderr",
     "output_type": "stream",
     "text": [
      "Processing Emotions:  51%|█████▏    | 1223/2383 [02:30<02:14,  8.64it/s]"
     ]
    },
    {
     "name": "stdout",
     "output_type": "stream",
     "text": [
      "Scores shape: (32, 7), Expected labels: 7\n",
      "Scores shape: (32, 7), Expected labels: 7\n"
     ]
    },
    {
     "name": "stderr",
     "output_type": "stream",
     "text": [
      "Processing Emotions:  51%|█████▏    | 1225/2383 [02:30<02:18,  8.38it/s]"
     ]
    },
    {
     "name": "stdout",
     "output_type": "stream",
     "text": [
      "Scores shape: (32, 7), Expected labels: 7\n",
      "Scores shape: (32, 7), Expected labels: 7\n"
     ]
    },
    {
     "name": "stderr",
     "output_type": "stream",
     "text": [
      "Processing Emotions:  51%|█████▏    | 1227/2383 [02:30<02:17,  8.41it/s]"
     ]
    },
    {
     "name": "stdout",
     "output_type": "stream",
     "text": [
      "Scores shape: (32, 7), Expected labels: 7\n",
      "Scores shape: (32, 7), Expected labels: 7\n"
     ]
    },
    {
     "name": "stderr",
     "output_type": "stream",
     "text": [
      "Processing Emotions:  52%|█████▏    | 1229/2383 [02:31<02:15,  8.53it/s]"
     ]
    },
    {
     "name": "stdout",
     "output_type": "stream",
     "text": [
      "Scores shape: (32, 7), Expected labels: 7\n",
      "Scores shape: (32, 7), Expected labels: 7\n"
     ]
    },
    {
     "name": "stderr",
     "output_type": "stream",
     "text": [
      "Processing Emotions:  52%|█████▏    | 1231/2383 [02:31<02:12,  8.69it/s]"
     ]
    },
    {
     "name": "stdout",
     "output_type": "stream",
     "text": [
      "Scores shape: (32, 7), Expected labels: 7\n",
      "Scores shape: (32, 7), Expected labels: 7\n"
     ]
    },
    {
     "name": "stderr",
     "output_type": "stream",
     "text": [
      "Processing Emotions:  52%|█████▏    | 1233/2383 [02:31<02:15,  8.49it/s]"
     ]
    },
    {
     "name": "stdout",
     "output_type": "stream",
     "text": [
      "Scores shape: (32, 7), Expected labels: 7\n",
      "Scores shape: (32, 7), Expected labels: 7\n"
     ]
    },
    {
     "name": "stderr",
     "output_type": "stream",
     "text": [
      "Processing Emotions:  52%|█████▏    | 1235/2383 [02:31<02:14,  8.56it/s]"
     ]
    },
    {
     "name": "stdout",
     "output_type": "stream",
     "text": [
      "Scores shape: (32, 7), Expected labels: 7\n",
      "Scores shape: (32, 7), Expected labels: 7\n"
     ]
    },
    {
     "name": "stderr",
     "output_type": "stream",
     "text": [
      "Processing Emotions:  52%|█████▏    | 1237/2383 [02:32<02:16,  8.38it/s]"
     ]
    },
    {
     "name": "stdout",
     "output_type": "stream",
     "text": [
      "Scores shape: (32, 7), Expected labels: 7\n",
      "Scores shape: (32, 7), Expected labels: 7\n"
     ]
    },
    {
     "name": "stderr",
     "output_type": "stream",
     "text": [
      "Processing Emotions:  52%|█████▏    | 1239/2383 [02:32<02:14,  8.50it/s]"
     ]
    },
    {
     "name": "stdout",
     "output_type": "stream",
     "text": [
      "Scores shape: (32, 7), Expected labels: 7\n",
      "Scores shape: (32, 7), Expected labels: 7\n"
     ]
    },
    {
     "name": "stderr",
     "output_type": "stream",
     "text": [
      "Processing Emotions:  52%|█████▏    | 1241/2383 [02:32<02:15,  8.41it/s]"
     ]
    },
    {
     "name": "stdout",
     "output_type": "stream",
     "text": [
      "Scores shape: (32, 7), Expected labels: 7\n",
      "Scores shape: (32, 7), Expected labels: 7\n"
     ]
    },
    {
     "name": "stderr",
     "output_type": "stream",
     "text": [
      "Processing Emotions:  52%|█████▏    | 1243/2383 [02:32<02:11,  8.65it/s]"
     ]
    },
    {
     "name": "stdout",
     "output_type": "stream",
     "text": [
      "Scores shape: (32, 7), Expected labels: 7\n",
      "Scores shape: (32, 7), Expected labels: 7\n"
     ]
    },
    {
     "name": "stderr",
     "output_type": "stream",
     "text": [
      "Processing Emotions:  52%|█████▏    | 1245/2383 [02:32<02:10,  8.72it/s]"
     ]
    },
    {
     "name": "stdout",
     "output_type": "stream",
     "text": [
      "Scores shape: (32, 7), Expected labels: 7\n",
      "Scores shape: (32, 7), Expected labels: 7\n"
     ]
    },
    {
     "name": "stderr",
     "output_type": "stream",
     "text": [
      "Processing Emotions:  52%|█████▏    | 1247/2383 [02:33<02:11,  8.67it/s]"
     ]
    },
    {
     "name": "stdout",
     "output_type": "stream",
     "text": [
      "Scores shape: (32, 7), Expected labels: 7\n",
      "Scores shape: (32, 7), Expected labels: 7\n"
     ]
    },
    {
     "name": "stderr",
     "output_type": "stream",
     "text": [
      "Processing Emotions:  52%|█████▏    | 1249/2383 [02:33<02:12,  8.58it/s]"
     ]
    },
    {
     "name": "stdout",
     "output_type": "stream",
     "text": [
      "Scores shape: (32, 7), Expected labels: 7\n",
      "Scores shape: (32, 7), Expected labels: 7\n"
     ]
    },
    {
     "name": "stderr",
     "output_type": "stream",
     "text": [
      "Processing Emotions:  52%|█████▏    | 1251/2383 [02:33<02:10,  8.70it/s]"
     ]
    },
    {
     "name": "stdout",
     "output_type": "stream",
     "text": [
      "Scores shape: (32, 7), Expected labels: 7\n",
      "Scores shape: (32, 7), Expected labels: 7\n"
     ]
    },
    {
     "name": "stderr",
     "output_type": "stream",
     "text": [
      "Processing Emotions:  53%|█████▎    | 1253/2383 [02:33<02:09,  8.73it/s]"
     ]
    },
    {
     "name": "stdout",
     "output_type": "stream",
     "text": [
      "Scores shape: (32, 7), Expected labels: 7\n",
      "Scores shape: (32, 7), Expected labels: 7\n"
     ]
    },
    {
     "name": "stderr",
     "output_type": "stream",
     "text": [
      "Processing Emotions:  53%|█████▎    | 1255/2383 [02:34<02:13,  8.43it/s]"
     ]
    },
    {
     "name": "stdout",
     "output_type": "stream",
     "text": [
      "Scores shape: (32, 7), Expected labels: 7\n",
      "Scores shape: (32, 7), Expected labels: 7\n"
     ]
    },
    {
     "name": "stderr",
     "output_type": "stream",
     "text": [
      "Processing Emotions:  53%|█████▎    | 1257/2383 [02:34<02:13,  8.42it/s]"
     ]
    },
    {
     "name": "stdout",
     "output_type": "stream",
     "text": [
      "Scores shape: (32, 7), Expected labels: 7\n",
      "Scores shape: (32, 7), Expected labels: 7\n"
     ]
    },
    {
     "name": "stderr",
     "output_type": "stream",
     "text": [
      "Processing Emotions:  53%|█████▎    | 1259/2383 [02:34<02:12,  8.46it/s]"
     ]
    },
    {
     "name": "stdout",
     "output_type": "stream",
     "text": [
      "Scores shape: (32, 7), Expected labels: 7\n",
      "Scores shape: (32, 7), Expected labels: 7\n"
     ]
    },
    {
     "name": "stderr",
     "output_type": "stream",
     "text": [
      "Processing Emotions:  53%|█████▎    | 1261/2383 [02:34<02:11,  8.53it/s]"
     ]
    },
    {
     "name": "stdout",
     "output_type": "stream",
     "text": [
      "Scores shape: (32, 7), Expected labels: 7\n",
      "Scores shape: (32, 7), Expected labels: 7\n"
     ]
    },
    {
     "name": "stderr",
     "output_type": "stream",
     "text": [
      "Processing Emotions:  53%|█████▎    | 1263/2383 [02:35<02:14,  8.32it/s]"
     ]
    },
    {
     "name": "stdout",
     "output_type": "stream",
     "text": [
      "Scores shape: (32, 7), Expected labels: 7\n",
      "Scores shape: (32, 7), Expected labels: 7\n"
     ]
    },
    {
     "name": "stderr",
     "output_type": "stream",
     "text": [
      "Processing Emotions:  53%|█████▎    | 1265/2383 [02:35<02:12,  8.47it/s]"
     ]
    },
    {
     "name": "stdout",
     "output_type": "stream",
     "text": [
      "Scores shape: (32, 7), Expected labels: 7\n",
      "Scores shape: (32, 7), Expected labels: 7\n"
     ]
    },
    {
     "name": "stderr",
     "output_type": "stream",
     "text": [
      "Processing Emotions:  53%|█████▎    | 1267/2383 [02:35<02:13,  8.34it/s]"
     ]
    },
    {
     "name": "stdout",
     "output_type": "stream",
     "text": [
      "Scores shape: (32, 7), Expected labels: 7\n",
      "Scores shape: (32, 7), Expected labels: 7\n"
     ]
    },
    {
     "name": "stderr",
     "output_type": "stream",
     "text": [
      "Processing Emotions:  53%|█████▎    | 1269/2383 [02:35<02:11,  8.45it/s]"
     ]
    },
    {
     "name": "stdout",
     "output_type": "stream",
     "text": [
      "Scores shape: (32, 7), Expected labels: 7\n",
      "Scores shape: (32, 7), Expected labels: 7\n"
     ]
    },
    {
     "name": "stderr",
     "output_type": "stream",
     "text": [
      "Processing Emotions:  53%|█████▎    | 1271/2383 [02:36<02:13,  8.34it/s]"
     ]
    },
    {
     "name": "stdout",
     "output_type": "stream",
     "text": [
      "Scores shape: (32, 7), Expected labels: 7\n",
      "Scores shape: (32, 7), Expected labels: 7\n"
     ]
    },
    {
     "name": "stderr",
     "output_type": "stream",
     "text": [
      "Processing Emotions:  53%|█████▎    | 1273/2383 [02:36<02:10,  8.49it/s]"
     ]
    },
    {
     "name": "stdout",
     "output_type": "stream",
     "text": [
      "Scores shape: (32, 7), Expected labels: 7\n",
      "Scores shape: (32, 7), Expected labels: 7\n"
     ]
    },
    {
     "name": "stderr",
     "output_type": "stream",
     "text": [
      "Processing Emotions:  54%|█████▎    | 1275/2383 [02:36<02:09,  8.56it/s]"
     ]
    },
    {
     "name": "stdout",
     "output_type": "stream",
     "text": [
      "Scores shape: (32, 7), Expected labels: 7\n",
      "Scores shape: (32, 7), Expected labels: 7\n"
     ]
    },
    {
     "name": "stderr",
     "output_type": "stream",
     "text": [
      "Processing Emotions:  54%|█████▎    | 1277/2383 [02:36<02:09,  8.54it/s]"
     ]
    },
    {
     "name": "stdout",
     "output_type": "stream",
     "text": [
      "Scores shape: (32, 7), Expected labels: 7\n",
      "Scores shape: (32, 7), Expected labels: 7\n"
     ]
    },
    {
     "name": "stderr",
     "output_type": "stream",
     "text": [
      "Processing Emotions:  54%|█████▎    | 1279/2383 [02:36<02:07,  8.65it/s]"
     ]
    },
    {
     "name": "stdout",
     "output_type": "stream",
     "text": [
      "Scores shape: (32, 7), Expected labels: 7\n",
      "Scores shape: (32, 7), Expected labels: 7\n"
     ]
    },
    {
     "name": "stderr",
     "output_type": "stream",
     "text": [
      "Processing Emotions:  54%|█████▍    | 1281/2383 [02:37<02:10,  8.47it/s]"
     ]
    },
    {
     "name": "stdout",
     "output_type": "stream",
     "text": [
      "Scores shape: (32, 7), Expected labels: 7\n",
      "Scores shape: (32, 7), Expected labels: 7\n"
     ]
    },
    {
     "name": "stderr",
     "output_type": "stream",
     "text": [
      "Processing Emotions:  54%|█████▍    | 1283/2383 [02:37<02:10,  8.40it/s]"
     ]
    },
    {
     "name": "stdout",
     "output_type": "stream",
     "text": [
      "Scores shape: (32, 7), Expected labels: 7\n",
      "Scores shape: (32, 7), Expected labels: 7\n"
     ]
    },
    {
     "name": "stderr",
     "output_type": "stream",
     "text": [
      "Processing Emotions:  54%|█████▍    | 1285/2383 [02:37<02:08,  8.54it/s]"
     ]
    },
    {
     "name": "stdout",
     "output_type": "stream",
     "text": [
      "Scores shape: (32, 7), Expected labels: 7\n",
      "Scores shape: (32, 7), Expected labels: 7\n"
     ]
    },
    {
     "name": "stderr",
     "output_type": "stream",
     "text": [
      "Processing Emotions:  54%|█████▍    | 1287/2383 [02:37<02:20,  7.79it/s]"
     ]
    },
    {
     "name": "stdout",
     "output_type": "stream",
     "text": [
      "Scores shape: (32, 7), Expected labels: 7\n",
      "Scores shape: (32, 7), Expected labels: 7\n"
     ]
    },
    {
     "name": "stderr",
     "output_type": "stream",
     "text": [
      "Processing Emotions:  54%|█████▍    | 1289/2383 [02:38<02:18,  7.87it/s]"
     ]
    },
    {
     "name": "stdout",
     "output_type": "stream",
     "text": [
      "Scores shape: (32, 7), Expected labels: 7\n",
      "Scores shape: (32, 7), Expected labels: 7\n"
     ]
    },
    {
     "name": "stderr",
     "output_type": "stream",
     "text": [
      "Processing Emotions:  54%|█████▍    | 1291/2383 [02:38<02:18,  7.88it/s]"
     ]
    },
    {
     "name": "stdout",
     "output_type": "stream",
     "text": [
      "Scores shape: (32, 7), Expected labels: 7\n",
      "Scores shape: (32, 7), Expected labels: 7\n"
     ]
    },
    {
     "name": "stderr",
     "output_type": "stream",
     "text": [
      "Processing Emotions:  54%|█████▍    | 1293/2383 [02:38<02:19,  7.82it/s]"
     ]
    },
    {
     "name": "stdout",
     "output_type": "stream",
     "text": [
      "Scores shape: (32, 7), Expected labels: 7\n",
      "Scores shape: (32, 7), Expected labels: 7\n"
     ]
    },
    {
     "name": "stderr",
     "output_type": "stream",
     "text": [
      "Processing Emotions:  54%|█████▍    | 1295/2383 [02:38<02:16,  7.99it/s]"
     ]
    },
    {
     "name": "stdout",
     "output_type": "stream",
     "text": [
      "Scores shape: (32, 7), Expected labels: 7\n",
      "Scores shape: (32, 7), Expected labels: 7\n"
     ]
    },
    {
     "name": "stderr",
     "output_type": "stream",
     "text": [
      "Processing Emotions:  54%|█████▍    | 1297/2383 [02:39<02:16,  7.95it/s]"
     ]
    },
    {
     "name": "stdout",
     "output_type": "stream",
     "text": [
      "Scores shape: (32, 7), Expected labels: 7\n",
      "Scores shape: (32, 7), Expected labels: 7\n"
     ]
    },
    {
     "name": "stderr",
     "output_type": "stream",
     "text": [
      "Processing Emotions:  55%|█████▍    | 1299/2383 [02:39<02:23,  7.58it/s]"
     ]
    },
    {
     "name": "stdout",
     "output_type": "stream",
     "text": [
      "Scores shape: (32, 7), Expected labels: 7\n",
      "Scores shape: (32, 7), Expected labels: 7\n"
     ]
    },
    {
     "name": "stderr",
     "output_type": "stream",
     "text": [
      "Processing Emotions:  55%|█████▍    | 1301/2383 [02:39<02:17,  7.87it/s]"
     ]
    },
    {
     "name": "stdout",
     "output_type": "stream",
     "text": [
      "Scores shape: (32, 7), Expected labels: 7\n",
      "Scores shape: (32, 7), Expected labels: 7\n"
     ]
    },
    {
     "name": "stderr",
     "output_type": "stream",
     "text": [
      "Processing Emotions:  55%|█████▍    | 1303/2383 [02:40<02:27,  7.30it/s]"
     ]
    },
    {
     "name": "stdout",
     "output_type": "stream",
     "text": [
      "Scores shape: (32, 7), Expected labels: 7\n",
      "Scores shape: (32, 7), Expected labels: 7\n"
     ]
    },
    {
     "name": "stderr",
     "output_type": "stream",
     "text": [
      "Processing Emotions:  55%|█████▍    | 1305/2383 [02:40<02:24,  7.44it/s]"
     ]
    },
    {
     "name": "stdout",
     "output_type": "stream",
     "text": [
      "Scores shape: (32, 7), Expected labels: 7\n",
      "Scores shape: (32, 7), Expected labels: 7\n"
     ]
    },
    {
     "name": "stderr",
     "output_type": "stream",
     "text": [
      "Processing Emotions:  55%|█████▍    | 1307/2383 [02:40<02:17,  7.82it/s]"
     ]
    },
    {
     "name": "stdout",
     "output_type": "stream",
     "text": [
      "Scores shape: (32, 7), Expected labels: 7\n",
      "Scores shape: (32, 7), Expected labels: 7\n"
     ]
    },
    {
     "name": "stderr",
     "output_type": "stream",
     "text": [
      "Processing Emotions:  55%|█████▍    | 1309/2383 [02:40<02:14,  8.01it/s]"
     ]
    },
    {
     "name": "stdout",
     "output_type": "stream",
     "text": [
      "Scores shape: (32, 7), Expected labels: 7\n",
      "Scores shape: (32, 7), Expected labels: 7\n"
     ]
    },
    {
     "name": "stderr",
     "output_type": "stream",
     "text": [
      "Processing Emotions:  55%|█████▌    | 1311/2383 [02:41<02:10,  8.19it/s]"
     ]
    },
    {
     "name": "stdout",
     "output_type": "stream",
     "text": [
      "Scores shape: (32, 7), Expected labels: 7\n",
      "Scores shape: (32, 7), Expected labels: 7\n"
     ]
    },
    {
     "name": "stderr",
     "output_type": "stream",
     "text": [
      "Processing Emotions:  55%|█████▌    | 1313/2383 [02:41<02:09,  8.28it/s]"
     ]
    },
    {
     "name": "stdout",
     "output_type": "stream",
     "text": [
      "Scores shape: (32, 7), Expected labels: 7\n",
      "Scores shape: (32, 7), Expected labels: 7\n"
     ]
    },
    {
     "name": "stderr",
     "output_type": "stream",
     "text": [
      "Processing Emotions:  55%|█████▌    | 1315/2383 [02:41<02:07,  8.37it/s]"
     ]
    },
    {
     "name": "stdout",
     "output_type": "stream",
     "text": [
      "Scores shape: (32, 7), Expected labels: 7\n",
      "Scores shape: (32, 7), Expected labels: 7\n"
     ]
    },
    {
     "name": "stderr",
     "output_type": "stream",
     "text": [
      "Processing Emotions:  55%|█████▌    | 1317/2383 [02:41<02:04,  8.58it/s]"
     ]
    },
    {
     "name": "stdout",
     "output_type": "stream",
     "text": [
      "Scores shape: (32, 7), Expected labels: 7\n",
      "Scores shape: (32, 7), Expected labels: 7\n"
     ]
    },
    {
     "name": "stderr",
     "output_type": "stream",
     "text": [
      "Processing Emotions:  55%|█████▌    | 1319/2383 [02:41<02:06,  8.44it/s]"
     ]
    },
    {
     "name": "stdout",
     "output_type": "stream",
     "text": [
      "Scores shape: (32, 7), Expected labels: 7\n",
      "Scores shape: (32, 7), Expected labels: 7\n"
     ]
    },
    {
     "name": "stderr",
     "output_type": "stream",
     "text": [
      "Processing Emotions:  55%|█████▌    | 1321/2383 [02:42<02:05,  8.47it/s]"
     ]
    },
    {
     "name": "stdout",
     "output_type": "stream",
     "text": [
      "Scores shape: (32, 7), Expected labels: 7\n",
      "Scores shape: (32, 7), Expected labels: 7\n"
     ]
    },
    {
     "name": "stderr",
     "output_type": "stream",
     "text": [
      "Processing Emotions:  56%|█████▌    | 1323/2383 [02:42<02:03,  8.57it/s]"
     ]
    },
    {
     "name": "stdout",
     "output_type": "stream",
     "text": [
      "Scores shape: (32, 7), Expected labels: 7\n",
      "Scores shape: (32, 7), Expected labels: 7\n"
     ]
    },
    {
     "name": "stderr",
     "output_type": "stream",
     "text": [
      "Processing Emotions:  56%|█████▌    | 1325/2383 [02:42<02:04,  8.49it/s]"
     ]
    },
    {
     "name": "stdout",
     "output_type": "stream",
     "text": [
      "Scores shape: (32, 7), Expected labels: 7\n",
      "Scores shape: (32, 7), Expected labels: 7\n"
     ]
    },
    {
     "name": "stderr",
     "output_type": "stream",
     "text": [
      "Processing Emotions:  56%|█████▌    | 1327/2383 [02:42<02:05,  8.44it/s]"
     ]
    },
    {
     "name": "stdout",
     "output_type": "stream",
     "text": [
      "Scores shape: (32, 7), Expected labels: 7\n",
      "Scores shape: (32, 7), Expected labels: 7\n"
     ]
    },
    {
     "name": "stderr",
     "output_type": "stream",
     "text": [
      "Processing Emotions:  56%|█████▌    | 1329/2383 [02:43<02:11,  8.04it/s]"
     ]
    },
    {
     "name": "stdout",
     "output_type": "stream",
     "text": [
      "Scores shape: (32, 7), Expected labels: 7\n",
      "Scores shape: (32, 7), Expected labels: 7\n"
     ]
    },
    {
     "name": "stderr",
     "output_type": "stream",
     "text": [
      "Processing Emotions:  56%|█████▌    | 1331/2383 [02:43<02:08,  8.20it/s]"
     ]
    },
    {
     "name": "stdout",
     "output_type": "stream",
     "text": [
      "Scores shape: (32, 7), Expected labels: 7\n",
      "Scores shape: (32, 7), Expected labels: 7\n"
     ]
    },
    {
     "name": "stderr",
     "output_type": "stream",
     "text": [
      "Processing Emotions:  56%|█████▌    | 1333/2383 [02:43<02:05,  8.37it/s]"
     ]
    },
    {
     "name": "stdout",
     "output_type": "stream",
     "text": [
      "Scores shape: (32, 7), Expected labels: 7\n",
      "Scores shape: (32, 7), Expected labels: 7\n"
     ]
    },
    {
     "name": "stderr",
     "output_type": "stream",
     "text": [
      "Processing Emotions:  56%|█████▌    | 1335/2383 [02:43<02:09,  8.09it/s]"
     ]
    },
    {
     "name": "stdout",
     "output_type": "stream",
     "text": [
      "Scores shape: (32, 7), Expected labels: 7\n",
      "Scores shape: (32, 7), Expected labels: 7\n"
     ]
    },
    {
     "name": "stderr",
     "output_type": "stream",
     "text": [
      "Processing Emotions:  56%|█████▌    | 1337/2383 [02:44<02:06,  8.28it/s]"
     ]
    },
    {
     "name": "stdout",
     "output_type": "stream",
     "text": [
      "Scores shape: (32, 7), Expected labels: 7\n",
      "Scores shape: (32, 7), Expected labels: 7\n"
     ]
    },
    {
     "name": "stderr",
     "output_type": "stream",
     "text": [
      "Processing Emotions:  56%|█████▌    | 1339/2383 [02:44<02:06,  8.26it/s]"
     ]
    },
    {
     "name": "stdout",
     "output_type": "stream",
     "text": [
      "Scores shape: (32, 7), Expected labels: 7\n",
      "Scores shape: (32, 7), Expected labels: 7\n"
     ]
    },
    {
     "name": "stderr",
     "output_type": "stream",
     "text": [
      "Processing Emotions:  56%|█████▋    | 1341/2383 [02:44<02:03,  8.42it/s]"
     ]
    },
    {
     "name": "stdout",
     "output_type": "stream",
     "text": [
      "Scores shape: (32, 7), Expected labels: 7\n",
      "Scores shape: (32, 7), Expected labels: 7\n"
     ]
    },
    {
     "name": "stderr",
     "output_type": "stream",
     "text": [
      "Processing Emotions:  56%|█████▋    | 1343/2383 [02:44<02:04,  8.35it/s]"
     ]
    },
    {
     "name": "stdout",
     "output_type": "stream",
     "text": [
      "Scores shape: (32, 7), Expected labels: 7\n",
      "Scores shape: (32, 7), Expected labels: 7\n"
     ]
    },
    {
     "name": "stderr",
     "output_type": "stream",
     "text": [
      "Processing Emotions:  56%|█████▋    | 1345/2383 [02:45<02:05,  8.25it/s]"
     ]
    },
    {
     "name": "stdout",
     "output_type": "stream",
     "text": [
      "Scores shape: (32, 7), Expected labels: 7\n",
      "Scores shape: (32, 7), Expected labels: 7\n"
     ]
    },
    {
     "name": "stderr",
     "output_type": "stream",
     "text": [
      "Processing Emotions:  57%|█████▋    | 1347/2383 [02:45<02:02,  8.46it/s]"
     ]
    },
    {
     "name": "stdout",
     "output_type": "stream",
     "text": [
      "Scores shape: (32, 7), Expected labels: 7\n",
      "Scores shape: (32, 7), Expected labels: 7\n"
     ]
    },
    {
     "name": "stderr",
     "output_type": "stream",
     "text": [
      "Processing Emotions:  57%|█████▋    | 1349/2383 [02:45<02:02,  8.45it/s]"
     ]
    },
    {
     "name": "stdout",
     "output_type": "stream",
     "text": [
      "Scores shape: (32, 7), Expected labels: 7\n",
      "Scores shape: (32, 7), Expected labels: 7\n"
     ]
    },
    {
     "name": "stderr",
     "output_type": "stream",
     "text": [
      "Processing Emotions:  57%|█████▋    | 1351/2383 [02:45<02:00,  8.59it/s]"
     ]
    },
    {
     "name": "stdout",
     "output_type": "stream",
     "text": [
      "Scores shape: (32, 7), Expected labels: 7\n",
      "Scores shape: (32, 7), Expected labels: 7\n"
     ]
    },
    {
     "name": "stderr",
     "output_type": "stream",
     "text": [
      "Processing Emotions:  57%|█████▋    | 1353/2383 [02:46<02:00,  8.55it/s]"
     ]
    },
    {
     "name": "stdout",
     "output_type": "stream",
     "text": [
      "Scores shape: (32, 7), Expected labels: 7\n",
      "Scores shape: (32, 7), Expected labels: 7\n"
     ]
    },
    {
     "name": "stderr",
     "output_type": "stream",
     "text": [
      "Processing Emotions:  57%|█████▋    | 1355/2383 [02:46<02:00,  8.50it/s]"
     ]
    },
    {
     "name": "stdout",
     "output_type": "stream",
     "text": [
      "Scores shape: (32, 7), Expected labels: 7\n",
      "Scores shape: (32, 7), Expected labels: 7\n"
     ]
    },
    {
     "name": "stderr",
     "output_type": "stream",
     "text": [
      "Processing Emotions:  57%|█████▋    | 1357/2383 [02:46<01:59,  8.55it/s]"
     ]
    },
    {
     "name": "stdout",
     "output_type": "stream",
     "text": [
      "Scores shape: (32, 7), Expected labels: 7\n",
      "Scores shape: (32, 7), Expected labels: 7\n"
     ]
    },
    {
     "name": "stderr",
     "output_type": "stream",
     "text": [
      "Processing Emotions:  57%|█████▋    | 1359/2383 [02:46<01:59,  8.60it/s]"
     ]
    },
    {
     "name": "stdout",
     "output_type": "stream",
     "text": [
      "Scores shape: (32, 7), Expected labels: 7\n",
      "Scores shape: (32, 7), Expected labels: 7\n"
     ]
    },
    {
     "name": "stderr",
     "output_type": "stream",
     "text": [
      "Processing Emotions:  57%|█████▋    | 1361/2383 [02:46<01:58,  8.60it/s]"
     ]
    },
    {
     "name": "stdout",
     "output_type": "stream",
     "text": [
      "Scores shape: (32, 7), Expected labels: 7\n",
      "Scores shape: (32, 7), Expected labels: 7\n"
     ]
    },
    {
     "name": "stderr",
     "output_type": "stream",
     "text": [
      "Processing Emotions:  57%|█████▋    | 1363/2383 [02:47<01:59,  8.54it/s]"
     ]
    },
    {
     "name": "stdout",
     "output_type": "stream",
     "text": [
      "Scores shape: (32, 7), Expected labels: 7\n",
      "Scores shape: (32, 7), Expected labels: 7\n"
     ]
    },
    {
     "name": "stderr",
     "output_type": "stream",
     "text": [
      "Processing Emotions:  57%|█████▋    | 1365/2383 [02:47<02:01,  8.35it/s]"
     ]
    },
    {
     "name": "stdout",
     "output_type": "stream",
     "text": [
      "Scores shape: (32, 7), Expected labels: 7\n",
      "Scores shape: (32, 7), Expected labels: 7\n"
     ]
    },
    {
     "name": "stderr",
     "output_type": "stream",
     "text": [
      "Processing Emotions:  57%|█████▋    | 1367/2383 [02:47<02:02,  8.31it/s]"
     ]
    },
    {
     "name": "stdout",
     "output_type": "stream",
     "text": [
      "Scores shape: (32, 7), Expected labels: 7\n",
      "Scores shape: (32, 7), Expected labels: 7\n"
     ]
    },
    {
     "name": "stderr",
     "output_type": "stream",
     "text": [
      "Processing Emotions:  57%|█████▋    | 1369/2383 [02:47<02:01,  8.34it/s]"
     ]
    },
    {
     "name": "stdout",
     "output_type": "stream",
     "text": [
      "Scores shape: (32, 7), Expected labels: 7\n",
      "Scores shape: (32, 7), Expected labels: 7\n"
     ]
    },
    {
     "name": "stderr",
     "output_type": "stream",
     "text": [
      "Processing Emotions:  58%|█████▊    | 1371/2383 [02:48<02:01,  8.35it/s]"
     ]
    },
    {
     "name": "stdout",
     "output_type": "stream",
     "text": [
      "Scores shape: (32, 7), Expected labels: 7\n",
      "Scores shape: (32, 7), Expected labels: 7\n"
     ]
    },
    {
     "name": "stderr",
     "output_type": "stream",
     "text": [
      "Processing Emotions:  58%|█████▊    | 1373/2383 [02:48<02:01,  8.29it/s]"
     ]
    },
    {
     "name": "stdout",
     "output_type": "stream",
     "text": [
      "Scores shape: (32, 7), Expected labels: 7\n",
      "Scores shape: (32, 7), Expected labels: 7\n"
     ]
    },
    {
     "name": "stderr",
     "output_type": "stream",
     "text": [
      "Processing Emotions:  58%|█████▊    | 1375/2383 [02:48<02:00,  8.33it/s]"
     ]
    },
    {
     "name": "stdout",
     "output_type": "stream",
     "text": [
      "Scores shape: (32, 7), Expected labels: 7\n",
      "Scores shape: (32, 7), Expected labels: 7\n"
     ]
    },
    {
     "name": "stderr",
     "output_type": "stream",
     "text": [
      "Processing Emotions:  58%|█████▊    | 1377/2383 [02:48<02:00,  8.34it/s]"
     ]
    },
    {
     "name": "stdout",
     "output_type": "stream",
     "text": [
      "Scores shape: (32, 7), Expected labels: 7\n",
      "Scores shape: (32, 7), Expected labels: 7\n"
     ]
    },
    {
     "name": "stderr",
     "output_type": "stream",
     "text": [
      "Processing Emotions:  58%|█████▊    | 1379/2383 [02:49<01:58,  8.48it/s]"
     ]
    },
    {
     "name": "stdout",
     "output_type": "stream",
     "text": [
      "Scores shape: (32, 7), Expected labels: 7\n",
      "Scores shape: (32, 7), Expected labels: 7\n"
     ]
    },
    {
     "name": "stderr",
     "output_type": "stream",
     "text": [
      "Processing Emotions:  58%|█████▊    | 1381/2383 [02:49<01:57,  8.54it/s]"
     ]
    },
    {
     "name": "stdout",
     "output_type": "stream",
     "text": [
      "Scores shape: (32, 7), Expected labels: 7\n",
      "Scores shape: (32, 7), Expected labels: 7\n"
     ]
    },
    {
     "name": "stderr",
     "output_type": "stream",
     "text": [
      "Processing Emotions:  58%|█████▊    | 1383/2383 [02:49<01:58,  8.40it/s]"
     ]
    },
    {
     "name": "stdout",
     "output_type": "stream",
     "text": [
      "Scores shape: (32, 7), Expected labels: 7\n",
      "Scores shape: (32, 7), Expected labels: 7\n"
     ]
    },
    {
     "name": "stderr",
     "output_type": "stream",
     "text": [
      "Processing Emotions:  58%|█████▊    | 1385/2383 [02:49<01:57,  8.50it/s]"
     ]
    },
    {
     "name": "stdout",
     "output_type": "stream",
     "text": [
      "Scores shape: (32, 7), Expected labels: 7\n",
      "Scores shape: (32, 7), Expected labels: 7\n"
     ]
    },
    {
     "name": "stderr",
     "output_type": "stream",
     "text": [
      "Processing Emotions:  58%|█████▊    | 1387/2383 [02:50<01:56,  8.52it/s]"
     ]
    },
    {
     "name": "stdout",
     "output_type": "stream",
     "text": [
      "Scores shape: (32, 7), Expected labels: 7\n",
      "Scores shape: (32, 7), Expected labels: 7\n"
     ]
    },
    {
     "name": "stderr",
     "output_type": "stream",
     "text": [
      "Processing Emotions:  58%|█████▊    | 1389/2383 [02:50<01:56,  8.52it/s]"
     ]
    },
    {
     "name": "stdout",
     "output_type": "stream",
     "text": [
      "Scores shape: (32, 7), Expected labels: 7\n",
      "Scores shape: (32, 7), Expected labels: 7\n"
     ]
    },
    {
     "name": "stderr",
     "output_type": "stream",
     "text": [
      "Processing Emotions:  58%|█████▊    | 1391/2383 [02:50<01:56,  8.54it/s]"
     ]
    },
    {
     "name": "stdout",
     "output_type": "stream",
     "text": [
      "Scores shape: (32, 7), Expected labels: 7\n",
      "Scores shape: (32, 7), Expected labels: 7\n"
     ]
    },
    {
     "name": "stderr",
     "output_type": "stream",
     "text": [
      "Processing Emotions:  58%|█████▊    | 1393/2383 [02:50<01:58,  8.33it/s]"
     ]
    },
    {
     "name": "stdout",
     "output_type": "stream",
     "text": [
      "Scores shape: (32, 7), Expected labels: 7\n",
      "Scores shape: (32, 7), Expected labels: 7\n"
     ]
    },
    {
     "name": "stderr",
     "output_type": "stream",
     "text": [
      "Processing Emotions:  59%|█████▊    | 1395/2383 [02:51<02:00,  8.18it/s]"
     ]
    },
    {
     "name": "stdout",
     "output_type": "stream",
     "text": [
      "Scores shape: (32, 7), Expected labels: 7\n",
      "Scores shape: (32, 7), Expected labels: 7\n"
     ]
    },
    {
     "name": "stderr",
     "output_type": "stream",
     "text": [
      "Processing Emotions:  59%|█████▊    | 1397/2383 [02:51<02:06,  7.81it/s]"
     ]
    },
    {
     "name": "stdout",
     "output_type": "stream",
     "text": [
      "Scores shape: (32, 7), Expected labels: 7\n",
      "Scores shape: (32, 7), Expected labels: 7\n"
     ]
    },
    {
     "name": "stderr",
     "output_type": "stream",
     "text": [
      "Processing Emotions:  59%|█████▊    | 1399/2383 [02:51<02:12,  7.42it/s]"
     ]
    },
    {
     "name": "stdout",
     "output_type": "stream",
     "text": [
      "Scores shape: (32, 7), Expected labels: 7\n",
      "Scores shape: (32, 7), Expected labels: 7\n"
     ]
    },
    {
     "name": "stderr",
     "output_type": "stream",
     "text": [
      "Processing Emotions:  59%|█████▉    | 1401/2383 [02:51<02:08,  7.62it/s]"
     ]
    },
    {
     "name": "stdout",
     "output_type": "stream",
     "text": [
      "Scores shape: (32, 7), Expected labels: 7\n",
      "Scores shape: (32, 7), Expected labels: 7\n"
     ]
    },
    {
     "name": "stderr",
     "output_type": "stream",
     "text": [
      "Processing Emotions:  59%|█████▉    | 1403/2383 [02:52<02:14,  7.31it/s]"
     ]
    },
    {
     "name": "stdout",
     "output_type": "stream",
     "text": [
      "Scores shape: (32, 7), Expected labels: 7\n",
      "Scores shape: (32, 7), Expected labels: 7\n"
     ]
    },
    {
     "name": "stderr",
     "output_type": "stream",
     "text": [
      "Processing Emotions:  59%|█████▉    | 1405/2383 [02:52<02:07,  7.66it/s]"
     ]
    },
    {
     "name": "stdout",
     "output_type": "stream",
     "text": [
      "Scores shape: (32, 7), Expected labels: 7\n",
      "Scores shape: (32, 7), Expected labels: 7\n"
     ]
    },
    {
     "name": "stderr",
     "output_type": "stream",
     "text": [
      "Processing Emotions:  59%|█████▉    | 1407/2383 [02:52<02:09,  7.54it/s]"
     ]
    },
    {
     "name": "stdout",
     "output_type": "stream",
     "text": [
      "Scores shape: (32, 7), Expected labels: 7\n",
      "Scores shape: (32, 7), Expected labels: 7\n"
     ]
    },
    {
     "name": "stderr",
     "output_type": "stream",
     "text": [
      "Processing Emotions:  59%|█████▉    | 1409/2383 [02:52<02:13,  7.28it/s]"
     ]
    },
    {
     "name": "stdout",
     "output_type": "stream",
     "text": [
      "Scores shape: (32, 7), Expected labels: 7\n",
      "Scores shape: (32, 7), Expected labels: 7\n"
     ]
    },
    {
     "name": "stderr",
     "output_type": "stream",
     "text": [
      "Processing Emotions:  59%|█████▉    | 1411/2383 [02:53<02:10,  7.45it/s]"
     ]
    },
    {
     "name": "stdout",
     "output_type": "stream",
     "text": [
      "Scores shape: (32, 7), Expected labels: 7\n",
      "Scores shape: (32, 7), Expected labels: 7\n"
     ]
    },
    {
     "name": "stderr",
     "output_type": "stream",
     "text": [
      "Processing Emotions:  59%|█████▉    | 1413/2383 [02:53<02:12,  7.35it/s]"
     ]
    },
    {
     "name": "stdout",
     "output_type": "stream",
     "text": [
      "Scores shape: (32, 7), Expected labels: 7\n",
      "Scores shape: (32, 7), Expected labels: 7\n"
     ]
    },
    {
     "name": "stderr",
     "output_type": "stream",
     "text": [
      "Processing Emotions:  59%|█████▉    | 1415/2383 [02:53<02:10,  7.43it/s]"
     ]
    },
    {
     "name": "stdout",
     "output_type": "stream",
     "text": [
      "Scores shape: (32, 7), Expected labels: 7\n",
      "Scores shape: (32, 7), Expected labels: 7\n"
     ]
    },
    {
     "name": "stderr",
     "output_type": "stream",
     "text": [
      "Processing Emotions:  59%|█████▉    | 1417/2383 [02:53<02:03,  7.79it/s]"
     ]
    },
    {
     "name": "stdout",
     "output_type": "stream",
     "text": [
      "Scores shape: (32, 7), Expected labels: 7\n",
      "Scores shape: (32, 7), Expected labels: 7\n"
     ]
    },
    {
     "name": "stderr",
     "output_type": "stream",
     "text": [
      "Processing Emotions:  60%|█████▉    | 1419/2383 [02:54<02:03,  7.83it/s]"
     ]
    },
    {
     "name": "stdout",
     "output_type": "stream",
     "text": [
      "Scores shape: (32, 7), Expected labels: 7\n",
      "Scores shape: (32, 7), Expected labels: 7\n"
     ]
    },
    {
     "name": "stderr",
     "output_type": "stream",
     "text": [
      "Processing Emotions:  60%|█████▉    | 1421/2383 [02:54<01:59,  8.02it/s]"
     ]
    },
    {
     "name": "stdout",
     "output_type": "stream",
     "text": [
      "Scores shape: (32, 7), Expected labels: 7\n",
      "Scores shape: (32, 7), Expected labels: 7\n"
     ]
    },
    {
     "name": "stderr",
     "output_type": "stream",
     "text": [
      "Processing Emotions:  60%|█████▉    | 1423/2383 [02:54<01:55,  8.32it/s]"
     ]
    },
    {
     "name": "stdout",
     "output_type": "stream",
     "text": [
      "Scores shape: (32, 7), Expected labels: 7\n",
      "Scores shape: (32, 7), Expected labels: 7\n"
     ]
    },
    {
     "name": "stderr",
     "output_type": "stream",
     "text": [
      "Processing Emotions:  60%|█████▉    | 1425/2383 [02:54<01:55,  8.27it/s]"
     ]
    },
    {
     "name": "stdout",
     "output_type": "stream",
     "text": [
      "Scores shape: (32, 7), Expected labels: 7\n",
      "Scores shape: (32, 7), Expected labels: 7\n"
     ]
    },
    {
     "name": "stderr",
     "output_type": "stream",
     "text": [
      "Processing Emotions:  60%|█████▉    | 1427/2383 [02:55<01:56,  8.17it/s]"
     ]
    },
    {
     "name": "stdout",
     "output_type": "stream",
     "text": [
      "Scores shape: (32, 7), Expected labels: 7\n",
      "Scores shape: (32, 7), Expected labels: 7\n"
     ]
    },
    {
     "name": "stderr",
     "output_type": "stream",
     "text": [
      "Processing Emotions:  60%|█████▉    | 1429/2383 [02:55<01:53,  8.41it/s]"
     ]
    },
    {
     "name": "stdout",
     "output_type": "stream",
     "text": [
      "Scores shape: (32, 7), Expected labels: 7\n",
      "Scores shape: (32, 7), Expected labels: 7\n"
     ]
    },
    {
     "name": "stderr",
     "output_type": "stream",
     "text": [
      "Processing Emotions:  60%|██████    | 1431/2383 [02:55<01:51,  8.50it/s]"
     ]
    },
    {
     "name": "stdout",
     "output_type": "stream",
     "text": [
      "Scores shape: (32, 7), Expected labels: 7\n",
      "Scores shape: (32, 7), Expected labels: 7\n"
     ]
    },
    {
     "name": "stderr",
     "output_type": "stream",
     "text": [
      "Processing Emotions:  60%|██████    | 1433/2383 [02:55<01:52,  8.44it/s]"
     ]
    },
    {
     "name": "stdout",
     "output_type": "stream",
     "text": [
      "Scores shape: (32, 7), Expected labels: 7\n",
      "Scores shape: (32, 7), Expected labels: 7\n"
     ]
    },
    {
     "name": "stderr",
     "output_type": "stream",
     "text": [
      "Processing Emotions:  60%|██████    | 1435/2383 [02:56<01:50,  8.56it/s]"
     ]
    },
    {
     "name": "stdout",
     "output_type": "stream",
     "text": [
      "Scores shape: (32, 7), Expected labels: 7\n",
      "Scores shape: (32, 7), Expected labels: 7\n"
     ]
    },
    {
     "name": "stderr",
     "output_type": "stream",
     "text": [
      "Processing Emotions:  60%|██████    | 1437/2383 [02:56<01:54,  8.27it/s]"
     ]
    },
    {
     "name": "stdout",
     "output_type": "stream",
     "text": [
      "Scores shape: (32, 7), Expected labels: 7\n",
      "Scores shape: (32, 7), Expected labels: 7\n"
     ]
    },
    {
     "name": "stderr",
     "output_type": "stream",
     "text": [
      "Processing Emotions:  60%|██████    | 1439/2383 [02:56<01:52,  8.41it/s]"
     ]
    },
    {
     "name": "stdout",
     "output_type": "stream",
     "text": [
      "Scores shape: (32, 7), Expected labels: 7\n",
      "Scores shape: (32, 7), Expected labels: 7\n"
     ]
    },
    {
     "name": "stderr",
     "output_type": "stream",
     "text": [
      "Processing Emotions:  60%|██████    | 1441/2383 [02:56<01:50,  8.54it/s]"
     ]
    },
    {
     "name": "stdout",
     "output_type": "stream",
     "text": [
      "Scores shape: (32, 7), Expected labels: 7\n",
      "Scores shape: (32, 7), Expected labels: 7\n"
     ]
    },
    {
     "name": "stderr",
     "output_type": "stream",
     "text": [
      "Processing Emotions:  61%|██████    | 1443/2383 [02:57<01:51,  8.42it/s]"
     ]
    },
    {
     "name": "stdout",
     "output_type": "stream",
     "text": [
      "Scores shape: (32, 7), Expected labels: 7\n",
      "Scores shape: (32, 7), Expected labels: 7\n"
     ]
    },
    {
     "name": "stderr",
     "output_type": "stream",
     "text": [
      "Processing Emotions:  61%|██████    | 1445/2383 [02:57<01:53,  8.27it/s]"
     ]
    },
    {
     "name": "stdout",
     "output_type": "stream",
     "text": [
      "Scores shape: (32, 7), Expected labels: 7\n",
      "Scores shape: (32, 7), Expected labels: 7\n"
     ]
    },
    {
     "name": "stderr",
     "output_type": "stream",
     "text": [
      "Processing Emotions:  61%|██████    | 1447/2383 [02:57<01:53,  8.27it/s]"
     ]
    },
    {
     "name": "stdout",
     "output_type": "stream",
     "text": [
      "Scores shape: (32, 7), Expected labels: 7\n",
      "Scores shape: (32, 7), Expected labels: 7\n"
     ]
    },
    {
     "name": "stderr",
     "output_type": "stream",
     "text": [
      "Processing Emotions:  61%|██████    | 1449/2383 [02:57<01:50,  8.44it/s]"
     ]
    },
    {
     "name": "stdout",
     "output_type": "stream",
     "text": [
      "Scores shape: (32, 7), Expected labels: 7\n",
      "Scores shape: (32, 7), Expected labels: 7\n"
     ]
    },
    {
     "name": "stderr",
     "output_type": "stream",
     "text": [
      "Processing Emotions:  61%|██████    | 1451/2383 [02:58<01:50,  8.41it/s]"
     ]
    },
    {
     "name": "stdout",
     "output_type": "stream",
     "text": [
      "Scores shape: (32, 7), Expected labels: 7\n",
      "Scores shape: (32, 7), Expected labels: 7\n"
     ]
    },
    {
     "name": "stderr",
     "output_type": "stream",
     "text": [
      "Processing Emotions:  61%|██████    | 1453/2383 [02:58<01:50,  8.43it/s]"
     ]
    },
    {
     "name": "stdout",
     "output_type": "stream",
     "text": [
      "Scores shape: (32, 7), Expected labels: 7\n",
      "Scores shape: (32, 7), Expected labels: 7\n"
     ]
    },
    {
     "name": "stderr",
     "output_type": "stream",
     "text": [
      "Processing Emotions:  61%|██████    | 1455/2383 [02:58<01:51,  8.36it/s]"
     ]
    },
    {
     "name": "stdout",
     "output_type": "stream",
     "text": [
      "Scores shape: (32, 7), Expected labels: 7\n",
      "Scores shape: (32, 7), Expected labels: 7\n"
     ]
    },
    {
     "name": "stderr",
     "output_type": "stream",
     "text": [
      "Processing Emotions:  61%|██████    | 1457/2383 [02:58<01:49,  8.44it/s]"
     ]
    },
    {
     "name": "stdout",
     "output_type": "stream",
     "text": [
      "Scores shape: (32, 7), Expected labels: 7\n",
      "Scores shape: (32, 7), Expected labels: 7\n"
     ]
    },
    {
     "name": "stderr",
     "output_type": "stream",
     "text": [
      "Processing Emotions:  61%|██████    | 1459/2383 [02:58<01:49,  8.46it/s]"
     ]
    },
    {
     "name": "stdout",
     "output_type": "stream",
     "text": [
      "Scores shape: (32, 7), Expected labels: 7\n",
      "Scores shape: (32, 7), Expected labels: 7\n"
     ]
    },
    {
     "name": "stderr",
     "output_type": "stream",
     "text": [
      "Processing Emotions:  61%|██████▏   | 1461/2383 [02:59<01:49,  8.42it/s]"
     ]
    },
    {
     "name": "stdout",
     "output_type": "stream",
     "text": [
      "Scores shape: (32, 7), Expected labels: 7\n",
      "Scores shape: (32, 7), Expected labels: 7\n"
     ]
    },
    {
     "name": "stderr",
     "output_type": "stream",
     "text": [
      "Processing Emotions:  61%|██████▏   | 1463/2383 [02:59<01:48,  8.46it/s]"
     ]
    },
    {
     "name": "stdout",
     "output_type": "stream",
     "text": [
      "Scores shape: (32, 7), Expected labels: 7\n",
      "Scores shape: (32, 7), Expected labels: 7\n"
     ]
    },
    {
     "name": "stderr",
     "output_type": "stream",
     "text": [
      "Processing Emotions:  61%|██████▏   | 1465/2383 [02:59<01:48,  8.47it/s]"
     ]
    },
    {
     "name": "stdout",
     "output_type": "stream",
     "text": [
      "Scores shape: (32, 7), Expected labels: 7\n",
      "Scores shape: (32, 7), Expected labels: 7\n"
     ]
    },
    {
     "name": "stderr",
     "output_type": "stream",
     "text": [
      "Processing Emotions:  62%|██████▏   | 1467/2383 [02:59<01:48,  8.44it/s]"
     ]
    },
    {
     "name": "stdout",
     "output_type": "stream",
     "text": [
      "Scores shape: (32, 7), Expected labels: 7\n",
      "Scores shape: (32, 7), Expected labels: 7\n"
     ]
    },
    {
     "name": "stderr",
     "output_type": "stream",
     "text": [
      "Processing Emotions:  62%|██████▏   | 1469/2383 [03:00<01:49,  8.36it/s]"
     ]
    },
    {
     "name": "stdout",
     "output_type": "stream",
     "text": [
      "Scores shape: (32, 7), Expected labels: 7\n",
      "Scores shape: (32, 7), Expected labels: 7\n"
     ]
    },
    {
     "name": "stderr",
     "output_type": "stream",
     "text": [
      "Processing Emotions:  62%|██████▏   | 1471/2383 [03:00<01:48,  8.38it/s]"
     ]
    },
    {
     "name": "stdout",
     "output_type": "stream",
     "text": [
      "Scores shape: (32, 7), Expected labels: 7\n",
      "Scores shape: (32, 7), Expected labels: 7\n"
     ]
    },
    {
     "name": "stderr",
     "output_type": "stream",
     "text": [
      "Processing Emotions:  62%|██████▏   | 1473/2383 [03:00<01:46,  8.52it/s]"
     ]
    },
    {
     "name": "stdout",
     "output_type": "stream",
     "text": [
      "Scores shape: (32, 7), Expected labels: 7\n",
      "Scores shape: (32, 7), Expected labels: 7\n"
     ]
    },
    {
     "name": "stderr",
     "output_type": "stream",
     "text": [
      "Processing Emotions:  62%|██████▏   | 1475/2383 [03:00<01:46,  8.52it/s]"
     ]
    },
    {
     "name": "stdout",
     "output_type": "stream",
     "text": [
      "Scores shape: (32, 7), Expected labels: 7\n",
      "Scores shape: (32, 7), Expected labels: 7\n"
     ]
    },
    {
     "name": "stderr",
     "output_type": "stream",
     "text": [
      "Processing Emotions:  62%|██████▏   | 1477/2383 [03:01<01:46,  8.50it/s]"
     ]
    },
    {
     "name": "stdout",
     "output_type": "stream",
     "text": [
      "Scores shape: (32, 7), Expected labels: 7\n",
      "Scores shape: (32, 7), Expected labels: 7\n"
     ]
    },
    {
     "name": "stderr",
     "output_type": "stream",
     "text": [
      "Processing Emotions:  62%|██████▏   | 1479/2383 [03:01<01:46,  8.50it/s]"
     ]
    },
    {
     "name": "stdout",
     "output_type": "stream",
     "text": [
      "Scores shape: (32, 7), Expected labels: 7\n",
      "Scores shape: (32, 7), Expected labels: 7\n"
     ]
    },
    {
     "name": "stderr",
     "output_type": "stream",
     "text": [
      "Processing Emotions:  62%|██████▏   | 1481/2383 [03:01<01:52,  8.02it/s]"
     ]
    },
    {
     "name": "stdout",
     "output_type": "stream",
     "text": [
      "Scores shape: (32, 7), Expected labels: 7\n",
      "Scores shape: (32, 7), Expected labels: 7\n"
     ]
    },
    {
     "name": "stderr",
     "output_type": "stream",
     "text": [
      "Processing Emotions:  62%|██████▏   | 1483/2383 [03:01<01:48,  8.31it/s]"
     ]
    },
    {
     "name": "stdout",
     "output_type": "stream",
     "text": [
      "Scores shape: (32, 7), Expected labels: 7\n",
      "Scores shape: (32, 7), Expected labels: 7\n"
     ]
    },
    {
     "name": "stderr",
     "output_type": "stream",
     "text": [
      "Processing Emotions:  62%|██████▏   | 1485/2383 [03:02<01:48,  8.30it/s]"
     ]
    },
    {
     "name": "stdout",
     "output_type": "stream",
     "text": [
      "Scores shape: (32, 7), Expected labels: 7\n",
      "Scores shape: (32, 7), Expected labels: 7\n"
     ]
    },
    {
     "name": "stderr",
     "output_type": "stream",
     "text": [
      "Processing Emotions:  62%|██████▏   | 1487/2383 [03:02<01:46,  8.40it/s]"
     ]
    },
    {
     "name": "stdout",
     "output_type": "stream",
     "text": [
      "Scores shape: (32, 7), Expected labels: 7\n",
      "Scores shape: (32, 7), Expected labels: 7\n"
     ]
    },
    {
     "name": "stderr",
     "output_type": "stream",
     "text": [
      "Processing Emotions:  62%|██████▏   | 1489/2383 [03:02<01:48,  8.24it/s]"
     ]
    },
    {
     "name": "stdout",
     "output_type": "stream",
     "text": [
      "Scores shape: (32, 7), Expected labels: 7\n",
      "Scores shape: (32, 7), Expected labels: 7\n"
     ]
    },
    {
     "name": "stderr",
     "output_type": "stream",
     "text": [
      "Processing Emotions:  63%|██████▎   | 1491/2383 [03:02<01:44,  8.55it/s]"
     ]
    },
    {
     "name": "stdout",
     "output_type": "stream",
     "text": [
      "Scores shape: (32, 7), Expected labels: 7\n",
      "Scores shape: (32, 7), Expected labels: 7\n"
     ]
    },
    {
     "name": "stderr",
     "output_type": "stream",
     "text": [
      "Processing Emotions:  63%|██████▎   | 1493/2383 [03:03<01:45,  8.45it/s]"
     ]
    },
    {
     "name": "stdout",
     "output_type": "stream",
     "text": [
      "Scores shape: (32, 7), Expected labels: 7\n",
      "Scores shape: (32, 7), Expected labels: 7\n"
     ]
    },
    {
     "name": "stderr",
     "output_type": "stream",
     "text": [
      "Processing Emotions:  63%|██████▎   | 1495/2383 [03:03<01:45,  8.41it/s]"
     ]
    },
    {
     "name": "stdout",
     "output_type": "stream",
     "text": [
      "Scores shape: (32, 7), Expected labels: 7\n",
      "Scores shape: (32, 7), Expected labels: 7\n"
     ]
    },
    {
     "name": "stderr",
     "output_type": "stream",
     "text": [
      "Processing Emotions:  63%|██████▎   | 1497/2383 [03:03<01:43,  8.56it/s]"
     ]
    },
    {
     "name": "stdout",
     "output_type": "stream",
     "text": [
      "Scores shape: (32, 7), Expected labels: 7\n",
      "Scores shape: (32, 7), Expected labels: 7\n"
     ]
    },
    {
     "name": "stderr",
     "output_type": "stream",
     "text": [
      "Processing Emotions:  63%|██████▎   | 1499/2383 [03:03<01:43,  8.53it/s]"
     ]
    },
    {
     "name": "stdout",
     "output_type": "stream",
     "text": [
      "Scores shape: (32, 7), Expected labels: 7\n",
      "Scores shape: (32, 7), Expected labels: 7\n"
     ]
    },
    {
     "name": "stderr",
     "output_type": "stream",
     "text": [
      "Processing Emotions:  63%|██████▎   | 1501/2383 [03:03<01:45,  8.33it/s]"
     ]
    },
    {
     "name": "stdout",
     "output_type": "stream",
     "text": [
      "Scores shape: (32, 7), Expected labels: 7\n",
      "Scores shape: (32, 7), Expected labels: 7\n"
     ]
    },
    {
     "name": "stderr",
     "output_type": "stream",
     "text": [
      "Processing Emotions:  63%|██████▎   | 1503/2383 [03:04<01:46,  8.27it/s]"
     ]
    },
    {
     "name": "stdout",
     "output_type": "stream",
     "text": [
      "Scores shape: (32, 7), Expected labels: 7\n",
      "Scores shape: (32, 7), Expected labels: 7\n"
     ]
    },
    {
     "name": "stderr",
     "output_type": "stream",
     "text": [
      "Processing Emotions:  63%|██████▎   | 1505/2383 [03:04<01:50,  7.91it/s]"
     ]
    },
    {
     "name": "stdout",
     "output_type": "stream",
     "text": [
      "Scores shape: (32, 7), Expected labels: 7\n",
      "Scores shape: (32, 7), Expected labels: 7\n"
     ]
    },
    {
     "name": "stderr",
     "output_type": "stream",
     "text": [
      "Processing Emotions:  63%|██████▎   | 1507/2383 [03:04<01:53,  7.69it/s]"
     ]
    },
    {
     "name": "stdout",
     "output_type": "stream",
     "text": [
      "Scores shape: (32, 7), Expected labels: 7\n",
      "Scores shape: (32, 7), Expected labels: 7\n"
     ]
    },
    {
     "name": "stderr",
     "output_type": "stream",
     "text": [
      "Processing Emotions:  63%|██████▎   | 1509/2383 [03:05<01:52,  7.76it/s]"
     ]
    },
    {
     "name": "stdout",
     "output_type": "stream",
     "text": [
      "Scores shape: (32, 7), Expected labels: 7\n",
      "Scores shape: (32, 7), Expected labels: 7\n"
     ]
    },
    {
     "name": "stderr",
     "output_type": "stream",
     "text": [
      "Processing Emotions:  63%|██████▎   | 1511/2383 [03:05<01:52,  7.78it/s]"
     ]
    },
    {
     "name": "stdout",
     "output_type": "stream",
     "text": [
      "Scores shape: (32, 7), Expected labels: 7\n",
      "Scores shape: (32, 7), Expected labels: 7\n"
     ]
    },
    {
     "name": "stderr",
     "output_type": "stream",
     "text": [
      "Processing Emotions:  63%|██████▎   | 1513/2383 [03:05<01:50,  7.84it/s]"
     ]
    },
    {
     "name": "stdout",
     "output_type": "stream",
     "text": [
      "Scores shape: (32, 7), Expected labels: 7\n",
      "Scores shape: (32, 7), Expected labels: 7\n"
     ]
    },
    {
     "name": "stderr",
     "output_type": "stream",
     "text": [
      "Processing Emotions:  64%|██████▎   | 1515/2383 [03:05<01:55,  7.52it/s]"
     ]
    },
    {
     "name": "stdout",
     "output_type": "stream",
     "text": [
      "Scores shape: (32, 7), Expected labels: 7\n",
      "Scores shape: (32, 7), Expected labels: 7\n"
     ]
    },
    {
     "name": "stderr",
     "output_type": "stream",
     "text": [
      "Processing Emotions:  64%|██████▎   | 1517/2383 [03:06<01:56,  7.44it/s]"
     ]
    },
    {
     "name": "stdout",
     "output_type": "stream",
     "text": [
      "Scores shape: (32, 7), Expected labels: 7\n",
      "Scores shape: (32, 7), Expected labels: 7\n"
     ]
    },
    {
     "name": "stderr",
     "output_type": "stream",
     "text": [
      "Processing Emotions:  64%|██████▎   | 1519/2383 [03:06<01:50,  7.84it/s]"
     ]
    },
    {
     "name": "stdout",
     "output_type": "stream",
     "text": [
      "Scores shape: (32, 7), Expected labels: 7\n",
      "Scores shape: (32, 7), Expected labels: 7\n"
     ]
    },
    {
     "name": "stderr",
     "output_type": "stream",
     "text": [
      "Processing Emotions:  64%|██████▍   | 1521/2383 [03:06<01:49,  7.84it/s]"
     ]
    },
    {
     "name": "stdout",
     "output_type": "stream",
     "text": [
      "Scores shape: (32, 7), Expected labels: 7\n",
      "Scores shape: (32, 7), Expected labels: 7\n"
     ]
    },
    {
     "name": "stderr",
     "output_type": "stream",
     "text": [
      "Processing Emotions:  64%|██████▍   | 1523/2383 [03:06<01:56,  7.41it/s]"
     ]
    },
    {
     "name": "stdout",
     "output_type": "stream",
     "text": [
      "Scores shape: (32, 7), Expected labels: 7\n",
      "Scores shape: (32, 7), Expected labels: 7\n"
     ]
    },
    {
     "name": "stderr",
     "output_type": "stream",
     "text": [
      "Processing Emotions:  64%|██████▍   | 1525/2383 [03:07<01:55,  7.45it/s]"
     ]
    },
    {
     "name": "stdout",
     "output_type": "stream",
     "text": [
      "Scores shape: (32, 7), Expected labels: 7\n",
      "Scores shape: (32, 7), Expected labels: 7\n"
     ]
    },
    {
     "name": "stderr",
     "output_type": "stream",
     "text": [
      "Processing Emotions:  64%|██████▍   | 1527/2383 [03:07<01:59,  7.14it/s]"
     ]
    },
    {
     "name": "stdout",
     "output_type": "stream",
     "text": [
      "Scores shape: (32, 7), Expected labels: 7\n",
      "Scores shape: (32, 7), Expected labels: 7\n"
     ]
    },
    {
     "name": "stderr",
     "output_type": "stream",
     "text": [
      "Processing Emotions:  64%|██████▍   | 1529/2383 [03:07<01:52,  7.59it/s]"
     ]
    },
    {
     "name": "stdout",
     "output_type": "stream",
     "text": [
      "Scores shape: (32, 7), Expected labels: 7\n",
      "Scores shape: (32, 7), Expected labels: 7\n"
     ]
    },
    {
     "name": "stderr",
     "output_type": "stream",
     "text": [
      "Processing Emotions:  64%|██████▍   | 1531/2383 [03:07<01:49,  7.81it/s]"
     ]
    },
    {
     "name": "stdout",
     "output_type": "stream",
     "text": [
      "Scores shape: (32, 7), Expected labels: 7\n",
      "Scores shape: (32, 7), Expected labels: 7\n"
     ]
    },
    {
     "name": "stderr",
     "output_type": "stream",
     "text": [
      "Processing Emotions:  64%|██████▍   | 1533/2383 [03:08<01:44,  8.12it/s]"
     ]
    },
    {
     "name": "stdout",
     "output_type": "stream",
     "text": [
      "Scores shape: (32, 7), Expected labels: 7\n",
      "Scores shape: (32, 7), Expected labels: 7\n"
     ]
    },
    {
     "name": "stderr",
     "output_type": "stream",
     "text": [
      "Processing Emotions:  64%|██████▍   | 1535/2383 [03:08<01:41,  8.36it/s]"
     ]
    },
    {
     "name": "stdout",
     "output_type": "stream",
     "text": [
      "Scores shape: (32, 7), Expected labels: 7\n",
      "Scores shape: (32, 7), Expected labels: 7\n"
     ]
    },
    {
     "name": "stderr",
     "output_type": "stream",
     "text": [
      "Processing Emotions:  64%|██████▍   | 1537/2383 [03:08<01:41,  8.36it/s]"
     ]
    },
    {
     "name": "stdout",
     "output_type": "stream",
     "text": [
      "Scores shape: (32, 7), Expected labels: 7\n",
      "Scores shape: (32, 7), Expected labels: 7\n"
     ]
    },
    {
     "name": "stderr",
     "output_type": "stream",
     "text": [
      "Processing Emotions:  65%|██████▍   | 1539/2383 [03:08<01:40,  8.39it/s]"
     ]
    },
    {
     "name": "stdout",
     "output_type": "stream",
     "text": [
      "Scores shape: (32, 7), Expected labels: 7\n",
      "Scores shape: (32, 7), Expected labels: 7\n"
     ]
    },
    {
     "name": "stderr",
     "output_type": "stream",
     "text": [
      "Processing Emotions:  65%|██████▍   | 1541/2383 [03:09<01:39,  8.45it/s]"
     ]
    },
    {
     "name": "stdout",
     "output_type": "stream",
     "text": [
      "Scores shape: (32, 7), Expected labels: 7\n",
      "Scores shape: (32, 7), Expected labels: 7\n"
     ]
    },
    {
     "name": "stderr",
     "output_type": "stream",
     "text": [
      "Processing Emotions:  65%|██████▍   | 1543/2383 [03:09<01:40,  8.33it/s]"
     ]
    },
    {
     "name": "stdout",
     "output_type": "stream",
     "text": [
      "Scores shape: (32, 7), Expected labels: 7\n",
      "Scores shape: (32, 7), Expected labels: 7\n"
     ]
    },
    {
     "name": "stderr",
     "output_type": "stream",
     "text": [
      "Processing Emotions:  65%|██████▍   | 1545/2383 [03:09<01:37,  8.59it/s]"
     ]
    },
    {
     "name": "stdout",
     "output_type": "stream",
     "text": [
      "Scores shape: (32, 7), Expected labels: 7\n",
      "Scores shape: (32, 7), Expected labels: 7\n"
     ]
    },
    {
     "name": "stderr",
     "output_type": "stream",
     "text": [
      "Processing Emotions:  65%|██████▍   | 1547/2383 [03:09<01:36,  8.68it/s]"
     ]
    },
    {
     "name": "stdout",
     "output_type": "stream",
     "text": [
      "Scores shape: (32, 7), Expected labels: 7\n",
      "Scores shape: (32, 7), Expected labels: 7\n"
     ]
    },
    {
     "name": "stderr",
     "output_type": "stream",
     "text": [
      "Processing Emotions:  65%|██████▌   | 1549/2383 [03:10<01:37,  8.54it/s]"
     ]
    },
    {
     "name": "stdout",
     "output_type": "stream",
     "text": [
      "Scores shape: (32, 7), Expected labels: 7\n",
      "Scores shape: (32, 7), Expected labels: 7\n"
     ]
    },
    {
     "name": "stderr",
     "output_type": "stream",
     "text": [
      "Processing Emotions:  65%|██████▌   | 1551/2383 [03:10<01:38,  8.47it/s]"
     ]
    },
    {
     "name": "stdout",
     "output_type": "stream",
     "text": [
      "Scores shape: (32, 7), Expected labels: 7\n",
      "Scores shape: (32, 7), Expected labels: 7\n"
     ]
    },
    {
     "name": "stderr",
     "output_type": "stream",
     "text": [
      "Processing Emotions:  65%|██████▌   | 1553/2383 [03:10<01:37,  8.52it/s]"
     ]
    },
    {
     "name": "stdout",
     "output_type": "stream",
     "text": [
      "Scores shape: (32, 7), Expected labels: 7\n",
      "Scores shape: (32, 7), Expected labels: 7\n"
     ]
    },
    {
     "name": "stderr",
     "output_type": "stream",
     "text": [
      "Processing Emotions:  65%|██████▌   | 1555/2383 [03:10<01:38,  8.39it/s]"
     ]
    },
    {
     "name": "stdout",
     "output_type": "stream",
     "text": [
      "Scores shape: (32, 7), Expected labels: 7\n",
      "Scores shape: (32, 7), Expected labels: 7\n"
     ]
    },
    {
     "name": "stderr",
     "output_type": "stream",
     "text": [
      "Processing Emotions:  65%|██████▌   | 1557/2383 [03:10<01:37,  8.45it/s]"
     ]
    },
    {
     "name": "stdout",
     "output_type": "stream",
     "text": [
      "Scores shape: (32, 7), Expected labels: 7\n",
      "Scores shape: (32, 7), Expected labels: 7\n"
     ]
    },
    {
     "name": "stderr",
     "output_type": "stream",
     "text": [
      "Processing Emotions:  65%|██████▌   | 1559/2383 [03:11<01:37,  8.41it/s]"
     ]
    },
    {
     "name": "stdout",
     "output_type": "stream",
     "text": [
      "Scores shape: (32, 7), Expected labels: 7\n",
      "Scores shape: (32, 7), Expected labels: 7\n"
     ]
    },
    {
     "name": "stderr",
     "output_type": "stream",
     "text": [
      "Processing Emotions:  66%|██████▌   | 1561/2383 [03:11<01:37,  8.39it/s]"
     ]
    },
    {
     "name": "stdout",
     "output_type": "stream",
     "text": [
      "Scores shape: (32, 7), Expected labels: 7\n",
      "Scores shape: (32, 7), Expected labels: 7\n"
     ]
    },
    {
     "name": "stderr",
     "output_type": "stream",
     "text": [
      "Processing Emotions:  66%|██████▌   | 1563/2383 [03:11<01:35,  8.56it/s]"
     ]
    },
    {
     "name": "stdout",
     "output_type": "stream",
     "text": [
      "Scores shape: (32, 7), Expected labels: 7\n",
      "Scores shape: (32, 7), Expected labels: 7\n"
     ]
    },
    {
     "name": "stderr",
     "output_type": "stream",
     "text": [
      "Processing Emotions:  66%|██████▌   | 1565/2383 [03:11<01:36,  8.43it/s]"
     ]
    },
    {
     "name": "stdout",
     "output_type": "stream",
     "text": [
      "Scores shape: (32, 7), Expected labels: 7\n",
      "Scores shape: (32, 7), Expected labels: 7\n"
     ]
    },
    {
     "name": "stderr",
     "output_type": "stream",
     "text": [
      "Processing Emotions:  66%|██████▌   | 1567/2383 [03:12<01:37,  8.40it/s]"
     ]
    },
    {
     "name": "stdout",
     "output_type": "stream",
     "text": [
      "Scores shape: (32, 7), Expected labels: 7\n",
      "Scores shape: (32, 7), Expected labels: 7\n"
     ]
    },
    {
     "name": "stderr",
     "output_type": "stream",
     "text": [
      "Processing Emotions:  66%|██████▌   | 1569/2383 [03:12<01:37,  8.35it/s]"
     ]
    },
    {
     "name": "stdout",
     "output_type": "stream",
     "text": [
      "Scores shape: (32, 7), Expected labels: 7\n",
      "Scores shape: (32, 7), Expected labels: 7\n"
     ]
    },
    {
     "name": "stderr",
     "output_type": "stream",
     "text": [
      "Processing Emotions:  66%|██████▌   | 1571/2383 [03:12<01:34,  8.57it/s]"
     ]
    },
    {
     "name": "stdout",
     "output_type": "stream",
     "text": [
      "Scores shape: (32, 7), Expected labels: 7\n",
      "Scores shape: (32, 7), Expected labels: 7\n"
     ]
    },
    {
     "name": "stderr",
     "output_type": "stream",
     "text": [
      "Processing Emotions:  66%|██████▌   | 1573/2383 [03:12<01:35,  8.52it/s]"
     ]
    },
    {
     "name": "stdout",
     "output_type": "stream",
     "text": [
      "Scores shape: (32, 7), Expected labels: 7\n",
      "Scores shape: (32, 7), Expected labels: 7\n"
     ]
    },
    {
     "name": "stderr",
     "output_type": "stream",
     "text": [
      "Processing Emotions:  66%|██████▌   | 1575/2383 [03:13<01:33,  8.61it/s]"
     ]
    },
    {
     "name": "stdout",
     "output_type": "stream",
     "text": [
      "Scores shape: (32, 7), Expected labels: 7\n",
      "Scores shape: (32, 7), Expected labels: 7\n"
     ]
    },
    {
     "name": "stderr",
     "output_type": "stream",
     "text": [
      "Processing Emotions:  66%|██████▌   | 1577/2383 [03:13<01:34,  8.55it/s]"
     ]
    },
    {
     "name": "stdout",
     "output_type": "stream",
     "text": [
      "Scores shape: (32, 7), Expected labels: 7\n",
      "Scores shape: (32, 7), Expected labels: 7\n"
     ]
    },
    {
     "name": "stderr",
     "output_type": "stream",
     "text": [
      "Processing Emotions:  66%|██████▋   | 1579/2383 [03:13<01:33,  8.60it/s]"
     ]
    },
    {
     "name": "stdout",
     "output_type": "stream",
     "text": [
      "Scores shape: (32, 7), Expected labels: 7\n",
      "Scores shape: (32, 7), Expected labels: 7\n"
     ]
    },
    {
     "name": "stderr",
     "output_type": "stream",
     "text": [
      "Processing Emotions:  66%|██████▋   | 1581/2383 [03:13<01:32,  8.70it/s]"
     ]
    },
    {
     "name": "stdout",
     "output_type": "stream",
     "text": [
      "Scores shape: (32, 7), Expected labels: 7\n",
      "Scores shape: (32, 7), Expected labels: 7\n"
     ]
    },
    {
     "name": "stderr",
     "output_type": "stream",
     "text": [
      "Processing Emotions:  66%|██████▋   | 1583/2383 [03:14<01:33,  8.54it/s]"
     ]
    },
    {
     "name": "stdout",
     "output_type": "stream",
     "text": [
      "Scores shape: (32, 7), Expected labels: 7\n",
      "Scores shape: (32, 7), Expected labels: 7\n"
     ]
    },
    {
     "name": "stderr",
     "output_type": "stream",
     "text": [
      "Processing Emotions:  67%|██████▋   | 1585/2383 [03:14<01:32,  8.58it/s]"
     ]
    },
    {
     "name": "stdout",
     "output_type": "stream",
     "text": [
      "Scores shape: (32, 7), Expected labels: 7\n",
      "Scores shape: (32, 7), Expected labels: 7\n"
     ]
    },
    {
     "name": "stderr",
     "output_type": "stream",
     "text": [
      "Processing Emotions:  67%|██████▋   | 1587/2383 [03:14<01:33,  8.52it/s]"
     ]
    },
    {
     "name": "stdout",
     "output_type": "stream",
     "text": [
      "Scores shape: (32, 7), Expected labels: 7\n",
      "Scores shape: (32, 7), Expected labels: 7\n"
     ]
    },
    {
     "name": "stderr",
     "output_type": "stream",
     "text": [
      "Processing Emotions:  67%|██████▋   | 1589/2383 [03:14<01:35,  8.33it/s]"
     ]
    },
    {
     "name": "stdout",
     "output_type": "stream",
     "text": [
      "Scores shape: (32, 7), Expected labels: 7\n",
      "Scores shape: (32, 7), Expected labels: 7\n"
     ]
    },
    {
     "name": "stderr",
     "output_type": "stream",
     "text": [
      "Processing Emotions:  67%|██████▋   | 1591/2383 [03:14<01:36,  8.19it/s]"
     ]
    },
    {
     "name": "stdout",
     "output_type": "stream",
     "text": [
      "Scores shape: (32, 7), Expected labels: 7\n",
      "Scores shape: (32, 7), Expected labels: 7\n"
     ]
    },
    {
     "name": "stderr",
     "output_type": "stream",
     "text": [
      "Processing Emotions:  67%|██████▋   | 1593/2383 [03:15<01:37,  8.12it/s]"
     ]
    },
    {
     "name": "stdout",
     "output_type": "stream",
     "text": [
      "Scores shape: (32, 7), Expected labels: 7\n",
      "Scores shape: (32, 7), Expected labels: 7\n"
     ]
    },
    {
     "name": "stderr",
     "output_type": "stream",
     "text": [
      "Processing Emotions:  67%|██████▋   | 1595/2383 [03:15<01:34,  8.33it/s]"
     ]
    },
    {
     "name": "stdout",
     "output_type": "stream",
     "text": [
      "Scores shape: (32, 7), Expected labels: 7\n",
      "Scores shape: (32, 7), Expected labels: 7\n"
     ]
    },
    {
     "name": "stderr",
     "output_type": "stream",
     "text": [
      "Processing Emotions:  67%|██████▋   | 1597/2383 [03:15<01:35,  8.21it/s]"
     ]
    },
    {
     "name": "stdout",
     "output_type": "stream",
     "text": [
      "Scores shape: (32, 7), Expected labels: 7\n",
      "Scores shape: (32, 7), Expected labels: 7\n"
     ]
    },
    {
     "name": "stderr",
     "output_type": "stream",
     "text": [
      "Processing Emotions:  67%|██████▋   | 1599/2383 [03:15<01:36,  8.15it/s]"
     ]
    },
    {
     "name": "stdout",
     "output_type": "stream",
     "text": [
      "Scores shape: (32, 7), Expected labels: 7\n",
      "Scores shape: (32, 7), Expected labels: 7\n"
     ]
    },
    {
     "name": "stderr",
     "output_type": "stream",
     "text": [
      "Processing Emotions:  67%|██████▋   | 1601/2383 [03:16<01:34,  8.29it/s]"
     ]
    },
    {
     "name": "stdout",
     "output_type": "stream",
     "text": [
      "Scores shape: (32, 7), Expected labels: 7\n",
      "Scores shape: (32, 7), Expected labels: 7\n"
     ]
    },
    {
     "name": "stderr",
     "output_type": "stream",
     "text": [
      "Processing Emotions:  67%|██████▋   | 1603/2383 [03:16<01:35,  8.21it/s]"
     ]
    },
    {
     "name": "stdout",
     "output_type": "stream",
     "text": [
      "Scores shape: (32, 7), Expected labels: 7\n",
      "Scores shape: (32, 7), Expected labels: 7\n"
     ]
    },
    {
     "name": "stderr",
     "output_type": "stream",
     "text": [
      "Processing Emotions:  67%|██████▋   | 1605/2383 [03:16<01:36,  8.08it/s]"
     ]
    },
    {
     "name": "stdout",
     "output_type": "stream",
     "text": [
      "Scores shape: (32, 7), Expected labels: 7\n",
      "Scores shape: (32, 7), Expected labels: 7\n"
     ]
    },
    {
     "name": "stderr",
     "output_type": "stream",
     "text": [
      "Processing Emotions:  67%|██████▋   | 1607/2383 [03:16<01:32,  8.39it/s]"
     ]
    },
    {
     "name": "stdout",
     "output_type": "stream",
     "text": [
      "Scores shape: (32, 7), Expected labels: 7\n",
      "Scores shape: (32, 7), Expected labels: 7\n"
     ]
    },
    {
     "name": "stderr",
     "output_type": "stream",
     "text": [
      "Processing Emotions:  68%|██████▊   | 1609/2383 [03:17<01:34,  8.17it/s]"
     ]
    },
    {
     "name": "stdout",
     "output_type": "stream",
     "text": [
      "Scores shape: (32, 7), Expected labels: 7\n",
      "Scores shape: (32, 7), Expected labels: 7\n"
     ]
    },
    {
     "name": "stderr",
     "output_type": "stream",
     "text": [
      "Processing Emotions:  68%|██████▊   | 1611/2383 [03:17<01:33,  8.28it/s]"
     ]
    },
    {
     "name": "stdout",
     "output_type": "stream",
     "text": [
      "Scores shape: (32, 7), Expected labels: 7\n",
      "Scores shape: (32, 7), Expected labels: 7\n"
     ]
    },
    {
     "name": "stderr",
     "output_type": "stream",
     "text": [
      "Processing Emotions:  68%|██████▊   | 1613/2383 [03:17<01:31,  8.38it/s]"
     ]
    },
    {
     "name": "stdout",
     "output_type": "stream",
     "text": [
      "Scores shape: (32, 7), Expected labels: 7\n",
      "Scores shape: (32, 7), Expected labels: 7\n"
     ]
    },
    {
     "name": "stderr",
     "output_type": "stream",
     "text": [
      "Processing Emotions:  68%|██████▊   | 1615/2383 [03:17<01:34,  8.11it/s]"
     ]
    },
    {
     "name": "stdout",
     "output_type": "stream",
     "text": [
      "Scores shape: (32, 7), Expected labels: 7\n",
      "Scores shape: (32, 7), Expected labels: 7\n"
     ]
    },
    {
     "name": "stderr",
     "output_type": "stream",
     "text": [
      "Processing Emotions:  68%|██████▊   | 1617/2383 [03:18<01:35,  8.05it/s]"
     ]
    },
    {
     "name": "stdout",
     "output_type": "stream",
     "text": [
      "Scores shape: (32, 7), Expected labels: 7\n",
      "Scores shape: (32, 7), Expected labels: 7\n"
     ]
    },
    {
     "name": "stderr",
     "output_type": "stream",
     "text": [
      "Processing Emotions:  68%|██████▊   | 1619/2383 [03:18<01:33,  8.15it/s]"
     ]
    },
    {
     "name": "stdout",
     "output_type": "stream",
     "text": [
      "Scores shape: (32, 7), Expected labels: 7\n",
      "Scores shape: (32, 7), Expected labels: 7\n"
     ]
    },
    {
     "name": "stderr",
     "output_type": "stream",
     "text": [
      "Processing Emotions:  68%|██████▊   | 1621/2383 [03:18<01:33,  8.16it/s]"
     ]
    },
    {
     "name": "stdout",
     "output_type": "stream",
     "text": [
      "Scores shape: (32, 7), Expected labels: 7\n",
      "Scores shape: (32, 7), Expected labels: 7\n"
     ]
    },
    {
     "name": "stderr",
     "output_type": "stream",
     "text": [
      "Processing Emotions:  68%|██████▊   | 1623/2383 [03:18<01:32,  8.20it/s]"
     ]
    },
    {
     "name": "stdout",
     "output_type": "stream",
     "text": [
      "Scores shape: (32, 7), Expected labels: 7\n",
      "Scores shape: (32, 7), Expected labels: 7\n"
     ]
    },
    {
     "name": "stderr",
     "output_type": "stream",
     "text": [
      "Processing Emotions:  68%|██████▊   | 1625/2383 [03:19<01:37,  7.77it/s]"
     ]
    },
    {
     "name": "stdout",
     "output_type": "stream",
     "text": [
      "Scores shape: (32, 7), Expected labels: 7\n",
      "Scores shape: (32, 7), Expected labels: 7\n"
     ]
    },
    {
     "name": "stderr",
     "output_type": "stream",
     "text": [
      "Processing Emotions:  68%|██████▊   | 1627/2383 [03:19<01:37,  7.73it/s]"
     ]
    },
    {
     "name": "stdout",
     "output_type": "stream",
     "text": [
      "Scores shape: (32, 7), Expected labels: 7\n",
      "Scores shape: (32, 7), Expected labels: 7\n"
     ]
    },
    {
     "name": "stderr",
     "output_type": "stream",
     "text": [
      "Processing Emotions:  68%|██████▊   | 1629/2383 [03:19<01:36,  7.77it/s]"
     ]
    },
    {
     "name": "stdout",
     "output_type": "stream",
     "text": [
      "Scores shape: (32, 7), Expected labels: 7\n",
      "Scores shape: (32, 7), Expected labels: 7\n"
     ]
    },
    {
     "name": "stderr",
     "output_type": "stream",
     "text": [
      "Processing Emotions:  68%|██████▊   | 1631/2383 [03:19<01:37,  7.74it/s]"
     ]
    },
    {
     "name": "stdout",
     "output_type": "stream",
     "text": [
      "Scores shape: (32, 7), Expected labels: 7\n",
      "Scores shape: (32, 7), Expected labels: 7\n"
     ]
    },
    {
     "name": "stderr",
     "output_type": "stream",
     "text": [
      "Processing Emotions:  69%|██████▊   | 1633/2383 [03:20<01:37,  7.66it/s]"
     ]
    },
    {
     "name": "stdout",
     "output_type": "stream",
     "text": [
      "Scores shape: (32, 7), Expected labels: 7\n",
      "Scores shape: (32, 7), Expected labels: 7\n"
     ]
    },
    {
     "name": "stderr",
     "output_type": "stream",
     "text": [
      "Processing Emotions:  69%|██████▊   | 1635/2383 [03:20<01:38,  7.59it/s]"
     ]
    },
    {
     "name": "stdout",
     "output_type": "stream",
     "text": [
      "Scores shape: (32, 7), Expected labels: 7\n",
      "Scores shape: (32, 7), Expected labels: 7\n"
     ]
    },
    {
     "name": "stderr",
     "output_type": "stream",
     "text": [
      "Processing Emotions:  69%|██████▊   | 1637/2383 [03:20<01:35,  7.82it/s]"
     ]
    },
    {
     "name": "stdout",
     "output_type": "stream",
     "text": [
      "Scores shape: (32, 7), Expected labels: 7\n",
      "Scores shape: (32, 7), Expected labels: 7\n"
     ]
    },
    {
     "name": "stderr",
     "output_type": "stream",
     "text": [
      "Processing Emotions:  69%|██████▉   | 1639/2383 [03:20<01:35,  7.77it/s]"
     ]
    },
    {
     "name": "stdout",
     "output_type": "stream",
     "text": [
      "Scores shape: (32, 7), Expected labels: 7\n",
      "Scores shape: (32, 7), Expected labels: 7\n"
     ]
    },
    {
     "name": "stderr",
     "output_type": "stream",
     "text": [
      "Processing Emotions:  69%|██████▉   | 1641/2383 [03:21<01:31,  8.13it/s]"
     ]
    },
    {
     "name": "stdout",
     "output_type": "stream",
     "text": [
      "Scores shape: (32, 7), Expected labels: 7\n",
      "Scores shape: (32, 7), Expected labels: 7\n"
     ]
    },
    {
     "name": "stderr",
     "output_type": "stream",
     "text": [
      "Processing Emotions:  69%|██████▉   | 1643/2383 [03:21<01:28,  8.35it/s]"
     ]
    },
    {
     "name": "stdout",
     "output_type": "stream",
     "text": [
      "Scores shape: (32, 7), Expected labels: 7\n",
      "Scores shape: (32, 7), Expected labels: 7\n"
     ]
    },
    {
     "name": "stderr",
     "output_type": "stream",
     "text": [
      "Processing Emotions:  69%|██████▉   | 1645/2383 [03:21<01:27,  8.48it/s]"
     ]
    },
    {
     "name": "stdout",
     "output_type": "stream",
     "text": [
      "Scores shape: (32, 7), Expected labels: 7\n",
      "Scores shape: (32, 7), Expected labels: 7\n"
     ]
    },
    {
     "name": "stderr",
     "output_type": "stream",
     "text": [
      "Processing Emotions:  69%|██████▉   | 1647/2383 [03:21<01:26,  8.49it/s]"
     ]
    },
    {
     "name": "stdout",
     "output_type": "stream",
     "text": [
      "Scores shape: (32, 7), Expected labels: 7\n",
      "Scores shape: (32, 7), Expected labels: 7\n"
     ]
    },
    {
     "name": "stderr",
     "output_type": "stream",
     "text": [
      "Processing Emotions:  69%|██████▉   | 1649/2383 [03:22<01:27,  8.43it/s]"
     ]
    },
    {
     "name": "stdout",
     "output_type": "stream",
     "text": [
      "Scores shape: (32, 7), Expected labels: 7\n",
      "Scores shape: (32, 7), Expected labels: 7\n"
     ]
    },
    {
     "name": "stderr",
     "output_type": "stream",
     "text": [
      "Processing Emotions:  69%|██████▉   | 1651/2383 [03:22<01:26,  8.42it/s]"
     ]
    },
    {
     "name": "stdout",
     "output_type": "stream",
     "text": [
      "Scores shape: (32, 7), Expected labels: 7\n",
      "Scores shape: (32, 7), Expected labels: 7\n"
     ]
    },
    {
     "name": "stderr",
     "output_type": "stream",
     "text": [
      "Processing Emotions:  69%|██████▉   | 1653/2383 [03:22<01:26,  8.44it/s]"
     ]
    },
    {
     "name": "stdout",
     "output_type": "stream",
     "text": [
      "Scores shape: (32, 7), Expected labels: 7\n",
      "Scores shape: (32, 7), Expected labels: 7\n"
     ]
    },
    {
     "name": "stderr",
     "output_type": "stream",
     "text": [
      "Processing Emotions:  69%|██████▉   | 1655/2383 [03:22<01:28,  8.22it/s]"
     ]
    },
    {
     "name": "stdout",
     "output_type": "stream",
     "text": [
      "Scores shape: (32, 7), Expected labels: 7\n",
      "Scores shape: (32, 7), Expected labels: 7\n"
     ]
    },
    {
     "name": "stderr",
     "output_type": "stream",
     "text": [
      "Processing Emotions:  70%|██████▉   | 1657/2383 [03:23<01:25,  8.48it/s]"
     ]
    },
    {
     "name": "stdout",
     "output_type": "stream",
     "text": [
      "Scores shape: (32, 7), Expected labels: 7\n",
      "Scores shape: (32, 7), Expected labels: 7\n"
     ]
    },
    {
     "name": "stderr",
     "output_type": "stream",
     "text": [
      "Processing Emotions:  70%|██████▉   | 1659/2383 [03:23<01:25,  8.46it/s]"
     ]
    },
    {
     "name": "stdout",
     "output_type": "stream",
     "text": [
      "Scores shape: (32, 7), Expected labels: 7\n",
      "Scores shape: (32, 7), Expected labels: 7\n"
     ]
    },
    {
     "name": "stderr",
     "output_type": "stream",
     "text": [
      "Processing Emotions:  70%|██████▉   | 1661/2383 [03:23<01:26,  8.35it/s]"
     ]
    },
    {
     "name": "stdout",
     "output_type": "stream",
     "text": [
      "Scores shape: (32, 7), Expected labels: 7\n",
      "Scores shape: (32, 7), Expected labels: 7\n"
     ]
    },
    {
     "name": "stderr",
     "output_type": "stream",
     "text": [
      "Processing Emotions:  70%|██████▉   | 1663/2383 [03:23<01:25,  8.42it/s]"
     ]
    },
    {
     "name": "stdout",
     "output_type": "stream",
     "text": [
      "Scores shape: (32, 7), Expected labels: 7\n",
      "Scores shape: (32, 7), Expected labels: 7\n"
     ]
    },
    {
     "name": "stderr",
     "output_type": "stream",
     "text": [
      "Processing Emotions:  70%|██████▉   | 1665/2383 [03:24<01:28,  8.14it/s]"
     ]
    },
    {
     "name": "stdout",
     "output_type": "stream",
     "text": [
      "Scores shape: (32, 7), Expected labels: 7\n",
      "Scores shape: (32, 7), Expected labels: 7\n"
     ]
    },
    {
     "name": "stderr",
     "output_type": "stream",
     "text": [
      "Processing Emotions:  70%|██████▉   | 1667/2383 [03:24<01:27,  8.22it/s]"
     ]
    },
    {
     "name": "stdout",
     "output_type": "stream",
     "text": [
      "Scores shape: (32, 7), Expected labels: 7\n",
      "Scores shape: (32, 7), Expected labels: 7\n"
     ]
    },
    {
     "name": "stderr",
     "output_type": "stream",
     "text": [
      "Processing Emotions:  70%|███████   | 1669/2383 [03:24<01:26,  8.23it/s]"
     ]
    },
    {
     "name": "stdout",
     "output_type": "stream",
     "text": [
      "Scores shape: (32, 7), Expected labels: 7\n",
      "Scores shape: (32, 7), Expected labels: 7\n"
     ]
    },
    {
     "name": "stderr",
     "output_type": "stream",
     "text": [
      "Processing Emotions:  70%|███████   | 1671/2383 [03:24<01:24,  8.42it/s]"
     ]
    },
    {
     "name": "stdout",
     "output_type": "stream",
     "text": [
      "Scores shape: (32, 7), Expected labels: 7\n",
      "Scores shape: (32, 7), Expected labels: 7\n"
     ]
    },
    {
     "name": "stderr",
     "output_type": "stream",
     "text": [
      "Processing Emotions:  70%|███████   | 1673/2383 [03:25<01:24,  8.44it/s]"
     ]
    },
    {
     "name": "stdout",
     "output_type": "stream",
     "text": [
      "Scores shape: (32, 7), Expected labels: 7\n",
      "Scores shape: (32, 7), Expected labels: 7\n"
     ]
    },
    {
     "name": "stderr",
     "output_type": "stream",
     "text": [
      "Processing Emotions:  70%|███████   | 1675/2383 [03:25<01:22,  8.60it/s]"
     ]
    },
    {
     "name": "stdout",
     "output_type": "stream",
     "text": [
      "Scores shape: (32, 7), Expected labels: 7\n",
      "Scores shape: (32, 7), Expected labels: 7\n"
     ]
    },
    {
     "name": "stderr",
     "output_type": "stream",
     "text": [
      "Processing Emotions:  70%|███████   | 1677/2383 [03:25<01:24,  8.38it/s]"
     ]
    },
    {
     "name": "stdout",
     "output_type": "stream",
     "text": [
      "Scores shape: (32, 7), Expected labels: 7\n",
      "Scores shape: (32, 7), Expected labels: 7\n"
     ]
    },
    {
     "name": "stderr",
     "output_type": "stream",
     "text": [
      "Processing Emotions:  70%|███████   | 1679/2383 [03:25<01:22,  8.58it/s]"
     ]
    },
    {
     "name": "stdout",
     "output_type": "stream",
     "text": [
      "Scores shape: (32, 7), Expected labels: 7\n",
      "Scores shape: (32, 7), Expected labels: 7\n"
     ]
    },
    {
     "name": "stderr",
     "output_type": "stream",
     "text": [
      "Processing Emotions:  71%|███████   | 1681/2383 [03:25<01:21,  8.56it/s]"
     ]
    },
    {
     "name": "stdout",
     "output_type": "stream",
     "text": [
      "Scores shape: (32, 7), Expected labels: 7\n",
      "Scores shape: (32, 7), Expected labels: 7\n"
     ]
    },
    {
     "name": "stderr",
     "output_type": "stream",
     "text": [
      "Processing Emotions:  71%|███████   | 1683/2383 [03:26<01:21,  8.55it/s]"
     ]
    },
    {
     "name": "stdout",
     "output_type": "stream",
     "text": [
      "Scores shape: (32, 7), Expected labels: 7\n",
      "Scores shape: (32, 7), Expected labels: 7\n"
     ]
    },
    {
     "name": "stderr",
     "output_type": "stream",
     "text": [
      "Processing Emotions:  71%|███████   | 1685/2383 [03:26<01:20,  8.62it/s]"
     ]
    },
    {
     "name": "stdout",
     "output_type": "stream",
     "text": [
      "Scores shape: (32, 7), Expected labels: 7\n",
      "Scores shape: (32, 7), Expected labels: 7\n"
     ]
    },
    {
     "name": "stderr",
     "output_type": "stream",
     "text": [
      "Processing Emotions:  71%|███████   | 1687/2383 [03:26<01:20,  8.69it/s]"
     ]
    },
    {
     "name": "stdout",
     "output_type": "stream",
     "text": [
      "Scores shape: (32, 7), Expected labels: 7\n",
      "Scores shape: (32, 7), Expected labels: 7\n"
     ]
    },
    {
     "name": "stderr",
     "output_type": "stream",
     "text": [
      "Processing Emotions:  71%|███████   | 1689/2383 [03:26<01:20,  8.57it/s]"
     ]
    },
    {
     "name": "stdout",
     "output_type": "stream",
     "text": [
      "Scores shape: (32, 7), Expected labels: 7\n",
      "Scores shape: (32, 7), Expected labels: 7\n"
     ]
    },
    {
     "name": "stderr",
     "output_type": "stream",
     "text": [
      "Processing Emotions:  71%|███████   | 1691/2383 [03:27<01:22,  8.43it/s]"
     ]
    },
    {
     "name": "stdout",
     "output_type": "stream",
     "text": [
      "Scores shape: (32, 7), Expected labels: 7\n",
      "Scores shape: (32, 7), Expected labels: 7\n"
     ]
    },
    {
     "name": "stderr",
     "output_type": "stream",
     "text": [
      "Processing Emotions:  71%|███████   | 1693/2383 [03:27<01:20,  8.57it/s]"
     ]
    },
    {
     "name": "stdout",
     "output_type": "stream",
     "text": [
      "Scores shape: (32, 7), Expected labels: 7\n",
      "Scores shape: (32, 7), Expected labels: 7\n"
     ]
    },
    {
     "name": "stderr",
     "output_type": "stream",
     "text": [
      "Processing Emotions:  71%|███████   | 1695/2383 [03:27<01:21,  8.49it/s]"
     ]
    },
    {
     "name": "stdout",
     "output_type": "stream",
     "text": [
      "Scores shape: (32, 7), Expected labels: 7\n",
      "Scores shape: (32, 7), Expected labels: 7\n"
     ]
    },
    {
     "name": "stderr",
     "output_type": "stream",
     "text": [
      "Processing Emotions:  71%|███████   | 1697/2383 [03:27<01:20,  8.55it/s]"
     ]
    },
    {
     "name": "stdout",
     "output_type": "stream",
     "text": [
      "Scores shape: (32, 7), Expected labels: 7\n",
      "Scores shape: (32, 7), Expected labels: 7\n"
     ]
    },
    {
     "name": "stderr",
     "output_type": "stream",
     "text": [
      "Processing Emotions:  71%|███████▏  | 1699/2383 [03:28<01:19,  8.56it/s]"
     ]
    },
    {
     "name": "stdout",
     "output_type": "stream",
     "text": [
      "Scores shape: (32, 7), Expected labels: 7\n",
      "Scores shape: (32, 7), Expected labels: 7\n"
     ]
    },
    {
     "name": "stderr",
     "output_type": "stream",
     "text": [
      "Processing Emotions:  71%|███████▏  | 1701/2383 [03:28<01:21,  8.32it/s]"
     ]
    },
    {
     "name": "stdout",
     "output_type": "stream",
     "text": [
      "Scores shape: (32, 7), Expected labels: 7\n",
      "Scores shape: (32, 7), Expected labels: 7\n"
     ]
    },
    {
     "name": "stderr",
     "output_type": "stream",
     "text": [
      "Processing Emotions:  71%|███████▏  | 1703/2383 [03:28<01:22,  8.25it/s]"
     ]
    },
    {
     "name": "stdout",
     "output_type": "stream",
     "text": [
      "Scores shape: (32, 7), Expected labels: 7\n",
      "Scores shape: (32, 7), Expected labels: 7\n"
     ]
    },
    {
     "name": "stderr",
     "output_type": "stream",
     "text": [
      "Processing Emotions:  72%|███████▏  | 1705/2383 [03:28<01:22,  8.24it/s]"
     ]
    },
    {
     "name": "stdout",
     "output_type": "stream",
     "text": [
      "Scores shape: (32, 7), Expected labels: 7\n",
      "Scores shape: (32, 7), Expected labels: 7\n"
     ]
    },
    {
     "name": "stderr",
     "output_type": "stream",
     "text": [
      "Processing Emotions:  72%|███████▏  | 1707/2383 [03:29<01:20,  8.42it/s]"
     ]
    },
    {
     "name": "stdout",
     "output_type": "stream",
     "text": [
      "Scores shape: (32, 7), Expected labels: 7\n",
      "Scores shape: (32, 7), Expected labels: 7\n"
     ]
    },
    {
     "name": "stderr",
     "output_type": "stream",
     "text": [
      "Processing Emotions:  72%|███████▏  | 1709/2383 [03:29<01:19,  8.52it/s]"
     ]
    },
    {
     "name": "stdout",
     "output_type": "stream",
     "text": [
      "Scores shape: (32, 7), Expected labels: 7\n",
      "Scores shape: (32, 7), Expected labels: 7\n"
     ]
    },
    {
     "name": "stderr",
     "output_type": "stream",
     "text": [
      "Processing Emotions:  72%|███████▏  | 1711/2383 [03:29<01:18,  8.57it/s]"
     ]
    },
    {
     "name": "stdout",
     "output_type": "stream",
     "text": [
      "Scores shape: (32, 7), Expected labels: 7\n",
      "Scores shape: (32, 7), Expected labels: 7\n"
     ]
    },
    {
     "name": "stderr",
     "output_type": "stream",
     "text": [
      "Processing Emotions:  72%|███████▏  | 1713/2383 [03:29<01:18,  8.55it/s]"
     ]
    },
    {
     "name": "stdout",
     "output_type": "stream",
     "text": [
      "Scores shape: (32, 7), Expected labels: 7\n",
      "Scores shape: (32, 7), Expected labels: 7\n"
     ]
    },
    {
     "name": "stderr",
     "output_type": "stream",
     "text": [
      "Processing Emotions:  72%|███████▏  | 1715/2383 [03:29<01:17,  8.62it/s]"
     ]
    },
    {
     "name": "stdout",
     "output_type": "stream",
     "text": [
      "Scores shape: (32, 7), Expected labels: 7\n",
      "Scores shape: (32, 7), Expected labels: 7\n"
     ]
    },
    {
     "name": "stderr",
     "output_type": "stream",
     "text": [
      "Processing Emotions:  72%|███████▏  | 1717/2383 [03:30<01:16,  8.66it/s]"
     ]
    },
    {
     "name": "stdout",
     "output_type": "stream",
     "text": [
      "Scores shape: (32, 7), Expected labels: 7\n",
      "Scores shape: (32, 7), Expected labels: 7\n"
     ]
    },
    {
     "name": "stderr",
     "output_type": "stream",
     "text": [
      "Processing Emotions:  72%|███████▏  | 1719/2383 [03:30<01:16,  8.66it/s]"
     ]
    },
    {
     "name": "stdout",
     "output_type": "stream",
     "text": [
      "Scores shape: (32, 7), Expected labels: 7\n",
      "Scores shape: (32, 7), Expected labels: 7\n"
     ]
    },
    {
     "name": "stderr",
     "output_type": "stream",
     "text": [
      "Processing Emotions:  72%|███████▏  | 1721/2383 [03:30<01:18,  8.46it/s]"
     ]
    },
    {
     "name": "stdout",
     "output_type": "stream",
     "text": [
      "Scores shape: (32, 7), Expected labels: 7\n",
      "Scores shape: (32, 7), Expected labels: 7\n"
     ]
    },
    {
     "name": "stderr",
     "output_type": "stream",
     "text": [
      "Processing Emotions:  72%|███████▏  | 1723/2383 [03:30<01:19,  8.33it/s]"
     ]
    },
    {
     "name": "stdout",
     "output_type": "stream",
     "text": [
      "Scores shape: (32, 7), Expected labels: 7\n",
      "Scores shape: (32, 7), Expected labels: 7\n"
     ]
    },
    {
     "name": "stderr",
     "output_type": "stream",
     "text": [
      "Processing Emotions:  72%|███████▏  | 1725/2383 [03:31<01:18,  8.38it/s]"
     ]
    },
    {
     "name": "stdout",
     "output_type": "stream",
     "text": [
      "Scores shape: (32, 7), Expected labels: 7\n",
      "Scores shape: (32, 7), Expected labels: 7\n"
     ]
    },
    {
     "name": "stderr",
     "output_type": "stream",
     "text": [
      "Processing Emotions:  72%|███████▏  | 1727/2383 [03:31<01:20,  8.17it/s]"
     ]
    },
    {
     "name": "stdout",
     "output_type": "stream",
     "text": [
      "Scores shape: (32, 7), Expected labels: 7\n",
      "Scores shape: (32, 7), Expected labels: 7\n"
     ]
    },
    {
     "name": "stderr",
     "output_type": "stream",
     "text": [
      "Processing Emotions:  73%|███████▎  | 1729/2383 [03:31<01:19,  8.18it/s]"
     ]
    },
    {
     "name": "stdout",
     "output_type": "stream",
     "text": [
      "Scores shape: (32, 7), Expected labels: 7\n",
      "Scores shape: (32, 7), Expected labels: 7\n"
     ]
    },
    {
     "name": "stderr",
     "output_type": "stream",
     "text": [
      "Processing Emotions:  73%|███████▎  | 1731/2383 [03:31<01:22,  7.87it/s]"
     ]
    },
    {
     "name": "stdout",
     "output_type": "stream",
     "text": [
      "Scores shape: (32, 7), Expected labels: 7\n",
      "Scores shape: (32, 7), Expected labels: 7\n"
     ]
    },
    {
     "name": "stderr",
     "output_type": "stream",
     "text": [
      "Processing Emotions:  73%|███████▎  | 1733/2383 [03:32<01:21,  7.94it/s]"
     ]
    },
    {
     "name": "stdout",
     "output_type": "stream",
     "text": [
      "Scores shape: (32, 7), Expected labels: 7\n",
      "Scores shape: (32, 7), Expected labels: 7\n"
     ]
    },
    {
     "name": "stderr",
     "output_type": "stream",
     "text": [
      "Processing Emotions:  73%|███████▎  | 1735/2383 [03:32<01:22,  7.83it/s]"
     ]
    },
    {
     "name": "stdout",
     "output_type": "stream",
     "text": [
      "Scores shape: (32, 7), Expected labels: 7\n",
      "Scores shape: (32, 7), Expected labels: 7\n"
     ]
    },
    {
     "name": "stderr",
     "output_type": "stream",
     "text": [
      "Processing Emotions:  73%|███████▎  | 1737/2383 [03:32<01:22,  7.88it/s]"
     ]
    },
    {
     "name": "stdout",
     "output_type": "stream",
     "text": [
      "Scores shape: (32, 7), Expected labels: 7\n",
      "Scores shape: (32, 7), Expected labels: 7\n"
     ]
    },
    {
     "name": "stderr",
     "output_type": "stream",
     "text": [
      "Processing Emotions:  73%|███████▎  | 1739/2383 [03:32<01:21,  7.87it/s]"
     ]
    },
    {
     "name": "stdout",
     "output_type": "stream",
     "text": [
      "Scores shape: (32, 7), Expected labels: 7\n",
      "Scores shape: (32, 7), Expected labels: 7\n"
     ]
    },
    {
     "name": "stderr",
     "output_type": "stream",
     "text": [
      "Processing Emotions:  73%|███████▎  | 1741/2383 [03:33<01:21,  7.85it/s]"
     ]
    },
    {
     "name": "stdout",
     "output_type": "stream",
     "text": [
      "Scores shape: (32, 7), Expected labels: 7\n",
      "Scores shape: (32, 7), Expected labels: 7\n"
     ]
    },
    {
     "name": "stderr",
     "output_type": "stream",
     "text": [
      "Processing Emotions:  73%|███████▎  | 1743/2383 [03:33<01:24,  7.59it/s]"
     ]
    },
    {
     "name": "stdout",
     "output_type": "stream",
     "text": [
      "Scores shape: (32, 7), Expected labels: 7\n",
      "Scores shape: (32, 7), Expected labels: 7\n"
     ]
    },
    {
     "name": "stderr",
     "output_type": "stream",
     "text": [
      "Processing Emotions:  73%|███████▎  | 1745/2383 [03:33<01:22,  7.72it/s]"
     ]
    },
    {
     "name": "stdout",
     "output_type": "stream",
     "text": [
      "Scores shape: (32, 7), Expected labels: 7\n",
      "Scores shape: (32, 7), Expected labels: 7\n"
     ]
    },
    {
     "name": "stderr",
     "output_type": "stream",
     "text": [
      "Processing Emotions:  73%|███████▎  | 1747/2383 [03:33<01:24,  7.52it/s]"
     ]
    },
    {
     "name": "stdout",
     "output_type": "stream",
     "text": [
      "Scores shape: (32, 7), Expected labels: 7\n",
      "Scores shape: (32, 7), Expected labels: 7\n"
     ]
    },
    {
     "name": "stderr",
     "output_type": "stream",
     "text": [
      "Processing Emotions:  73%|███████▎  | 1749/2383 [03:34<01:21,  7.81it/s]"
     ]
    },
    {
     "name": "stdout",
     "output_type": "stream",
     "text": [
      "Scores shape: (32, 7), Expected labels: 7\n",
      "Scores shape: (32, 7), Expected labels: 7\n"
     ]
    },
    {
     "name": "stderr",
     "output_type": "stream",
     "text": [
      "Processing Emotions:  73%|███████▎  | 1751/2383 [03:34<01:21,  7.79it/s]"
     ]
    },
    {
     "name": "stdout",
     "output_type": "stream",
     "text": [
      "Scores shape: (32, 7), Expected labels: 7\n",
      "Scores shape: (32, 7), Expected labels: 7\n"
     ]
    },
    {
     "name": "stderr",
     "output_type": "stream",
     "text": [
      "Processing Emotions:  74%|███████▎  | 1753/2383 [03:34<01:17,  8.18it/s]"
     ]
    },
    {
     "name": "stdout",
     "output_type": "stream",
     "text": [
      "Scores shape: (32, 7), Expected labels: 7\n",
      "Scores shape: (32, 7), Expected labels: 7\n"
     ]
    },
    {
     "name": "stderr",
     "output_type": "stream",
     "text": [
      "Processing Emotions:  74%|███████▎  | 1755/2383 [03:34<01:15,  8.26it/s]"
     ]
    },
    {
     "name": "stdout",
     "output_type": "stream",
     "text": [
      "Scores shape: (32, 7), Expected labels: 7\n",
      "Scores shape: (32, 7), Expected labels: 7\n"
     ]
    },
    {
     "name": "stderr",
     "output_type": "stream",
     "text": [
      "Processing Emotions:  74%|███████▎  | 1757/2383 [03:35<01:14,  8.42it/s]"
     ]
    },
    {
     "name": "stdout",
     "output_type": "stream",
     "text": [
      "Scores shape: (32, 7), Expected labels: 7\n",
      "Scores shape: (32, 7), Expected labels: 7\n"
     ]
    },
    {
     "name": "stderr",
     "output_type": "stream",
     "text": [
      "Processing Emotions:  74%|███████▍  | 1759/2383 [03:35<01:13,  8.48it/s]"
     ]
    },
    {
     "name": "stdout",
     "output_type": "stream",
     "text": [
      "Scores shape: (32, 7), Expected labels: 7\n",
      "Scores shape: (32, 7), Expected labels: 7\n"
     ]
    },
    {
     "name": "stderr",
     "output_type": "stream",
     "text": [
      "Processing Emotions:  74%|███████▍  | 1761/2383 [03:35<01:14,  8.37it/s]"
     ]
    },
    {
     "name": "stdout",
     "output_type": "stream",
     "text": [
      "Scores shape: (32, 7), Expected labels: 7\n",
      "Scores shape: (32, 7), Expected labels: 7\n"
     ]
    },
    {
     "name": "stderr",
     "output_type": "stream",
     "text": [
      "Processing Emotions:  74%|███████▍  | 1763/2383 [03:35<01:16,  8.05it/s]"
     ]
    },
    {
     "name": "stdout",
     "output_type": "stream",
     "text": [
      "Scores shape: (32, 7), Expected labels: 7\n",
      "Scores shape: (32, 7), Expected labels: 7\n"
     ]
    },
    {
     "name": "stderr",
     "output_type": "stream",
     "text": [
      "Processing Emotions:  74%|███████▍  | 1765/2383 [03:36<01:14,  8.29it/s]"
     ]
    },
    {
     "name": "stdout",
     "output_type": "stream",
     "text": [
      "Scores shape: (32, 7), Expected labels: 7\n",
      "Scores shape: (32, 7), Expected labels: 7\n"
     ]
    },
    {
     "name": "stderr",
     "output_type": "stream",
     "text": [
      "Processing Emotions:  74%|███████▍  | 1767/2383 [03:36<01:12,  8.47it/s]"
     ]
    },
    {
     "name": "stdout",
     "output_type": "stream",
     "text": [
      "Scores shape: (32, 7), Expected labels: 7\n",
      "Scores shape: (32, 7), Expected labels: 7\n"
     ]
    },
    {
     "name": "stderr",
     "output_type": "stream",
     "text": [
      "Processing Emotions:  74%|███████▍  | 1769/2383 [03:36<01:12,  8.52it/s]"
     ]
    },
    {
     "name": "stdout",
     "output_type": "stream",
     "text": [
      "Scores shape: (32, 7), Expected labels: 7\n",
      "Scores shape: (32, 7), Expected labels: 7\n"
     ]
    },
    {
     "name": "stderr",
     "output_type": "stream",
     "text": [
      "Processing Emotions:  74%|███████▍  | 1771/2383 [03:36<01:13,  8.35it/s]"
     ]
    },
    {
     "name": "stdout",
     "output_type": "stream",
     "text": [
      "Scores shape: (32, 7), Expected labels: 7\n",
      "Scores shape: (32, 7), Expected labels: 7\n"
     ]
    },
    {
     "name": "stderr",
     "output_type": "stream",
     "text": [
      "Processing Emotions:  74%|███████▍  | 1773/2383 [03:37<01:11,  8.58it/s]"
     ]
    },
    {
     "name": "stdout",
     "output_type": "stream",
     "text": [
      "Scores shape: (32, 7), Expected labels: 7\n",
      "Scores shape: (32, 7), Expected labels: 7\n"
     ]
    },
    {
     "name": "stderr",
     "output_type": "stream",
     "text": [
      "Processing Emotions:  74%|███████▍  | 1775/2383 [03:37<01:12,  8.41it/s]"
     ]
    },
    {
     "name": "stdout",
     "output_type": "stream",
     "text": [
      "Scores shape: (32, 7), Expected labels: 7\n",
      "Scores shape: (32, 7), Expected labels: 7\n"
     ]
    },
    {
     "name": "stderr",
     "output_type": "stream",
     "text": [
      "Processing Emotions:  75%|███████▍  | 1777/2383 [03:37<01:14,  8.09it/s]"
     ]
    },
    {
     "name": "stdout",
     "output_type": "stream",
     "text": [
      "Scores shape: (32, 7), Expected labels: 7\n",
      "Scores shape: (32, 7), Expected labels: 7\n"
     ]
    },
    {
     "name": "stderr",
     "output_type": "stream",
     "text": [
      "Processing Emotions:  75%|███████▍  | 1779/2383 [03:37<01:13,  8.23it/s]"
     ]
    },
    {
     "name": "stdout",
     "output_type": "stream",
     "text": [
      "Scores shape: (32, 7), Expected labels: 7\n",
      "Scores shape: (32, 7), Expected labels: 7\n"
     ]
    },
    {
     "name": "stderr",
     "output_type": "stream",
     "text": [
      "Processing Emotions:  75%|███████▍  | 1781/2383 [03:38<01:12,  8.28it/s]"
     ]
    },
    {
     "name": "stdout",
     "output_type": "stream",
     "text": [
      "Scores shape: (32, 7), Expected labels: 7\n",
      "Scores shape: (32, 7), Expected labels: 7\n"
     ]
    },
    {
     "name": "stderr",
     "output_type": "stream",
     "text": [
      "Processing Emotions:  75%|███████▍  | 1783/2383 [03:38<01:12,  8.30it/s]"
     ]
    },
    {
     "name": "stdout",
     "output_type": "stream",
     "text": [
      "Scores shape: (32, 7), Expected labels: 7\n",
      "Scores shape: (32, 7), Expected labels: 7\n"
     ]
    },
    {
     "name": "stderr",
     "output_type": "stream",
     "text": [
      "Processing Emotions:  75%|███████▍  | 1785/2383 [03:38<01:12,  8.28it/s]"
     ]
    },
    {
     "name": "stdout",
     "output_type": "stream",
     "text": [
      "Scores shape: (32, 7), Expected labels: 7\n",
      "Scores shape: (32, 7), Expected labels: 7\n"
     ]
    },
    {
     "name": "stderr",
     "output_type": "stream",
     "text": [
      "Processing Emotions:  75%|███████▍  | 1787/2383 [03:38<01:11,  8.31it/s]"
     ]
    },
    {
     "name": "stdout",
     "output_type": "stream",
     "text": [
      "Scores shape: (32, 7), Expected labels: 7\n",
      "Scores shape: (32, 7), Expected labels: 7\n"
     ]
    },
    {
     "name": "stderr",
     "output_type": "stream",
     "text": [
      "Processing Emotions:  75%|███████▌  | 1789/2383 [03:39<01:12,  8.24it/s]"
     ]
    },
    {
     "name": "stdout",
     "output_type": "stream",
     "text": [
      "Scores shape: (32, 7), Expected labels: 7\n",
      "Scores shape: (32, 7), Expected labels: 7\n"
     ]
    },
    {
     "name": "stderr",
     "output_type": "stream",
     "text": [
      "Processing Emotions:  75%|███████▌  | 1791/2383 [03:39<01:10,  8.34it/s]"
     ]
    },
    {
     "name": "stdout",
     "output_type": "stream",
     "text": [
      "Scores shape: (32, 7), Expected labels: 7\n",
      "Scores shape: (32, 7), Expected labels: 7\n"
     ]
    },
    {
     "name": "stderr",
     "output_type": "stream",
     "text": [
      "Processing Emotions:  75%|███████▌  | 1793/2383 [03:39<01:09,  8.46it/s]"
     ]
    },
    {
     "name": "stdout",
     "output_type": "stream",
     "text": [
      "Scores shape: (32, 7), Expected labels: 7\n",
      "Scores shape: (32, 7), Expected labels: 7\n"
     ]
    },
    {
     "name": "stderr",
     "output_type": "stream",
     "text": [
      "Processing Emotions:  75%|███████▌  | 1795/2383 [03:39<01:11,  8.19it/s]"
     ]
    },
    {
     "name": "stdout",
     "output_type": "stream",
     "text": [
      "Scores shape: (32, 7), Expected labels: 7\n",
      "Scores shape: (32, 7), Expected labels: 7\n"
     ]
    },
    {
     "name": "stderr",
     "output_type": "stream",
     "text": [
      "Processing Emotions:  75%|███████▌  | 1797/2383 [03:39<01:11,  8.16it/s]"
     ]
    },
    {
     "name": "stdout",
     "output_type": "stream",
     "text": [
      "Scores shape: (32, 7), Expected labels: 7\n",
      "Scores shape: (32, 7), Expected labels: 7\n"
     ]
    },
    {
     "name": "stderr",
     "output_type": "stream",
     "text": [
      "Processing Emotions:  75%|███████▌  | 1799/2383 [03:40<01:10,  8.29it/s]"
     ]
    },
    {
     "name": "stdout",
     "output_type": "stream",
     "text": [
      "Scores shape: (32, 7), Expected labels: 7\n",
      "Scores shape: (32, 7), Expected labels: 7\n"
     ]
    },
    {
     "name": "stderr",
     "output_type": "stream",
     "text": [
      "Processing Emotions:  76%|███████▌  | 1801/2383 [03:40<01:08,  8.54it/s]"
     ]
    },
    {
     "name": "stdout",
     "output_type": "stream",
     "text": [
      "Scores shape: (32, 7), Expected labels: 7\n",
      "Scores shape: (32, 7), Expected labels: 7\n"
     ]
    },
    {
     "name": "stderr",
     "output_type": "stream",
     "text": [
      "Processing Emotions:  76%|███████▌  | 1803/2383 [03:40<01:07,  8.55it/s]"
     ]
    },
    {
     "name": "stdout",
     "output_type": "stream",
     "text": [
      "Scores shape: (32, 7), Expected labels: 7\n",
      "Scores shape: (32, 7), Expected labels: 7\n"
     ]
    },
    {
     "name": "stderr",
     "output_type": "stream",
     "text": [
      "Processing Emotions:  76%|███████▌  | 1805/2383 [03:40<01:07,  8.50it/s]"
     ]
    },
    {
     "name": "stdout",
     "output_type": "stream",
     "text": [
      "Scores shape: (32, 7), Expected labels: 7\n",
      "Scores shape: (32, 7), Expected labels: 7\n"
     ]
    },
    {
     "name": "stderr",
     "output_type": "stream",
     "text": [
      "Processing Emotions:  76%|███████▌  | 1807/2383 [03:41<01:08,  8.41it/s]"
     ]
    },
    {
     "name": "stdout",
     "output_type": "stream",
     "text": [
      "Scores shape: (32, 7), Expected labels: 7\n",
      "Scores shape: (32, 7), Expected labels: 7\n"
     ]
    },
    {
     "name": "stderr",
     "output_type": "stream",
     "text": [
      "Processing Emotions:  76%|███████▌  | 1809/2383 [03:41<01:07,  8.53it/s]"
     ]
    },
    {
     "name": "stdout",
     "output_type": "stream",
     "text": [
      "Scores shape: (32, 7), Expected labels: 7\n",
      "Scores shape: (32, 7), Expected labels: 7\n"
     ]
    },
    {
     "name": "stderr",
     "output_type": "stream",
     "text": [
      "Processing Emotions:  76%|███████▌  | 1811/2383 [03:41<01:07,  8.50it/s]"
     ]
    },
    {
     "name": "stdout",
     "output_type": "stream",
     "text": [
      "Scores shape: (32, 7), Expected labels: 7\n",
      "Scores shape: (32, 7), Expected labels: 7\n"
     ]
    },
    {
     "name": "stderr",
     "output_type": "stream",
     "text": [
      "Processing Emotions:  76%|███████▌  | 1813/2383 [03:41<01:06,  8.52it/s]"
     ]
    },
    {
     "name": "stdout",
     "output_type": "stream",
     "text": [
      "Scores shape: (32, 7), Expected labels: 7\n",
      "Scores shape: (32, 7), Expected labels: 7\n"
     ]
    },
    {
     "name": "stderr",
     "output_type": "stream",
     "text": [
      "Processing Emotions:  76%|███████▌  | 1815/2383 [03:42<01:06,  8.53it/s]"
     ]
    },
    {
     "name": "stdout",
     "output_type": "stream",
     "text": [
      "Scores shape: (32, 7), Expected labels: 7\n",
      "Scores shape: (32, 7), Expected labels: 7\n"
     ]
    },
    {
     "name": "stderr",
     "output_type": "stream",
     "text": [
      "Processing Emotions:  76%|███████▌  | 1817/2383 [03:42<01:07,  8.35it/s]"
     ]
    },
    {
     "name": "stdout",
     "output_type": "stream",
     "text": [
      "Scores shape: (32, 7), Expected labels: 7\n",
      "Scores shape: (32, 7), Expected labels: 7\n"
     ]
    },
    {
     "name": "stderr",
     "output_type": "stream",
     "text": [
      "Processing Emotions:  76%|███████▋  | 1819/2383 [03:42<01:06,  8.43it/s]"
     ]
    },
    {
     "name": "stdout",
     "output_type": "stream",
     "text": [
      "Scores shape: (32, 7), Expected labels: 7\n",
      "Scores shape: (32, 7), Expected labels: 7\n"
     ]
    },
    {
     "name": "stderr",
     "output_type": "stream",
     "text": [
      "Processing Emotions:  76%|███████▋  | 1821/2383 [03:42<01:05,  8.61it/s]"
     ]
    },
    {
     "name": "stdout",
     "output_type": "stream",
     "text": [
      "Scores shape: (32, 7), Expected labels: 7\n",
      "Scores shape: (32, 7), Expected labels: 7\n"
     ]
    },
    {
     "name": "stderr",
     "output_type": "stream",
     "text": [
      "Processing Emotions:  77%|███████▋  | 1823/2383 [03:43<01:06,  8.39it/s]"
     ]
    },
    {
     "name": "stdout",
     "output_type": "stream",
     "text": [
      "Scores shape: (32, 7), Expected labels: 7\n",
      "Scores shape: (32, 7), Expected labels: 7\n"
     ]
    },
    {
     "name": "stderr",
     "output_type": "stream",
     "text": [
      "Processing Emotions:  77%|███████▋  | 1825/2383 [03:43<01:05,  8.55it/s]"
     ]
    },
    {
     "name": "stdout",
     "output_type": "stream",
     "text": [
      "Scores shape: (32, 7), Expected labels: 7\n",
      "Scores shape: (32, 7), Expected labels: 7\n"
     ]
    },
    {
     "name": "stderr",
     "output_type": "stream",
     "text": [
      "Processing Emotions:  77%|███████▋  | 1827/2383 [03:43<01:04,  8.57it/s]"
     ]
    },
    {
     "name": "stdout",
     "output_type": "stream",
     "text": [
      "Scores shape: (32, 7), Expected labels: 7\n",
      "Scores shape: (32, 7), Expected labels: 7\n"
     ]
    },
    {
     "name": "stderr",
     "output_type": "stream",
     "text": [
      "Processing Emotions:  77%|███████▋  | 1829/2383 [03:43<01:05,  8.47it/s]"
     ]
    },
    {
     "name": "stdout",
     "output_type": "stream",
     "text": [
      "Scores shape: (32, 7), Expected labels: 7\n",
      "Scores shape: (32, 7), Expected labels: 7\n"
     ]
    },
    {
     "name": "stderr",
     "output_type": "stream",
     "text": [
      "Processing Emotions:  77%|███████▋  | 1831/2383 [03:43<01:04,  8.54it/s]"
     ]
    },
    {
     "name": "stdout",
     "output_type": "stream",
     "text": [
      "Scores shape: (32, 7), Expected labels: 7\n",
      "Scores shape: (32, 7), Expected labels: 7\n"
     ]
    },
    {
     "name": "stderr",
     "output_type": "stream",
     "text": [
      "Processing Emotions:  77%|███████▋  | 1833/2383 [03:44<01:03,  8.67it/s]"
     ]
    },
    {
     "name": "stdout",
     "output_type": "stream",
     "text": [
      "Scores shape: (32, 7), Expected labels: 7\n",
      "Scores shape: (32, 7), Expected labels: 7\n"
     ]
    },
    {
     "name": "stderr",
     "output_type": "stream",
     "text": [
      "Processing Emotions:  77%|███████▋  | 1835/2383 [03:44<01:04,  8.49it/s]"
     ]
    },
    {
     "name": "stdout",
     "output_type": "stream",
     "text": [
      "Scores shape: (32, 7), Expected labels: 7\n",
      "Scores shape: (32, 7), Expected labels: 7\n"
     ]
    },
    {
     "name": "stderr",
     "output_type": "stream",
     "text": [
      "Processing Emotions:  77%|███████▋  | 1837/2383 [03:44<01:06,  8.18it/s]"
     ]
    },
    {
     "name": "stdout",
     "output_type": "stream",
     "text": [
      "Scores shape: (32, 7), Expected labels: 7\n",
      "Scores shape: (32, 7), Expected labels: 7\n"
     ]
    },
    {
     "name": "stderr",
     "output_type": "stream",
     "text": [
      "Processing Emotions:  77%|███████▋  | 1839/2383 [03:44<01:07,  8.10it/s]"
     ]
    },
    {
     "name": "stdout",
     "output_type": "stream",
     "text": [
      "Scores shape: (32, 7), Expected labels: 7\n",
      "Scores shape: (32, 7), Expected labels: 7\n"
     ]
    },
    {
     "name": "stderr",
     "output_type": "stream",
     "text": [
      "Processing Emotions:  77%|███████▋  | 1841/2383 [03:45<01:06,  8.12it/s]"
     ]
    },
    {
     "name": "stdout",
     "output_type": "stream",
     "text": [
      "Scores shape: (32, 7), Expected labels: 7\n",
      "Scores shape: (32, 7), Expected labels: 7\n"
     ]
    },
    {
     "name": "stderr",
     "output_type": "stream",
     "text": [
      "Processing Emotions:  77%|███████▋  | 1843/2383 [03:45<01:06,  8.08it/s]"
     ]
    },
    {
     "name": "stdout",
     "output_type": "stream",
     "text": [
      "Scores shape: (32, 7), Expected labels: 7\n",
      "Scores shape: (32, 7), Expected labels: 7\n"
     ]
    },
    {
     "name": "stderr",
     "output_type": "stream",
     "text": [
      "Processing Emotions:  77%|███████▋  | 1845/2383 [03:45<01:13,  7.30it/s]"
     ]
    },
    {
     "name": "stdout",
     "output_type": "stream",
     "text": [
      "Scores shape: (32, 7), Expected labels: 7\n",
      "Scores shape: (32, 7), Expected labels: 7\n"
     ]
    },
    {
     "name": "stderr",
     "output_type": "stream",
     "text": [
      "Processing Emotions:  78%|███████▊  | 1847/2383 [03:46<01:11,  7.46it/s]"
     ]
    },
    {
     "name": "stdout",
     "output_type": "stream",
     "text": [
      "Scores shape: (32, 7), Expected labels: 7\n",
      "Scores shape: (32, 7), Expected labels: 7\n"
     ]
    },
    {
     "name": "stderr",
     "output_type": "stream",
     "text": [
      "Processing Emotions:  78%|███████▊  | 1849/2383 [03:46<01:12,  7.32it/s]"
     ]
    },
    {
     "name": "stdout",
     "output_type": "stream",
     "text": [
      "Scores shape: (32, 7), Expected labels: 7\n",
      "Scores shape: (32, 7), Expected labels: 7\n"
     ]
    },
    {
     "name": "stderr",
     "output_type": "stream",
     "text": [
      "Processing Emotions:  78%|███████▊  | 1851/2383 [03:46<01:10,  7.57it/s]"
     ]
    },
    {
     "name": "stdout",
     "output_type": "stream",
     "text": [
      "Scores shape: (32, 7), Expected labels: 7\n",
      "Scores shape: (32, 7), Expected labels: 7\n"
     ]
    },
    {
     "name": "stderr",
     "output_type": "stream",
     "text": [
      "Processing Emotions:  78%|███████▊  | 1853/2383 [03:46<01:11,  7.41it/s]"
     ]
    },
    {
     "name": "stdout",
     "output_type": "stream",
     "text": [
      "Scores shape: (32, 7), Expected labels: 7\n",
      "Scores shape: (32, 7), Expected labels: 7\n"
     ]
    },
    {
     "name": "stderr",
     "output_type": "stream",
     "text": [
      "Processing Emotions:  78%|███████▊  | 1855/2383 [03:47<01:09,  7.59it/s]"
     ]
    },
    {
     "name": "stdout",
     "output_type": "stream",
     "text": [
      "Scores shape: (32, 7), Expected labels: 7\n",
      "Scores shape: (32, 7), Expected labels: 7\n"
     ]
    },
    {
     "name": "stderr",
     "output_type": "stream",
     "text": [
      "Processing Emotions:  78%|███████▊  | 1857/2383 [03:47<01:08,  7.73it/s]"
     ]
    },
    {
     "name": "stdout",
     "output_type": "stream",
     "text": [
      "Scores shape: (32, 7), Expected labels: 7\n",
      "Scores shape: (32, 7), Expected labels: 7\n"
     ]
    },
    {
     "name": "stderr",
     "output_type": "stream",
     "text": [
      "Processing Emotions:  78%|███████▊  | 1859/2383 [03:47<01:06,  7.83it/s]"
     ]
    },
    {
     "name": "stdout",
     "output_type": "stream",
     "text": [
      "Scores shape: (32, 7), Expected labels: 7\n",
      "Scores shape: (32, 7), Expected labels: 7\n"
     ]
    },
    {
     "name": "stderr",
     "output_type": "stream",
     "text": [
      "Processing Emotions:  78%|███████▊  | 1861/2383 [03:47<01:12,  7.21it/s]"
     ]
    },
    {
     "name": "stdout",
     "output_type": "stream",
     "text": [
      "Scores shape: (32, 7), Expected labels: 7\n",
      "Scores shape: (32, 7), Expected labels: 7\n"
     ]
    },
    {
     "name": "stderr",
     "output_type": "stream",
     "text": [
      "Processing Emotions:  78%|███████▊  | 1863/2383 [03:48<01:11,  7.26it/s]"
     ]
    },
    {
     "name": "stdout",
     "output_type": "stream",
     "text": [
      "Scores shape: (32, 7), Expected labels: 7\n",
      "Scores shape: (32, 7), Expected labels: 7\n"
     ]
    },
    {
     "name": "stderr",
     "output_type": "stream",
     "text": [
      "Processing Emotions:  78%|███████▊  | 1865/2383 [03:48<01:05,  7.95it/s]"
     ]
    },
    {
     "name": "stdout",
     "output_type": "stream",
     "text": [
      "Scores shape: (32, 7), Expected labels: 7\n",
      "Scores shape: (32, 7), Expected labels: 7\n"
     ]
    },
    {
     "name": "stderr",
     "output_type": "stream",
     "text": [
      "Processing Emotions:  78%|███████▊  | 1867/2383 [03:48<01:02,  8.28it/s]"
     ]
    },
    {
     "name": "stdout",
     "output_type": "stream",
     "text": [
      "Scores shape: (32, 7), Expected labels: 7\n",
      "Scores shape: (32, 7), Expected labels: 7\n"
     ]
    },
    {
     "name": "stderr",
     "output_type": "stream",
     "text": [
      "Processing Emotions:  78%|███████▊  | 1869/2383 [03:48<01:00,  8.43it/s]"
     ]
    },
    {
     "name": "stdout",
     "output_type": "stream",
     "text": [
      "Scores shape: (32, 7), Expected labels: 7\n",
      "Scores shape: (32, 7), Expected labels: 7\n"
     ]
    },
    {
     "name": "stderr",
     "output_type": "stream",
     "text": [
      "Processing Emotions:  79%|███████▊  | 1871/2383 [03:49<01:01,  8.39it/s]"
     ]
    },
    {
     "name": "stdout",
     "output_type": "stream",
     "text": [
      "Scores shape: (32, 7), Expected labels: 7\n",
      "Scores shape: (32, 7), Expected labels: 7\n"
     ]
    },
    {
     "name": "stderr",
     "output_type": "stream",
     "text": [
      "Processing Emotions:  79%|███████▊  | 1873/2383 [03:49<00:59,  8.56it/s]"
     ]
    },
    {
     "name": "stdout",
     "output_type": "stream",
     "text": [
      "Scores shape: (32, 7), Expected labels: 7\n",
      "Scores shape: (32, 7), Expected labels: 7\n"
     ]
    },
    {
     "name": "stderr",
     "output_type": "stream",
     "text": [
      "Processing Emotions:  79%|███████▊  | 1875/2383 [03:49<01:00,  8.39it/s]"
     ]
    },
    {
     "name": "stdout",
     "output_type": "stream",
     "text": [
      "Scores shape: (32, 7), Expected labels: 7\n",
      "Scores shape: (32, 7), Expected labels: 7\n"
     ]
    },
    {
     "name": "stderr",
     "output_type": "stream",
     "text": [
      "Processing Emotions:  79%|███████▉  | 1877/2383 [03:49<01:00,  8.43it/s]"
     ]
    },
    {
     "name": "stdout",
     "output_type": "stream",
     "text": [
      "Scores shape: (32, 7), Expected labels: 7\n",
      "Scores shape: (32, 7), Expected labels: 7\n"
     ]
    },
    {
     "name": "stderr",
     "output_type": "stream",
     "text": [
      "Processing Emotions:  79%|███████▉  | 1879/2383 [03:50<01:00,  8.38it/s]"
     ]
    },
    {
     "name": "stdout",
     "output_type": "stream",
     "text": [
      "Scores shape: (32, 7), Expected labels: 7\n",
      "Scores shape: (32, 7), Expected labels: 7\n"
     ]
    },
    {
     "name": "stderr",
     "output_type": "stream",
     "text": [
      "Processing Emotions:  79%|███████▉  | 1881/2383 [03:50<00:59,  8.47it/s]"
     ]
    },
    {
     "name": "stdout",
     "output_type": "stream",
     "text": [
      "Scores shape: (32, 7), Expected labels: 7\n",
      "Scores shape: (32, 7), Expected labels: 7\n"
     ]
    },
    {
     "name": "stderr",
     "output_type": "stream",
     "text": [
      "Processing Emotions:  79%|███████▉  | 1883/2383 [03:50<00:59,  8.35it/s]"
     ]
    },
    {
     "name": "stdout",
     "output_type": "stream",
     "text": [
      "Scores shape: (32, 7), Expected labels: 7\n",
      "Scores shape: (32, 7), Expected labels: 7\n"
     ]
    },
    {
     "name": "stderr",
     "output_type": "stream",
     "text": [
      "Processing Emotions:  79%|███████▉  | 1885/2383 [03:50<00:58,  8.46it/s]"
     ]
    },
    {
     "name": "stdout",
     "output_type": "stream",
     "text": [
      "Scores shape: (32, 7), Expected labels: 7\n",
      "Scores shape: (32, 7), Expected labels: 7\n"
     ]
    },
    {
     "name": "stderr",
     "output_type": "stream",
     "text": [
      "Processing Emotions:  79%|███████▉  | 1887/2383 [03:51<00:59,  8.39it/s]"
     ]
    },
    {
     "name": "stdout",
     "output_type": "stream",
     "text": [
      "Scores shape: (32, 7), Expected labels: 7\n",
      "Scores shape: (32, 7), Expected labels: 7\n"
     ]
    },
    {
     "name": "stderr",
     "output_type": "stream",
     "text": [
      "Processing Emotions:  79%|███████▉  | 1889/2383 [03:51<00:59,  8.27it/s]"
     ]
    },
    {
     "name": "stdout",
     "output_type": "stream",
     "text": [
      "Scores shape: (32, 7), Expected labels: 7\n",
      "Scores shape: (32, 7), Expected labels: 7\n"
     ]
    },
    {
     "name": "stderr",
     "output_type": "stream",
     "text": [
      "Processing Emotions:  79%|███████▉  | 1891/2383 [03:51<00:59,  8.28it/s]"
     ]
    },
    {
     "name": "stdout",
     "output_type": "stream",
     "text": [
      "Scores shape: (32, 7), Expected labels: 7\n",
      "Scores shape: (32, 7), Expected labels: 7\n"
     ]
    },
    {
     "name": "stderr",
     "output_type": "stream",
     "text": [
      "Processing Emotions:  79%|███████▉  | 1893/2383 [03:51<00:57,  8.50it/s]"
     ]
    },
    {
     "name": "stdout",
     "output_type": "stream",
     "text": [
      "Scores shape: (32, 7), Expected labels: 7\n",
      "Scores shape: (32, 7), Expected labels: 7\n"
     ]
    },
    {
     "name": "stderr",
     "output_type": "stream",
     "text": [
      "Processing Emotions:  80%|███████▉  | 1895/2383 [03:51<00:57,  8.49it/s]"
     ]
    },
    {
     "name": "stdout",
     "output_type": "stream",
     "text": [
      "Scores shape: (32, 7), Expected labels: 7\n",
      "Scores shape: (32, 7), Expected labels: 7\n"
     ]
    },
    {
     "name": "stderr",
     "output_type": "stream",
     "text": [
      "Processing Emotions:  80%|███████▉  | 1897/2383 [03:52<00:56,  8.61it/s]"
     ]
    },
    {
     "name": "stdout",
     "output_type": "stream",
     "text": [
      "Scores shape: (32, 7), Expected labels: 7\n",
      "Scores shape: (32, 7), Expected labels: 7\n"
     ]
    },
    {
     "name": "stderr",
     "output_type": "stream",
     "text": [
      "Processing Emotions:  80%|███████▉  | 1899/2383 [03:52<00:57,  8.36it/s]"
     ]
    },
    {
     "name": "stdout",
     "output_type": "stream",
     "text": [
      "Scores shape: (32, 7), Expected labels: 7\n",
      "Scores shape: (32, 7), Expected labels: 7\n"
     ]
    },
    {
     "name": "stderr",
     "output_type": "stream",
     "text": [
      "Processing Emotions:  80%|███████▉  | 1901/2383 [03:52<00:59,  8.15it/s]"
     ]
    },
    {
     "name": "stdout",
     "output_type": "stream",
     "text": [
      "Scores shape: (32, 7), Expected labels: 7\n",
      "Scores shape: (32, 7), Expected labels: 7\n"
     ]
    },
    {
     "name": "stderr",
     "output_type": "stream",
     "text": [
      "Processing Emotions:  80%|███████▉  | 1903/2383 [03:52<00:57,  8.35it/s]"
     ]
    },
    {
     "name": "stdout",
     "output_type": "stream",
     "text": [
      "Scores shape: (32, 7), Expected labels: 7\n",
      "Scores shape: (32, 7), Expected labels: 7\n"
     ]
    },
    {
     "name": "stderr",
     "output_type": "stream",
     "text": [
      "Processing Emotions:  80%|███████▉  | 1905/2383 [03:53<00:56,  8.51it/s]"
     ]
    },
    {
     "name": "stdout",
     "output_type": "stream",
     "text": [
      "Scores shape: (32, 7), Expected labels: 7\n",
      "Scores shape: (32, 7), Expected labels: 7\n"
     ]
    },
    {
     "name": "stderr",
     "output_type": "stream",
     "text": [
      "Processing Emotions:  80%|████████  | 1907/2383 [03:53<00:55,  8.51it/s]"
     ]
    },
    {
     "name": "stdout",
     "output_type": "stream",
     "text": [
      "Scores shape: (32, 7), Expected labels: 7\n",
      "Scores shape: (32, 7), Expected labels: 7\n"
     ]
    },
    {
     "name": "stderr",
     "output_type": "stream",
     "text": [
      "Processing Emotions:  80%|████████  | 1909/2383 [03:53<00:56,  8.35it/s]"
     ]
    },
    {
     "name": "stdout",
     "output_type": "stream",
     "text": [
      "Scores shape: (32, 7), Expected labels: 7\n",
      "Scores shape: (32, 7), Expected labels: 7\n"
     ]
    },
    {
     "name": "stderr",
     "output_type": "stream",
     "text": [
      "Processing Emotions:  80%|████████  | 1911/2383 [03:53<00:56,  8.30it/s]"
     ]
    },
    {
     "name": "stdout",
     "output_type": "stream",
     "text": [
      "Scores shape: (32, 7), Expected labels: 7\n",
      "Scores shape: (32, 7), Expected labels: 7\n"
     ]
    },
    {
     "name": "stderr",
     "output_type": "stream",
     "text": [
      "Processing Emotions:  80%|████████  | 1913/2383 [03:54<00:55,  8.45it/s]"
     ]
    },
    {
     "name": "stdout",
     "output_type": "stream",
     "text": [
      "Scores shape: (32, 7), Expected labels: 7\n",
      "Scores shape: (32, 7), Expected labels: 7\n"
     ]
    },
    {
     "name": "stderr",
     "output_type": "stream",
     "text": [
      "Processing Emotions:  80%|████████  | 1915/2383 [03:54<00:56,  8.35it/s]"
     ]
    },
    {
     "name": "stdout",
     "output_type": "stream",
     "text": [
      "Scores shape: (32, 7), Expected labels: 7\n",
      "Scores shape: (32, 7), Expected labels: 7\n"
     ]
    },
    {
     "name": "stderr",
     "output_type": "stream",
     "text": [
      "Processing Emotions:  80%|████████  | 1917/2383 [03:54<00:55,  8.39it/s]"
     ]
    },
    {
     "name": "stdout",
     "output_type": "stream",
     "text": [
      "Scores shape: (32, 7), Expected labels: 7\n",
      "Scores shape: (32, 7), Expected labels: 7\n"
     ]
    },
    {
     "name": "stderr",
     "output_type": "stream",
     "text": [
      "Processing Emotions:  81%|████████  | 1919/2383 [03:54<00:55,  8.33it/s]"
     ]
    },
    {
     "name": "stdout",
     "output_type": "stream",
     "text": [
      "Scores shape: (32, 7), Expected labels: 7\n",
      "Scores shape: (32, 7), Expected labels: 7\n"
     ]
    },
    {
     "name": "stderr",
     "output_type": "stream",
     "text": [
      "Processing Emotions:  81%|████████  | 1921/2383 [03:55<00:54,  8.40it/s]"
     ]
    },
    {
     "name": "stdout",
     "output_type": "stream",
     "text": [
      "Scores shape: (32, 7), Expected labels: 7\n",
      "Scores shape: (32, 7), Expected labels: 7\n"
     ]
    },
    {
     "name": "stderr",
     "output_type": "stream",
     "text": [
      "Processing Emotions:  81%|████████  | 1923/2383 [03:55<00:53,  8.52it/s]"
     ]
    },
    {
     "name": "stdout",
     "output_type": "stream",
     "text": [
      "Scores shape: (32, 7), Expected labels: 7\n",
      "Scores shape: (32, 7), Expected labels: 7\n"
     ]
    },
    {
     "name": "stderr",
     "output_type": "stream",
     "text": [
      "Processing Emotions:  81%|████████  | 1925/2383 [03:55<00:54,  8.33it/s]"
     ]
    },
    {
     "name": "stdout",
     "output_type": "stream",
     "text": [
      "Scores shape: (32, 7), Expected labels: 7\n",
      "Scores shape: (32, 7), Expected labels: 7\n"
     ]
    },
    {
     "name": "stderr",
     "output_type": "stream",
     "text": [
      "Processing Emotions:  81%|████████  | 1927/2383 [03:55<00:54,  8.35it/s]"
     ]
    },
    {
     "name": "stdout",
     "output_type": "stream",
     "text": [
      "Scores shape: (32, 7), Expected labels: 7\n",
      "Scores shape: (32, 7), Expected labels: 7\n"
     ]
    },
    {
     "name": "stderr",
     "output_type": "stream",
     "text": [
      "Processing Emotions:  81%|████████  | 1929/2383 [03:56<00:54,  8.36it/s]"
     ]
    },
    {
     "name": "stdout",
     "output_type": "stream",
     "text": [
      "Scores shape: (32, 7), Expected labels: 7\n",
      "Scores shape: (32, 7), Expected labels: 7\n"
     ]
    },
    {
     "name": "stderr",
     "output_type": "stream",
     "text": [
      "Processing Emotions:  81%|████████  | 1931/2383 [03:56<00:53,  8.47it/s]"
     ]
    },
    {
     "name": "stdout",
     "output_type": "stream",
     "text": [
      "Scores shape: (32, 7), Expected labels: 7\n",
      "Scores shape: (32, 7), Expected labels: 7\n"
     ]
    },
    {
     "name": "stderr",
     "output_type": "stream",
     "text": [
      "Processing Emotions:  81%|████████  | 1933/2383 [03:56<00:53,  8.37it/s]"
     ]
    },
    {
     "name": "stdout",
     "output_type": "stream",
     "text": [
      "Scores shape: (32, 7), Expected labels: 7\n",
      "Scores shape: (32, 7), Expected labels: 7\n"
     ]
    },
    {
     "name": "stderr",
     "output_type": "stream",
     "text": [
      "Processing Emotions:  81%|████████  | 1935/2383 [03:56<00:52,  8.47it/s]"
     ]
    },
    {
     "name": "stdout",
     "output_type": "stream",
     "text": [
      "Scores shape: (32, 7), Expected labels: 7\n",
      "Scores shape: (32, 7), Expected labels: 7\n"
     ]
    },
    {
     "name": "stderr",
     "output_type": "stream",
     "text": [
      "Processing Emotions:  81%|████████▏ | 1937/2383 [03:56<00:52,  8.54it/s]"
     ]
    },
    {
     "name": "stdout",
     "output_type": "stream",
     "text": [
      "Scores shape: (32, 7), Expected labels: 7\n",
      "Scores shape: (32, 7), Expected labels: 7\n"
     ]
    },
    {
     "name": "stderr",
     "output_type": "stream",
     "text": [
      "Processing Emotions:  81%|████████▏ | 1939/2383 [03:57<00:51,  8.55it/s]"
     ]
    },
    {
     "name": "stdout",
     "output_type": "stream",
     "text": [
      "Scores shape: (32, 7), Expected labels: 7\n",
      "Scores shape: (32, 7), Expected labels: 7\n"
     ]
    },
    {
     "name": "stderr",
     "output_type": "stream",
     "text": [
      "Processing Emotions:  81%|████████▏ | 1941/2383 [03:57<00:52,  8.40it/s]"
     ]
    },
    {
     "name": "stdout",
     "output_type": "stream",
     "text": [
      "Scores shape: (32, 7), Expected labels: 7\n",
      "Scores shape: (32, 7), Expected labels: 7\n"
     ]
    },
    {
     "name": "stderr",
     "output_type": "stream",
     "text": [
      "Processing Emotions:  82%|████████▏ | 1943/2383 [03:57<00:53,  8.24it/s]"
     ]
    },
    {
     "name": "stdout",
     "output_type": "stream",
     "text": [
      "Scores shape: (32, 7), Expected labels: 7\n",
      "Scores shape: (32, 7), Expected labels: 7\n"
     ]
    },
    {
     "name": "stderr",
     "output_type": "stream",
     "text": [
      "Processing Emotions:  82%|████████▏ | 1945/2383 [03:57<00:52,  8.36it/s]"
     ]
    },
    {
     "name": "stdout",
     "output_type": "stream",
     "text": [
      "Scores shape: (32, 7), Expected labels: 7\n",
      "Scores shape: (32, 7), Expected labels: 7\n"
     ]
    },
    {
     "name": "stderr",
     "output_type": "stream",
     "text": [
      "Processing Emotions:  82%|████████▏ | 1947/2383 [03:58<00:54,  8.06it/s]"
     ]
    },
    {
     "name": "stdout",
     "output_type": "stream",
     "text": [
      "Scores shape: (32, 7), Expected labels: 7\n",
      "Scores shape: (32, 7), Expected labels: 7\n"
     ]
    },
    {
     "name": "stderr",
     "output_type": "stream",
     "text": [
      "Processing Emotions:  82%|████████▏ | 1949/2383 [03:58<00:54,  7.90it/s]"
     ]
    },
    {
     "name": "stdout",
     "output_type": "stream",
     "text": [
      "Scores shape: (32, 7), Expected labels: 7\n",
      "Scores shape: (32, 7), Expected labels: 7\n"
     ]
    },
    {
     "name": "stderr",
     "output_type": "stream",
     "text": [
      "Processing Emotions:  82%|████████▏ | 1951/2383 [03:58<00:55,  7.83it/s]"
     ]
    },
    {
     "name": "stdout",
     "output_type": "stream",
     "text": [
      "Scores shape: (32, 7), Expected labels: 7\n",
      "Scores shape: (32, 7), Expected labels: 7\n"
     ]
    },
    {
     "name": "stderr",
     "output_type": "stream",
     "text": [
      "Processing Emotions:  82%|████████▏ | 1953/2383 [03:58<00:54,  7.87it/s]"
     ]
    },
    {
     "name": "stdout",
     "output_type": "stream",
     "text": [
      "Scores shape: (32, 7), Expected labels: 7\n",
      "Scores shape: (32, 7), Expected labels: 7\n"
     ]
    },
    {
     "name": "stderr",
     "output_type": "stream",
     "text": [
      "Processing Emotions:  82%|████████▏ | 1955/2383 [03:59<00:52,  8.18it/s]"
     ]
    },
    {
     "name": "stdout",
     "output_type": "stream",
     "text": [
      "Scores shape: (32, 7), Expected labels: 7\n",
      "Scores shape: (32, 7), Expected labels: 7\n"
     ]
    },
    {
     "name": "stderr",
     "output_type": "stream",
     "text": [
      "Processing Emotions:  82%|████████▏ | 1957/2383 [03:59<00:53,  7.95it/s]"
     ]
    },
    {
     "name": "stdout",
     "output_type": "stream",
     "text": [
      "Scores shape: (32, 7), Expected labels: 7\n",
      "Scores shape: (32, 7), Expected labels: 7\n"
     ]
    },
    {
     "name": "stderr",
     "output_type": "stream",
     "text": [
      "Processing Emotions:  82%|████████▏ | 1959/2383 [03:59<00:56,  7.55it/s]"
     ]
    },
    {
     "name": "stdout",
     "output_type": "stream",
     "text": [
      "Scores shape: (32, 7), Expected labels: 7\n",
      "Scores shape: (32, 7), Expected labels: 7\n"
     ]
    },
    {
     "name": "stderr",
     "output_type": "stream",
     "text": [
      "Processing Emotions:  82%|████████▏ | 1961/2383 [03:59<00:56,  7.50it/s]"
     ]
    },
    {
     "name": "stdout",
     "output_type": "stream",
     "text": [
      "Scores shape: (32, 7), Expected labels: 7\n",
      "Scores shape: (32, 7), Expected labels: 7\n"
     ]
    },
    {
     "name": "stderr",
     "output_type": "stream",
     "text": [
      "Processing Emotions:  82%|████████▏ | 1963/2383 [04:00<00:55,  7.56it/s]"
     ]
    },
    {
     "name": "stdout",
     "output_type": "stream",
     "text": [
      "Scores shape: (32, 7), Expected labels: 7\n",
      "Scores shape: (32, 7), Expected labels: 7\n"
     ]
    },
    {
     "name": "stderr",
     "output_type": "stream",
     "text": [
      "Processing Emotions:  82%|████████▏ | 1965/2383 [04:00<00:53,  7.80it/s]"
     ]
    },
    {
     "name": "stdout",
     "output_type": "stream",
     "text": [
      "Scores shape: (32, 7), Expected labels: 7\n",
      "Scores shape: (32, 7), Expected labels: 7\n"
     ]
    },
    {
     "name": "stderr",
     "output_type": "stream",
     "text": [
      "Processing Emotions:  83%|████████▎ | 1967/2383 [04:00<00:53,  7.80it/s]"
     ]
    },
    {
     "name": "stdout",
     "output_type": "stream",
     "text": [
      "Scores shape: (32, 7), Expected labels: 7\n",
      "Scores shape: (32, 7), Expected labels: 7\n"
     ]
    },
    {
     "name": "stderr",
     "output_type": "stream",
     "text": [
      "Processing Emotions:  83%|████████▎ | 1969/2383 [04:01<00:54,  7.62it/s]"
     ]
    },
    {
     "name": "stdout",
     "output_type": "stream",
     "text": [
      "Scores shape: (32, 7), Expected labels: 7\n",
      "Scores shape: (32, 7), Expected labels: 7\n"
     ]
    },
    {
     "name": "stderr",
     "output_type": "stream",
     "text": [
      "Processing Emotions:  83%|████████▎ | 1971/2383 [04:01<00:54,  7.52it/s]"
     ]
    },
    {
     "name": "stdout",
     "output_type": "stream",
     "text": [
      "Scores shape: (32, 7), Expected labels: 7\n",
      "Scores shape: (32, 7), Expected labels: 7\n"
     ]
    },
    {
     "name": "stderr",
     "output_type": "stream",
     "text": [
      "Processing Emotions:  83%|████████▎ | 1973/2383 [04:01<00:51,  7.98it/s]"
     ]
    },
    {
     "name": "stdout",
     "output_type": "stream",
     "text": [
      "Scores shape: (32, 7), Expected labels: 7\n",
      "Scores shape: (32, 7), Expected labels: 7\n"
     ]
    },
    {
     "name": "stderr",
     "output_type": "stream",
     "text": [
      "Processing Emotions:  83%|████████▎ | 1975/2383 [04:01<00:50,  8.07it/s]"
     ]
    },
    {
     "name": "stdout",
     "output_type": "stream",
     "text": [
      "Scores shape: (32, 7), Expected labels: 7\n",
      "Scores shape: (32, 7), Expected labels: 7\n"
     ]
    },
    {
     "name": "stderr",
     "output_type": "stream",
     "text": [
      "Processing Emotions:  83%|████████▎ | 1977/2383 [04:02<00:49,  8.25it/s]"
     ]
    },
    {
     "name": "stdout",
     "output_type": "stream",
     "text": [
      "Scores shape: (32, 7), Expected labels: 7\n",
      "Scores shape: (32, 7), Expected labels: 7\n"
     ]
    },
    {
     "name": "stderr",
     "output_type": "stream",
     "text": [
      "Processing Emotions:  83%|████████▎ | 1979/2383 [04:02<00:47,  8.51it/s]"
     ]
    },
    {
     "name": "stdout",
     "output_type": "stream",
     "text": [
      "Scores shape: (32, 7), Expected labels: 7\n",
      "Scores shape: (32, 7), Expected labels: 7\n"
     ]
    },
    {
     "name": "stderr",
     "output_type": "stream",
     "text": [
      "Processing Emotions:  83%|████████▎ | 1981/2383 [04:02<00:48,  8.37it/s]"
     ]
    },
    {
     "name": "stdout",
     "output_type": "stream",
     "text": [
      "Scores shape: (32, 7), Expected labels: 7\n",
      "Scores shape: (32, 7), Expected labels: 7\n"
     ]
    },
    {
     "name": "stderr",
     "output_type": "stream",
     "text": [
      "Processing Emotions:  83%|████████▎ | 1983/2383 [04:02<00:47,  8.44it/s]"
     ]
    },
    {
     "name": "stdout",
     "output_type": "stream",
     "text": [
      "Scores shape: (32, 7), Expected labels: 7\n",
      "Scores shape: (32, 7), Expected labels: 7\n"
     ]
    },
    {
     "name": "stderr",
     "output_type": "stream",
     "text": [
      "Processing Emotions:  83%|████████▎ | 1985/2383 [04:02<00:46,  8.59it/s]"
     ]
    },
    {
     "name": "stdout",
     "output_type": "stream",
     "text": [
      "Scores shape: (32, 7), Expected labels: 7\n",
      "Scores shape: (32, 7), Expected labels: 7\n"
     ]
    },
    {
     "name": "stderr",
     "output_type": "stream",
     "text": [
      "Processing Emotions:  83%|████████▎ | 1987/2383 [04:03<00:46,  8.44it/s]"
     ]
    },
    {
     "name": "stdout",
     "output_type": "stream",
     "text": [
      "Scores shape: (32, 7), Expected labels: 7\n",
      "Scores shape: (32, 7), Expected labels: 7\n"
     ]
    },
    {
     "name": "stderr",
     "output_type": "stream",
     "text": [
      "Processing Emotions:  83%|████████▎ | 1989/2383 [04:03<00:47,  8.30it/s]"
     ]
    },
    {
     "name": "stdout",
     "output_type": "stream",
     "text": [
      "Scores shape: (32, 7), Expected labels: 7\n",
      "Scores shape: (32, 7), Expected labels: 7\n"
     ]
    },
    {
     "name": "stderr",
     "output_type": "stream",
     "text": [
      "Processing Emotions:  84%|████████▎ | 1991/2383 [04:03<00:46,  8.40it/s]"
     ]
    },
    {
     "name": "stdout",
     "output_type": "stream",
     "text": [
      "Scores shape: (32, 7), Expected labels: 7\n",
      "Scores shape: (32, 7), Expected labels: 7\n"
     ]
    },
    {
     "name": "stderr",
     "output_type": "stream",
     "text": [
      "Processing Emotions:  84%|████████▎ | 1993/2383 [04:03<00:46,  8.31it/s]"
     ]
    },
    {
     "name": "stdout",
     "output_type": "stream",
     "text": [
      "Scores shape: (32, 7), Expected labels: 7\n",
      "Scores shape: (32, 7), Expected labels: 7\n"
     ]
    },
    {
     "name": "stderr",
     "output_type": "stream",
     "text": [
      "Processing Emotions:  84%|████████▎ | 1995/2383 [04:04<00:45,  8.49it/s]"
     ]
    },
    {
     "name": "stdout",
     "output_type": "stream",
     "text": [
      "Scores shape: (32, 7), Expected labels: 7\n",
      "Scores shape: (32, 7), Expected labels: 7\n"
     ]
    },
    {
     "name": "stderr",
     "output_type": "stream",
     "text": [
      "Processing Emotions:  84%|████████▍ | 1997/2383 [04:04<00:45,  8.44it/s]"
     ]
    },
    {
     "name": "stdout",
     "output_type": "stream",
     "text": [
      "Scores shape: (32, 7), Expected labels: 7\n",
      "Scores shape: (32, 7), Expected labels: 7\n"
     ]
    },
    {
     "name": "stderr",
     "output_type": "stream",
     "text": [
      "Processing Emotions:  84%|████████▍ | 1999/2383 [04:04<00:45,  8.38it/s]"
     ]
    },
    {
     "name": "stdout",
     "output_type": "stream",
     "text": [
      "Scores shape: (32, 7), Expected labels: 7\n",
      "Scores shape: (32, 7), Expected labels: 7\n"
     ]
    },
    {
     "name": "stderr",
     "output_type": "stream",
     "text": [
      "Processing Emotions:  84%|████████▍ | 2001/2383 [04:04<00:47,  8.10it/s]"
     ]
    },
    {
     "name": "stdout",
     "output_type": "stream",
     "text": [
      "Scores shape: (32, 7), Expected labels: 7\n",
      "Scores shape: (32, 7), Expected labels: 7\n"
     ]
    },
    {
     "name": "stderr",
     "output_type": "stream",
     "text": [
      "Processing Emotions:  84%|████████▍ | 2003/2383 [04:05<00:45,  8.33it/s]"
     ]
    },
    {
     "name": "stdout",
     "output_type": "stream",
     "text": [
      "Scores shape: (32, 7), Expected labels: 7\n",
      "Scores shape: (32, 7), Expected labels: 7\n"
     ]
    },
    {
     "name": "stderr",
     "output_type": "stream",
     "text": [
      "Processing Emotions:  84%|████████▍ | 2005/2383 [04:05<00:44,  8.47it/s]"
     ]
    },
    {
     "name": "stdout",
     "output_type": "stream",
     "text": [
      "Scores shape: (32, 7), Expected labels: 7\n",
      "Scores shape: (32, 7), Expected labels: 7\n"
     ]
    },
    {
     "name": "stderr",
     "output_type": "stream",
     "text": [
      "Processing Emotions:  84%|████████▍ | 2007/2383 [04:05<00:44,  8.46it/s]"
     ]
    },
    {
     "name": "stdout",
     "output_type": "stream",
     "text": [
      "Scores shape: (32, 7), Expected labels: 7\n",
      "Scores shape: (32, 7), Expected labels: 7\n"
     ]
    },
    {
     "name": "stderr",
     "output_type": "stream",
     "text": [
      "Processing Emotions:  84%|████████▍ | 2009/2383 [04:05<00:44,  8.42it/s]"
     ]
    },
    {
     "name": "stdout",
     "output_type": "stream",
     "text": [
      "Scores shape: (32, 7), Expected labels: 7\n",
      "Scores shape: (32, 7), Expected labels: 7\n"
     ]
    },
    {
     "name": "stderr",
     "output_type": "stream",
     "text": [
      "Processing Emotions:  84%|████████▍ | 2011/2383 [04:06<00:45,  8.24it/s]"
     ]
    },
    {
     "name": "stdout",
     "output_type": "stream",
     "text": [
      "Scores shape: (32, 7), Expected labels: 7\n",
      "Scores shape: (32, 7), Expected labels: 7\n"
     ]
    },
    {
     "name": "stderr",
     "output_type": "stream",
     "text": [
      "Processing Emotions:  84%|████████▍ | 2013/2383 [04:06<00:44,  8.33it/s]"
     ]
    },
    {
     "name": "stdout",
     "output_type": "stream",
     "text": [
      "Scores shape: (32, 7), Expected labels: 7\n",
      "Scores shape: (32, 7), Expected labels: 7\n"
     ]
    },
    {
     "name": "stderr",
     "output_type": "stream",
     "text": [
      "Processing Emotions:  85%|████████▍ | 2015/2383 [04:06<00:43,  8.50it/s]"
     ]
    },
    {
     "name": "stdout",
     "output_type": "stream",
     "text": [
      "Scores shape: (32, 7), Expected labels: 7\n",
      "Scores shape: (32, 7), Expected labels: 7\n"
     ]
    },
    {
     "name": "stderr",
     "output_type": "stream",
     "text": [
      "Processing Emotions:  85%|████████▍ | 2017/2383 [04:06<00:43,  8.33it/s]"
     ]
    },
    {
     "name": "stdout",
     "output_type": "stream",
     "text": [
      "Scores shape: (32, 7), Expected labels: 7\n",
      "Scores shape: (32, 7), Expected labels: 7\n"
     ]
    },
    {
     "name": "stderr",
     "output_type": "stream",
     "text": [
      "Processing Emotions:  85%|████████▍ | 2019/2383 [04:07<00:44,  8.25it/s]"
     ]
    },
    {
     "name": "stdout",
     "output_type": "stream",
     "text": [
      "Scores shape: (32, 7), Expected labels: 7\n",
      "Scores shape: (32, 7), Expected labels: 7\n"
     ]
    },
    {
     "name": "stderr",
     "output_type": "stream",
     "text": [
      "Processing Emotions:  85%|████████▍ | 2021/2383 [04:07<00:43,  8.37it/s]"
     ]
    },
    {
     "name": "stdout",
     "output_type": "stream",
     "text": [
      "Scores shape: (32, 7), Expected labels: 7\n",
      "Scores shape: (32, 7), Expected labels: 7\n"
     ]
    },
    {
     "name": "stderr",
     "output_type": "stream",
     "text": [
      "Processing Emotions:  85%|████████▍ | 2023/2383 [04:07<00:42,  8.40it/s]"
     ]
    },
    {
     "name": "stdout",
     "output_type": "stream",
     "text": [
      "Scores shape: (32, 7), Expected labels: 7\n",
      "Scores shape: (32, 7), Expected labels: 7\n"
     ]
    },
    {
     "name": "stderr",
     "output_type": "stream",
     "text": [
      "Processing Emotions:  85%|████████▍ | 2025/2383 [04:07<00:43,  8.23it/s]"
     ]
    },
    {
     "name": "stdout",
     "output_type": "stream",
     "text": [
      "Scores shape: (32, 7), Expected labels: 7\n",
      "Scores shape: (32, 7), Expected labels: 7\n"
     ]
    },
    {
     "name": "stderr",
     "output_type": "stream",
     "text": [
      "Processing Emotions:  85%|████████▌ | 2027/2383 [04:08<00:42,  8.33it/s]"
     ]
    },
    {
     "name": "stdout",
     "output_type": "stream",
     "text": [
      "Scores shape: (32, 7), Expected labels: 7\n",
      "Scores shape: (32, 7), Expected labels: 7\n"
     ]
    },
    {
     "name": "stderr",
     "output_type": "stream",
     "text": [
      "Processing Emotions:  85%|████████▌ | 2029/2383 [04:08<00:42,  8.27it/s]"
     ]
    },
    {
     "name": "stdout",
     "output_type": "stream",
     "text": [
      "Scores shape: (32, 7), Expected labels: 7\n",
      "Scores shape: (32, 7), Expected labels: 7\n"
     ]
    },
    {
     "name": "stderr",
     "output_type": "stream",
     "text": [
      "Processing Emotions:  85%|████████▌ | 2031/2383 [04:08<00:41,  8.41it/s]"
     ]
    },
    {
     "name": "stdout",
     "output_type": "stream",
     "text": [
      "Scores shape: (32, 7), Expected labels: 7\n",
      "Scores shape: (32, 7), Expected labels: 7\n"
     ]
    },
    {
     "name": "stderr",
     "output_type": "stream",
     "text": [
      "Processing Emotions:  85%|████████▌ | 2033/2383 [04:08<00:42,  8.33it/s]"
     ]
    },
    {
     "name": "stdout",
     "output_type": "stream",
     "text": [
      "Scores shape: (32, 7), Expected labels: 7\n",
      "Scores shape: (32, 7), Expected labels: 7\n"
     ]
    },
    {
     "name": "stderr",
     "output_type": "stream",
     "text": [
      "Processing Emotions:  85%|████████▌ | 2035/2383 [04:08<00:41,  8.42it/s]"
     ]
    },
    {
     "name": "stdout",
     "output_type": "stream",
     "text": [
      "Scores shape: (32, 7), Expected labels: 7\n",
      "Scores shape: (32, 7), Expected labels: 7\n"
     ]
    },
    {
     "name": "stderr",
     "output_type": "stream",
     "text": [
      "Processing Emotions:  85%|████████▌ | 2037/2383 [04:09<00:40,  8.53it/s]"
     ]
    },
    {
     "name": "stdout",
     "output_type": "stream",
     "text": [
      "Scores shape: (32, 7), Expected labels: 7\n",
      "Scores shape: (32, 7), Expected labels: 7\n"
     ]
    },
    {
     "name": "stderr",
     "output_type": "stream",
     "text": [
      "Processing Emotions:  86%|████████▌ | 2039/2383 [04:09<00:41,  8.34it/s]"
     ]
    },
    {
     "name": "stdout",
     "output_type": "stream",
     "text": [
      "Scores shape: (32, 7), Expected labels: 7\n",
      "Scores shape: (32, 7), Expected labels: 7\n"
     ]
    },
    {
     "name": "stderr",
     "output_type": "stream",
     "text": [
      "Processing Emotions:  86%|████████▌ | 2041/2383 [04:09<00:40,  8.36it/s]"
     ]
    },
    {
     "name": "stdout",
     "output_type": "stream",
     "text": [
      "Scores shape: (32, 7), Expected labels: 7\n",
      "Scores shape: (32, 7), Expected labels: 7\n"
     ]
    },
    {
     "name": "stderr",
     "output_type": "stream",
     "text": [
      "Processing Emotions:  86%|████████▌ | 2043/2383 [04:09<00:40,  8.37it/s]"
     ]
    },
    {
     "name": "stdout",
     "output_type": "stream",
     "text": [
      "Scores shape: (32, 7), Expected labels: 7\n",
      "Scores shape: (32, 7), Expected labels: 7\n"
     ]
    },
    {
     "name": "stderr",
     "output_type": "stream",
     "text": [
      "Processing Emotions:  86%|████████▌ | 2045/2383 [04:10<00:42,  7.89it/s]"
     ]
    },
    {
     "name": "stdout",
     "output_type": "stream",
     "text": [
      "Scores shape: (32, 7), Expected labels: 7\n",
      "Scores shape: (32, 7), Expected labels: 7\n"
     ]
    },
    {
     "name": "stderr",
     "output_type": "stream",
     "text": [
      "Processing Emotions:  86%|████████▌ | 2047/2383 [04:10<00:46,  7.25it/s]"
     ]
    },
    {
     "name": "stdout",
     "output_type": "stream",
     "text": [
      "Scores shape: (32, 7), Expected labels: 7\n",
      "Scores shape: (32, 7), Expected labels: 7\n"
     ]
    },
    {
     "name": "stderr",
     "output_type": "stream",
     "text": [
      "Processing Emotions:  86%|████████▌ | 2049/2383 [04:10<00:47,  7.03it/s]"
     ]
    },
    {
     "name": "stdout",
     "output_type": "stream",
     "text": [
      "Scores shape: (32, 7), Expected labels: 7\n",
      "Scores shape: (32, 7), Expected labels: 7\n"
     ]
    },
    {
     "name": "stderr",
     "output_type": "stream",
     "text": [
      "Processing Emotions:  86%|████████▌ | 2051/2383 [04:11<00:46,  7.21it/s]"
     ]
    },
    {
     "name": "stdout",
     "output_type": "stream",
     "text": [
      "Scores shape: (32, 7), Expected labels: 7\n",
      "Scores shape: (32, 7), Expected labels: 7\n"
     ]
    },
    {
     "name": "stderr",
     "output_type": "stream",
     "text": [
      "Processing Emotions:  86%|████████▌ | 2053/2383 [04:11<00:43,  7.63it/s]"
     ]
    },
    {
     "name": "stdout",
     "output_type": "stream",
     "text": [
      "Scores shape: (32, 7), Expected labels: 7\n",
      "Scores shape: (32, 7), Expected labels: 7\n"
     ]
    },
    {
     "name": "stderr",
     "output_type": "stream",
     "text": [
      "Processing Emotions:  86%|████████▌ | 2055/2383 [04:11<00:46,  7.02it/s]"
     ]
    },
    {
     "name": "stdout",
     "output_type": "stream",
     "text": [
      "Scores shape: (32, 7), Expected labels: 7\n",
      "Scores shape: (32, 7), Expected labels: 7\n"
     ]
    },
    {
     "name": "stderr",
     "output_type": "stream",
     "text": [
      "Processing Emotions:  86%|████████▋ | 2057/2383 [04:11<00:48,  6.74it/s]"
     ]
    },
    {
     "name": "stdout",
     "output_type": "stream",
     "text": [
      "Scores shape: (32, 7), Expected labels: 7\n",
      "Scores shape: (32, 7), Expected labels: 7\n"
     ]
    },
    {
     "name": "stderr",
     "output_type": "stream",
     "text": [
      "Processing Emotions:  86%|████████▋ | 2059/2383 [04:12<00:48,  6.67it/s]"
     ]
    },
    {
     "name": "stdout",
     "output_type": "stream",
     "text": [
      "Scores shape: (32, 7), Expected labels: 7\n",
      "Scores shape: (32, 7), Expected labels: 7\n"
     ]
    },
    {
     "name": "stderr",
     "output_type": "stream",
     "text": [
      "Processing Emotions:  86%|████████▋ | 2061/2383 [04:12<00:51,  6.28it/s]"
     ]
    },
    {
     "name": "stdout",
     "output_type": "stream",
     "text": [
      "Scores shape: (32, 7), Expected labels: 7\n",
      "Scores shape: (32, 7), Expected labels: 7\n"
     ]
    },
    {
     "name": "stderr",
     "output_type": "stream",
     "text": [
      "Processing Emotions:  87%|████████▋ | 2063/2383 [04:12<00:47,  6.70it/s]"
     ]
    },
    {
     "name": "stdout",
     "output_type": "stream",
     "text": [
      "Scores shape: (32, 7), Expected labels: 7\n",
      "Scores shape: (32, 7), Expected labels: 7\n"
     ]
    },
    {
     "name": "stderr",
     "output_type": "stream",
     "text": [
      "Processing Emotions:  87%|████████▋ | 2065/2383 [04:13<00:47,  6.76it/s]"
     ]
    },
    {
     "name": "stdout",
     "output_type": "stream",
     "text": [
      "Scores shape: (32, 7), Expected labels: 7\n",
      "Scores shape: (32, 7), Expected labels: 7\n"
     ]
    },
    {
     "name": "stderr",
     "output_type": "stream",
     "text": [
      "Processing Emotions:  87%|████████▋ | 2067/2383 [04:13<00:51,  6.12it/s]"
     ]
    },
    {
     "name": "stdout",
     "output_type": "stream",
     "text": [
      "Scores shape: (32, 7), Expected labels: 7\n",
      "Scores shape: (32, 7), Expected labels: 7\n"
     ]
    },
    {
     "name": "stderr",
     "output_type": "stream",
     "text": [
      "Processing Emotions:  87%|████████▋ | 2069/2383 [04:13<00:51,  6.08it/s]"
     ]
    },
    {
     "name": "stdout",
     "output_type": "stream",
     "text": [
      "Scores shape: (32, 7), Expected labels: 7\n",
      "Scores shape: (32, 7), Expected labels: 7\n"
     ]
    },
    {
     "name": "stderr",
     "output_type": "stream",
     "text": [
      "Processing Emotions:  87%|████████▋ | 2071/2383 [04:14<00:50,  6.15it/s]"
     ]
    },
    {
     "name": "stdout",
     "output_type": "stream",
     "text": [
      "Scores shape: (32, 7), Expected labels: 7\n",
      "Scores shape: (32, 7), Expected labels: 7\n"
     ]
    },
    {
     "name": "stderr",
     "output_type": "stream",
     "text": [
      "Processing Emotions:  87%|████████▋ | 2073/2383 [04:14<00:46,  6.66it/s]"
     ]
    },
    {
     "name": "stdout",
     "output_type": "stream",
     "text": [
      "Scores shape: (32, 7), Expected labels: 7\n",
      "Scores shape: (32, 7), Expected labels: 7\n"
     ]
    },
    {
     "name": "stderr",
     "output_type": "stream",
     "text": [
      "Processing Emotions:  87%|████████▋ | 2075/2383 [04:14<00:45,  6.84it/s]"
     ]
    },
    {
     "name": "stdout",
     "output_type": "stream",
     "text": [
      "Scores shape: (32, 7), Expected labels: 7\n",
      "Scores shape: (32, 7), Expected labels: 7\n"
     ]
    },
    {
     "name": "stderr",
     "output_type": "stream",
     "text": [
      "Processing Emotions:  87%|████████▋ | 2077/2383 [04:15<00:47,  6.39it/s]"
     ]
    },
    {
     "name": "stdout",
     "output_type": "stream",
     "text": [
      "Scores shape: (32, 7), Expected labels: 7\n",
      "Scores shape: (32, 7), Expected labels: 7\n"
     ]
    },
    {
     "name": "stderr",
     "output_type": "stream",
     "text": [
      "Processing Emotions:  87%|████████▋ | 2079/2383 [04:15<00:46,  6.57it/s]"
     ]
    },
    {
     "name": "stdout",
     "output_type": "stream",
     "text": [
      "Scores shape: (32, 7), Expected labels: 7\n",
      "Scores shape: (32, 7), Expected labels: 7\n"
     ]
    },
    {
     "name": "stderr",
     "output_type": "stream",
     "text": [
      "Processing Emotions:  87%|████████▋ | 2081/2383 [04:15<00:43,  6.89it/s]"
     ]
    },
    {
     "name": "stdout",
     "output_type": "stream",
     "text": [
      "Scores shape: (32, 7), Expected labels: 7\n",
      "Scores shape: (32, 7), Expected labels: 7\n"
     ]
    },
    {
     "name": "stderr",
     "output_type": "stream",
     "text": [
      "Processing Emotions:  87%|████████▋ | 2083/2383 [04:15<00:42,  6.98it/s]"
     ]
    },
    {
     "name": "stdout",
     "output_type": "stream",
     "text": [
      "Scores shape: (32, 7), Expected labels: 7\n",
      "Scores shape: (32, 7), Expected labels: 7\n"
     ]
    },
    {
     "name": "stderr",
     "output_type": "stream",
     "text": [
      "Processing Emotions:  87%|████████▋ | 2085/2383 [04:16<00:41,  7.16it/s]"
     ]
    },
    {
     "name": "stdout",
     "output_type": "stream",
     "text": [
      "Scores shape: (32, 7), Expected labels: 7\n",
      "Scores shape: (32, 7), Expected labels: 7\n"
     ]
    },
    {
     "name": "stderr",
     "output_type": "stream",
     "text": [
      "Processing Emotions:  88%|████████▊ | 2087/2383 [04:16<00:39,  7.45it/s]"
     ]
    },
    {
     "name": "stdout",
     "output_type": "stream",
     "text": [
      "Scores shape: (32, 7), Expected labels: 7\n",
      "Scores shape: (32, 7), Expected labels: 7\n"
     ]
    },
    {
     "name": "stderr",
     "output_type": "stream",
     "text": [
      "Processing Emotions:  88%|████████▊ | 2089/2383 [04:16<00:40,  7.28it/s]"
     ]
    },
    {
     "name": "stdout",
     "output_type": "stream",
     "text": [
      "Scores shape: (32, 7), Expected labels: 7\n",
      "Scores shape: (32, 7), Expected labels: 7\n"
     ]
    },
    {
     "name": "stderr",
     "output_type": "stream",
     "text": [
      "Processing Emotions:  88%|████████▊ | 2091/2383 [04:16<00:40,  7.24it/s]"
     ]
    },
    {
     "name": "stdout",
     "output_type": "stream",
     "text": [
      "Scores shape: (32, 7), Expected labels: 7\n",
      "Scores shape: (32, 7), Expected labels: 7\n"
     ]
    },
    {
     "name": "stderr",
     "output_type": "stream",
     "text": [
      "Processing Emotions:  88%|████████▊ | 2093/2383 [04:17<00:39,  7.41it/s]"
     ]
    },
    {
     "name": "stdout",
     "output_type": "stream",
     "text": [
      "Scores shape: (32, 7), Expected labels: 7\n",
      "Scores shape: (32, 7), Expected labels: 7\n"
     ]
    },
    {
     "name": "stderr",
     "output_type": "stream",
     "text": [
      "Processing Emotions:  88%|████████▊ | 2095/2383 [04:17<00:37,  7.58it/s]"
     ]
    },
    {
     "name": "stdout",
     "output_type": "stream",
     "text": [
      "Scores shape: (32, 7), Expected labels: 7\n",
      "Scores shape: (32, 7), Expected labels: 7\n"
     ]
    },
    {
     "name": "stderr",
     "output_type": "stream",
     "text": [
      "Processing Emotions:  88%|████████▊ | 2097/2383 [04:17<00:35,  7.96it/s]"
     ]
    },
    {
     "name": "stdout",
     "output_type": "stream",
     "text": [
      "Scores shape: (32, 7), Expected labels: 7\n",
      "Scores shape: (32, 7), Expected labels: 7\n"
     ]
    },
    {
     "name": "stderr",
     "output_type": "stream",
     "text": [
      "Processing Emotions:  88%|████████▊ | 2099/2383 [04:17<00:37,  7.53it/s]"
     ]
    },
    {
     "name": "stdout",
     "output_type": "stream",
     "text": [
      "Scores shape: (32, 7), Expected labels: 7\n",
      "Scores shape: (32, 7), Expected labels: 7\n"
     ]
    },
    {
     "name": "stderr",
     "output_type": "stream",
     "text": [
      "Processing Emotions:  88%|████████▊ | 2101/2383 [04:18<00:39,  7.22it/s]"
     ]
    },
    {
     "name": "stdout",
     "output_type": "stream",
     "text": [
      "Scores shape: (32, 7), Expected labels: 7\n",
      "Scores shape: (32, 7), Expected labels: 7\n"
     ]
    },
    {
     "name": "stderr",
     "output_type": "stream",
     "text": [
      "Processing Emotions:  88%|████████▊ | 2103/2383 [04:18<00:38,  7.31it/s]"
     ]
    },
    {
     "name": "stdout",
     "output_type": "stream",
     "text": [
      "Scores shape: (32, 7), Expected labels: 7\n",
      "Scores shape: (32, 7), Expected labels: 7\n"
     ]
    },
    {
     "name": "stderr",
     "output_type": "stream",
     "text": [
      "Processing Emotions:  88%|████████▊ | 2105/2383 [04:18<00:36,  7.61it/s]"
     ]
    },
    {
     "name": "stdout",
     "output_type": "stream",
     "text": [
      "Scores shape: (32, 7), Expected labels: 7\n",
      "Scores shape: (32, 7), Expected labels: 7\n"
     ]
    },
    {
     "name": "stderr",
     "output_type": "stream",
     "text": [
      "Processing Emotions:  88%|████████▊ | 2107/2383 [04:19<00:35,  7.84it/s]"
     ]
    },
    {
     "name": "stdout",
     "output_type": "stream",
     "text": [
      "Scores shape: (32, 7), Expected labels: 7\n",
      "Scores shape: (32, 7), Expected labels: 7\n"
     ]
    },
    {
     "name": "stderr",
     "output_type": "stream",
     "text": [
      "Processing Emotions:  89%|████████▊ | 2109/2383 [04:19<00:35,  7.80it/s]"
     ]
    },
    {
     "name": "stdout",
     "output_type": "stream",
     "text": [
      "Scores shape: (32, 7), Expected labels: 7\n",
      "Scores shape: (32, 7), Expected labels: 7\n"
     ]
    },
    {
     "name": "stderr",
     "output_type": "stream",
     "text": [
      "Processing Emotions:  89%|████████▊ | 2111/2383 [04:19<00:36,  7.39it/s]"
     ]
    },
    {
     "name": "stdout",
     "output_type": "stream",
     "text": [
      "Scores shape: (32, 7), Expected labels: 7\n",
      "Scores shape: (32, 7), Expected labels: 7\n"
     ]
    },
    {
     "name": "stderr",
     "output_type": "stream",
     "text": [
      "Processing Emotions:  89%|████████▊ | 2113/2383 [04:19<00:37,  7.18it/s]"
     ]
    },
    {
     "name": "stdout",
     "output_type": "stream",
     "text": [
      "Scores shape: (32, 7), Expected labels: 7\n",
      "Scores shape: (32, 7), Expected labels: 7\n"
     ]
    },
    {
     "name": "stderr",
     "output_type": "stream",
     "text": [
      "Processing Emotions:  89%|████████▉ | 2115/2383 [04:20<00:42,  6.36it/s]"
     ]
    },
    {
     "name": "stdout",
     "output_type": "stream",
     "text": [
      "Scores shape: (32, 7), Expected labels: 7\n",
      "Scores shape: (32, 7), Expected labels: 7\n"
     ]
    },
    {
     "name": "stderr",
     "output_type": "stream",
     "text": [
      "Processing Emotions:  89%|████████▉ | 2117/2383 [04:20<00:39,  6.80it/s]"
     ]
    },
    {
     "name": "stdout",
     "output_type": "stream",
     "text": [
      "Scores shape: (32, 7), Expected labels: 7\n",
      "Scores shape: (32, 7), Expected labels: 7\n"
     ]
    },
    {
     "name": "stderr",
     "output_type": "stream",
     "text": [
      "Processing Emotions:  89%|████████▉ | 2119/2383 [04:20<00:34,  7.64it/s]"
     ]
    },
    {
     "name": "stdout",
     "output_type": "stream",
     "text": [
      "Scores shape: (32, 7), Expected labels: 7\n",
      "Scores shape: (32, 7), Expected labels: 7\n"
     ]
    },
    {
     "name": "stderr",
     "output_type": "stream",
     "text": [
      "Processing Emotions:  89%|████████▉ | 2121/2383 [04:20<00:32,  8.07it/s]"
     ]
    },
    {
     "name": "stdout",
     "output_type": "stream",
     "text": [
      "Scores shape: (32, 7), Expected labels: 7\n",
      "Scores shape: (32, 7), Expected labels: 7\n"
     ]
    },
    {
     "name": "stderr",
     "output_type": "stream",
     "text": [
      "Processing Emotions:  89%|████████▉ | 2123/2383 [04:21<00:30,  8.42it/s]"
     ]
    },
    {
     "name": "stdout",
     "output_type": "stream",
     "text": [
      "Scores shape: (32, 7), Expected labels: 7\n",
      "Scores shape: (32, 7), Expected labels: 7\n"
     ]
    },
    {
     "name": "stderr",
     "output_type": "stream",
     "text": [
      "Processing Emotions:  89%|████████▉ | 2125/2383 [04:21<00:30,  8.44it/s]"
     ]
    },
    {
     "name": "stdout",
     "output_type": "stream",
     "text": [
      "Scores shape: (32, 7), Expected labels: 7\n",
      "Scores shape: (32, 7), Expected labels: 7\n"
     ]
    },
    {
     "name": "stderr",
     "output_type": "stream",
     "text": [
      "Processing Emotions:  89%|████████▉ | 2127/2383 [04:21<00:30,  8.37it/s]"
     ]
    },
    {
     "name": "stdout",
     "output_type": "stream",
     "text": [
      "Scores shape: (32, 7), Expected labels: 7\n",
      "Scores shape: (32, 7), Expected labels: 7\n"
     ]
    },
    {
     "name": "stderr",
     "output_type": "stream",
     "text": [
      "Processing Emotions:  89%|████████▉ | 2129/2383 [04:21<00:29,  8.48it/s]"
     ]
    },
    {
     "name": "stdout",
     "output_type": "stream",
     "text": [
      "Scores shape: (32, 7), Expected labels: 7\n",
      "Scores shape: (32, 7), Expected labels: 7\n"
     ]
    },
    {
     "name": "stderr",
     "output_type": "stream",
     "text": [
      "Processing Emotions:  89%|████████▉ | 2131/2383 [04:22<00:29,  8.49it/s]"
     ]
    },
    {
     "name": "stdout",
     "output_type": "stream",
     "text": [
      "Scores shape: (32, 7), Expected labels: 7\n",
      "Scores shape: (32, 7), Expected labels: 7\n"
     ]
    },
    {
     "name": "stderr",
     "output_type": "stream",
     "text": [
      "Processing Emotions:  90%|████████▉ | 2133/2383 [04:22<00:29,  8.49it/s]"
     ]
    },
    {
     "name": "stdout",
     "output_type": "stream",
     "text": [
      "Scores shape: (32, 7), Expected labels: 7\n",
      "Scores shape: (32, 7), Expected labels: 7\n"
     ]
    },
    {
     "name": "stderr",
     "output_type": "stream",
     "text": [
      "Processing Emotions:  90%|████████▉ | 2135/2383 [04:22<00:29,  8.38it/s]"
     ]
    },
    {
     "name": "stdout",
     "output_type": "stream",
     "text": [
      "Scores shape: (32, 7), Expected labels: 7\n",
      "Scores shape: (32, 7), Expected labels: 7\n"
     ]
    },
    {
     "name": "stderr",
     "output_type": "stream",
     "text": [
      "Processing Emotions:  90%|████████▉ | 2137/2383 [04:22<00:29,  8.42it/s]"
     ]
    },
    {
     "name": "stdout",
     "output_type": "stream",
     "text": [
      "Scores shape: (32, 7), Expected labels: 7\n",
      "Scores shape: (32, 7), Expected labels: 7\n"
     ]
    },
    {
     "name": "stderr",
     "output_type": "stream",
     "text": [
      "Processing Emotions:  90%|████████▉ | 2139/2383 [04:23<00:28,  8.55it/s]"
     ]
    },
    {
     "name": "stdout",
     "output_type": "stream",
     "text": [
      "Scores shape: (32, 7), Expected labels: 7\n",
      "Scores shape: (32, 7), Expected labels: 7\n"
     ]
    },
    {
     "name": "stderr",
     "output_type": "stream",
     "text": [
      "Processing Emotions:  90%|████████▉ | 2141/2383 [04:23<00:29,  8.30it/s]"
     ]
    },
    {
     "name": "stdout",
     "output_type": "stream",
     "text": [
      "Scores shape: (32, 7), Expected labels: 7\n",
      "Scores shape: (32, 7), Expected labels: 7\n"
     ]
    },
    {
     "name": "stderr",
     "output_type": "stream",
     "text": [
      "Processing Emotions:  90%|████████▉ | 2143/2383 [04:23<00:28,  8.41it/s]"
     ]
    },
    {
     "name": "stdout",
     "output_type": "stream",
     "text": [
      "Scores shape: (32, 7), Expected labels: 7\n",
      "Scores shape: (32, 7), Expected labels: 7\n"
     ]
    },
    {
     "name": "stderr",
     "output_type": "stream",
     "text": [
      "Processing Emotions:  90%|█████████ | 2145/2383 [04:23<00:28,  8.39it/s]"
     ]
    },
    {
     "name": "stdout",
     "output_type": "stream",
     "text": [
      "Scores shape: (32, 7), Expected labels: 7\n",
      "Scores shape: (32, 7), Expected labels: 7\n"
     ]
    },
    {
     "name": "stderr",
     "output_type": "stream",
     "text": [
      "Processing Emotions:  90%|█████████ | 2147/2383 [04:24<00:28,  8.40it/s]"
     ]
    },
    {
     "name": "stdout",
     "output_type": "stream",
     "text": [
      "Scores shape: (32, 7), Expected labels: 7\n",
      "Scores shape: (32, 7), Expected labels: 7\n"
     ]
    },
    {
     "name": "stderr",
     "output_type": "stream",
     "text": [
      "Processing Emotions:  90%|█████████ | 2149/2383 [04:24<00:28,  8.26it/s]"
     ]
    },
    {
     "name": "stdout",
     "output_type": "stream",
     "text": [
      "Scores shape: (32, 7), Expected labels: 7\n",
      "Scores shape: (32, 7), Expected labels: 7\n"
     ]
    },
    {
     "name": "stderr",
     "output_type": "stream",
     "text": [
      "Processing Emotions:  90%|█████████ | 2151/2383 [04:24<00:28,  8.24it/s]"
     ]
    },
    {
     "name": "stdout",
     "output_type": "stream",
     "text": [
      "Scores shape: (32, 7), Expected labels: 7\n",
      "Scores shape: (32, 7), Expected labels: 7\n"
     ]
    },
    {
     "name": "stderr",
     "output_type": "stream",
     "text": [
      "Processing Emotions:  90%|█████████ | 2153/2383 [04:24<00:27,  8.28it/s]"
     ]
    },
    {
     "name": "stdout",
     "output_type": "stream",
     "text": [
      "Scores shape: (32, 7), Expected labels: 7\n",
      "Scores shape: (32, 7), Expected labels: 7\n"
     ]
    },
    {
     "name": "stderr",
     "output_type": "stream",
     "text": [
      "Processing Emotions:  90%|█████████ | 2155/2383 [04:25<00:27,  8.28it/s]"
     ]
    },
    {
     "name": "stdout",
     "output_type": "stream",
     "text": [
      "Scores shape: (32, 7), Expected labels: 7\n",
      "Scores shape: (32, 7), Expected labels: 7\n"
     ]
    },
    {
     "name": "stderr",
     "output_type": "stream",
     "text": [
      "Processing Emotions:  91%|█████████ | 2157/2383 [04:25<00:27,  8.28it/s]"
     ]
    },
    {
     "name": "stdout",
     "output_type": "stream",
     "text": [
      "Scores shape: (32, 7), Expected labels: 7\n",
      "Scores shape: (32, 7), Expected labels: 7\n"
     ]
    },
    {
     "name": "stderr",
     "output_type": "stream",
     "text": [
      "Processing Emotions:  91%|█████████ | 2159/2383 [04:25<00:26,  8.30it/s]"
     ]
    },
    {
     "name": "stdout",
     "output_type": "stream",
     "text": [
      "Scores shape: (32, 7), Expected labels: 7\n",
      "Scores shape: (32, 7), Expected labels: 7\n"
     ]
    },
    {
     "name": "stderr",
     "output_type": "stream",
     "text": [
      "Processing Emotions:  91%|█████████ | 2161/2383 [04:25<00:26,  8.24it/s]"
     ]
    },
    {
     "name": "stdout",
     "output_type": "stream",
     "text": [
      "Scores shape: (32, 7), Expected labels: 7\n",
      "Scores shape: (32, 7), Expected labels: 7\n"
     ]
    },
    {
     "name": "stderr",
     "output_type": "stream",
     "text": [
      "Processing Emotions:  91%|█████████ | 2163/2383 [04:25<00:27,  8.11it/s]"
     ]
    },
    {
     "name": "stdout",
     "output_type": "stream",
     "text": [
      "Scores shape: (32, 7), Expected labels: 7\n",
      "Scores shape: (32, 7), Expected labels: 7\n"
     ]
    },
    {
     "name": "stderr",
     "output_type": "stream",
     "text": [
      "Processing Emotions:  91%|█████████ | 2165/2383 [04:26<00:27,  7.83it/s]"
     ]
    },
    {
     "name": "stdout",
     "output_type": "stream",
     "text": [
      "Scores shape: (32, 7), Expected labels: 7\n",
      "Scores shape: (32, 7), Expected labels: 7\n"
     ]
    },
    {
     "name": "stderr",
     "output_type": "stream",
     "text": [
      "Processing Emotions:  91%|█████████ | 2167/2383 [04:26<00:27,  7.98it/s]"
     ]
    },
    {
     "name": "stdout",
     "output_type": "stream",
     "text": [
      "Scores shape: (32, 7), Expected labels: 7\n",
      "Scores shape: (32, 7), Expected labels: 7\n"
     ]
    },
    {
     "name": "stderr",
     "output_type": "stream",
     "text": [
      "Processing Emotions:  91%|█████████ | 2169/2383 [04:26<00:27,  7.77it/s]"
     ]
    },
    {
     "name": "stdout",
     "output_type": "stream",
     "text": [
      "Scores shape: (32, 7), Expected labels: 7\n",
      "Scores shape: (32, 7), Expected labels: 7\n"
     ]
    },
    {
     "name": "stderr",
     "output_type": "stream",
     "text": [
      "Processing Emotions:  91%|█████████ | 2171/2383 [04:27<00:27,  7.76it/s]"
     ]
    },
    {
     "name": "stdout",
     "output_type": "stream",
     "text": [
      "Scores shape: (32, 7), Expected labels: 7\n",
      "Scores shape: (32, 7), Expected labels: 7\n"
     ]
    },
    {
     "name": "stderr",
     "output_type": "stream",
     "text": [
      "Processing Emotions:  91%|█████████ | 2173/2383 [04:27<00:28,  7.48it/s]"
     ]
    },
    {
     "name": "stdout",
     "output_type": "stream",
     "text": [
      "Scores shape: (32, 7), Expected labels: 7\n",
      "Scores shape: (32, 7), Expected labels: 7\n"
     ]
    },
    {
     "name": "stderr",
     "output_type": "stream",
     "text": [
      "Processing Emotions:  91%|█████████▏| 2175/2383 [04:27<00:27,  7.69it/s]"
     ]
    },
    {
     "name": "stdout",
     "output_type": "stream",
     "text": [
      "Scores shape: (32, 7), Expected labels: 7\n",
      "Scores shape: (32, 7), Expected labels: 7\n"
     ]
    },
    {
     "name": "stderr",
     "output_type": "stream",
     "text": [
      "Processing Emotions:  91%|█████████▏| 2177/2383 [04:27<00:26,  7.70it/s]"
     ]
    },
    {
     "name": "stdout",
     "output_type": "stream",
     "text": [
      "Scores shape: (32, 7), Expected labels: 7\n",
      "Scores shape: (32, 7), Expected labels: 7\n"
     ]
    },
    {
     "name": "stderr",
     "output_type": "stream",
     "text": [
      "Processing Emotions:  91%|█████████▏| 2179/2383 [04:28<00:26,  7.69it/s]"
     ]
    },
    {
     "name": "stdout",
     "output_type": "stream",
     "text": [
      "Scores shape: (32, 7), Expected labels: 7\n",
      "Scores shape: (32, 7), Expected labels: 7\n"
     ]
    },
    {
     "name": "stderr",
     "output_type": "stream",
     "text": [
      "Processing Emotions:  92%|█████████▏| 2181/2383 [04:28<00:25,  7.79it/s]"
     ]
    },
    {
     "name": "stdout",
     "output_type": "stream",
     "text": [
      "Scores shape: (32, 7), Expected labels: 7\n",
      "Scores shape: (32, 7), Expected labels: 7\n"
     ]
    },
    {
     "name": "stderr",
     "output_type": "stream",
     "text": [
      "Processing Emotions:  92%|█████████▏| 2183/2383 [04:28<00:25,  7.85it/s]"
     ]
    },
    {
     "name": "stdout",
     "output_type": "stream",
     "text": [
      "Scores shape: (32, 7), Expected labels: 7\n",
      "Scores shape: (32, 7), Expected labels: 7\n"
     ]
    },
    {
     "name": "stderr",
     "output_type": "stream",
     "text": [
      "Processing Emotions:  92%|█████████▏| 2185/2383 [04:28<00:24,  7.94it/s]"
     ]
    },
    {
     "name": "stdout",
     "output_type": "stream",
     "text": [
      "Scores shape: (32, 7), Expected labels: 7\n",
      "Scores shape: (32, 7), Expected labels: 7\n"
     ]
    },
    {
     "name": "stderr",
     "output_type": "stream",
     "text": [
      "Processing Emotions:  92%|█████████▏| 2187/2383 [04:29<00:25,  7.60it/s]"
     ]
    },
    {
     "name": "stdout",
     "output_type": "stream",
     "text": [
      "Scores shape: (32, 7), Expected labels: 7\n",
      "Scores shape: (32, 7), Expected labels: 7\n"
     ]
    },
    {
     "name": "stderr",
     "output_type": "stream",
     "text": [
      "Processing Emotions:  92%|█████████▏| 2189/2383 [04:29<00:24,  8.00it/s]"
     ]
    },
    {
     "name": "stdout",
     "output_type": "stream",
     "text": [
      "Scores shape: (32, 7), Expected labels: 7\n",
      "Scores shape: (32, 7), Expected labels: 7\n"
     ]
    },
    {
     "name": "stderr",
     "output_type": "stream",
     "text": [
      "Processing Emotions:  92%|█████████▏| 2191/2383 [04:29<00:23,  8.01it/s]"
     ]
    },
    {
     "name": "stdout",
     "output_type": "stream",
     "text": [
      "Scores shape: (32, 7), Expected labels: 7\n",
      "Scores shape: (32, 7), Expected labels: 7\n"
     ]
    },
    {
     "name": "stderr",
     "output_type": "stream",
     "text": [
      "Processing Emotions:  92%|█████████▏| 2193/2383 [04:29<00:23,  8.19it/s]"
     ]
    },
    {
     "name": "stdout",
     "output_type": "stream",
     "text": [
      "Scores shape: (32, 7), Expected labels: 7\n",
      "Scores shape: (32, 7), Expected labels: 7\n"
     ]
    },
    {
     "name": "stderr",
     "output_type": "stream",
     "text": [
      "Processing Emotions:  92%|█████████▏| 2195/2383 [04:30<00:23,  8.06it/s]"
     ]
    },
    {
     "name": "stdout",
     "output_type": "stream",
     "text": [
      "Scores shape: (32, 7), Expected labels: 7\n",
      "Scores shape: (32, 7), Expected labels: 7\n"
     ]
    },
    {
     "name": "stderr",
     "output_type": "stream",
     "text": [
      "Processing Emotions:  92%|█████████▏| 2197/2383 [04:30<00:22,  8.32it/s]"
     ]
    },
    {
     "name": "stdout",
     "output_type": "stream",
     "text": [
      "Scores shape: (32, 7), Expected labels: 7\n",
      "Scores shape: (32, 7), Expected labels: 7\n"
     ]
    },
    {
     "name": "stderr",
     "output_type": "stream",
     "text": [
      "Processing Emotions:  92%|█████████▏| 2199/2383 [04:30<00:21,  8.53it/s]"
     ]
    },
    {
     "name": "stdout",
     "output_type": "stream",
     "text": [
      "Scores shape: (32, 7), Expected labels: 7\n",
      "Scores shape: (32, 7), Expected labels: 7\n"
     ]
    },
    {
     "name": "stderr",
     "output_type": "stream",
     "text": [
      "Processing Emotions:  92%|█████████▏| 2201/2383 [04:30<00:21,  8.30it/s]"
     ]
    },
    {
     "name": "stdout",
     "output_type": "stream",
     "text": [
      "Scores shape: (32, 7), Expected labels: 7\n",
      "Scores shape: (32, 7), Expected labels: 7\n"
     ]
    },
    {
     "name": "stderr",
     "output_type": "stream",
     "text": [
      "Processing Emotions:  92%|█████████▏| 2203/2383 [04:31<00:21,  8.19it/s]"
     ]
    },
    {
     "name": "stdout",
     "output_type": "stream",
     "text": [
      "Scores shape: (32, 7), Expected labels: 7\n",
      "Scores shape: (32, 7), Expected labels: 7\n"
     ]
    },
    {
     "name": "stderr",
     "output_type": "stream",
     "text": [
      "Processing Emotions:  93%|█████████▎| 2205/2383 [04:31<00:21,  8.33it/s]"
     ]
    },
    {
     "name": "stdout",
     "output_type": "stream",
     "text": [
      "Scores shape: (32, 7), Expected labels: 7\n",
      "Scores shape: (32, 7), Expected labels: 7\n"
     ]
    },
    {
     "name": "stderr",
     "output_type": "stream",
     "text": [
      "Processing Emotions:  93%|█████████▎| 2207/2383 [04:31<00:21,  8.17it/s]"
     ]
    },
    {
     "name": "stdout",
     "output_type": "stream",
     "text": [
      "Scores shape: (32, 7), Expected labels: 7\n",
      "Scores shape: (32, 7), Expected labels: 7\n"
     ]
    },
    {
     "name": "stderr",
     "output_type": "stream",
     "text": [
      "Processing Emotions:  93%|█████████▎| 2209/2383 [04:31<00:20,  8.35it/s]"
     ]
    },
    {
     "name": "stdout",
     "output_type": "stream",
     "text": [
      "Scores shape: (32, 7), Expected labels: 7\n",
      "Scores shape: (32, 7), Expected labels: 7\n"
     ]
    },
    {
     "name": "stderr",
     "output_type": "stream",
     "text": [
      "Processing Emotions:  93%|█████████▎| 2211/2383 [04:31<00:20,  8.28it/s]"
     ]
    },
    {
     "name": "stdout",
     "output_type": "stream",
     "text": [
      "Scores shape: (32, 7), Expected labels: 7\n",
      "Scores shape: (32, 7), Expected labels: 7\n"
     ]
    },
    {
     "name": "stderr",
     "output_type": "stream",
     "text": [
      "Processing Emotions:  93%|█████████▎| 2213/2383 [04:32<00:20,  8.25it/s]"
     ]
    },
    {
     "name": "stdout",
     "output_type": "stream",
     "text": [
      "Scores shape: (32, 7), Expected labels: 7\n",
      "Scores shape: (32, 7), Expected labels: 7\n"
     ]
    },
    {
     "name": "stderr",
     "output_type": "stream",
     "text": [
      "Processing Emotions:  93%|█████████▎| 2215/2383 [04:32<00:19,  8.44it/s]"
     ]
    },
    {
     "name": "stdout",
     "output_type": "stream",
     "text": [
      "Scores shape: (32, 7), Expected labels: 7\n",
      "Scores shape: (32, 7), Expected labels: 7\n"
     ]
    },
    {
     "name": "stderr",
     "output_type": "stream",
     "text": [
      "Processing Emotions:  93%|█████████▎| 2217/2383 [04:32<00:19,  8.30it/s]"
     ]
    },
    {
     "name": "stdout",
     "output_type": "stream",
     "text": [
      "Scores shape: (32, 7), Expected labels: 7\n",
      "Scores shape: (32, 7), Expected labels: 7\n"
     ]
    },
    {
     "name": "stderr",
     "output_type": "stream",
     "text": [
      "Processing Emotions:  93%|█████████▎| 2219/2383 [04:32<00:19,  8.31it/s]"
     ]
    },
    {
     "name": "stdout",
     "output_type": "stream",
     "text": [
      "Scores shape: (32, 7), Expected labels: 7\n",
      "Scores shape: (32, 7), Expected labels: 7\n"
     ]
    },
    {
     "name": "stderr",
     "output_type": "stream",
     "text": [
      "Processing Emotions:  93%|█████████▎| 2221/2383 [04:33<00:19,  8.36it/s]"
     ]
    },
    {
     "name": "stdout",
     "output_type": "stream",
     "text": [
      "Scores shape: (32, 7), Expected labels: 7\n",
      "Scores shape: (32, 7), Expected labels: 7\n"
     ]
    },
    {
     "name": "stderr",
     "output_type": "stream",
     "text": [
      "Processing Emotions:  93%|█████████▎| 2223/2383 [04:33<00:18,  8.50it/s]"
     ]
    },
    {
     "name": "stdout",
     "output_type": "stream",
     "text": [
      "Scores shape: (32, 7), Expected labels: 7\n",
      "Scores shape: (32, 7), Expected labels: 7\n"
     ]
    },
    {
     "name": "stderr",
     "output_type": "stream",
     "text": [
      "Processing Emotions:  93%|█████████▎| 2225/2383 [04:33<00:18,  8.47it/s]"
     ]
    },
    {
     "name": "stdout",
     "output_type": "stream",
     "text": [
      "Scores shape: (32, 7), Expected labels: 7\n",
      "Scores shape: (32, 7), Expected labels: 7\n"
     ]
    },
    {
     "name": "stderr",
     "output_type": "stream",
     "text": [
      "Processing Emotions:  93%|█████████▎| 2227/2383 [04:33<00:18,  8.36it/s]"
     ]
    },
    {
     "name": "stdout",
     "output_type": "stream",
     "text": [
      "Scores shape: (32, 7), Expected labels: 7\n",
      "Scores shape: (32, 7), Expected labels: 7\n"
     ]
    },
    {
     "name": "stderr",
     "output_type": "stream",
     "text": [
      "Processing Emotions:  94%|█████████▎| 2229/2383 [04:34<00:18,  8.41it/s]"
     ]
    },
    {
     "name": "stdout",
     "output_type": "stream",
     "text": [
      "Scores shape: (32, 7), Expected labels: 7\n",
      "Scores shape: (32, 7), Expected labels: 7\n"
     ]
    },
    {
     "name": "stderr",
     "output_type": "stream",
     "text": [
      "Processing Emotions:  94%|█████████▎| 2231/2383 [04:34<00:18,  8.16it/s]"
     ]
    },
    {
     "name": "stdout",
     "output_type": "stream",
     "text": [
      "Scores shape: (32, 7), Expected labels: 7\n",
      "Scores shape: (32, 7), Expected labels: 7\n"
     ]
    },
    {
     "name": "stderr",
     "output_type": "stream",
     "text": [
      "Processing Emotions:  94%|█████████▎| 2233/2383 [04:34<00:17,  8.41it/s]"
     ]
    },
    {
     "name": "stdout",
     "output_type": "stream",
     "text": [
      "Scores shape: (32, 7), Expected labels: 7\n",
      "Scores shape: (32, 7), Expected labels: 7\n"
     ]
    },
    {
     "name": "stderr",
     "output_type": "stream",
     "text": [
      "Processing Emotions:  94%|█████████▍| 2235/2383 [04:34<00:17,  8.42it/s]"
     ]
    },
    {
     "name": "stdout",
     "output_type": "stream",
     "text": [
      "Scores shape: (32, 7), Expected labels: 7\n",
      "Scores shape: (32, 7), Expected labels: 7\n"
     ]
    },
    {
     "name": "stderr",
     "output_type": "stream",
     "text": [
      "Processing Emotions:  94%|█████████▍| 2237/2383 [04:35<00:17,  8.20it/s]"
     ]
    },
    {
     "name": "stdout",
     "output_type": "stream",
     "text": [
      "Scores shape: (32, 7), Expected labels: 7\n",
      "Scores shape: (32, 7), Expected labels: 7\n"
     ]
    },
    {
     "name": "stderr",
     "output_type": "stream",
     "text": [
      "Processing Emotions:  94%|█████████▍| 2239/2383 [04:35<00:17,  8.26it/s]"
     ]
    },
    {
     "name": "stdout",
     "output_type": "stream",
     "text": [
      "Scores shape: (32, 7), Expected labels: 7\n",
      "Scores shape: (32, 7), Expected labels: 7\n"
     ]
    },
    {
     "name": "stderr",
     "output_type": "stream",
     "text": [
      "Processing Emotions:  94%|█████████▍| 2241/2383 [04:35<00:17,  8.26it/s]"
     ]
    },
    {
     "name": "stdout",
     "output_type": "stream",
     "text": [
      "Scores shape: (32, 7), Expected labels: 7\n",
      "Scores shape: (32, 7), Expected labels: 7\n"
     ]
    },
    {
     "name": "stderr",
     "output_type": "stream",
     "text": [
      "Processing Emotions:  94%|█████████▍| 2243/2383 [04:35<00:16,  8.25it/s]"
     ]
    },
    {
     "name": "stdout",
     "output_type": "stream",
     "text": [
      "Scores shape: (32, 7), Expected labels: 7\n",
      "Scores shape: (32, 7), Expected labels: 7\n"
     ]
    },
    {
     "name": "stderr",
     "output_type": "stream",
     "text": [
      "Processing Emotions:  94%|█████████▍| 2245/2383 [04:36<00:16,  8.26it/s]"
     ]
    },
    {
     "name": "stdout",
     "output_type": "stream",
     "text": [
      "Scores shape: (32, 7), Expected labels: 7\n",
      "Scores shape: (32, 7), Expected labels: 7\n"
     ]
    },
    {
     "name": "stderr",
     "output_type": "stream",
     "text": [
      "Processing Emotions:  94%|█████████▍| 2247/2383 [04:36<00:16,  8.50it/s]"
     ]
    },
    {
     "name": "stdout",
     "output_type": "stream",
     "text": [
      "Scores shape: (32, 7), Expected labels: 7\n",
      "Scores shape: (32, 7), Expected labels: 7\n"
     ]
    },
    {
     "name": "stderr",
     "output_type": "stream",
     "text": [
      "Processing Emotions:  94%|█████████▍| 2249/2383 [04:36<00:16,  8.27it/s]"
     ]
    },
    {
     "name": "stdout",
     "output_type": "stream",
     "text": [
      "Scores shape: (32, 7), Expected labels: 7\n",
      "Scores shape: (32, 7), Expected labels: 7\n"
     ]
    },
    {
     "name": "stderr",
     "output_type": "stream",
     "text": [
      "Processing Emotions:  94%|█████████▍| 2251/2383 [04:36<00:15,  8.27it/s]"
     ]
    },
    {
     "name": "stdout",
     "output_type": "stream",
     "text": [
      "Scores shape: (32, 7), Expected labels: 7\n",
      "Scores shape: (32, 7), Expected labels: 7\n"
     ]
    },
    {
     "name": "stderr",
     "output_type": "stream",
     "text": [
      "Processing Emotions:  95%|█████████▍| 2253/2383 [04:37<00:15,  8.42it/s]"
     ]
    },
    {
     "name": "stdout",
     "output_type": "stream",
     "text": [
      "Scores shape: (32, 7), Expected labels: 7\n",
      "Scores shape: (32, 7), Expected labels: 7\n"
     ]
    },
    {
     "name": "stderr",
     "output_type": "stream",
     "text": [
      "Processing Emotions:  95%|█████████▍| 2255/2383 [04:37<00:15,  8.38it/s]"
     ]
    },
    {
     "name": "stdout",
     "output_type": "stream",
     "text": [
      "Scores shape: (32, 7), Expected labels: 7\n",
      "Scores shape: (32, 7), Expected labels: 7\n"
     ]
    },
    {
     "name": "stderr",
     "output_type": "stream",
     "text": [
      "Processing Emotions:  95%|█████████▍| 2257/2383 [04:37<00:14,  8.58it/s]"
     ]
    },
    {
     "name": "stdout",
     "output_type": "stream",
     "text": [
      "Scores shape: (32, 7), Expected labels: 7\n",
      "Scores shape: (32, 7), Expected labels: 7\n"
     ]
    },
    {
     "name": "stderr",
     "output_type": "stream",
     "text": [
      "Processing Emotions:  95%|█████████▍| 2259/2383 [04:37<00:14,  8.40it/s]"
     ]
    },
    {
     "name": "stdout",
     "output_type": "stream",
     "text": [
      "Scores shape: (32, 7), Expected labels: 7\n",
      "Scores shape: (32, 7), Expected labels: 7\n"
     ]
    },
    {
     "name": "stderr",
     "output_type": "stream",
     "text": [
      "Processing Emotions:  95%|█████████▍| 2261/2383 [04:37<00:14,  8.31it/s]"
     ]
    },
    {
     "name": "stdout",
     "output_type": "stream",
     "text": [
      "Scores shape: (32, 7), Expected labels: 7\n",
      "Scores shape: (32, 7), Expected labels: 7\n"
     ]
    },
    {
     "name": "stderr",
     "output_type": "stream",
     "text": [
      "Processing Emotions:  95%|█████████▍| 2263/2383 [04:38<00:14,  8.31it/s]"
     ]
    },
    {
     "name": "stdout",
     "output_type": "stream",
     "text": [
      "Scores shape: (32, 7), Expected labels: 7\n",
      "Scores shape: (32, 7), Expected labels: 7\n"
     ]
    },
    {
     "name": "stderr",
     "output_type": "stream",
     "text": [
      "Processing Emotions:  95%|█████████▌| 2265/2383 [04:38<00:14,  8.41it/s]"
     ]
    },
    {
     "name": "stdout",
     "output_type": "stream",
     "text": [
      "Scores shape: (32, 7), Expected labels: 7\n",
      "Scores shape: (32, 7), Expected labels: 7\n"
     ]
    },
    {
     "name": "stderr",
     "output_type": "stream",
     "text": [
      "Processing Emotions:  95%|█████████▌| 2267/2383 [04:38<00:13,  8.55it/s]"
     ]
    },
    {
     "name": "stdout",
     "output_type": "stream",
     "text": [
      "Scores shape: (32, 7), Expected labels: 7\n",
      "Scores shape: (32, 7), Expected labels: 7\n"
     ]
    },
    {
     "name": "stderr",
     "output_type": "stream",
     "text": [
      "Processing Emotions:  95%|█████████▌| 2269/2383 [04:38<00:13,  8.33it/s]"
     ]
    },
    {
     "name": "stdout",
     "output_type": "stream",
     "text": [
      "Scores shape: (32, 7), Expected labels: 7\n",
      "Scores shape: (32, 7), Expected labels: 7\n"
     ]
    },
    {
     "name": "stderr",
     "output_type": "stream",
     "text": [
      "Processing Emotions:  95%|█████████▌| 2271/2383 [04:39<00:13,  8.19it/s]"
     ]
    },
    {
     "name": "stdout",
     "output_type": "stream",
     "text": [
      "Scores shape: (32, 7), Expected labels: 7\n",
      "Scores shape: (32, 7), Expected labels: 7\n"
     ]
    },
    {
     "name": "stderr",
     "output_type": "stream",
     "text": [
      "Processing Emotions:  95%|█████████▌| 2273/2383 [04:39<00:13,  8.14it/s]"
     ]
    },
    {
     "name": "stdout",
     "output_type": "stream",
     "text": [
      "Scores shape: (32, 7), Expected labels: 7\n",
      "Scores shape: (32, 7), Expected labels: 7\n"
     ]
    },
    {
     "name": "stderr",
     "output_type": "stream",
     "text": [
      "Processing Emotions:  95%|█████████▌| 2275/2383 [04:39<00:14,  7.48it/s]"
     ]
    },
    {
     "name": "stdout",
     "output_type": "stream",
     "text": [
      "Scores shape: (32, 7), Expected labels: 7\n",
      "Scores shape: (32, 7), Expected labels: 7\n"
     ]
    },
    {
     "name": "stderr",
     "output_type": "stream",
     "text": [
      "Processing Emotions:  96%|█████████▌| 2277/2383 [04:39<00:13,  7.78it/s]"
     ]
    },
    {
     "name": "stdout",
     "output_type": "stream",
     "text": [
      "Scores shape: (32, 7), Expected labels: 7\n",
      "Scores shape: (32, 7), Expected labels: 7\n"
     ]
    },
    {
     "name": "stderr",
     "output_type": "stream",
     "text": [
      "Processing Emotions:  96%|█████████▌| 2279/2383 [04:40<00:13,  7.69it/s]"
     ]
    },
    {
     "name": "stdout",
     "output_type": "stream",
     "text": [
      "Scores shape: (32, 7), Expected labels: 7\n",
      "Scores shape: (32, 7), Expected labels: 7\n"
     ]
    },
    {
     "name": "stderr",
     "output_type": "stream",
     "text": [
      "Processing Emotions:  96%|█████████▌| 2281/2383 [04:40<00:13,  7.65it/s]"
     ]
    },
    {
     "name": "stdout",
     "output_type": "stream",
     "text": [
      "Scores shape: (32, 7), Expected labels: 7\n",
      "Scores shape: (32, 7), Expected labels: 7\n"
     ]
    },
    {
     "name": "stderr",
     "output_type": "stream",
     "text": [
      "Processing Emotions:  96%|█████████▌| 2283/2383 [04:40<00:13,  7.55it/s]"
     ]
    },
    {
     "name": "stdout",
     "output_type": "stream",
     "text": [
      "Scores shape: (32, 7), Expected labels: 7\n",
      "Scores shape: (32, 7), Expected labels: 7\n"
     ]
    },
    {
     "name": "stderr",
     "output_type": "stream",
     "text": [
      "Processing Emotions:  96%|█████████▌| 2285/2383 [04:41<00:13,  7.52it/s]"
     ]
    },
    {
     "name": "stdout",
     "output_type": "stream",
     "text": [
      "Scores shape: (32, 7), Expected labels: 7\n",
      "Scores shape: (32, 7), Expected labels: 7\n"
     ]
    },
    {
     "name": "stderr",
     "output_type": "stream",
     "text": [
      "Processing Emotions:  96%|█████████▌| 2287/2383 [04:41<00:13,  7.09it/s]"
     ]
    },
    {
     "name": "stdout",
     "output_type": "stream",
     "text": [
      "Scores shape: (32, 7), Expected labels: 7\n",
      "Scores shape: (32, 7), Expected labels: 7\n"
     ]
    },
    {
     "name": "stderr",
     "output_type": "stream",
     "text": [
      "Processing Emotions:  96%|█████████▌| 2289/2383 [04:41<00:12,  7.38it/s]"
     ]
    },
    {
     "name": "stdout",
     "output_type": "stream",
     "text": [
      "Scores shape: (32, 7), Expected labels: 7\n",
      "Scores shape: (32, 7), Expected labels: 7\n"
     ]
    },
    {
     "name": "stderr",
     "output_type": "stream",
     "text": [
      "Processing Emotions:  96%|█████████▌| 2291/2383 [04:41<00:12,  7.45it/s]"
     ]
    },
    {
     "name": "stdout",
     "output_type": "stream",
     "text": [
      "Scores shape: (32, 7), Expected labels: 7\n",
      "Scores shape: (32, 7), Expected labels: 7\n"
     ]
    },
    {
     "name": "stderr",
     "output_type": "stream",
     "text": [
      "Processing Emotions:  96%|█████████▌| 2293/2383 [04:42<00:11,  7.87it/s]"
     ]
    },
    {
     "name": "stdout",
     "output_type": "stream",
     "text": [
      "Scores shape: (32, 7), Expected labels: 7\n",
      "Scores shape: (32, 7), Expected labels: 7\n"
     ]
    },
    {
     "name": "stderr",
     "output_type": "stream",
     "text": [
      "Processing Emotions:  96%|█████████▋| 2295/2383 [04:42<00:12,  7.32it/s]"
     ]
    },
    {
     "name": "stdout",
     "output_type": "stream",
     "text": [
      "Scores shape: (32, 7), Expected labels: 7\n",
      "Scores shape: (32, 7), Expected labels: 7\n"
     ]
    },
    {
     "name": "stderr",
     "output_type": "stream",
     "text": [
      "Processing Emotions:  96%|█████████▋| 2297/2383 [04:42<00:11,  7.55it/s]"
     ]
    },
    {
     "name": "stdout",
     "output_type": "stream",
     "text": [
      "Scores shape: (32, 7), Expected labels: 7\n",
      "Scores shape: (32, 7), Expected labels: 7\n"
     ]
    },
    {
     "name": "stderr",
     "output_type": "stream",
     "text": [
      "Processing Emotions:  96%|█████████▋| 2299/2383 [04:42<00:10,  7.87it/s]"
     ]
    },
    {
     "name": "stdout",
     "output_type": "stream",
     "text": [
      "Scores shape: (32, 7), Expected labels: 7\n",
      "Scores shape: (32, 7), Expected labels: 7\n"
     ]
    },
    {
     "name": "stderr",
     "output_type": "stream",
     "text": [
      "Processing Emotions:  97%|█████████▋| 2301/2383 [04:43<00:10,  8.17it/s]"
     ]
    },
    {
     "name": "stdout",
     "output_type": "stream",
     "text": [
      "Scores shape: (32, 7), Expected labels: 7\n",
      "Scores shape: (32, 7), Expected labels: 7\n"
     ]
    },
    {
     "name": "stderr",
     "output_type": "stream",
     "text": [
      "Processing Emotions:  97%|█████████▋| 2303/2383 [04:43<00:09,  8.28it/s]"
     ]
    },
    {
     "name": "stdout",
     "output_type": "stream",
     "text": [
      "Scores shape: (32, 7), Expected labels: 7\n",
      "Scores shape: (32, 7), Expected labels: 7\n"
     ]
    },
    {
     "name": "stderr",
     "output_type": "stream",
     "text": [
      "Processing Emotions:  97%|█████████▋| 2305/2383 [04:43<00:09,  8.35it/s]"
     ]
    },
    {
     "name": "stdout",
     "output_type": "stream",
     "text": [
      "Scores shape: (32, 7), Expected labels: 7\n",
      "Scores shape: (32, 7), Expected labels: 7\n"
     ]
    },
    {
     "name": "stderr",
     "output_type": "stream",
     "text": [
      "Processing Emotions:  97%|█████████▋| 2307/2383 [04:43<00:09,  8.43it/s]"
     ]
    },
    {
     "name": "stdout",
     "output_type": "stream",
     "text": [
      "Scores shape: (32, 7), Expected labels: 7\n",
      "Scores shape: (32, 7), Expected labels: 7\n"
     ]
    },
    {
     "name": "stderr",
     "output_type": "stream",
     "text": [
      "Processing Emotions:  97%|█████████▋| 2309/2383 [04:44<00:08,  8.42it/s]"
     ]
    },
    {
     "name": "stdout",
     "output_type": "stream",
     "text": [
      "Scores shape: (32, 7), Expected labels: 7\n",
      "Scores shape: (32, 7), Expected labels: 7\n"
     ]
    },
    {
     "name": "stderr",
     "output_type": "stream",
     "text": [
      "Processing Emotions:  97%|█████████▋| 2311/2383 [04:44<00:08,  8.39it/s]"
     ]
    },
    {
     "name": "stdout",
     "output_type": "stream",
     "text": [
      "Scores shape: (32, 7), Expected labels: 7\n",
      "Scores shape: (32, 7), Expected labels: 7\n"
     ]
    },
    {
     "name": "stderr",
     "output_type": "stream",
     "text": [
      "Processing Emotions:  97%|█████████▋| 2313/2383 [04:44<00:08,  8.37it/s]"
     ]
    },
    {
     "name": "stdout",
     "output_type": "stream",
     "text": [
      "Scores shape: (32, 7), Expected labels: 7\n",
      "Scores shape: (32, 7), Expected labels: 7\n"
     ]
    },
    {
     "name": "stderr",
     "output_type": "stream",
     "text": [
      "Processing Emotions:  97%|█████████▋| 2315/2383 [04:44<00:08,  8.39it/s]"
     ]
    },
    {
     "name": "stdout",
     "output_type": "stream",
     "text": [
      "Scores shape: (32, 7), Expected labels: 7\n",
      "Scores shape: (32, 7), Expected labels: 7\n"
     ]
    },
    {
     "name": "stderr",
     "output_type": "stream",
     "text": [
      "Processing Emotions:  97%|█████████▋| 2317/2383 [04:45<00:08,  8.17it/s]"
     ]
    },
    {
     "name": "stdout",
     "output_type": "stream",
     "text": [
      "Scores shape: (32, 7), Expected labels: 7\n",
      "Scores shape: (32, 7), Expected labels: 7\n"
     ]
    },
    {
     "name": "stderr",
     "output_type": "stream",
     "text": [
      "Processing Emotions:  97%|█████████▋| 2319/2383 [04:45<00:07,  8.45it/s]"
     ]
    },
    {
     "name": "stdout",
     "output_type": "stream",
     "text": [
      "Scores shape: (32, 7), Expected labels: 7\n",
      "Scores shape: (32, 7), Expected labels: 7\n"
     ]
    },
    {
     "name": "stderr",
     "output_type": "stream",
     "text": [
      "Processing Emotions:  97%|█████████▋| 2321/2383 [04:45<00:07,  8.26it/s]"
     ]
    },
    {
     "name": "stdout",
     "output_type": "stream",
     "text": [
      "Scores shape: (32, 7), Expected labels: 7\n",
      "Scores shape: (32, 7), Expected labels: 7\n"
     ]
    },
    {
     "name": "stderr",
     "output_type": "stream",
     "text": [
      "Processing Emotions:  97%|█████████▋| 2323/2383 [04:45<00:07,  8.41it/s]"
     ]
    },
    {
     "name": "stdout",
     "output_type": "stream",
     "text": [
      "Scores shape: (32, 7), Expected labels: 7\n",
      "Scores shape: (32, 7), Expected labels: 7\n"
     ]
    },
    {
     "name": "stderr",
     "output_type": "stream",
     "text": [
      "Processing Emotions:  98%|█████████▊| 2325/2383 [04:45<00:06,  8.35it/s]"
     ]
    },
    {
     "name": "stdout",
     "output_type": "stream",
     "text": [
      "Scores shape: (32, 7), Expected labels: 7\n",
      "Scores shape: (32, 7), Expected labels: 7\n"
     ]
    },
    {
     "name": "stderr",
     "output_type": "stream",
     "text": [
      "Processing Emotions:  98%|█████████▊| 2327/2383 [04:46<00:06,  8.51it/s]"
     ]
    },
    {
     "name": "stdout",
     "output_type": "stream",
     "text": [
      "Scores shape: (32, 7), Expected labels: 7\n",
      "Scores shape: (32, 7), Expected labels: 7\n"
     ]
    },
    {
     "name": "stderr",
     "output_type": "stream",
     "text": [
      "Processing Emotions:  98%|█████████▊| 2329/2383 [04:46<00:06,  8.43it/s]"
     ]
    },
    {
     "name": "stdout",
     "output_type": "stream",
     "text": [
      "Scores shape: (32, 7), Expected labels: 7\n",
      "Scores shape: (32, 7), Expected labels: 7\n"
     ]
    },
    {
     "name": "stderr",
     "output_type": "stream",
     "text": [
      "Processing Emotions:  98%|█████████▊| 2331/2383 [04:46<00:06,  8.20it/s]"
     ]
    },
    {
     "name": "stdout",
     "output_type": "stream",
     "text": [
      "Scores shape: (32, 7), Expected labels: 7\n",
      "Scores shape: (32, 7), Expected labels: 7\n"
     ]
    },
    {
     "name": "stderr",
     "output_type": "stream",
     "text": [
      "Processing Emotions:  98%|█████████▊| 2333/2383 [04:46<00:06,  8.29it/s]"
     ]
    },
    {
     "name": "stdout",
     "output_type": "stream",
     "text": [
      "Scores shape: (32, 7), Expected labels: 7\n",
      "Scores shape: (32, 7), Expected labels: 7\n"
     ]
    },
    {
     "name": "stderr",
     "output_type": "stream",
     "text": [
      "Processing Emotions:  98%|█████████▊| 2335/2383 [04:47<00:05,  8.46it/s]"
     ]
    },
    {
     "name": "stdout",
     "output_type": "stream",
     "text": [
      "Scores shape: (32, 7), Expected labels: 7\n",
      "Scores shape: (32, 7), Expected labels: 7\n"
     ]
    },
    {
     "name": "stderr",
     "output_type": "stream",
     "text": [
      "Processing Emotions:  98%|█████████▊| 2337/2383 [04:47<00:05,  8.42it/s]"
     ]
    },
    {
     "name": "stdout",
     "output_type": "stream",
     "text": [
      "Scores shape: (32, 7), Expected labels: 7\n",
      "Scores shape: (32, 7), Expected labels: 7\n"
     ]
    },
    {
     "name": "stderr",
     "output_type": "stream",
     "text": [
      "Processing Emotions:  98%|█████████▊| 2339/2383 [04:47<00:05,  8.32it/s]"
     ]
    },
    {
     "name": "stdout",
     "output_type": "stream",
     "text": [
      "Scores shape: (32, 7), Expected labels: 7\n",
      "Scores shape: (32, 7), Expected labels: 7\n"
     ]
    },
    {
     "name": "stderr",
     "output_type": "stream",
     "text": [
      "Processing Emotions:  98%|█████████▊| 2341/2383 [04:47<00:04,  8.46it/s]"
     ]
    },
    {
     "name": "stdout",
     "output_type": "stream",
     "text": [
      "Scores shape: (32, 7), Expected labels: 7\n",
      "Scores shape: (32, 7), Expected labels: 7\n"
     ]
    },
    {
     "name": "stderr",
     "output_type": "stream",
     "text": [
      "Processing Emotions:  98%|█████████▊| 2343/2383 [04:48<00:04,  8.48it/s]"
     ]
    },
    {
     "name": "stdout",
     "output_type": "stream",
     "text": [
      "Scores shape: (32, 7), Expected labels: 7\n",
      "Scores shape: (32, 7), Expected labels: 7\n"
     ]
    },
    {
     "name": "stderr",
     "output_type": "stream",
     "text": [
      "Processing Emotions:  98%|█████████▊| 2345/2383 [04:48<00:04,  8.44it/s]"
     ]
    },
    {
     "name": "stdout",
     "output_type": "stream",
     "text": [
      "Scores shape: (32, 7), Expected labels: 7\n",
      "Scores shape: (32, 7), Expected labels: 7\n"
     ]
    },
    {
     "name": "stderr",
     "output_type": "stream",
     "text": [
      "Processing Emotions:  98%|█████████▊| 2347/2383 [04:48<00:04,  7.97it/s]"
     ]
    },
    {
     "name": "stdout",
     "output_type": "stream",
     "text": [
      "Scores shape: (32, 7), Expected labels: 7\n",
      "Scores shape: (32, 7), Expected labels: 7\n"
     ]
    },
    {
     "name": "stderr",
     "output_type": "stream",
     "text": [
      "Processing Emotions:  99%|█████████▊| 2349/2383 [04:48<00:04,  8.19it/s]"
     ]
    },
    {
     "name": "stdout",
     "output_type": "stream",
     "text": [
      "Scores shape: (32, 7), Expected labels: 7\n",
      "Scores shape: (32, 7), Expected labels: 7\n"
     ]
    },
    {
     "name": "stderr",
     "output_type": "stream",
     "text": [
      "Processing Emotions:  99%|█████████▊| 2351/2383 [04:49<00:03,  8.25it/s]"
     ]
    },
    {
     "name": "stdout",
     "output_type": "stream",
     "text": [
      "Scores shape: (32, 7), Expected labels: 7\n",
      "Scores shape: (32, 7), Expected labels: 7\n"
     ]
    },
    {
     "name": "stderr",
     "output_type": "stream",
     "text": [
      "Processing Emotions:  99%|█████████▊| 2353/2383 [04:49<00:03,  8.33it/s]"
     ]
    },
    {
     "name": "stdout",
     "output_type": "stream",
     "text": [
      "Scores shape: (32, 7), Expected labels: 7\n",
      "Scores shape: (32, 7), Expected labels: 7\n"
     ]
    },
    {
     "name": "stderr",
     "output_type": "stream",
     "text": [
      "Processing Emotions:  99%|█████████▉| 2355/2383 [04:49<00:03,  8.11it/s]"
     ]
    },
    {
     "name": "stdout",
     "output_type": "stream",
     "text": [
      "Scores shape: (32, 7), Expected labels: 7\n",
      "Scores shape: (32, 7), Expected labels: 7\n"
     ]
    },
    {
     "name": "stderr",
     "output_type": "stream",
     "text": [
      "Processing Emotions:  99%|█████████▉| 2357/2383 [04:49<00:03,  8.18it/s]"
     ]
    },
    {
     "name": "stdout",
     "output_type": "stream",
     "text": [
      "Scores shape: (32, 7), Expected labels: 7\n",
      "Scores shape: (32, 7), Expected labels: 7\n"
     ]
    },
    {
     "name": "stderr",
     "output_type": "stream",
     "text": [
      "Processing Emotions:  99%|█████████▉| 2359/2383 [04:50<00:02,  8.21it/s]"
     ]
    },
    {
     "name": "stdout",
     "output_type": "stream",
     "text": [
      "Scores shape: (32, 7), Expected labels: 7\n",
      "Scores shape: (32, 7), Expected labels: 7\n"
     ]
    },
    {
     "name": "stderr",
     "output_type": "stream",
     "text": [
      "Processing Emotions:  99%|█████████▉| 2361/2383 [04:50<00:02,  8.32it/s]"
     ]
    },
    {
     "name": "stdout",
     "output_type": "stream",
     "text": [
      "Scores shape: (32, 7), Expected labels: 7\n",
      "Scores shape: (32, 7), Expected labels: 7\n"
     ]
    },
    {
     "name": "stderr",
     "output_type": "stream",
     "text": [
      "Processing Emotions:  99%|█████████▉| 2363/2383 [04:50<00:02,  8.32it/s]"
     ]
    },
    {
     "name": "stdout",
     "output_type": "stream",
     "text": [
      "Scores shape: (32, 7), Expected labels: 7\n",
      "Scores shape: (32, 7), Expected labels: 7\n"
     ]
    },
    {
     "name": "stderr",
     "output_type": "stream",
     "text": [
      "Processing Emotions:  99%|█████████▉| 2365/2383 [04:50<00:02,  8.34it/s]"
     ]
    },
    {
     "name": "stdout",
     "output_type": "stream",
     "text": [
      "Scores shape: (32, 7), Expected labels: 7\n",
      "Scores shape: (32, 7), Expected labels: 7\n"
     ]
    },
    {
     "name": "stderr",
     "output_type": "stream",
     "text": [
      "Processing Emotions:  99%|█████████▉| 2367/2383 [04:51<00:01,  8.29it/s]"
     ]
    },
    {
     "name": "stdout",
     "output_type": "stream",
     "text": [
      "Scores shape: (32, 7), Expected labels: 7\n",
      "Scores shape: (32, 7), Expected labels: 7\n"
     ]
    },
    {
     "name": "stderr",
     "output_type": "stream",
     "text": [
      "Processing Emotions:  99%|█████████▉| 2369/2383 [04:51<00:01,  8.49it/s]"
     ]
    },
    {
     "name": "stdout",
     "output_type": "stream",
     "text": [
      "Scores shape: (32, 7), Expected labels: 7\n",
      "Scores shape: (32, 7), Expected labels: 7\n"
     ]
    },
    {
     "name": "stderr",
     "output_type": "stream",
     "text": [
      "Processing Emotions:  99%|█████████▉| 2371/2383 [04:51<00:01,  8.53it/s]"
     ]
    },
    {
     "name": "stdout",
     "output_type": "stream",
     "text": [
      "Scores shape: (32, 7), Expected labels: 7\n",
      "Scores shape: (32, 7), Expected labels: 7\n"
     ]
    },
    {
     "name": "stderr",
     "output_type": "stream",
     "text": [
      "Processing Emotions: 100%|█████████▉| 2373/2383 [04:51<00:01,  8.41it/s]"
     ]
    },
    {
     "name": "stdout",
     "output_type": "stream",
     "text": [
      "Scores shape: (32, 7), Expected labels: 7\n",
      "Scores shape: (32, 7), Expected labels: 7\n"
     ]
    },
    {
     "name": "stderr",
     "output_type": "stream",
     "text": [
      "Processing Emotions: 100%|█████████▉| 2375/2383 [04:51<00:00,  8.45it/s]"
     ]
    },
    {
     "name": "stdout",
     "output_type": "stream",
     "text": [
      "Scores shape: (32, 7), Expected labels: 7\n",
      "Scores shape: (32, 7), Expected labels: 7\n"
     ]
    },
    {
     "name": "stderr",
     "output_type": "stream",
     "text": [
      "Processing Emotions: 100%|█████████▉| 2377/2383 [04:52<00:00,  8.48it/s]"
     ]
    },
    {
     "name": "stdout",
     "output_type": "stream",
     "text": [
      "Scores shape: (32, 7), Expected labels: 7\n",
      "Scores shape: (32, 7), Expected labels: 7\n"
     ]
    },
    {
     "name": "stderr",
     "output_type": "stream",
     "text": [
      "Processing Emotions: 100%|█████████▉| 2379/2383 [04:52<00:00,  8.33it/s]"
     ]
    },
    {
     "name": "stdout",
     "output_type": "stream",
     "text": [
      "Scores shape: (32, 7), Expected labels: 7\n",
      "Scores shape: (32, 7), Expected labels: 7\n"
     ]
    },
    {
     "name": "stderr",
     "output_type": "stream",
     "text": [
      "Processing Emotions: 100%|█████████▉| 2381/2383 [04:52<00:00,  8.29it/s]"
     ]
    },
    {
     "name": "stdout",
     "output_type": "stream",
     "text": [
      "Scores shape: (32, 7), Expected labels: 7\n",
      "Scores shape: (32, 7), Expected labels: 7\n"
     ]
    },
    {
     "name": "stderr",
     "output_type": "stream",
     "text": [
      "Processing Emotions: 100%|██████████| 2383/2383 [04:52<00:00,  8.13it/s]"
     ]
    },
    {
     "name": "stdout",
     "output_type": "stream",
     "text": [
      "Scores shape: (32, 7), Expected labels: 7\n",
      "Scores shape: (8, 7), Expected labels: 7\n"
     ]
    },
    {
     "name": "stderr",
     "output_type": "stream",
     "text": [
      "\n"
     ]
    },
    {
     "name": "stdout",
     "output_type": "stream",
     "text": [
      "✅ Emotion Detection Completed & Saved with ONLY Detected Emotion!\n"
     ]
    }
   ],
   "source": [
    "import torch\n",
    "from transformers import AutoTokenizer, AutoModelForSequenceClassification\n",
    "import numpy as np\n",
    "import pandas as pd\n",
    "from scipy.special import softmax\n",
    "from tqdm import tqdm\n",
    "\n",
    "# Check for GPU\n",
    "device = torch.device(\"cuda\" if torch.cuda.is_available() else \"cpu\")\n",
    "print(f\"Using device: {device}\")\n",
    "\n",
    "# Load model and tokenizer\n",
    "MODEL_NAME = \"j-hartmann/emotion-english-distilroberta-base\"\n",
    "tokenizer = AutoTokenizer.from_pretrained(MODEL_NAME)\n",
    "model = AutoModelForSequenceClassification.from_pretrained(MODEL_NAME).to(device)  # Move model to GPU\n",
    "model.eval()\n",
    "\n",
    "# Load dataset\n",
    "data = pd.read_csv('/content/drive/MyDrive/Module_2/data_set/processed_data/cleaned_text.csv')\n",
    "\n",
    "# Convert column to string to avoid errors\n",
    "data['text'] = data['text'].astype(str)\n",
    "\n",
    "emotion_labels = ['anger', 'disgust', 'fear', 'joy', 'neutral', 'sadness', 'surprise']\n",
    "\n",
    "def get_dominant_emotion(texts):\n",
    "    \"\"\"Predict the dominant emotion for a batch of texts.\"\"\"\n",
    "    if not isinstance(texts, list):\n",
    "        texts = [texts]  # Ensure input is always a list\n",
    "\n",
    "    inputs = tokenizer(texts, padding=True, truncation=True, max_length=128, return_tensors='pt')\n",
    "\n",
    "    # Move inputs to GPU\n",
    "    inputs = {key: val.to(device) for key, val in inputs.items()}\n",
    "\n",
    "    with torch.no_grad():\n",
    "        outputs = model(**inputs)\n",
    "\n",
    "    scores = outputs.logits.cpu().numpy()  # Move logits to CPU\n",
    "    scores = softmax(scores, axis=1)  # Apply softmax to get probabilities\n",
    "\n",
    "    # Debugging prints\n",
    "    print(f\"Scores shape: {scores.shape}, Expected labels: {len(emotion_labels)}\")\n",
    "\n",
    "    # Ensure the number of output labels matches expectation\n",
    "    if scores.shape[1] != len(emotion_labels):\n",
    "        raise ValueError(f\"Model output {scores.shape[1]} labels, expected {len(emotion_labels)}\")\n",
    "\n",
    "    dominant_indices = np.argmax(scores, axis=1)  # Get index of max probability\n",
    "\n",
    "    # Ensure valid indices\n",
    "    valid_indices = np.clip(dominant_indices, 0, len(emotion_labels) - 1)\n",
    "\n",
    "    return [emotion_labels[idx] for idx in valid_indices]\n",
    "\n",
    "# Process emotions in batches\n",
    "BATCH_SIZE = 32\n",
    "dominant_emotions = []\n",
    "\n",
    "for i in tqdm(range(0, len(data), BATCH_SIZE), desc=\"Processing Emotions\"):\n",
    "    batch_texts = data['text'][i:i+BATCH_SIZE].tolist()\n",
    "    batch_texts = [str(text) for text in batch_texts]\n",
    "    batch_dominant = get_dominant_emotion(batch_texts)\n",
    "    dominant_emotions.extend(batch_dominant)\n",
    "\n",
    "data['Detected Emotion'] = dominant_emotions\n",
    "\n",
    "data[['text','label', 'Detected Emotion']].to_csv('/content/drive/MyDrive/Module_2/data_set/processed_data/emotions.csv', index=False)\n",
    "\n",
    "print(\"✅ Emotion Detection Completed & Saved with ONLY Detected Emotion!\")\n"
   ]
  },
  {
   "cell_type": "code",
   "execution_count": 2,
   "metadata": {
    "colab": {
     "base_uri": "https://localhost:8080/",
     "height": 423
    },
    "executionInfo": {
     "elapsed": 6241,
     "status": "ok",
     "timestamp": 1740877919963,
     "user": {
      "displayName": "Muhammed amil",
      "userId": "02127285972568360205"
     },
     "user_tz": -330
    },
    "id": "6rAqBsAe0HnZ",
    "outputId": "2116ccd9-788b-483a-ca31-0366ef70cf01"
   },
   "outputs": [
    {
     "data": {
      "application/vnd.google.colaboratory.intrinsic+json": {
       "summary": "{\n  \"name\": \"df\",\n  \"rows\": 76232,\n  \"fields\": [\n    {\n      \"column\": \"text\",\n      \"properties\": {\n        \"dtype\": \"string\",\n        \"num_unique_values\": 67981,\n        \"samples\": [\n          \"the way society is structured in terms of careersjobs does not fit well with my adhd  firstly ill keep this brief because well i know what subreddit i am posting on here \\n\\ni say my adhd because everyone experiences adhd differently i am struggling to find a career path and my adhd greatly effects my ability to retain information so anything i would even want to learn i need to learn differently than neurotypical individuals for example i am thinking about network engineering certifications via cisco but the way i would learn it best is to just do it through trial and error and entirely hands on but no one would allow that obviously\\n\\n i can go on and on about this but ill end it here because i do not want this to be too long but i just do not see how i will be able to get  a career when the way society structures the development of careers is through testing and information retention and therefore  memory which is one of my greatest weak points\",\n          \"morning  what scorpion partner yup that is right he is a scorpion queen \",\n          \"you should listen respectfully and empathically no horror no judgement no shrill pronouncements no emotional turmoillisten if they are seeking help offer to go with them if they needwant the support eating disorders are not a choice that one can turn on or off at will do not become judgemental or overbearingthey will retreat from you this is not a disorder that will resolve in  to  days like the flu eating disorders tend to be chronic need treatment and work over time there will be progress but also slippage patience support be ready to be there for the long haul be a very patient consistent empathic coach who knows how to play the long game\\nstay well stay safe\"\n        ],\n        \"semantic_type\": \"\",\n        \"description\": \"\"\n      }\n    },\n    {\n      \"column\": \"label\",\n      \"properties\": {\n        \"dtype\": \"category\",\n        \"num_unique_values\": 17,\n        \"samples\": [\n          \"hoarding disorder\",\n          \"bdd\",\n          \"stress\"\n        ],\n        \"semantic_type\": \"\",\n        \"description\": \"\"\n      }\n    },\n    {\n      \"column\": \"Detected Emotion\",\n      \"properties\": {\n        \"dtype\": \"category\",\n        \"num_unique_values\": 7,\n        \"samples\": [\n          \"sadness\",\n          \"anger\",\n          \"neutral\"\n        ],\n        \"semantic_type\": \"\",\n        \"description\": \"\"\n      }\n    }\n  ]\n}",
       "type": "dataframe",
       "variable_name": "df"
      },
      "text/html": [
       "\n",
       "  <div id=\"df-2ff42d72-99b3-47ac-b77a-50ab7586731e\" class=\"colab-df-container\">\n",
       "    <div>\n",
       "<style scoped>\n",
       "    .dataframe tbody tr th:only-of-type {\n",
       "        vertical-align: middle;\n",
       "    }\n",
       "\n",
       "    .dataframe tbody tr th {\n",
       "        vertical-align: top;\n",
       "    }\n",
       "\n",
       "    .dataframe thead th {\n",
       "        text-align: right;\n",
       "    }\n",
       "</style>\n",
       "<table border=\"1\" class=\"dataframe\">\n",
       "  <thead>\n",
       "    <tr style=\"text-align: right;\">\n",
       "      <th></th>\n",
       "      <th>text</th>\n",
       "      <th>label</th>\n",
       "      <th>Detected Emotion</th>\n",
       "    </tr>\n",
       "  </thead>\n",
       "  <tbody>\n",
       "    <tr>\n",
       "      <th>0</th>\n",
       "      <td>im a single person with an overflowing hoarder...</td>\n",
       "      <td>hoarding disorder</td>\n",
       "      <td>sadness</td>\n",
       "    </tr>\n",
       "    <tr>\n",
       "      <th>1</th>\n",
       "      <td>my grandmother has been a hoarder her entire l...</td>\n",
       "      <td>hoarding disorder</td>\n",
       "      <td>sadness</td>\n",
       "    </tr>\n",
       "    <tr>\n",
       "      <th>2</th>\n",
       "      <td>hoarding itself is not such a bad thing its th...</td>\n",
       "      <td>hoarding disorder</td>\n",
       "      <td>anger</td>\n",
       "    </tr>\n",
       "    <tr>\n",
       "      <th>3</th>\n",
       "      <td>i know eight hoarders i met them in my travels...</td>\n",
       "      <td>hoarding disorder</td>\n",
       "      <td>sadness</td>\n",
       "    </tr>\n",
       "    <tr>\n",
       "      <th>4</th>\n",
       "      <td>gad generalised anxiety disorder is the most c...</td>\n",
       "      <td>hoarding disorder</td>\n",
       "      <td>fear</td>\n",
       "    </tr>\n",
       "    <tr>\n",
       "      <th>...</th>\n",
       "      <td>...</td>\n",
       "      <td>...</td>\n",
       "      <td>...</td>\n",
       "    </tr>\n",
       "    <tr>\n",
       "      <th>76227</th>\n",
       "      <td>the difference between a narcissist and a psyc...</td>\n",
       "      <td>personality disorder</td>\n",
       "      <td>fear</td>\n",
       "    </tr>\n",
       "    <tr>\n",
       "      <th>76228</th>\n",
       "      <td>hey everyone looking for thoughtsadviceassista...</td>\n",
       "      <td>anxiety</td>\n",
       "      <td>fear</td>\n",
       "    </tr>\n",
       "    <tr>\n",
       "      <th>76229</th>\n",
       "      <td>what if i were god and i would ask you to dema...</td>\n",
       "      <td>eating disorder</td>\n",
       "      <td>sadness</td>\n",
       "    </tr>\n",
       "    <tr>\n",
       "      <th>76230</th>\n",
       "      <td>i want to kill her and him i want to watch her...</td>\n",
       "      <td>bpd</td>\n",
       "      <td>sadness</td>\n",
       "    </tr>\n",
       "    <tr>\n",
       "      <th>76231</th>\n",
       "      <td>anyone else only get psychotic while in deep d...</td>\n",
       "      <td>bipolar</td>\n",
       "      <td>fear</td>\n",
       "    </tr>\n",
       "  </tbody>\n",
       "</table>\n",
       "<p>76232 rows × 3 columns</p>\n",
       "</div>\n",
       "    <div class=\"colab-df-buttons\">\n",
       "\n",
       "  <div class=\"colab-df-container\">\n",
       "    <button class=\"colab-df-convert\" onclick=\"convertToInteractive('df-2ff42d72-99b3-47ac-b77a-50ab7586731e')\"\n",
       "            title=\"Convert this dataframe to an interactive table.\"\n",
       "            style=\"display:none;\">\n",
       "\n",
       "  <svg xmlns=\"http://www.w3.org/2000/svg\" height=\"24px\" viewBox=\"0 -960 960 960\">\n",
       "    <path d=\"M120-120v-720h720v720H120Zm60-500h600v-160H180v160Zm220 220h160v-160H400v160Zm0 220h160v-160H400v160ZM180-400h160v-160H180v160Zm440 0h160v-160H620v160ZM180-180h160v-160H180v160Zm440 0h160v-160H620v160Z\"/>\n",
       "  </svg>\n",
       "    </button>\n",
       "\n",
       "  <style>\n",
       "    .colab-df-container {\n",
       "      display:flex;\n",
       "      gap: 12px;\n",
       "    }\n",
       "\n",
       "    .colab-df-convert {\n",
       "      background-color: #E8F0FE;\n",
       "      border: none;\n",
       "      border-radius: 50%;\n",
       "      cursor: pointer;\n",
       "      display: none;\n",
       "      fill: #1967D2;\n",
       "      height: 32px;\n",
       "      padding: 0 0 0 0;\n",
       "      width: 32px;\n",
       "    }\n",
       "\n",
       "    .colab-df-convert:hover {\n",
       "      background-color: #E2EBFA;\n",
       "      box-shadow: 0px 1px 2px rgba(60, 64, 67, 0.3), 0px 1px 3px 1px rgba(60, 64, 67, 0.15);\n",
       "      fill: #174EA6;\n",
       "    }\n",
       "\n",
       "    .colab-df-buttons div {\n",
       "      margin-bottom: 4px;\n",
       "    }\n",
       "\n",
       "    [theme=dark] .colab-df-convert {\n",
       "      background-color: #3B4455;\n",
       "      fill: #D2E3FC;\n",
       "    }\n",
       "\n",
       "    [theme=dark] .colab-df-convert:hover {\n",
       "      background-color: #434B5C;\n",
       "      box-shadow: 0px 1px 3px 1px rgba(0, 0, 0, 0.15);\n",
       "      filter: drop-shadow(0px 1px 2px rgba(0, 0, 0, 0.3));\n",
       "      fill: #FFFFFF;\n",
       "    }\n",
       "  </style>\n",
       "\n",
       "    <script>\n",
       "      const buttonEl =\n",
       "        document.querySelector('#df-2ff42d72-99b3-47ac-b77a-50ab7586731e button.colab-df-convert');\n",
       "      buttonEl.style.display =\n",
       "        google.colab.kernel.accessAllowed ? 'block' : 'none';\n",
       "\n",
       "      async function convertToInteractive(key) {\n",
       "        const element = document.querySelector('#df-2ff42d72-99b3-47ac-b77a-50ab7586731e');\n",
       "        const dataTable =\n",
       "          await google.colab.kernel.invokeFunction('convertToInteractive',\n",
       "                                                    [key], {});\n",
       "        if (!dataTable) return;\n",
       "\n",
       "        const docLinkHtml = 'Like what you see? Visit the ' +\n",
       "          '<a target=\"_blank\" href=https://colab.research.google.com/notebooks/data_table.ipynb>data table notebook</a>'\n",
       "          + ' to learn more about interactive tables.';\n",
       "        element.innerHTML = '';\n",
       "        dataTable['output_type'] = 'display_data';\n",
       "        await google.colab.output.renderOutput(dataTable, element);\n",
       "        const docLink = document.createElement('div');\n",
       "        docLink.innerHTML = docLinkHtml;\n",
       "        element.appendChild(docLink);\n",
       "      }\n",
       "    </script>\n",
       "  </div>\n",
       "\n",
       "\n",
       "<div id=\"df-ca2b3222-ab58-4fe8-97e5-2d33b8c6f104\">\n",
       "  <button class=\"colab-df-quickchart\" onclick=\"quickchart('df-ca2b3222-ab58-4fe8-97e5-2d33b8c6f104')\"\n",
       "            title=\"Suggest charts\"\n",
       "            style=\"display:none;\">\n",
       "\n",
       "<svg xmlns=\"http://www.w3.org/2000/svg\" height=\"24px\"viewBox=\"0 0 24 24\"\n",
       "     width=\"24px\">\n",
       "    <g>\n",
       "        <path d=\"M19 3H5c-1.1 0-2 .9-2 2v14c0 1.1.9 2 2 2h14c1.1 0 2-.9 2-2V5c0-1.1-.9-2-2-2zM9 17H7v-7h2v7zm4 0h-2V7h2v10zm4 0h-2v-4h2v4z\"/>\n",
       "    </g>\n",
       "</svg>\n",
       "  </button>\n",
       "\n",
       "<style>\n",
       "  .colab-df-quickchart {\n",
       "      --bg-color: #E8F0FE;\n",
       "      --fill-color: #1967D2;\n",
       "      --hover-bg-color: #E2EBFA;\n",
       "      --hover-fill-color: #174EA6;\n",
       "      --disabled-fill-color: #AAA;\n",
       "      --disabled-bg-color: #DDD;\n",
       "  }\n",
       "\n",
       "  [theme=dark] .colab-df-quickchart {\n",
       "      --bg-color: #3B4455;\n",
       "      --fill-color: #D2E3FC;\n",
       "      --hover-bg-color: #434B5C;\n",
       "      --hover-fill-color: #FFFFFF;\n",
       "      --disabled-bg-color: #3B4455;\n",
       "      --disabled-fill-color: #666;\n",
       "  }\n",
       "\n",
       "  .colab-df-quickchart {\n",
       "    background-color: var(--bg-color);\n",
       "    border: none;\n",
       "    border-radius: 50%;\n",
       "    cursor: pointer;\n",
       "    display: none;\n",
       "    fill: var(--fill-color);\n",
       "    height: 32px;\n",
       "    padding: 0;\n",
       "    width: 32px;\n",
       "  }\n",
       "\n",
       "  .colab-df-quickchart:hover {\n",
       "    background-color: var(--hover-bg-color);\n",
       "    box-shadow: 0 1px 2px rgba(60, 64, 67, 0.3), 0 1px 3px 1px rgba(60, 64, 67, 0.15);\n",
       "    fill: var(--button-hover-fill-color);\n",
       "  }\n",
       "\n",
       "  .colab-df-quickchart-complete:disabled,\n",
       "  .colab-df-quickchart-complete:disabled:hover {\n",
       "    background-color: var(--disabled-bg-color);\n",
       "    fill: var(--disabled-fill-color);\n",
       "    box-shadow: none;\n",
       "  }\n",
       "\n",
       "  .colab-df-spinner {\n",
       "    border: 2px solid var(--fill-color);\n",
       "    border-color: transparent;\n",
       "    border-bottom-color: var(--fill-color);\n",
       "    animation:\n",
       "      spin 1s steps(1) infinite;\n",
       "  }\n",
       "\n",
       "  @keyframes spin {\n",
       "    0% {\n",
       "      border-color: transparent;\n",
       "      border-bottom-color: var(--fill-color);\n",
       "      border-left-color: var(--fill-color);\n",
       "    }\n",
       "    20% {\n",
       "      border-color: transparent;\n",
       "      border-left-color: var(--fill-color);\n",
       "      border-top-color: var(--fill-color);\n",
       "    }\n",
       "    30% {\n",
       "      border-color: transparent;\n",
       "      border-left-color: var(--fill-color);\n",
       "      border-top-color: var(--fill-color);\n",
       "      border-right-color: var(--fill-color);\n",
       "    }\n",
       "    40% {\n",
       "      border-color: transparent;\n",
       "      border-right-color: var(--fill-color);\n",
       "      border-top-color: var(--fill-color);\n",
       "    }\n",
       "    60% {\n",
       "      border-color: transparent;\n",
       "      border-right-color: var(--fill-color);\n",
       "    }\n",
       "    80% {\n",
       "      border-color: transparent;\n",
       "      border-right-color: var(--fill-color);\n",
       "      border-bottom-color: var(--fill-color);\n",
       "    }\n",
       "    90% {\n",
       "      border-color: transparent;\n",
       "      border-bottom-color: var(--fill-color);\n",
       "    }\n",
       "  }\n",
       "</style>\n",
       "\n",
       "  <script>\n",
       "    async function quickchart(key) {\n",
       "      const quickchartButtonEl =\n",
       "        document.querySelector('#' + key + ' button');\n",
       "      quickchartButtonEl.disabled = true;  // To prevent multiple clicks.\n",
       "      quickchartButtonEl.classList.add('colab-df-spinner');\n",
       "      try {\n",
       "        const charts = await google.colab.kernel.invokeFunction(\n",
       "            'suggestCharts', [key], {});\n",
       "      } catch (error) {\n",
       "        console.error('Error during call to suggestCharts:', error);\n",
       "      }\n",
       "      quickchartButtonEl.classList.remove('colab-df-spinner');\n",
       "      quickchartButtonEl.classList.add('colab-df-quickchart-complete');\n",
       "    }\n",
       "    (() => {\n",
       "      let quickchartButtonEl =\n",
       "        document.querySelector('#df-ca2b3222-ab58-4fe8-97e5-2d33b8c6f104 button');\n",
       "      quickchartButtonEl.style.display =\n",
       "        google.colab.kernel.accessAllowed ? 'block' : 'none';\n",
       "    })();\n",
       "  </script>\n",
       "</div>\n",
       "\n",
       "  <div id=\"id_44e64981-3e68-4138-a583-54b1aa75fb73\">\n",
       "    <style>\n",
       "      .colab-df-generate {\n",
       "        background-color: #E8F0FE;\n",
       "        border: none;\n",
       "        border-radius: 50%;\n",
       "        cursor: pointer;\n",
       "        display: none;\n",
       "        fill: #1967D2;\n",
       "        height: 32px;\n",
       "        padding: 0 0 0 0;\n",
       "        width: 32px;\n",
       "      }\n",
       "\n",
       "      .colab-df-generate:hover {\n",
       "        background-color: #E2EBFA;\n",
       "        box-shadow: 0px 1px 2px rgba(60, 64, 67, 0.3), 0px 1px 3px 1px rgba(60, 64, 67, 0.15);\n",
       "        fill: #174EA6;\n",
       "      }\n",
       "\n",
       "      [theme=dark] .colab-df-generate {\n",
       "        background-color: #3B4455;\n",
       "        fill: #D2E3FC;\n",
       "      }\n",
       "\n",
       "      [theme=dark] .colab-df-generate:hover {\n",
       "        background-color: #434B5C;\n",
       "        box-shadow: 0px 1px 3px 1px rgba(0, 0, 0, 0.15);\n",
       "        filter: drop-shadow(0px 1px 2px rgba(0, 0, 0, 0.3));\n",
       "        fill: #FFFFFF;\n",
       "      }\n",
       "    </style>\n",
       "    <button class=\"colab-df-generate\" onclick=\"generateWithVariable('df')\"\n",
       "            title=\"Generate code using this dataframe.\"\n",
       "            style=\"display:none;\">\n",
       "\n",
       "  <svg xmlns=\"http://www.w3.org/2000/svg\" height=\"24px\"viewBox=\"0 0 24 24\"\n",
       "       width=\"24px\">\n",
       "    <path d=\"M7,19H8.4L18.45,9,17,7.55,7,17.6ZM5,21V16.75L18.45,3.32a2,2,0,0,1,2.83,0l1.4,1.43a1.91,1.91,0,0,1,.58,1.4,1.91,1.91,0,0,1-.58,1.4L9.25,21ZM18.45,9,17,7.55Zm-12,3A5.31,5.31,0,0,0,4.9,8.1,5.31,5.31,0,0,0,1,6.5,5.31,5.31,0,0,0,4.9,4.9,5.31,5.31,0,0,0,6.5,1,5.31,5.31,0,0,0,8.1,4.9,5.31,5.31,0,0,0,12,6.5,5.46,5.46,0,0,0,6.5,12Z\"/>\n",
       "  </svg>\n",
       "    </button>\n",
       "    <script>\n",
       "      (() => {\n",
       "      const buttonEl =\n",
       "        document.querySelector('#id_44e64981-3e68-4138-a583-54b1aa75fb73 button.colab-df-generate');\n",
       "      buttonEl.style.display =\n",
       "        google.colab.kernel.accessAllowed ? 'block' : 'none';\n",
       "\n",
       "      buttonEl.onclick = () => {\n",
       "        google.colab.notebook.generateWithVariable('df');\n",
       "      }\n",
       "      })();\n",
       "    </script>\n",
       "  </div>\n",
       "\n",
       "    </div>\n",
       "  </div>\n"
      ],
      "text/plain": [
       "                                                    text  \\\n",
       "0      im a single person with an overflowing hoarder...   \n",
       "1      my grandmother has been a hoarder her entire l...   \n",
       "2      hoarding itself is not such a bad thing its th...   \n",
       "3      i know eight hoarders i met them in my travels...   \n",
       "4      gad generalised anxiety disorder is the most c...   \n",
       "...                                                  ...   \n",
       "76227  the difference between a narcissist and a psyc...   \n",
       "76228  hey everyone looking for thoughtsadviceassista...   \n",
       "76229  what if i were god and i would ask you to dema...   \n",
       "76230  i want to kill her and him i want to watch her...   \n",
       "76231  anyone else only get psychotic while in deep d...   \n",
       "\n",
       "                      label Detected Emotion  \n",
       "0         hoarding disorder          sadness  \n",
       "1         hoarding disorder          sadness  \n",
       "2         hoarding disorder            anger  \n",
       "3         hoarding disorder          sadness  \n",
       "4         hoarding disorder             fear  \n",
       "...                     ...              ...  \n",
       "76227  personality disorder             fear  \n",
       "76228               anxiety             fear  \n",
       "76229       eating disorder          sadness  \n",
       "76230                   bpd          sadness  \n",
       "76231               bipolar             fear  \n",
       "\n",
       "[76232 rows x 3 columns]"
      ]
     },
     "execution_count": 2,
     "metadata": {},
     "output_type": "execute_result"
    }
   ],
   "source": [
    "import pandas as pd\n",
    "df = pd.read_csv('/content/drive/MyDrive/Module_2/data_set/processed_data/emotions.csv')\n",
    "df"
   ]
  },
  {
   "cell_type": "code",
   "execution_count": null,
   "metadata": {
    "id": "C4GxBL7t90Aw"
   },
   "outputs": [],
   "source": []
  }
 ],
 "metadata": {
  "colab": {
   "authorship_tag": "ABX9TyMs3YEXjGhCRfydGf6x1gsp",
   "mount_file_id": "1t_rJwy1UCOLo27E8XrctzyTG6bVYxX13",
   "provenance": []
  },
  "kernelspec": {
   "display_name": "Python 3 (ipykernel)",
   "language": "python",
   "name": "python3"
  },
  "language_info": {
   "codemirror_mode": {
    "name": "ipython",
    "version": 3
   },
   "file_extension": ".py",
   "mimetype": "text/x-python",
   "name": "python",
   "nbconvert_exporter": "python",
   "pygments_lexer": "ipython3",
   "version": "3.11.7"
  }
 },
 "nbformat": 4,
 "nbformat_minor": 4
}
