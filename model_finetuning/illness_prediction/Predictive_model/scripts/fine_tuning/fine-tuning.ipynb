{
 "cells": [
  {
   "cell_type": "code",
   "execution_count": 2,
   "id": "92438865-65b3-4558-9e6d-9c54246108b2",
   "metadata": {
    "execution": {
     "iopub.execute_input": "2025-03-15T12:06:18.766242Z",
     "iopub.status.busy": "2025-03-15T12:06:18.765854Z",
     "iopub.status.idle": "2025-03-15T12:06:30.089876Z",
     "shell.execute_reply": "2025-03-15T12:06:30.089037Z",
     "shell.execute_reply.started": "2025-03-15T12:06:18.766214Z"
    },
    "executionInfo": {
     "elapsed": 28460,
     "status": "ok",
     "timestamp": 1741764736866,
     "user": {
      "displayName": "Muhammed amil",
      "userId": "02127285972568360205"
     },
     "user_tz": -330
    },
    "id": "92438865-65b3-4558-9e6d-9c54246108b2"
   },
   "outputs": [],
   "source": [
    "import torch\n",
    "import torch.nn as nn\n",
    "from torch.utils.data import Dataset, DataLoader, random_split\n",
    "from transformers import AutoTokenizer, AutoModelForSequenceClassification\n",
    "from transformers import AutoModel, AutoTokenizer\n",
    "from transformers import AdamW, get_scheduler\n",
    "from sklearn.model_selection import train_test_split\n",
    "from sklearn.preprocessing import LabelEncoder\n",
    "import pandas as pd\n",
    "import kagglehub\n",
    "from kagglehub import KaggleDatasetAdapter"
   ]
  },
  {
   "cell_type": "code",
   "execution_count": 3,
   "id": "df7a1ac4-d282-435a-a05b-e34d8ed3bbfa",
   "metadata": {
    "execution": {
     "iopub.execute_input": "2025-03-15T12:06:30.091134Z",
     "iopub.status.busy": "2025-03-15T12:06:30.090775Z",
     "iopub.status.idle": "2025-03-15T12:06:30.221837Z",
     "shell.execute_reply": "2025-03-15T12:06:30.221150Z",
     "shell.execute_reply.started": "2025-03-15T12:06:30.091112Z"
    }
   },
   "outputs": [
    {
     "name": "stdout",
     "output_type": "stream",
     "text": [
      "Path to dataset f\n"
     ]
    }
   ],
   "source": [
    "import kagglehub\n",
    "path = kagglehub.dataset_download(\"muhammedamil1/preprocessed-data\")\n",
    "print(\"Path to dataset f\")"
   ]
  },
  {
   "cell_type": "code",
   "execution_count": 4,
   "id": "19a373a7-c305-4089-ab1e-2b24f337e870",
   "metadata": {
    "execution": {
     "iopub.execute_input": "2025-03-15T12:06:30.223690Z",
     "iopub.status.busy": "2025-03-15T12:06:30.223467Z",
     "iopub.status.idle": "2025-03-15T12:06:33.852123Z",
     "shell.execute_reply": "2025-03-15T12:06:33.851315Z",
     "shell.execute_reply.started": "2025-03-15T12:06:30.223668Z"
    },
    "executionInfo": {
     "elapsed": 6218,
     "status": "ok",
     "timestamp": 1741764797096,
     "user": {
      "displayName": "Muhammed amil",
      "userId": "02127285972568360205"
     },
     "user_tz": -330
    },
    "id": "19a373a7-c305-4089-ab1e-2b24f337e870"
   },
   "outputs": [
    {
     "name": "stdout",
     "output_type": "stream",
     "text": [
      "Files in dataset: ['preprocessed_data1.csv']\n",
      "                                                text                 label\n",
      "0  stress and anxiety are common issues that peop...                stress\n",
      "1  i am living in your walls i am living in your ...         mentalillness\n",
      "2  how helpful have they been for you if youve ta...  personality disorder\n",
      "3  i guess im just not good enough for anyone fuc...            depression\n",
      "4  i am struggling with the outcome of a court ma...                   bpd\n"
     ]
    }
   ],
   "source": [
    "import kagglehub\n",
    "import os\n",
    "import pandas as pd\n",
    "\n",
    "preprocessed_data_path = kagglehub.dataset_download(\"muhammedamil1/preprocessed-data\")\n",
    "\n",
    "print(\"Files in dataset:\", os.listdir(preprocessed_data_path))\n",
    "\n",
    "file_name = \"preprocessed_data1.csv\"  \n",
    "file_path = os.path.join(preprocessed_data_path, file_name)\n",
    "\n",
    "# Step 4: Load dataset\n",
    "df = pd.read_csv(file_path)  # Change to pd.read_parquet(file_path) if it's a .parquet file\n",
    "\n",
    "# Step 5: Verify dataset\n",
    "print(df.head())"
   ]
  },
  {
   "cell_type": "code",
   "execution_count": 5,
   "id": "3b4e6bff-6ea3-4bbd-8092-c77debdf7db9",
   "metadata": {
    "colab": {
     "base_uri": "https://localhost:8080/",
     "height": 423
    },
    "execution": {
     "iopub.execute_input": "2025-03-15T12:06:33.853492Z",
     "iopub.status.busy": "2025-03-15T12:06:33.853250Z",
     "iopub.status.idle": "2025-03-15T12:06:33.874697Z",
     "shell.execute_reply": "2025-03-15T12:06:33.873833Z",
     "shell.execute_reply.started": "2025-03-15T12:06:33.853471Z"
    },
    "executionInfo": {
     "elapsed": 11,
     "status": "ok",
     "timestamp": 1741764798436,
     "user": {
      "displayName": "Muhammed amil",
      "userId": "02127285972568360205"
     },
     "user_tz": -330
    },
    "id": "3b4e6bff-6ea3-4bbd-8092-c77debdf7db9",
    "outputId": "60b009ca-6105-4b30-d2ce-de5e19b24ec6"
   },
   "outputs": [
    {
     "data": {
      "text/html": [
       "<div>\n",
       "<style scoped>\n",
       "    .dataframe tbody tr th:only-of-type {\n",
       "        vertical-align: middle;\n",
       "    }\n",
       "\n",
       "    .dataframe tbody tr th {\n",
       "        vertical-align: top;\n",
       "    }\n",
       "\n",
       "    .dataframe thead th {\n",
       "        text-align: right;\n",
       "    }\n",
       "</style>\n",
       "<table border=\"1\" class=\"dataframe\">\n",
       "  <thead>\n",
       "    <tr style=\"text-align: right;\">\n",
       "      <th></th>\n",
       "      <th>text</th>\n",
       "      <th>label</th>\n",
       "    </tr>\n",
       "  </thead>\n",
       "  <tbody>\n",
       "    <tr>\n",
       "      <th>0</th>\n",
       "      <td>stress and anxiety are common issues that peop...</td>\n",
       "      <td>stress</td>\n",
       "    </tr>\n",
       "    <tr>\n",
       "      <th>1</th>\n",
       "      <td>i am living in your walls i am living in your ...</td>\n",
       "      <td>mentalillness</td>\n",
       "    </tr>\n",
       "    <tr>\n",
       "      <th>2</th>\n",
       "      <td>how helpful have they been for you if youve ta...</td>\n",
       "      <td>personality disorder</td>\n",
       "    </tr>\n",
       "    <tr>\n",
       "      <th>3</th>\n",
       "      <td>i guess im just not good enough for anyone fuc...</td>\n",
       "      <td>depression</td>\n",
       "    </tr>\n",
       "    <tr>\n",
       "      <th>4</th>\n",
       "      <td>i am struggling with the outcome of a court ma...</td>\n",
       "      <td>bpd</td>\n",
       "    </tr>\n",
       "    <tr>\n",
       "      <th>...</th>\n",
       "      <td>...</td>\n",
       "      <td>...</td>\n",
       "    </tr>\n",
       "    <tr>\n",
       "      <th>141995</th>\n",
       "      <td>i cannot suffer from an anxiety disorder when ...</td>\n",
       "      <td>panic_disorder</td>\n",
       "    </tr>\n",
       "    <tr>\n",
       "      <th>141996</th>\n",
       "      <td>a question of mine about a question of mine th...</td>\n",
       "      <td>offmychest</td>\n",
       "    </tr>\n",
       "    <tr>\n",
       "      <th>141997</th>\n",
       "      <td>welcome to this months personal accountability...</td>\n",
       "      <td>hoarding disorder</td>\n",
       "    </tr>\n",
       "    <tr>\n",
       "      <th>141998</th>\n",
       "      <td>agree that you should stop smoking weed usuall...</td>\n",
       "      <td>social anxiety</td>\n",
       "    </tr>\n",
       "    <tr>\n",
       "      <th>141999</th>\n",
       "      <td>catherine the duchess of cambridge doesnt look...</td>\n",
       "      <td>eating disorder</td>\n",
       "    </tr>\n",
       "  </tbody>\n",
       "</table>\n",
       "<p>142000 rows × 2 columns</p>\n",
       "</div>"
      ],
      "text/plain": [
       "                                                     text  \\\n",
       "0       stress and anxiety are common issues that peop...   \n",
       "1       i am living in your walls i am living in your ...   \n",
       "2       how helpful have they been for you if youve ta...   \n",
       "3       i guess im just not good enough for anyone fuc...   \n",
       "4       i am struggling with the outcome of a court ma...   \n",
       "...                                                   ...   \n",
       "141995  i cannot suffer from an anxiety disorder when ...   \n",
       "141996  a question of mine about a question of mine th...   \n",
       "141997  welcome to this months personal accountability...   \n",
       "141998  agree that you should stop smoking weed usuall...   \n",
       "141999  catherine the duchess of cambridge doesnt look...   \n",
       "\n",
       "                       label  \n",
       "0                     stress  \n",
       "1              mentalillness  \n",
       "2       personality disorder  \n",
       "3                 depression  \n",
       "4                        bpd  \n",
       "...                      ...  \n",
       "141995        panic_disorder  \n",
       "141996            offmychest  \n",
       "141997     hoarding disorder  \n",
       "141998        social anxiety  \n",
       "141999       eating disorder  \n",
       "\n",
       "[142000 rows x 2 columns]"
      ]
     },
     "execution_count": 5,
     "metadata": {},
     "output_type": "execute_result"
    }
   ],
   "source": [
    "df"
   ]
  },
  {
   "cell_type": "code",
   "execution_count": 6,
   "id": "16f8f3a4-725b-46d3-8ea9-99eb2813288b",
   "metadata": {
    "colab": {
     "base_uri": "https://localhost:8080/"
    },
    "execution": {
     "iopub.execute_input": "2025-03-15T12:06:33.876013Z",
     "iopub.status.busy": "2025-03-15T12:06:33.875651Z",
     "iopub.status.idle": "2025-03-15T12:06:33.901393Z",
     "shell.execute_reply": "2025-03-15T12:06:33.900702Z",
     "shell.execute_reply.started": "2025-03-15T12:06:33.875943Z"
    },
    "executionInfo": {
     "elapsed": 19,
     "status": "ok",
     "timestamp": 1741764799173,
     "user": {
      "displayName": "Muhammed amil",
      "userId": "02127285972568360205"
     },
     "user_tz": -330
    },
    "id": "16f8f3a4-725b-46d3-8ea9-99eb2813288b",
    "outputId": "168c20dd-c81a-4102-e586-d08be5223d1c"
   },
   "outputs": [
    {
     "data": {
      "text/plain": [
       "array(['stress', 'mentalillness', 'personality disorder', 'depression',\n",
       "       'bpd', 'ocd', 'normal', 'ptsd', 'anxiety', 'bipolar',\n",
       "       'schizophrenia', 'suicidal', 'bdd', 'social anxiety',\n",
       "       'hoarding disorder', 'adhd', 'panic_disorder', 'offmychest',\n",
       "       'eating disorder'], dtype=object)"
      ]
     },
     "execution_count": 6,
     "metadata": {},
     "output_type": "execute_result"
    }
   ],
   "source": [
    "df['label'].unique()"
   ]
  },
  {
   "cell_type": "code",
   "execution_count": 7,
   "id": "Z94-Cq2iMfTy",
   "metadata": {
    "colab": {
     "base_uri": "https://localhost:8080/",
     "height": 711
    },
    "execution": {
     "iopub.execute_input": "2025-03-15T12:06:33.902383Z",
     "iopub.status.busy": "2025-03-15T12:06:33.902110Z",
     "iopub.status.idle": "2025-03-15T12:06:33.928806Z",
     "shell.execute_reply": "2025-03-15T12:06:33.928176Z",
     "shell.execute_reply.started": "2025-03-15T12:06:33.902354Z"
    },
    "executionInfo": {
     "elapsed": 22,
     "status": "ok",
     "timestamp": 1741764812503,
     "user": {
      "displayName": "Muhammed amil",
      "userId": "02127285972568360205"
     },
     "user_tz": -330
    },
    "id": "Z94-Cq2iMfTy",
    "outputId": "b99ffa59-8c77-46ec-aa1e-251511941ce5"
   },
   "outputs": [
    {
     "data": {
      "text/plain": [
       "label\n",
       "stress                  7500\n",
       "mentalillness           7500\n",
       "personality disorder    7500\n",
       "depression              7500\n",
       "bpd                     7500\n",
       "normal                  7500\n",
       "ptsd                    7500\n",
       "bipolar                 7500\n",
       "anxiety                 7500\n",
       "schizophrenia           7500\n",
       "suicidal                7500\n",
       "adhd                    7500\n",
       "bdd                     7500\n",
       "social anxiety          7500\n",
       "hoarding disorder       7500\n",
       "offmychest              7500\n",
       "panic_disorder          7500\n",
       "eating disorder         7500\n",
       "ocd                     7000\n",
       "Name: count, dtype: int64"
      ]
     },
     "execution_count": 7,
     "metadata": {},
     "output_type": "execute_result"
    }
   ],
   "source": [
    "df['label'].value_counts()"
   ]
  },
  {
   "cell_type": "code",
   "execution_count": 8,
   "id": "nLQUX3uM7h2t",
   "metadata": {
    "execution": {
     "iopub.execute_input": "2025-03-15T12:06:33.929992Z",
     "iopub.status.busy": "2025-03-15T12:06:33.929660Z",
     "iopub.status.idle": "2025-03-15T12:06:33.971691Z",
     "shell.execute_reply": "2025-03-15T12:06:33.971086Z",
     "shell.execute_reply.started": "2025-03-15T12:06:33.929939Z"
    },
    "executionInfo": {
     "elapsed": 37,
     "status": "ok",
     "timestamp": 1741764802248,
     "user": {
      "displayName": "Muhammed amil",
      "userId": "02127285972568360205"
     },
     "user_tz": -330
    },
    "id": "nLQUX3uM7h2t"
   },
   "outputs": [],
   "source": [
    "df = df.dropna(subset=[\"text\"])"
   ]
  },
  {
   "cell_type": "code",
   "execution_count": 9,
   "id": "E9mvzKyMNcHg",
   "metadata": {
    "colab": {
     "base_uri": "https://localhost:8080/"
    },
    "execution": {
     "iopub.execute_input": "2025-03-15T12:06:33.974720Z",
     "iopub.status.busy": "2025-03-15T12:06:33.974499Z",
     "iopub.status.idle": "2025-03-15T12:06:34.321607Z",
     "shell.execute_reply": "2025-03-15T12:06:34.320810Z",
     "shell.execute_reply.started": "2025-03-15T12:06:33.974699Z"
    },
    "executionInfo": {
     "elapsed": 334,
     "status": "ok",
     "timestamp": 1741764804893,
     "user": {
      "displayName": "Muhammed amil",
      "userId": "02127285972568360205"
     },
     "user_tz": -330
    },
    "id": "E9mvzKyMNcHg",
    "outputId": "42e21f87-0acd-4845-c7f0-3bc861a9fbf5"
   },
   "outputs": [
    {
     "name": "stderr",
     "output_type": "stream",
     "text": [
      "<ipython-input-9-9ce7144259af>:1: SettingWithCopyWarning: \n",
      "A value is trying to be set on a copy of a slice from a DataFrame\n",
      "\n",
      "See the caveats in the documentation: https://pandas.pydata.org/pandas-docs/stable/user_guide/indexing.html#returning-a-view-versus-a-copy\n",
      "  df.drop_duplicates(inplace = True)\n"
     ]
    }
   ],
   "source": [
    "df.drop_duplicates(inplace = True)"
   ]
  },
  {
   "cell_type": "code",
   "execution_count": 10,
   "id": "a978463b-19c3-4ed9-8783-360f233a53a1",
   "metadata": {
    "colab": {
     "base_uri": "https://localhost:8080/",
     "height": 547
    },
    "execution": {
     "iopub.execute_input": "2025-03-15T12:06:34.323816Z",
     "iopub.status.busy": "2025-03-15T12:06:34.323569Z",
     "iopub.status.idle": "2025-03-15T12:06:34.354467Z",
     "shell.execute_reply": "2025-03-15T12:06:34.353482Z",
     "shell.execute_reply.started": "2025-03-15T12:06:34.323796Z"
    },
    "executionInfo": {
     "elapsed": 58,
     "status": "ok",
     "timestamp": 1741764815783,
     "user": {
      "displayName": "Muhammed amil",
      "userId": "02127285972568360205"
     },
     "user_tz": -330
    },
    "id": "a978463b-19c3-4ed9-8783-360f233a53a1",
    "outputId": "1655c7d6-7d7e-4c25-aaab-de2b2caba32c"
   },
   "outputs": [
    {
     "name": "stderr",
     "output_type": "stream",
     "text": [
      "<ipython-input-10-28866493b38f>:2: SettingWithCopyWarning: \n",
      "A value is trying to be set on a copy of a slice from a DataFrame.\n",
      "Try using .loc[row_indexer,col_indexer] = value instead\n",
      "\n",
      "See the caveats in the documentation: https://pandas.pydata.org/pandas-docs/stable/user_guide/indexing.html#returning-a-view-versus-a-copy\n",
      "  df[\"encoded_labels\"] = label_encoder.fit_transform(df[\"label\"])\n"
     ]
    },
    {
     "data": {
      "text/html": [
       "<div>\n",
       "<style scoped>\n",
       "    .dataframe tbody tr th:only-of-type {\n",
       "        vertical-align: middle;\n",
       "    }\n",
       "\n",
       "    .dataframe tbody tr th {\n",
       "        vertical-align: top;\n",
       "    }\n",
       "\n",
       "    .dataframe thead th {\n",
       "        text-align: right;\n",
       "    }\n",
       "</style>\n",
       "<table border=\"1\" class=\"dataframe\">\n",
       "  <thead>\n",
       "    <tr style=\"text-align: right;\">\n",
       "      <th></th>\n",
       "      <th>text</th>\n",
       "      <th>label</th>\n",
       "      <th>encoded_labels</th>\n",
       "    </tr>\n",
       "  </thead>\n",
       "  <tbody>\n",
       "    <tr>\n",
       "      <th>0</th>\n",
       "      <td>stress and anxiety are common issues that peop...</td>\n",
       "      <td>stress</td>\n",
       "      <td>17</td>\n",
       "    </tr>\n",
       "    <tr>\n",
       "      <th>1</th>\n",
       "      <td>i am living in your walls i am living in your ...</td>\n",
       "      <td>mentalillness</td>\n",
       "      <td>8</td>\n",
       "    </tr>\n",
       "    <tr>\n",
       "      <th>2</th>\n",
       "      <td>how helpful have they been for you if youve ta...</td>\n",
       "      <td>personality disorder</td>\n",
       "      <td>13</td>\n",
       "    </tr>\n",
       "    <tr>\n",
       "      <th>3</th>\n",
       "      <td>i guess im just not good enough for anyone fuc...</td>\n",
       "      <td>depression</td>\n",
       "      <td>5</td>\n",
       "    </tr>\n",
       "    <tr>\n",
       "      <th>4</th>\n",
       "      <td>i am struggling with the outcome of a court ma...</td>\n",
       "      <td>bpd</td>\n",
       "      <td>4</td>\n",
       "    </tr>\n",
       "    <tr>\n",
       "      <th>...</th>\n",
       "      <td>...</td>\n",
       "      <td>...</td>\n",
       "      <td>...</td>\n",
       "    </tr>\n",
       "    <tr>\n",
       "      <th>141990</th>\n",
       "      <td>so i got diagnosed with panic disorder a while...</td>\n",
       "      <td>panic_disorder</td>\n",
       "      <td>12</td>\n",
       "    </tr>\n",
       "    <tr>\n",
       "      <th>141992</th>\n",
       "      <td>backgroundi think i have an eating disorder i ...</td>\n",
       "      <td>eating disorder</td>\n",
       "      <td>6</td>\n",
       "    </tr>\n",
       "    <tr>\n",
       "      <th>141995</th>\n",
       "      <td>i cannot suffer from an anxiety disorder when ...</td>\n",
       "      <td>panic_disorder</td>\n",
       "      <td>12</td>\n",
       "    </tr>\n",
       "    <tr>\n",
       "      <th>141996</th>\n",
       "      <td>a question of mine about a question of mine th...</td>\n",
       "      <td>offmychest</td>\n",
       "      <td>11</td>\n",
       "    </tr>\n",
       "    <tr>\n",
       "      <th>141999</th>\n",
       "      <td>catherine the duchess of cambridge doesnt look...</td>\n",
       "      <td>eating disorder</td>\n",
       "      <td>6</td>\n",
       "    </tr>\n",
       "  </tbody>\n",
       "</table>\n",
       "<p>127366 rows × 3 columns</p>\n",
       "</div>"
      ],
      "text/plain": [
       "                                                     text  \\\n",
       "0       stress and anxiety are common issues that peop...   \n",
       "1       i am living in your walls i am living in your ...   \n",
       "2       how helpful have they been for you if youve ta...   \n",
       "3       i guess im just not good enough for anyone fuc...   \n",
       "4       i am struggling with the outcome of a court ma...   \n",
       "...                                                   ...   \n",
       "141990  so i got diagnosed with panic disorder a while...   \n",
       "141992  backgroundi think i have an eating disorder i ...   \n",
       "141995  i cannot suffer from an anxiety disorder when ...   \n",
       "141996  a question of mine about a question of mine th...   \n",
       "141999  catherine the duchess of cambridge doesnt look...   \n",
       "\n",
       "                       label  encoded_labels  \n",
       "0                     stress              17  \n",
       "1              mentalillness               8  \n",
       "2       personality disorder              13  \n",
       "3                 depression               5  \n",
       "4                        bpd               4  \n",
       "...                      ...             ...  \n",
       "141990        panic_disorder              12  \n",
       "141992       eating disorder               6  \n",
       "141995        panic_disorder              12  \n",
       "141996            offmychest              11  \n",
       "141999       eating disorder               6  \n",
       "\n",
       "[127366 rows x 3 columns]"
      ]
     },
     "execution_count": 10,
     "metadata": {},
     "output_type": "execute_result"
    }
   ],
   "source": [
    "label_encoder = LabelEncoder()\n",
    "df[\"encoded_labels\"] = label_encoder.fit_transform(df[\"label\"])\n",
    "df"
   ]
  },
  {
   "cell_type": "code",
   "execution_count": 11,
   "id": "d9eebd24-c353-4411-b9f7-92838dd8b512",
   "metadata": {
    "colab": {
     "base_uri": "https://localhost:8080/"
    },
    "execution": {
     "iopub.execute_input": "2025-03-15T12:06:34.355764Z",
     "iopub.status.busy": "2025-03-15T12:06:34.355521Z",
     "iopub.status.idle": "2025-03-15T12:06:34.376821Z",
     "shell.execute_reply": "2025-03-15T12:06:34.375674Z",
     "shell.execute_reply.started": "2025-03-15T12:06:34.355744Z"
    },
    "executionInfo": {
     "elapsed": 24,
     "status": "ok",
     "timestamp": 1741764816977,
     "user": {
      "displayName": "Muhammed amil",
      "userId": "02127285972568360205"
     },
     "user_tz": -330
    },
    "id": "d9eebd24-c353-4411-b9f7-92838dd8b512",
    "outputId": "a1da28a9-eeac-4e03-ec3e-145692f9b7e5"
   },
   "outputs": [
    {
     "name": "stdout",
     "output_type": "stream",
     "text": [
      "adhd --> 0\n",
      "anxiety --> 1\n",
      "bdd --> 2\n",
      "bipolar --> 3\n",
      "bpd --> 4\n",
      "depression --> 5\n",
      "eating disorder --> 6\n",
      "hoarding disorder --> 7\n",
      "mentalillness --> 8\n",
      "normal --> 9\n",
      "ocd --> 10\n",
      "offmychest --> 11\n",
      "panic_disorder --> 12\n",
      "personality disorder --> 13\n",
      "ptsd --> 14\n",
      "schizophrenia --> 15\n",
      "social anxiety --> 16\n",
      "stress --> 17\n",
      "suicidal --> 18\n"
     ]
    }
   ],
   "source": [
    "for index, class_name in enumerate(label_encoder.classes_):\n",
    "    print(f\"{class_name} --> {index}\")\n"
   ]
  },
  {
   "cell_type": "code",
   "execution_count": 12,
   "id": "MM2uABD_MVIu",
   "metadata": {
    "colab": {
     "base_uri": "https://localhost:8080/",
     "height": 711
    },
    "execution": {
     "iopub.execute_input": "2025-03-15T12:06:34.377694Z",
     "iopub.status.busy": "2025-03-15T12:06:34.377507Z",
     "iopub.status.idle": "2025-03-15T12:06:34.398001Z",
     "shell.execute_reply": "2025-03-15T12:06:34.397224Z",
     "shell.execute_reply.started": "2025-03-15T12:06:34.377677Z"
    },
    "executionInfo": {
     "elapsed": 16,
     "status": "ok",
     "timestamp": 1741764841275,
     "user": {
      "displayName": "Muhammed amil",
      "userId": "02127285972568360205"
     },
     "user_tz": -330
    },
    "id": "MM2uABD_MVIu",
    "outputId": "d5817dde-62a9-4b7a-ea5b-050e0ec8c191"
   },
   "outputs": [
    {
     "data": {
      "text/plain": [
       "label\n",
       "suicidal                7496\n",
       "depression              7467\n",
       "anxiety                 7445\n",
       "offmychest              7439\n",
       "normal                  7416\n",
       "bipolar                 7376\n",
       "ptsd                    7350\n",
       "adhd                    7286\n",
       "mentalillness           7276\n",
       "bpd                     7258\n",
       "schizophrenia           7195\n",
       "bdd                     6539\n",
       "panic_disorder          6370\n",
       "eating disorder         6226\n",
       "ocd                     6123\n",
       "personality disorder    6073\n",
       "hoarding disorder       5922\n",
       "stress                  4671\n",
       "social anxiety          4438\n",
       "Name: count, dtype: int64"
      ]
     },
     "execution_count": 12,
     "metadata": {},
     "output_type": "execute_result"
    }
   ],
   "source": [
    "df['label'].value_counts()"
   ]
  },
  {
   "cell_type": "code",
   "execution_count": 13,
   "id": "dXCTwTJ2N3ew",
   "metadata": {
    "execution": {
     "iopub.execute_input": "2025-03-15T12:06:34.399029Z",
     "iopub.status.busy": "2025-03-15T12:06:34.398739Z",
     "iopub.status.idle": "2025-03-15T12:06:34.635770Z",
     "shell.execute_reply": "2025-03-15T12:06:34.635053Z",
     "shell.execute_reply.started": "2025-03-15T12:06:34.399001Z"
    },
    "executionInfo": {
     "elapsed": 3470,
     "status": "ok",
     "timestamp": 1741764836802,
     "user": {
      "displayName": "Muhammed amil",
      "userId": "02127285972568360205"
     },
     "user_tz": -330
    },
    "id": "dXCTwTJ2N3ew"
   },
   "outputs": [],
   "source": [
    "import pandas as pd\n",
    "categories = ['stress', 'mentalillness', 'personality disorder', 'depression',\n",
    "       'bpd', 'ocd', 'normal', 'ptsd', 'anxiety', 'bipolar',\n",
    "       'schizophrenia', 'suicidal', 'bdd', 'social anxiety',\n",
    "       'hoarding disorder', 'adhd', 'panic_disorder', 'offmychest',\n",
    "       'eating disorder']\n",
    "target_size = 6000  # Maximum allowed samples per class\n",
    "balanced_df_list = []\n",
    "\n",
    "for category in categories:\n",
    "    category_df = df[df['label'] == category]\n",
    "    balanced_df_list.append(category_df.sample(n=min(len(category_df), target_size), random_state=42).reset_index(drop=True))\n",
    "\n",
    "df = pd.concat(balanced_df_list).reset_index(drop=True)\n",
    "df = df.sample(frac=1, random_state=42).reset_index(drop=True)\n"
   ]
  },
  {
   "cell_type": "code",
   "execution_count": 14,
   "id": "265fab0c-eab3-455a-86e3-9c29aaf78acc",
   "metadata": {
    "execution": {
     "iopub.execute_input": "2025-03-15T12:06:34.636771Z",
     "iopub.status.busy": "2025-03-15T12:06:34.636553Z",
     "iopub.status.idle": "2025-03-15T12:06:34.677736Z",
     "shell.execute_reply": "2025-03-15T12:06:34.677103Z",
     "shell.execute_reply.started": "2025-03-15T12:06:34.636752Z"
    },
    "executionInfo": {
     "elapsed": 3,
     "status": "ok",
     "timestamp": 1741764836804,
     "user": {
      "displayName": "Muhammed amil",
      "userId": "02127285972568360205"
     },
     "user_tz": -330
    },
    "id": "265fab0c-eab3-455a-86e3-9c29aaf78acc"
   },
   "outputs": [],
   "source": [
    "train_texts, test_texts, train_labels, test_labels = train_test_split(\n",
    "    df[\"text\"].tolist(), df[\"encoded_labels\"].tolist(), test_size=0.2, random_state=42)"
   ]
  },
  {
   "cell_type": "code",
   "execution_count": 15,
   "id": "836b6d0d-3321-436d-983c-bd6ec5ceb33e",
   "metadata": {
    "colab": {
     "base_uri": "https://localhost:8080/",
     "height": 1000,
     "referenced_widgets": [
      "dfadc51ea24e489a80a130d21aedd0a7",
      "ec0e9819afd94f118adf89fa2e8dddbe",
      "59916754f38d4f26b939fd1bb48e540e",
      "fadd6868f9b94926aeee5c1fe8e48d9a",
      "7dd032171e4d429a9d2cf59e9c2b3b96",
      "f0dfd275fb6f46f0953f49e85a426036",
      "5408caaf151e451ba75a886e9f013a0f",
      "60896defd44d4ce0806f8b7b20f33732",
      "7268d93733b7487b90f84f97fbeea0a4",
      "c740908e5dec46189ea2385382cdb408",
      "b4b79713f59b4918a7a5ef22949cb41e",
      "379525e5af3c4a7db44dea80f84b44fa",
      "4a3d242a36ee4fc38846a78d581722d9",
      "966f3599af144dbfa4dc25750e4c7d2d",
      "9a8ea0669a864079839db14dd423a011",
      "97e60977dc1940c2b7ec3221470e4785",
      "f2ff29289b944a2ea85b9d9108ec838f",
      "1b181e5c102d47f2905f1044bfe6431a",
      "70a7a46a9ee04a948748eaf22a0b365f",
      "b56f0b5bc469453a80b70678dbb2ddaa",
      "2746c90cbd4f4f69b2030f01551babd7",
      "3a9dff9eba104b4b9a62176f3fa31d56",
      "8edfbe25b2be4fc1903a86f5f43adede",
      "9985c8bfec4c4822ac256a281070aac8",
      "0dd772191a5c414aa0198b65aa794dbf",
      "872ab62bafd44571b35111d05f41537a",
      "0c3227afec5b4c3cbb72154ae55b6795",
      "31af37dde3cb485e898163057af6ca7d",
      "70049523bd354a98b1ac6dd05cc98b0b",
      "95e4e53080864fc4a4c2305ead37ba29",
      "10bd26e1ce3543b88788fa7aa99e6181",
      "1793a264860c4416a9b0d4c0419b5470",
      "2a167b93de804054bcf7b77102db555f",
      "6742d5afce204bcb966e088254a64c78",
      "b5813a5fc11840e0b7c1501246b08f99",
      "054a3127a01b4bbb8b14cb6f28756545",
      "f12b337e3b9d45f8a27c8693ee8c79b4",
      "6f61deaf8c0e4d29805a71cce2223aad",
      "b3fbd6a9bde14d4c8deeffaf919d5cd7",
      "cac1ae7bcbaa4838b58439a5351b4ca7",
      "0ab59edb7fd543e3adc1f0ec03c9592e",
      "f68799b750614844b0c44cb4bed06e56",
      "b0a1636c6f064713a65d7bb72e8e22dc",
      "36e6dd8e07dd4cf9b749c7ab3ca5b414",
      "88b40305027546cd8d8694094838c9ab",
      "a75ac2d938494ac0965b0154714f830a",
      "7cbc187e43e745f587fddba3af71941a",
      "5dfc19e950694d519ed4470627b4b396",
      "104e82c5a16b4f26ba709215f3fe4141",
      "32cb39e690784c2381e2cf738a3bdae3",
      "c7aa1f1a1a554608bae8c46a0f70e5d1",
      "34e11d11113d4f19a380bf91357df11f",
      "25eaa58d541145e089c445013c408c1b",
      "2b6560c50fd6465eac224c84a49c3c19",
      "de5b334e2f8e4616ba0db8571e1dc02a"
     ]
    },
    "execution": {
     "iopub.execute_input": "2025-03-15T12:06:34.678892Z",
     "iopub.status.busy": "2025-03-15T12:06:34.678638Z",
     "iopub.status.idle": "2025-03-15T12:06:57.549367Z",
     "shell.execute_reply": "2025-03-15T12:06:57.548434Z",
     "shell.execute_reply.started": "2025-03-15T12:06:34.678859Z"
    },
    "executionInfo": {
     "elapsed": 16441,
     "status": "ok",
     "timestamp": 1741764860991,
     "user": {
      "displayName": "Muhammed amil",
      "userId": "02127285972568360205"
     },
     "user_tz": -330
    },
    "id": "836b6d0d-3321-436d-983c-bd6ec5ceb33e",
    "outputId": "664427d1-b120-42b8-f2f0-88414a950ccc"
   },
   "outputs": [
    {
     "data": {
      "application/vnd.jupyter.widget-view+json": {
       "model_id": "2c869e0839a1461b90b4bd5fd4fb4e37",
       "version_major": 2,
       "version_minor": 0
      },
      "text/plain": [
       "tokenizer_config.json:   0%|          | 0.00/52.0 [00:00<?, ?B/s]"
      ]
     },
     "metadata": {},
     "output_type": "display_data"
    },
    {
     "data": {
      "application/vnd.jupyter.widget-view+json": {
       "model_id": "ce0bc364953244d58635c62e1a76974f",
       "version_major": 2,
       "version_minor": 0
      },
      "text/plain": [
       "config.json:   0%|          | 0.00/579 [00:00<?, ?B/s]"
      ]
     },
     "metadata": {},
     "output_type": "display_data"
    },
    {
     "data": {
      "application/vnd.jupyter.widget-view+json": {
       "model_id": "9aab0e50ab2b44268c9bfe5795555dea",
       "version_major": 2,
       "version_minor": 0
      },
      "text/plain": [
       "spm.model:   0%|          | 0.00/2.46M [00:00<?, ?B/s]"
      ]
     },
     "metadata": {},
     "output_type": "display_data"
    },
    {
     "name": "stderr",
     "output_type": "stream",
     "text": [
      "/usr/local/lib/python3.10/dist-packages/transformers/convert_slow_tokenizer.py:561: UserWarning: The sentencepiece tokenizer that you are converting to a fast tokenizer uses the byte fallback option which is not implemented in the fast tokenizers. In practice this means that the fast version of the tokenizer can produce unknown tokens whereas the sentencepiece version would have converted these unknown tokens into a sequence of byte tokens matching the original piece of text.\n",
      "  warnings.warn(\n"
     ]
    },
    {
     "data": {
      "application/vnd.jupyter.widget-view+json": {
       "model_id": "c1b6eede209b44f7b6a0d87f0dc667dc",
       "version_major": 2,
       "version_minor": 0
      },
      "text/plain": [
       "pytorch_model.bin:   0%|          | 0.00/371M [00:00<?, ?B/s]"
      ]
     },
     "metadata": {},
     "output_type": "display_data"
    },
    {
     "name": "stdout",
     "output_type": "stream",
     "text": [
      "✅ Custom DeBERTa Model Initialized!\n"
     ]
    }
   ],
   "source": [
    "import torch\n",
    "import torch.nn as nn\n",
    "from transformers import AutoModel, AutoTokenizer, AutoConfig\n",
    "\n",
    "# ✅ Define model checkpoint (DeBERTa Base)\n",
    "MODEL_CHECKPOINT = \"microsoft/deberta-v3-base\"\n",
    "NUM_LABELS = 19  # Set the correct number of output classes\n",
    "\n",
    "# ✅ Load tokenizer\n",
    "tokenizer = AutoTokenizer.from_pretrained(MODEL_CHECKPOINT)\n",
    "\n",
    "# ✅ Load Pretrained DeBERTa Model\n",
    "deberta_model = AutoModel.from_pretrained(MODEL_CHECKPOINT)\n",
    "\n",
    "# ✅ Custom Classifier\n",
    "class CustomDebertaClassifier(nn.Module):\n",
    "    def __init__(self, deberta_model, num_labels):\n",
    "        super(CustomDebertaClassifier, self).__init__()\n",
    "        self.deberta = deberta_model  # Pretrained DeBERTa model\n",
    "        self.dropout = nn.Dropout(0.3)\n",
    "        self.classifier = nn.Linear(768, num_labels)  # 19 output classes\n",
    "        self.criterion = nn.CrossEntropyLoss()  # ✅ Correct loss function\n",
    "\n",
    "    def forward(self, input_ids, attention_mask, labels=None):\n",
    "        outputs = self.deberta(input_ids=input_ids, attention_mask=attention_mask)\n",
    "        pooled_output = outputs.last_hidden_state[:, 0, :]  # CLS token representation\n",
    "        pooled_output = self.dropout(pooled_output)\n",
    "        logits = self.classifier(pooled_output)\n",
    "        loss = None\n",
    "        if labels is not None:\n",
    "            loss = self.criterion(logits, labels)  \n",
    "        return {\"loss\": loss, \"logits\": logits}\n",
    "\n",
    "# ✅ Initialize model with Pretrained DeBERTa\n",
    "model = CustomDebertaClassifier(deberta_model, NUM_LABELS)\n",
    "device = torch.device(\"cuda\" if torch.cuda.is_available() else \"cpu\")\n",
    "model.to(device)\n",
    "\n",
    "print(\"✅ Custom DeBERTa Model Initialized!\")\n"
   ]
  },
  {
   "cell_type": "code",
   "execution_count": 16,
   "id": "956972b3-ae0a-431e-88b2-dd39af54a8df",
   "metadata": {
    "execution": {
     "iopub.execute_input": "2025-03-15T12:06:57.551373Z",
     "iopub.status.busy": "2025-03-15T12:06:57.550413Z",
     "iopub.status.idle": "2025-03-15T12:07:12.207343Z",
     "shell.execute_reply": "2025-03-15T12:07:12.206251Z",
     "shell.execute_reply.started": "2025-03-15T12:06:57.551345Z"
    },
    "executionInfo": {
     "elapsed": 2,
     "status": "ok",
     "timestamp": 1741764902852,
     "user": {
      "displayName": "Muhammed amil",
      "userId": "02127285972568360205"
     },
     "user_tz": -330
    },
    "id": "956972b3-ae0a-431e-88b2-dd39af54a8df"
   },
   "outputs": [
    {
     "name": "stderr",
     "output_type": "stream",
     "text": [
      "<ipython-input-16-64aa841fbb87>:45: FutureWarning: You are using `torch.load` with `weights_only=False` (the current default value), which uses the default pickle module implicitly. It is possible to construct malicious pickle data which will execute arbitrary code during unpickling (See https://github.com/pytorch/pytorch/blob/main/SECURITY.md#untrusted-models for more details). In a future release, the default value for `weights_only` will be flipped to `True`. This limits the functions that could be executed during unpickling. Arbitrary objects will no longer be allowed to be loaded via this mode unless they are explicitly allowlisted by the user via `torch.serialization.add_safe_globals`. We recommend you start setting `weights_only=True` for any use case where you don't have full control of the loaded file. Please open an issue on GitHub for any issues related to this experimental feature.\n",
      "  checkpoint = torch.load(checkpoint_path, map_location=device)\n"
     ]
    },
    {
     "name": "stdout",
     "output_type": "stream",
     "text": [
      "✅ Fine-Tuned Custom DeBERTa Model Successfully Loaded!\n"
     ]
    }
   ],
   "source": [
    "import torch\n",
    "from transformers import AutoTokenizer\n",
    "from torch.optim import AdamW\n",
    "\n",
    "# ✅ Define model checkpoint path\n",
    "checkpoint_path = \"/kaggle/input/deberta-v3-base/pytorch/default/1/checkpoint.pth\"\n",
    "# ✅ Load tokenizer (remains unchanged)\n",
    "tokenizer = AutoTokenizer.from_pretrained(\"/kaggle/input/deberta-v3-base/pytorch/default/1\")\n",
    "\n",
    "# ✅ Load the model architecture (Ensure this matches the trained model)\n",
    "from transformers import AutoModel\n",
    "import torch.nn as nn\n",
    "\n",
    "MODEL_CHECKPOINT = \"microsoft/deberta-v3-base\"\n",
    "NUM_LABELS = 19  # Adjust as per your model\n",
    "\n",
    "# Load pretrained DeBERTa model\n",
    "deberta_model = AutoModel.from_pretrained(MODEL_CHECKPOINT)\n",
    "\n",
    "# Define the custom classifier\n",
    "class CustomDebertaClassifier(nn.Module):\n",
    "    def __init__(self, deberta_model, num_labels):\n",
    "        super(CustomDebertaClassifier, self).__init__()\n",
    "        self.deberta = deberta_model  # Pretrained DeBERTa model\n",
    "        self.dropout = nn.Dropout(0.3)\n",
    "        self.classifier = nn.Linear(768, num_labels)  # 19 output classes\n",
    "        self.criterion = nn.CrossEntropyLoss()\n",
    "\n",
    "    def forward(self, input_ids, attention_mask, labels=None):\n",
    "        outputs = self.deberta(input_ids=input_ids, attention_mask=attention_mask)\n",
    "        pooled_output = outputs.last_hidden_state[:, 0, :]  # CLS token representation\n",
    "        pooled_output = self.dropout(pooled_output)\n",
    "        logits = self.classifier(pooled_output)\n",
    "        loss = None\n",
    "        if labels is not None:\n",
    "            loss = self.criterion(logits, labels)  \n",
    "        return {\"loss\": loss, \"logits\": logits}\n",
    "\n",
    "# ✅ Initialize model\n",
    "model = CustomDebertaClassifier(deberta_model, NUM_LABELS)\n",
    "device = torch.device(\"cuda\" if torch.cuda.is_available() else \"cpu\")\n",
    "model.to(device)\n",
    "\n",
    "# ✅ Load the fine-tuned model checkpoint\n",
    "checkpoint = torch.load(checkpoint_path, map_location=device)\n",
    "\n",
    "# Load model weights correctly\n",
    "if \"model_state_dict\" in checkpoint:\n",
    "    model.load_state_dict(checkpoint[\"model_state_dict\"])\n",
    "else:\n",
    "    model.load_state_dict(checkpoint)  # Fallback if it's just the model state\n",
    "\n",
    "\n",
    "optimizer = AdamW(model.parameters(), lr=2e-5, weight_decay=0.01)\n",
    "if \"optimizer_state_dict\" in checkpoint:\n",
    "    optimizer.load_state_dict(checkpoint[\"optimizer_state_dict\"])\n",
    "\n",
    "# ✅ Set model to evaluation mode (for inference)\n",
    "model.train()\n",
    "\n",
    "print(\"✅ Fine-Tuned Custom DeBERTa Model Successfully Loaded!\")\n"
   ]
  },
  {
   "cell_type": "code",
   "execution_count": 17,
   "id": "a_O7XVb0Ns7A",
   "metadata": {
    "execution": {
     "iopub.execute_input": "2025-03-15T12:07:12.209094Z",
     "iopub.status.busy": "2025-03-15T12:07:12.208702Z",
     "iopub.status.idle": "2025-03-15T12:07:12.214283Z",
     "shell.execute_reply": "2025-03-15T12:07:12.213547Z",
     "shell.execute_reply.started": "2025-03-15T12:07:12.209058Z"
    },
    "executionInfo": {
     "elapsed": 3,
     "status": "ok",
     "timestamp": 1741764905125,
     "user": {
      "displayName": "Muhammed amil",
      "userId": "02127285972568360205"
     },
     "user_tz": -330
    },
    "id": "a_O7XVb0Ns7A"
   },
   "outputs": [],
   "source": [
    "class MentalHealthDataset(Dataset):\n",
    "    def __init__(self, texts, labels, tokenizer, max_length=512):\n",
    "        self.texts = texts\n",
    "        self.labels = labels\n",
    "        self.tokenizer = tokenizer\n",
    "        self.max_length = max_length\n",
    "\n",
    "    def __len__(self):\n",
    "        return len(self.texts)\n",
    "\n",
    "    def __getitem__(self, idx):\n",
    "        text = self.texts[idx]\n",
    "        label = int(self.labels[idx])\n",
    "        tokens = self.tokenizer(\n",
    "            text,\n",
    "            padding=\"max_length\",\n",
    "            truncation=True,\n",
    "            max_length=self.max_length,\n",
    "            return_tensors=\"pt\"\n",
    "        )\n",
    "        return {\n",
    "            \"input_ids\": tokens[\"input_ids\"].squeeze(0),\n",
    "            \"attention_mask\": tokens[\"attention_mask\"].squeeze(0),\n",
    "            \"labels\": torch.tensor(label, dtype=torch.long),  # Now label is int\n",
    "        }"
   ]
  },
  {
   "cell_type": "code",
   "execution_count": 18,
   "id": "bdb1e0ee-2074-436d-9122-122d9824932a",
   "metadata": {
    "execution": {
     "iopub.execute_input": "2025-03-15T12:07:12.215438Z",
     "iopub.status.busy": "2025-03-15T12:07:12.215138Z",
     "iopub.status.idle": "2025-03-15T12:07:15.022021Z",
     "shell.execute_reply": "2025-03-15T12:07:15.021293Z",
     "shell.execute_reply.started": "2025-03-15T12:07:12.215407Z"
    },
    "executionInfo": {
     "elapsed": 12,
     "status": "ok",
     "timestamp": 1741764905540,
     "user": {
      "displayName": "Muhammed amil",
      "userId": "02127285972568360205"
     },
     "user_tz": -330
    },
    "id": "bdb1e0ee-2074-436d-9122-122d9824932a"
   },
   "outputs": [],
   "source": [
    "train_dataset = MentalHealthDataset(train_texts, train_labels, tokenizer)\n",
    "test_dataset = MentalHealthDataset(test_texts, test_labels, tokenizer)\n",
    "train_dataloader = DataLoader(train_dataset, batch_size=4, shuffle=True,num_workers=1, pin_memory=True)\n",
    "test_dataloader = DataLoader(test_dataset, batch_size=6, shuffle=True,num_workers=1, pin_memory=True)\n"
   ]
  },
  {
   "cell_type": "code",
   "execution_count": 19,
   "id": "816nE_cS7IQ2",
   "metadata": {
    "colab": {
     "base_uri": "https://localhost:8080/"
    },
    "execution": {
     "iopub.execute_input": "2025-03-15T12:07:15.023313Z",
     "iopub.status.busy": "2025-03-15T12:07:15.023010Z",
     "iopub.status.idle": "2025-03-15T12:07:15.040119Z",
     "shell.execute_reply": "2025-03-15T12:07:15.039488Z",
     "shell.execute_reply.started": "2025-03-15T12:07:15.023283Z"
    },
    "executionInfo": {
     "elapsed": 23,
     "status": "ok",
     "timestamp": 1741764906554,
     "user": {
      "displayName": "Muhammed amil",
      "userId": "02127285972568360205"
     },
     "user_tz": -330
    },
    "id": "816nE_cS7IQ2",
    "outputId": "869d24b7-f5cb-496e-9dde-520cbaf17c98"
   },
   "outputs": [
    {
     "name": "stdout",
     "output_type": "stream",
     "text": [
      "<class 'list'> ['ive tried to search up on this for a long time from what i can see in dsm  there were two types of bdd delusional and nondelusional delusional bdd was a delusional disorder and nondelusional was somatic \\n\\n\\n\\nobviously now its  disorder in the ocd spectrum and i think this is a good classification for it \\n\\n\\n\\nive had bdd for  years the intensity waxes and wanes but its always pretty bad aside from the general dissatisfation and obsession over insert feature here stuff i get tactile sensations all over my face and im convinced its wrinkles forming i feel my face drooping decaying i can feel every microexpression constantly changing in the mirror like i can shapeshift many days i truly do not look human ive had periods of time ive thought i was truly alien when i was  or so i compiled pictures of myself as a child to see if they were all truly the same child because i was sure i must have switched with a human child and now im infiltrating life as an alien when i have clarity right now thanks meds i can see this is probably not true but the feelings are still there and my sensations never stop i can never stop feeling the wrinkling\\n\\n\\n\\ni feel i can curse people into believing i am not truly repulsive and wrong and uncanny valley some people can see through this curse and they scare me it has nothing to do with what they say to me or even how they act i can just tell they know theres two people in particular ive had negative interactions with because of this \\n\\n  \\ni do not feel delusional i am told i am delusional i try to see their point of view but i feel i am lied to my mom has hired people to tell me i am pretty \\n\\n\\n\\nanyways im just wondering if anyone can relate to those more i dont like to call it this but severe symptoms i find i have trouble finding people with similar symptoms to me like i was never really on social media until recently idk haha either way if there are people with similar issues i hope this at least makes you feel less alone \\n\\n  \\ni also would like to know peoples thoughts on the delusional vs nondelusional stuff do you think they made a mistake reclassifying it or at least dropping the distinction ', 'i definitely cant so big the trigger', 'how am i to live independently when my thoughts actions behaviours personality is dependent on others i dislike being a  burden', 'narcissistic personality disorder npd is best explained by taking the concept apart backwards\\nit is a disorder meaning is you have it your everyday life is disordered messed with disturbed not going smoothly a mess depending on how severe the disorder is either one of those or a qualification like the ones mentioned can be applicable\\nit is a disorder of the personality this is important it is not like another metal illness like depression or bipolar disorder a disturbance of the chemical balance in the brain this is important because of this nature it can not be adjusted or fixed with medication the disorder manifests it self in subconscious thinking patterns that have been developed with the personality so in the very early childhood first  years of ones life the only exception yet proven also being able to lead to personality issues is brain trauma\\nit is a disorder of the personality with narcissistic features now this is just a name it might also have been called kernbergs disorder or kohuts disorder two psychiatrists very much involved in the early investigation after the personality structure kernberg and the disorder kohut the name narcissistic of course comes from the greek mythological character narcissus who fell in love with his own reflection this name was chosen because of the alleged inability of narcissist to love anybody but themselves\\nit would have been better if another name was chosen but at the time maybe they did not know better than this was true nowadays we know better much better narcissists do not love themselves they usually hate themselves or at least do not like themselves very much the unlucky chosen name is due to the biggest misconception about narcissists\\nwithout wanting to go to deep into details this disorder is not a problem on it self the narcissistic patient is not a danger to himself like a borderline patient for example the npd becomes a problem in relationships of any kind\\nbecause the narcissistic personality np subconsciously hates itself it is behavior is aimed at protecting itself from feeling this hate as the np is doing this from a very young age it does not know any better and by the time it is a teenager it has been living like that for more than a decade and it is behavior it is ideas of how the world functions has been confirmed thousands of times since it always needs to protect it self it has to stay away from the painful vulnerable core deep inside by that time it does not even remember that it is there to the np that core does not exist anymore\\nbut the unconscious knows always knows and as soon as something or someone comes to close or there is a threat of breaking through the carefully built defenses it lashes out and attacks with narcissistic behavior everything not to feel the vacuum the deep abyss the black hole the compleet hollow worthless and empty self\\nthis behavior can literally be any behavior a normal person displays but it is directed from the subconscious and it is only goal is to protect the np from hurting a psychopath for example or a neurotypical person can do exactly the same but with completely different intentions and motivation\\nnow for what the detailed features of npd are i gladly refer to this page of wikipedia\\nnarcissistic personality disorder', 'i am confused\\nwhy is your mental health a concern or inquiry  in reference to isolation\\nis that a random coincidence an example illustration for the question\\nhow come you did not mention diet habits and high fat binges\\nor driving  mph over the speed limit and ask if it is legal\\ntearing a mattress tag off\\nwait i think i figured this out\\nok is it possible you meant to put the word\\nhow \\nas the first word of your question\\nand accidentally put a question mark after the first sentence when you meant to continue with\\nto help my mental health\\nsee  you answered your own question simple grammatical mistake']\n"
     ]
    }
   ],
   "source": [
    "print(type(train_texts), train_texts[:5])  # Print first few elements"
   ]
  },
  {
   "cell_type": "code",
   "execution_count": 20,
   "id": "XjB04RWX45Qb",
   "metadata": {
    "colab": {
     "base_uri": "https://localhost:8080/"
    },
    "execution": {
     "iopub.execute_input": "2025-03-15T12:07:15.041142Z",
     "iopub.status.busy": "2025-03-15T12:07:15.040849Z",
     "iopub.status.idle": "2025-03-15T12:07:15.220716Z",
     "shell.execute_reply": "2025-03-15T12:07:15.219913Z",
     "shell.execute_reply.started": "2025-03-15T12:07:15.041122Z"
    },
    "executionInfo": {
     "elapsed": 51,
     "status": "ok",
     "timestamp": 1741764907475,
     "user": {
      "displayName": "Muhammed amil",
      "userId": "02127285972568360205"
     },
     "user_tz": -330
    },
    "id": "XjB04RWX45Qb",
    "outputId": "85730485-94f1-4449-a014-e2bb93aa17fa"
   },
   "outputs": [
    {
     "name": "stdout",
     "output_type": "stream",
     "text": [
      "Input IDs shape: torch.Size([4, 512])\n",
      "Attention Mask shape: torch.Size([4, 512])\n",
      "Labels shape: torch.Size([4])\n"
     ]
    }
   ],
   "source": [
    "batch = next(iter(train_dataloader))  # Get the first batch\n",
    "\n",
    "# Print shape of inputs (tokenized text)\n",
    "print(\"Input IDs shape:\", batch[\"input_ids\"].shape)\n",
    "print(\"Attention Mask shape:\", batch[\"attention_mask\"].shape)\n",
    "\n",
    "# Print shape of labels\n",
    "print(\"Labels shape:\", batch[\"labels\"].shape)\n"
   ]
  },
  {
   "cell_type": "code",
   "execution_count": 21,
   "id": "yIvwQ3445dRe",
   "metadata": {
    "colab": {
     "base_uri": "https://localhost:8080/"
    },
    "execution": {
     "iopub.execute_input": "2025-03-15T12:07:15.221953Z",
     "iopub.status.busy": "2025-03-15T12:07:15.221712Z",
     "iopub.status.idle": "2025-03-15T12:07:15.225850Z",
     "shell.execute_reply": "2025-03-15T12:07:15.225041Z",
     "shell.execute_reply.started": "2025-03-15T12:07:15.221924Z"
    },
    "executionInfo": {
     "elapsed": 25,
     "status": "ok",
     "timestamp": 1741764908361,
     "user": {
      "displayName": "Muhammed amil",
      "userId": "02127285972568360205"
     },
     "user_tz": -330
    },
    "id": "yIvwQ3445dRe",
    "outputId": "599911e7-712c-4f57-e3be-f809441e6c7e"
   },
   "outputs": [
    {
     "name": "stdout",
     "output_type": "stream",
     "text": [
      "Train dataset size: 88824\n",
      "Test dataset size: 22207\n"
     ]
    }
   ],
   "source": [
    "print(f\"Train dataset size: {len(train_dataset)}\")\n",
    "print(f\"Test dataset size: {len(test_dataset)}\")\n"
   ]
  },
  {
   "cell_type": "code",
   "execution_count": 22,
   "id": "e_htChOmNySL",
   "metadata": {
    "colab": {
     "base_uri": "https://localhost:8080/"
    },
    "execution": {
     "iopub.execute_input": "2025-03-15T12:07:15.227279Z",
     "iopub.status.busy": "2025-03-15T12:07:15.226914Z",
     "iopub.status.idle": "2025-03-15T12:07:15.321243Z",
     "shell.execute_reply": "2025-03-15T12:07:15.320463Z",
     "shell.execute_reply.started": "2025-03-15T12:07:15.227250Z"
    },
    "executionInfo": {
     "elapsed": 171,
     "status": "ok",
     "timestamp": 1741764911780,
     "user": {
      "displayName": "Muhammed amil",
      "userId": "02127285972568360205"
     },
     "user_tz": -330
    },
    "id": "e_htChOmNySL",
    "outputId": "b18093dd-344a-41e5-a19d-b9662bc2e143"
   },
   "outputs": [
    {
     "name": "stdout",
     "output_type": "stream",
     "text": [
      "Class Weights: {'adhd': 0.9739561403508772, 'anxiety': 0.9739561403508772, 'bdd': 0.9739561403508772, 'bipolar': 0.9739561403508772, 'bpd': 0.9739561403508772, 'depression': 0.9739561403508772, 'eating disorder': 0.9739561403508772, 'hoarding disorder': 0.9867843367283456, 'mentalillness': 0.9739561403508772, 'normal': 0.9739561403508772, 'ocd': 0.9739561403508772, 'offmychest': 0.9739561403508772, 'panic_disorder': 0.9739561403508772, 'personality disorder': 0.9739561403508772, 'ptsd': 0.9739561403508772, 'schizophrenia': 0.9739561403508772, 'social anxiety': 1.316750077085458, 'stress': 1.2510676176632975, 'suicidal': 0.9739561403508772}\n"
     ]
    }
   ],
   "source": [
    "from sklearn.utils.class_weight import compute_class_weight\n",
    "import numpy as np\n",
    "\n",
    "class_labels, y_encoded = np.unique(df['label'], return_inverse=True)\n",
    "\n",
    "class_weights = compute_class_weight(class_weight=\"balanced\", classes=np.arange(len(class_labels)), y=y_encoded)\n",
    "class_weights_dict = {label: weight for label, weight in zip(class_labels, class_weights)}\n",
    "\n",
    "print(\"Class Weights:\", class_weights_dict)\n"
   ]
  },
  {
   "cell_type": "code",
   "execution_count": 23,
   "id": "a1c7f710-58b4-4fb0-a3dc-6f90d8cbc6e4",
   "metadata": {
    "colab": {
     "base_uri": "https://localhost:8080/"
    },
    "execution": {
     "iopub.execute_input": "2025-03-15T12:07:15.322310Z",
     "iopub.status.busy": "2025-03-15T12:07:15.322055Z",
     "iopub.status.idle": "2025-03-15T12:07:15.329058Z",
     "shell.execute_reply": "2025-03-15T12:07:15.328082Z",
     "shell.execute_reply.started": "2025-03-15T12:07:15.322287Z"
    },
    "executionInfo": {
     "elapsed": 43,
     "status": "ok",
     "timestamp": 1741764915078,
     "user": {
      "displayName": "Muhammed amil",
      "userId": "02127285972568360205"
     },
     "user_tz": -330
    },
    "id": "a1c7f710-58b4-4fb0-a3dc-6f90d8cbc6e4",
    "outputId": "d0d61436-2c37-4bcf-c3cb-f212af6ea3c1"
   },
   "outputs": [],
   "source": [
    "optimizer = torch.optim.Adam(model.parameters(), lr=1e-4, weight_decay=1e-3)\n",
    "num_training_steps = len(train_dataloader) * 3\n",
    "lr_scheduler = torch.optim.lr_scheduler.ReduceLROnPlateau(optimizer, mode='min', factor=0.5, patience=1)\n",
    "\n",
    "device = torch.device(\"cuda\" if torch.cuda.is_available() else \"cpu\")\n",
    "\n",
    "class_weights_tensor = torch.tensor(list(class_weights_dict.values()), dtype=torch.float).to(device)\n",
    "loss_fn = torch.nn.CrossEntropyLoss(weight=class_weights_tensor)\n"
   ]
  },
  {
   "cell_type": "code",
   "execution_count": null,
   "id": "7cf2b31a-6430-4215-91e9-1449e5724905",
   "metadata": {
    "colab": {
     "base_uri": "https://localhost:8080/"
    },
    "execution": {
     "iopub.execute_input": "2025-03-15T12:07:15.332880Z",
     "iopub.status.busy": "2025-03-15T12:07:15.332625Z"
    },
    "id": "7cf2b31a-6430-4215-91e9-1449e5724905",
    "outputId": "d49cabae-39ad-4e53-b54b-83faf3725e58"
   },
   "outputs": [
    {
     "name": "stderr",
     "output_type": "stream",
     "text": [
      "<ipython-input-24-28578800d5b6>:18: FutureWarning: `torch.cuda.amp.GradScaler(args...)` is deprecated. Please use `torch.amp.GradScaler('cuda', args...)` instead.\n",
      "  scaler = GradScaler()\n"
     ]
    },
    {
     "name": "stdout",
     "output_type": "stream",
     "text": [
      "\n",
      "🔄 Epoch 1/14\n"
     ]
    },
    {
     "name": "stderr",
     "output_type": "stream",
     "text": [
      "Training:   0%|          | 0/22206 [00:00<?, ?it/s]<ipython-input-24-28578800d5b6>:30: FutureWarning: `torch.cuda.amp.autocast(args...)` is deprecated. Please use `torch.amp.autocast('cuda', args...)` instead.\n",
      "  with autocast():\n",
      "Training: 100%|██████████| 22206/22206 [2:00:02<00:00,  3.08it/s, loss=1.24]     \n",
      "Validating:   0%|          | 0/3702 [00:00<?, ?it/s]<ipython-input-24-28578800d5b6>:51: FutureWarning: `torch.cuda.amp.autocast(args...)` is deprecated. Please use `torch.amp.autocast('cuda', args...)` instead.\n",
      "  with autocast():\n",
      "Validating: 100%|██████████| 3702/3702 [08:42<00:00,  7.08it/s, loss=0.000131]\n"
     ]
    },
    {
     "name": "stdout",
     "output_type": "stream",
     "text": [
      "📊 Epoch 1/14 | Train Loss: 0.7978 | Val Loss: 1.0677\n",
      "✅ Model checkpoint saved at /kaggle/working/saved_models/epoch_1/checkpoint.pth with best Val Loss: 1.0677\n",
      "\n",
      "🔄 Epoch 2/14\n"
     ]
    },
    {
     "name": "stderr",
     "output_type": "stream",
     "text": [
      "Training: 100%|██████████| 22206/22206 [1:59:58<00:00,  3.08it/s, loss=0.828]   \n",
      "Validating: 100%|██████████| 3702/3702 [08:42<00:00,  7.09it/s, loss=1.76]   \n"
     ]
    },
    {
     "name": "stdout",
     "output_type": "stream",
     "text": [
      "📊 Epoch 2/14 | Train Loss: 0.7944 | Val Loss: 1.0550\n",
      "✅ Model checkpoint saved at /kaggle/working/saved_models/epoch_2/checkpoint.pth with best Val Loss: 1.0550\n",
      "\n",
      "🔄 Epoch 3/14\n"
     ]
    },
    {
     "name": "stderr",
     "output_type": "stream",
     "text": [
      "Training: 100%|██████████| 22206/22206 [1:59:43<00:00,  3.09it/s, loss=0.225]   \n",
      "Validating: 100%|██████████| 3702/3702 [08:40<00:00,  7.11it/s, loss=0.236]  \n"
     ]
    },
    {
     "name": "stdout",
     "output_type": "stream",
     "text": [
      "📊 Epoch 3/14 | Train Loss: 0.7925 | Val Loss: 1.0434\n",
      "✅ Model checkpoint saved at /kaggle/working/saved_models/epoch_3/checkpoint.pth with best Val Loss: 1.0434\n",
      "\n",
      "🔄 Epoch 4/14\n"
     ]
    },
    {
     "name": "stderr",
     "output_type": "stream",
     "text": [
      "Training:   5%|▍         | 1022/22206 [05:30<1:54:18,  3.09it/s, loss=0.607]  "
     ]
    }
   ],
   "source": [
    "import os\n",
    "import torch\n",
    "import numpy as np\n",
    "from tqdm import tqdm\n",
    "from torch.cuda.amp import autocast, GradScaler\n",
    "\n",
    "device = torch.device(\"cuda\" if torch.cuda.is_available() else \"cpu\")\n",
    "model.to(device)\n",
    "\n",
    "save_dir = \"/kaggle/working/saved_models\"\n",
    "os.makedirs(save_dir, exist_ok=True)\n",
    "\n",
    "epochs = 14\n",
    "patience = 3\n",
    "best_val_loss = float(\"inf\")\n",
    "early_stop_counter = 0\n",
    "grad_clip = 1.0\n",
    "scaler = GradScaler()\n",
    "\n",
    "for epoch in range(epochs):\n",
    "    model.train()\n",
    "    total_train_loss = 0\n",
    "    print(f\"\\n🔄 Epoch {epoch+1}/{epochs}\")\n",
    "    train_progress = tqdm(train_dataloader, desc=\"Training\")\n",
    "    \n",
    "    for batch in train_progress:\n",
    "        batch = {k: v.to(device) for k, v in batch.items()} \n",
    "        optimizer.zero_grad()\n",
    "        \n",
    "        with autocast():\n",
    "            outputs = model(input_ids=batch[\"input_ids\"], attention_mask=batch[\"attention_mask\"])\n",
    "            logits = outputs[\"logits\"]\n",
    "            loss = loss_fn(logits, batch[\"labels\"].long()) \n",
    "        scaler.scale(loss).backward()\n",
    "        torch.nn.utils.clip_grad_norm_(model.parameters(), grad_clip)\n",
    "        scaler.step(optimizer)\n",
    "        scaler.update()\n",
    "        if isinstance(lr_scheduler, torch.optim.lr_scheduler.ReduceLROnPlateau):\n",
    "            lr_scheduler.step(loss.item()) \n",
    "        else:\n",
    "            lr_scheduler.step()\n",
    "        total_train_loss += loss.item()\n",
    "        train_progress.set_postfix(loss=loss.item())\n",
    "    avg_train_loss = total_train_loss / len(train_dataloader)\n",
    "    model.eval()\n",
    "    total_val_loss = 0\n",
    "    with torch.no_grad():\n",
    "        val_progress = tqdm(test_dataloader, desc=\"Validating\")\n",
    "        for batch in val_progress:\n",
    "            batch = {k: v.to(device) for k, v in batch.items()}  \n",
    "            with autocast():\n",
    "                outputs = model(input_ids=batch[\"input_ids\"], attention_mask=batch[\"attention_mask\"])\n",
    "                logits = outputs[\"logits\"]\n",
    "                loss = loss_fn(logits, batch[\"labels\"].long())\n",
    "            total_val_loss += loss.item()\n",
    "            val_progress.set_postfix(loss=loss.item())\n",
    "    \n",
    "    avg_val_loss = total_val_loss / len(test_dataloader)\n",
    "    print(f\"📊 Epoch {epoch+1}/{epochs} | Train Loss: {avg_train_loss:.4f} | Val Loss: {avg_val_loss:.4f}\")\n",
    "    \n",
    "    epoch_save_dir = f\"{save_dir}/epoch_{epoch+1}\"\n",
    "    os.makedirs(epoch_save_dir, exist_ok=True)\n",
    "    \n",
    "    if avg_val_loss < best_val_loss:\n",
    "        best_val_loss = avg_val_loss\n",
    "        early_stop_counter = 0\n",
    "        torch.save({\n",
    "            'epoch': epoch + 1,\n",
    "            'model_state_dict': model.state_dict(),\n",
    "            'optimizer_state_dict': optimizer.state_dict(),\n",
    "            'scheduler_state_dict': lr_scheduler.state_dict() if lr_scheduler else None,\n",
    "            'best_val_loss': best_val_loss\n",
    "        }, f\"{epoch_save_dir}/checkpoint.pth\")\n",
    "        tokenizer.save_pretrained(epoch_save_dir)\n",
    "        print(f\"✅ Model checkpoint saved at {epoch_save_dir}/checkpoint.pth with best Val Loss: {avg_val_loss:.4f}\")\n",
    "    else:\n",
    "        early_stop_counter += 1\n",
    "        print(f\"⚠️ No improvement. Early stop: {early_stop_counter}/{patience}\")\n",
    "    \n",
    "    if early_stop_counter >= patience:\n",
    "        print(\"🚀 Early stopping triggered! Training stopped.\")\n",
    "        break\n",
    "print(\"🎉 Training complete!\")"
   ]
  },
  {
   "cell_type": "code",
   "execution_count": null,
   "id": "eb07f1a1-633a-4cd6-be2a-90fc5ea328a6",
   "metadata": {
    "id": "eb07f1a1-633a-4cd6-be2a-90fc5ea328a6"
   },
   "outputs": [],
   "source": []
  },
  {
   "cell_type": "code",
   "execution_count": null,
   "id": "6544ca84-97e6-441e-9a98-1278574606fc",
   "metadata": {},
   "outputs": [],
   "source": []
  },
  {
   "cell_type": "code",
   "execution_count": null,
   "id": "415e1940-d2e0-49e2-9729-27ac38ad5b85",
   "metadata": {},
   "outputs": [],
   "source": []
  },
  {
   "cell_type": "code",
   "execution_count": null,
   "id": "aaf9ad47-421f-4b6f-98a3-80b391cf6ab7",
   "metadata": {},
   "outputs": [],
   "source": []
  },
  {
   "cell_type": "code",
   "execution_count": null,
   "id": "3d24a48d-c56b-4cbf-b9aa-effeb6ab0504",
   "metadata": {},
   "outputs": [],
   "source": []
  },
  {
   "cell_type": "code",
   "execution_count": null,
   "id": "3f11f534-35bc-4cd7-98e7-f9e0d415091f",
   "metadata": {},
   "outputs": [],
   "source": []
  },
  {
   "cell_type": "code",
   "execution_count": null,
   "id": "1d96f6b2-c0c1-4d42-9f62-148eb673ff02",
   "metadata": {},
   "outputs": [],
   "source": []
  },
  {
   "cell_type": "code",
   "execution_count": null,
   "id": "0d57270a-a8ed-4b71-a461-d19339f685d2",
   "metadata": {},
   "outputs": [],
   "source": []
  },
  {
   "cell_type": "code",
   "execution_count": null,
   "id": "9d756da7-e61f-41f4-b372-09069d1cc713",
   "metadata": {},
   "outputs": [],
   "source": []
  }
 ],
 "metadata": {
  "accelerator": "GPU",
  "colab": {
   "gpuType": "T4",
   "provenance": []
  },
  "kaggle": {
   "accelerator": "nvidiaTeslaT4",
   "dataSources": [
    {
     "datasetId": 6851088,
     "sourceId": 11005164,
     "sourceType": "datasetVersion"
    },
    {
     "datasetId": 6859899,
     "sourceId": 11017351,
     "sourceType": "datasetVersion"
    },
    {
     "isSourceIdPinned": true,
     "modelId": 267568,
     "modelInstanceId": 245969,
     "sourceId": 287037,
     "sourceType": "modelInstanceVersion"
    }
   ],
   "dockerImageVersionId": 30919,
   "isGpuEnabled": true,
   "isInternetEnabled": true,
   "language": "python",
   "sourceType": "notebook"
  },
  "kernelspec": {
   "display_name": "Python 3 (ipykernel)",
   "language": "python",
   "name": "python3"
  },
  "language_info": {
   "codemirror_mode": {
    "name": "ipython",
    "version": 3
   },
   "file_extension": ".py",
   "mimetype": "text/x-python",
   "name": "python",
   "nbconvert_exporter": "python",
   "pygments_lexer": "ipython3",
   "version": "3.11.7"
  },
  "widgets": {
   "application/vnd.jupyter.widget-state+json": {
    "054a3127a01b4bbb8b14cb6f28756545": {
     "model_module": "@jupyter-widgets/controls",
     "model_module_version": "1.5.0",
     "model_name": "FloatProgressModel",
     "state": {
      "_dom_classes": [],
      "_model_module": "@jupyter-widgets/controls",
      "_model_module_version": "1.5.0",
      "_model_name": "FloatProgressModel",
      "_view_count": null,
      "_view_module": "@jupyter-widgets/controls",
      "_view_module_version": "1.5.0",
      "_view_name": "ProgressView",
      "bar_style": "success",
      "description": "",
      "description_tooltip": null,
      "layout": "IPY_MODEL_0ab59edb7fd543e3adc1f0ec03c9592e",
      "max": 2464616,
      "min": 0,
      "orientation": "horizontal",
      "style": "IPY_MODEL_f68799b750614844b0c44cb4bed06e56",
      "value": 2464616
     }
    },
    "0ab59edb7fd543e3adc1f0ec03c9592e": {
     "model_module": "@jupyter-widgets/base",
     "model_module_version": "1.2.0",
     "model_name": "LayoutModel",
     "state": {
      "_model_module": "@jupyter-widgets/base",
      "_model_module_version": "1.2.0",
      "_model_name": "LayoutModel",
      "_view_count": null,
      "_view_module": "@jupyter-widgets/base",
      "_view_module_version": "1.2.0",
      "_view_name": "LayoutView",
      "align_content": null,
      "align_items": null,
      "align_self": null,
      "border": null,
      "bottom": null,
      "display": null,
      "flex": null,
      "flex_flow": null,
      "grid_area": null,
      "grid_auto_columns": null,
      "grid_auto_flow": null,
      "grid_auto_rows": null,
      "grid_column": null,
      "grid_gap": null,
      "grid_row": null,
      "grid_template_areas": null,
      "grid_template_columns": null,
      "grid_template_rows": null,
      "height": null,
      "justify_content": null,
      "justify_items": null,
      "left": null,
      "margin": null,
      "max_height": null,
      "max_width": null,
      "min_height": null,
      "min_width": null,
      "object_fit": null,
      "object_position": null,
      "order": null,
      "overflow": null,
      "overflow_x": null,
      "overflow_y": null,
      "padding": null,
      "right": null,
      "top": null,
      "visibility": null,
      "width": null
     }
    },
    "0c3227afec5b4c3cbb72154ae55b6795": {
     "model_module": "@jupyter-widgets/base",
     "model_module_version": "1.2.0",
     "model_name": "LayoutModel",
     "state": {
      "_model_module": "@jupyter-widgets/base",
      "_model_module_version": "1.2.0",
      "_model_name": "LayoutModel",
      "_view_count": null,
      "_view_module": "@jupyter-widgets/base",
      "_view_module_version": "1.2.0",
      "_view_name": "LayoutView",
      "align_content": null,
      "align_items": null,
      "align_self": null,
      "border": null,
      "bottom": null,
      "display": null,
      "flex": null,
      "flex_flow": null,
      "grid_area": null,
      "grid_auto_columns": null,
      "grid_auto_flow": null,
      "grid_auto_rows": null,
      "grid_column": null,
      "grid_gap": null,
      "grid_row": null,
      "grid_template_areas": null,
      "grid_template_columns": null,
      "grid_template_rows": null,
      "height": null,
      "justify_content": null,
      "justify_items": null,
      "left": null,
      "margin": null,
      "max_height": null,
      "max_width": null,
      "min_height": null,
      "min_width": null,
      "object_fit": null,
      "object_position": null,
      "order": null,
      "overflow": null,
      "overflow_x": null,
      "overflow_y": null,
      "padding": null,
      "right": null,
      "top": null,
      "visibility": null,
      "width": null
     }
    },
    "0dd772191a5c414aa0198b65aa794dbf": {
     "model_module": "@jupyter-widgets/controls",
     "model_module_version": "1.5.0",
     "model_name": "FloatProgressModel",
     "state": {
      "_dom_classes": [],
      "_model_module": "@jupyter-widgets/controls",
      "_model_module_version": "1.5.0",
      "_model_name": "FloatProgressModel",
      "_view_count": null,
      "_view_module": "@jupyter-widgets/controls",
      "_view_module_version": "1.5.0",
      "_view_name": "ProgressView",
      "bar_style": "success",
      "description": "",
      "description_tooltip": null,
      "layout": "IPY_MODEL_95e4e53080864fc4a4c2305ead37ba29",
      "max": 52,
      "min": 0,
      "orientation": "horizontal",
      "style": "IPY_MODEL_10bd26e1ce3543b88788fa7aa99e6181",
      "value": 52
     }
    },
    "104e82c5a16b4f26ba709215f3fe4141": {
     "model_module": "@jupyter-widgets/base",
     "model_module_version": "1.2.0",
     "model_name": "LayoutModel",
     "state": {
      "_model_module": "@jupyter-widgets/base",
      "_model_module_version": "1.2.0",
      "_model_name": "LayoutModel",
      "_view_count": null,
      "_view_module": "@jupyter-widgets/base",
      "_view_module_version": "1.2.0",
      "_view_name": "LayoutView",
      "align_content": null,
      "align_items": null,
      "align_self": null,
      "border": null,
      "bottom": null,
      "display": null,
      "flex": null,
      "flex_flow": null,
      "grid_area": null,
      "grid_auto_columns": null,
      "grid_auto_flow": null,
      "grid_auto_rows": null,
      "grid_column": null,
      "grid_gap": null,
      "grid_row": null,
      "grid_template_areas": null,
      "grid_template_columns": null,
      "grid_template_rows": null,
      "height": null,
      "justify_content": null,
      "justify_items": null,
      "left": null,
      "margin": null,
      "max_height": null,
      "max_width": null,
      "min_height": null,
      "min_width": null,
      "object_fit": null,
      "object_position": null,
      "order": null,
      "overflow": null,
      "overflow_x": null,
      "overflow_y": null,
      "padding": null,
      "right": null,
      "top": null,
      "visibility": null,
      "width": null
     }
    },
    "10bd26e1ce3543b88788fa7aa99e6181": {
     "model_module": "@jupyter-widgets/controls",
     "model_module_version": "1.5.0",
     "model_name": "ProgressStyleModel",
     "state": {
      "_model_module": "@jupyter-widgets/controls",
      "_model_module_version": "1.5.0",
      "_model_name": "ProgressStyleModel",
      "_view_count": null,
      "_view_module": "@jupyter-widgets/base",
      "_view_module_version": "1.2.0",
      "_view_name": "StyleView",
      "bar_color": null,
      "description_width": ""
     }
    },
    "1793a264860c4416a9b0d4c0419b5470": {
     "model_module": "@jupyter-widgets/base",
     "model_module_version": "1.2.0",
     "model_name": "LayoutModel",
     "state": {
      "_model_module": "@jupyter-widgets/base",
      "_model_module_version": "1.2.0",
      "_model_name": "LayoutModel",
      "_view_count": null,
      "_view_module": "@jupyter-widgets/base",
      "_view_module_version": "1.2.0",
      "_view_name": "LayoutView",
      "align_content": null,
      "align_items": null,
      "align_self": null,
      "border": null,
      "bottom": null,
      "display": null,
      "flex": null,
      "flex_flow": null,
      "grid_area": null,
      "grid_auto_columns": null,
      "grid_auto_flow": null,
      "grid_auto_rows": null,
      "grid_column": null,
      "grid_gap": null,
      "grid_row": null,
      "grid_template_areas": null,
      "grid_template_columns": null,
      "grid_template_rows": null,
      "height": null,
      "justify_content": null,
      "justify_items": null,
      "left": null,
      "margin": null,
      "max_height": null,
      "max_width": null,
      "min_height": null,
      "min_width": null,
      "object_fit": null,
      "object_position": null,
      "order": null,
      "overflow": null,
      "overflow_x": null,
      "overflow_y": null,
      "padding": null,
      "right": null,
      "top": null,
      "visibility": null,
      "width": null
     }
    },
    "1b181e5c102d47f2905f1044bfe6431a": {
     "model_module": "@jupyter-widgets/controls",
     "model_module_version": "1.5.0",
     "model_name": "DescriptionStyleModel",
     "state": {
      "_model_module": "@jupyter-widgets/controls",
      "_model_module_version": "1.5.0",
      "_model_name": "DescriptionStyleModel",
      "_view_count": null,
      "_view_module": "@jupyter-widgets/base",
      "_view_module_version": "1.2.0",
      "_view_name": "StyleView",
      "description_width": ""
     }
    },
    "25eaa58d541145e089c445013c408c1b": {
     "model_module": "@jupyter-widgets/controls",
     "model_module_version": "1.5.0",
     "model_name": "ProgressStyleModel",
     "state": {
      "_model_module": "@jupyter-widgets/controls",
      "_model_module_version": "1.5.0",
      "_model_name": "ProgressStyleModel",
      "_view_count": null,
      "_view_module": "@jupyter-widgets/base",
      "_view_module_version": "1.2.0",
      "_view_name": "StyleView",
      "bar_color": null,
      "description_width": ""
     }
    },
    "2746c90cbd4f4f69b2030f01551babd7": {
     "model_module": "@jupyter-widgets/base",
     "model_module_version": "1.2.0",
     "model_name": "LayoutModel",
     "state": {
      "_model_module": "@jupyter-widgets/base",
      "_model_module_version": "1.2.0",
      "_model_name": "LayoutModel",
      "_view_count": null,
      "_view_module": "@jupyter-widgets/base",
      "_view_module_version": "1.2.0",
      "_view_name": "LayoutView",
      "align_content": null,
      "align_items": null,
      "align_self": null,
      "border": null,
      "bottom": null,
      "display": null,
      "flex": null,
      "flex_flow": null,
      "grid_area": null,
      "grid_auto_columns": null,
      "grid_auto_flow": null,
      "grid_auto_rows": null,
      "grid_column": null,
      "grid_gap": null,
      "grid_row": null,
      "grid_template_areas": null,
      "grid_template_columns": null,
      "grid_template_rows": null,
      "height": null,
      "justify_content": null,
      "justify_items": null,
      "left": null,
      "margin": null,
      "max_height": null,
      "max_width": null,
      "min_height": null,
      "min_width": null,
      "object_fit": null,
      "object_position": null,
      "order": null,
      "overflow": null,
      "overflow_x": null,
      "overflow_y": null,
      "padding": null,
      "right": null,
      "top": null,
      "visibility": null,
      "width": null
     }
    },
    "2a167b93de804054bcf7b77102db555f": {
     "model_module": "@jupyter-widgets/controls",
     "model_module_version": "1.5.0",
     "model_name": "DescriptionStyleModel",
     "state": {
      "_model_module": "@jupyter-widgets/controls",
      "_model_module_version": "1.5.0",
      "_model_name": "DescriptionStyleModel",
      "_view_count": null,
      "_view_module": "@jupyter-widgets/base",
      "_view_module_version": "1.2.0",
      "_view_name": "StyleView",
      "description_width": ""
     }
    },
    "2b6560c50fd6465eac224c84a49c3c19": {
     "model_module": "@jupyter-widgets/base",
     "model_module_version": "1.2.0",
     "model_name": "LayoutModel",
     "state": {
      "_model_module": "@jupyter-widgets/base",
      "_model_module_version": "1.2.0",
      "_model_name": "LayoutModel",
      "_view_count": null,
      "_view_module": "@jupyter-widgets/base",
      "_view_module_version": "1.2.0",
      "_view_name": "LayoutView",
      "align_content": null,
      "align_items": null,
      "align_self": null,
      "border": null,
      "bottom": null,
      "display": null,
      "flex": null,
      "flex_flow": null,
      "grid_area": null,
      "grid_auto_columns": null,
      "grid_auto_flow": null,
      "grid_auto_rows": null,
      "grid_column": null,
      "grid_gap": null,
      "grid_row": null,
      "grid_template_areas": null,
      "grid_template_columns": null,
      "grid_template_rows": null,
      "height": null,
      "justify_content": null,
      "justify_items": null,
      "left": null,
      "margin": null,
      "max_height": null,
      "max_width": null,
      "min_height": null,
      "min_width": null,
      "object_fit": null,
      "object_position": null,
      "order": null,
      "overflow": null,
      "overflow_x": null,
      "overflow_y": null,
      "padding": null,
      "right": null,
      "top": null,
      "visibility": null,
      "width": null
     }
    },
    "31af37dde3cb485e898163057af6ca7d": {
     "model_module": "@jupyter-widgets/base",
     "model_module_version": "1.2.0",
     "model_name": "LayoutModel",
     "state": {
      "_model_module": "@jupyter-widgets/base",
      "_model_module_version": "1.2.0",
      "_model_name": "LayoutModel",
      "_view_count": null,
      "_view_module": "@jupyter-widgets/base",
      "_view_module_version": "1.2.0",
      "_view_name": "LayoutView",
      "align_content": null,
      "align_items": null,
      "align_self": null,
      "border": null,
      "bottom": null,
      "display": null,
      "flex": null,
      "flex_flow": null,
      "grid_area": null,
      "grid_auto_columns": null,
      "grid_auto_flow": null,
      "grid_auto_rows": null,
      "grid_column": null,
      "grid_gap": null,
      "grid_row": null,
      "grid_template_areas": null,
      "grid_template_columns": null,
      "grid_template_rows": null,
      "height": null,
      "justify_content": null,
      "justify_items": null,
      "left": null,
      "margin": null,
      "max_height": null,
      "max_width": null,
      "min_height": null,
      "min_width": null,
      "object_fit": null,
      "object_position": null,
      "order": null,
      "overflow": null,
      "overflow_x": null,
      "overflow_y": null,
      "padding": null,
      "right": null,
      "top": null,
      "visibility": null,
      "width": null
     }
    },
    "32cb39e690784c2381e2cf738a3bdae3": {
     "model_module": "@jupyter-widgets/base",
     "model_module_version": "1.2.0",
     "model_name": "LayoutModel",
     "state": {
      "_model_module": "@jupyter-widgets/base",
      "_model_module_version": "1.2.0",
      "_model_name": "LayoutModel",
      "_view_count": null,
      "_view_module": "@jupyter-widgets/base",
      "_view_module_version": "1.2.0",
      "_view_name": "LayoutView",
      "align_content": null,
      "align_items": null,
      "align_self": null,
      "border": null,
      "bottom": null,
      "display": null,
      "flex": null,
      "flex_flow": null,
      "grid_area": null,
      "grid_auto_columns": null,
      "grid_auto_flow": null,
      "grid_auto_rows": null,
      "grid_column": null,
      "grid_gap": null,
      "grid_row": null,
      "grid_template_areas": null,
      "grid_template_columns": null,
      "grid_template_rows": null,
      "height": null,
      "justify_content": null,
      "justify_items": null,
      "left": null,
      "margin": null,
      "max_height": null,
      "max_width": null,
      "min_height": null,
      "min_width": null,
      "object_fit": null,
      "object_position": null,
      "order": null,
      "overflow": null,
      "overflow_x": null,
      "overflow_y": null,
      "padding": null,
      "right": null,
      "top": null,
      "visibility": null,
      "width": null
     }
    },
    "34e11d11113d4f19a380bf91357df11f": {
     "model_module": "@jupyter-widgets/base",
     "model_module_version": "1.2.0",
     "model_name": "LayoutModel",
     "state": {
      "_model_module": "@jupyter-widgets/base",
      "_model_module_version": "1.2.0",
      "_model_name": "LayoutModel",
      "_view_count": null,
      "_view_module": "@jupyter-widgets/base",
      "_view_module_version": "1.2.0",
      "_view_name": "LayoutView",
      "align_content": null,
      "align_items": null,
      "align_self": null,
      "border": null,
      "bottom": null,
      "display": null,
      "flex": null,
      "flex_flow": null,
      "grid_area": null,
      "grid_auto_columns": null,
      "grid_auto_flow": null,
      "grid_auto_rows": null,
      "grid_column": null,
      "grid_gap": null,
      "grid_row": null,
      "grid_template_areas": null,
      "grid_template_columns": null,
      "grid_template_rows": null,
      "height": null,
      "justify_content": null,
      "justify_items": null,
      "left": null,
      "margin": null,
      "max_height": null,
      "max_width": null,
      "min_height": null,
      "min_width": null,
      "object_fit": null,
      "object_position": null,
      "order": null,
      "overflow": null,
      "overflow_x": null,
      "overflow_y": null,
      "padding": null,
      "right": null,
      "top": null,
      "visibility": null,
      "width": null
     }
    },
    "36e6dd8e07dd4cf9b749c7ab3ca5b414": {
     "model_module": "@jupyter-widgets/controls",
     "model_module_version": "1.5.0",
     "model_name": "DescriptionStyleModel",
     "state": {
      "_model_module": "@jupyter-widgets/controls",
      "_model_module_version": "1.5.0",
      "_model_name": "DescriptionStyleModel",
      "_view_count": null,
      "_view_module": "@jupyter-widgets/base",
      "_view_module_version": "1.2.0",
      "_view_name": "StyleView",
      "description_width": ""
     }
    },
    "379525e5af3c4a7db44dea80f84b44fa": {
     "model_module": "@jupyter-widgets/controls",
     "model_module_version": "1.5.0",
     "model_name": "HBoxModel",
     "state": {
      "_dom_classes": [],
      "_model_module": "@jupyter-widgets/controls",
      "_model_module_version": "1.5.0",
      "_model_name": "HBoxModel",
      "_view_count": null,
      "_view_module": "@jupyter-widgets/controls",
      "_view_module_version": "1.5.0",
      "_view_name": "HBoxView",
      "box_style": "",
      "children": [
       "IPY_MODEL_4a3d242a36ee4fc38846a78d581722d9",
       "IPY_MODEL_966f3599af144dbfa4dc25750e4c7d2d",
       "IPY_MODEL_9a8ea0669a864079839db14dd423a011"
      ],
      "layout": "IPY_MODEL_97e60977dc1940c2b7ec3221470e4785"
     }
    },
    "3a9dff9eba104b4b9a62176f3fa31d56": {
     "model_module": "@jupyter-widgets/controls",
     "model_module_version": "1.5.0",
     "model_name": "DescriptionStyleModel",
     "state": {
      "_model_module": "@jupyter-widgets/controls",
      "_model_module_version": "1.5.0",
      "_model_name": "DescriptionStyleModel",
      "_view_count": null,
      "_view_module": "@jupyter-widgets/base",
      "_view_module_version": "1.2.0",
      "_view_name": "StyleView",
      "description_width": ""
     }
    },
    "4a3d242a36ee4fc38846a78d581722d9": {
     "model_module": "@jupyter-widgets/controls",
     "model_module_version": "1.5.0",
     "model_name": "HTMLModel",
     "state": {
      "_dom_classes": [],
      "_model_module": "@jupyter-widgets/controls",
      "_model_module_version": "1.5.0",
      "_model_name": "HTMLModel",
      "_view_count": null,
      "_view_module": "@jupyter-widgets/controls",
      "_view_module_version": "1.5.0",
      "_view_name": "HTMLView",
      "description": "",
      "description_tooltip": null,
      "layout": "IPY_MODEL_f2ff29289b944a2ea85b9d9108ec838f",
      "placeholder": "​",
      "style": "IPY_MODEL_1b181e5c102d47f2905f1044bfe6431a",
      "value": "pytorch_model.bin: 100%"
     }
    },
    "5408caaf151e451ba75a886e9f013a0f": {
     "model_module": "@jupyter-widgets/controls",
     "model_module_version": "1.5.0",
     "model_name": "DescriptionStyleModel",
     "state": {
      "_model_module": "@jupyter-widgets/controls",
      "_model_module_version": "1.5.0",
      "_model_name": "DescriptionStyleModel",
      "_view_count": null,
      "_view_module": "@jupyter-widgets/base",
      "_view_module_version": "1.2.0",
      "_view_name": "StyleView",
      "description_width": ""
     }
    },
    "59916754f38d4f26b939fd1bb48e540e": {
     "model_module": "@jupyter-widgets/controls",
     "model_module_version": "1.5.0",
     "model_name": "FloatProgressModel",
     "state": {
      "_dom_classes": [],
      "_model_module": "@jupyter-widgets/controls",
      "_model_module_version": "1.5.0",
      "_model_name": "FloatProgressModel",
      "_view_count": null,
      "_view_module": "@jupyter-widgets/controls",
      "_view_module_version": "1.5.0",
      "_view_name": "ProgressView",
      "bar_style": "success",
      "description": "",
      "description_tooltip": null,
      "layout": "IPY_MODEL_60896defd44d4ce0806f8b7b20f33732",
      "max": 579,
      "min": 0,
      "orientation": "horizontal",
      "style": "IPY_MODEL_7268d93733b7487b90f84f97fbeea0a4",
      "value": 579
     }
    },
    "5dfc19e950694d519ed4470627b4b396": {
     "model_module": "@jupyter-widgets/controls",
     "model_module_version": "1.5.0",
     "model_name": "HTMLModel",
     "state": {
      "_dom_classes": [],
      "_model_module": "@jupyter-widgets/controls",
      "_model_module_version": "1.5.0",
      "_model_name": "HTMLModel",
      "_view_count": null,
      "_view_module": "@jupyter-widgets/controls",
      "_view_module_version": "1.5.0",
      "_view_name": "HTMLView",
      "description": "",
      "description_tooltip": null,
      "layout": "IPY_MODEL_2b6560c50fd6465eac224c84a49c3c19",
      "placeholder": "​",
      "style": "IPY_MODEL_de5b334e2f8e4616ba0db8571e1dc02a",
      "value": " 371M/371M [00:05&lt;00:00, 167MB/s]"
     }
    },
    "60896defd44d4ce0806f8b7b20f33732": {
     "model_module": "@jupyter-widgets/base",
     "model_module_version": "1.2.0",
     "model_name": "LayoutModel",
     "state": {
      "_model_module": "@jupyter-widgets/base",
      "_model_module_version": "1.2.0",
      "_model_name": "LayoutModel",
      "_view_count": null,
      "_view_module": "@jupyter-widgets/base",
      "_view_module_version": "1.2.0",
      "_view_name": "LayoutView",
      "align_content": null,
      "align_items": null,
      "align_self": null,
      "border": null,
      "bottom": null,
      "display": null,
      "flex": null,
      "flex_flow": null,
      "grid_area": null,
      "grid_auto_columns": null,
      "grid_auto_flow": null,
      "grid_auto_rows": null,
      "grid_column": null,
      "grid_gap": null,
      "grid_row": null,
      "grid_template_areas": null,
      "grid_template_columns": null,
      "grid_template_rows": null,
      "height": null,
      "justify_content": null,
      "justify_items": null,
      "left": null,
      "margin": null,
      "max_height": null,
      "max_width": null,
      "min_height": null,
      "min_width": null,
      "object_fit": null,
      "object_position": null,
      "order": null,
      "overflow": null,
      "overflow_x": null,
      "overflow_y": null,
      "padding": null,
      "right": null,
      "top": null,
      "visibility": null,
      "width": null
     }
    },
    "6742d5afce204bcb966e088254a64c78": {
     "model_module": "@jupyter-widgets/controls",
     "model_module_version": "1.5.0",
     "model_name": "HBoxModel",
     "state": {
      "_dom_classes": [],
      "_model_module": "@jupyter-widgets/controls",
      "_model_module_version": "1.5.0",
      "_model_name": "HBoxModel",
      "_view_count": null,
      "_view_module": "@jupyter-widgets/controls",
      "_view_module_version": "1.5.0",
      "_view_name": "HBoxView",
      "box_style": "",
      "children": [
       "IPY_MODEL_b5813a5fc11840e0b7c1501246b08f99",
       "IPY_MODEL_054a3127a01b4bbb8b14cb6f28756545",
       "IPY_MODEL_f12b337e3b9d45f8a27c8693ee8c79b4"
      ],
      "layout": "IPY_MODEL_6f61deaf8c0e4d29805a71cce2223aad"
     }
    },
    "6f61deaf8c0e4d29805a71cce2223aad": {
     "model_module": "@jupyter-widgets/base",
     "model_module_version": "1.2.0",
     "model_name": "LayoutModel",
     "state": {
      "_model_module": "@jupyter-widgets/base",
      "_model_module_version": "1.2.0",
      "_model_name": "LayoutModel",
      "_view_count": null,
      "_view_module": "@jupyter-widgets/base",
      "_view_module_version": "1.2.0",
      "_view_name": "LayoutView",
      "align_content": null,
      "align_items": null,
      "align_self": null,
      "border": null,
      "bottom": null,
      "display": null,
      "flex": null,
      "flex_flow": null,
      "grid_area": null,
      "grid_auto_columns": null,
      "grid_auto_flow": null,
      "grid_auto_rows": null,
      "grid_column": null,
      "grid_gap": null,
      "grid_row": null,
      "grid_template_areas": null,
      "grid_template_columns": null,
      "grid_template_rows": null,
      "height": null,
      "justify_content": null,
      "justify_items": null,
      "left": null,
      "margin": null,
      "max_height": null,
      "max_width": null,
      "min_height": null,
      "min_width": null,
      "object_fit": null,
      "object_position": null,
      "order": null,
      "overflow": null,
      "overflow_x": null,
      "overflow_y": null,
      "padding": null,
      "right": null,
      "top": null,
      "visibility": null,
      "width": null
     }
    },
    "70049523bd354a98b1ac6dd05cc98b0b": {
     "model_module": "@jupyter-widgets/controls",
     "model_module_version": "1.5.0",
     "model_name": "DescriptionStyleModel",
     "state": {
      "_model_module": "@jupyter-widgets/controls",
      "_model_module_version": "1.5.0",
      "_model_name": "DescriptionStyleModel",
      "_view_count": null,
      "_view_module": "@jupyter-widgets/base",
      "_view_module_version": "1.2.0",
      "_view_name": "StyleView",
      "description_width": ""
     }
    },
    "70a7a46a9ee04a948748eaf22a0b365f": {
     "model_module": "@jupyter-widgets/base",
     "model_module_version": "1.2.0",
     "model_name": "LayoutModel",
     "state": {
      "_model_module": "@jupyter-widgets/base",
      "_model_module_version": "1.2.0",
      "_model_name": "LayoutModel",
      "_view_count": null,
      "_view_module": "@jupyter-widgets/base",
      "_view_module_version": "1.2.0",
      "_view_name": "LayoutView",
      "align_content": null,
      "align_items": null,
      "align_self": null,
      "border": null,
      "bottom": null,
      "display": null,
      "flex": null,
      "flex_flow": null,
      "grid_area": null,
      "grid_auto_columns": null,
      "grid_auto_flow": null,
      "grid_auto_rows": null,
      "grid_column": null,
      "grid_gap": null,
      "grid_row": null,
      "grid_template_areas": null,
      "grid_template_columns": null,
      "grid_template_rows": null,
      "height": null,
      "justify_content": null,
      "justify_items": null,
      "left": null,
      "margin": null,
      "max_height": null,
      "max_width": null,
      "min_height": null,
      "min_width": null,
      "object_fit": null,
      "object_position": null,
      "order": null,
      "overflow": null,
      "overflow_x": null,
      "overflow_y": null,
      "padding": null,
      "right": null,
      "top": null,
      "visibility": null,
      "width": null
     }
    },
    "7268d93733b7487b90f84f97fbeea0a4": {
     "model_module": "@jupyter-widgets/controls",
     "model_module_version": "1.5.0",
     "model_name": "ProgressStyleModel",
     "state": {
      "_model_module": "@jupyter-widgets/controls",
      "_model_module_version": "1.5.0",
      "_model_name": "ProgressStyleModel",
      "_view_count": null,
      "_view_module": "@jupyter-widgets/base",
      "_view_module_version": "1.2.0",
      "_view_name": "StyleView",
      "bar_color": null,
      "description_width": ""
     }
    },
    "7cbc187e43e745f587fddba3af71941a": {
     "model_module": "@jupyter-widgets/controls",
     "model_module_version": "1.5.0",
     "model_name": "FloatProgressModel",
     "state": {
      "_dom_classes": [],
      "_model_module": "@jupyter-widgets/controls",
      "_model_module_version": "1.5.0",
      "_model_name": "FloatProgressModel",
      "_view_count": null,
      "_view_module": "@jupyter-widgets/controls",
      "_view_module_version": "1.5.0",
      "_view_name": "ProgressView",
      "bar_style": "success",
      "description": "",
      "description_tooltip": null,
      "layout": "IPY_MODEL_34e11d11113d4f19a380bf91357df11f",
      "max": 371101258,
      "min": 0,
      "orientation": "horizontal",
      "style": "IPY_MODEL_25eaa58d541145e089c445013c408c1b",
      "value": 371101258
     }
    },
    "7dd032171e4d429a9d2cf59e9c2b3b96": {
     "model_module": "@jupyter-widgets/base",
     "model_module_version": "1.2.0",
     "model_name": "LayoutModel",
     "state": {
      "_model_module": "@jupyter-widgets/base",
      "_model_module_version": "1.2.0",
      "_model_name": "LayoutModel",
      "_view_count": null,
      "_view_module": "@jupyter-widgets/base",
      "_view_module_version": "1.2.0",
      "_view_name": "LayoutView",
      "align_content": null,
      "align_items": null,
      "align_self": null,
      "border": null,
      "bottom": null,
      "display": null,
      "flex": null,
      "flex_flow": null,
      "grid_area": null,
      "grid_auto_columns": null,
      "grid_auto_flow": null,
      "grid_auto_rows": null,
      "grid_column": null,
      "grid_gap": null,
      "grid_row": null,
      "grid_template_areas": null,
      "grid_template_columns": null,
      "grid_template_rows": null,
      "height": null,
      "justify_content": null,
      "justify_items": null,
      "left": null,
      "margin": null,
      "max_height": null,
      "max_width": null,
      "min_height": null,
      "min_width": null,
      "object_fit": null,
      "object_position": null,
      "order": null,
      "overflow": null,
      "overflow_x": null,
      "overflow_y": null,
      "padding": null,
      "right": null,
      "top": null,
      "visibility": null,
      "width": null
     }
    },
    "872ab62bafd44571b35111d05f41537a": {
     "model_module": "@jupyter-widgets/controls",
     "model_module_version": "1.5.0",
     "model_name": "HTMLModel",
     "state": {
      "_dom_classes": [],
      "_model_module": "@jupyter-widgets/controls",
      "_model_module_version": "1.5.0",
      "_model_name": "HTMLModel",
      "_view_count": null,
      "_view_module": "@jupyter-widgets/controls",
      "_view_module_version": "1.5.0",
      "_view_name": "HTMLView",
      "description": "",
      "description_tooltip": null,
      "layout": "IPY_MODEL_1793a264860c4416a9b0d4c0419b5470",
      "placeholder": "​",
      "style": "IPY_MODEL_2a167b93de804054bcf7b77102db555f",
      "value": " 52.0/52.0 [00:00&lt;00:00, 3.94kB/s]"
     }
    },
    "88b40305027546cd8d8694094838c9ab": {
     "model_module": "@jupyter-widgets/controls",
     "model_module_version": "1.5.0",
     "model_name": "HBoxModel",
     "state": {
      "_dom_classes": [],
      "_model_module": "@jupyter-widgets/controls",
      "_model_module_version": "1.5.0",
      "_model_name": "HBoxModel",
      "_view_count": null,
      "_view_module": "@jupyter-widgets/controls",
      "_view_module_version": "1.5.0",
      "_view_name": "HBoxView",
      "box_style": "",
      "children": [
       "IPY_MODEL_a75ac2d938494ac0965b0154714f830a",
       "IPY_MODEL_7cbc187e43e745f587fddba3af71941a",
       "IPY_MODEL_5dfc19e950694d519ed4470627b4b396"
      ],
      "layout": "IPY_MODEL_104e82c5a16b4f26ba709215f3fe4141"
     }
    },
    "8edfbe25b2be4fc1903a86f5f43adede": {
     "model_module": "@jupyter-widgets/controls",
     "model_module_version": "1.5.0",
     "model_name": "HBoxModel",
     "state": {
      "_dom_classes": [],
      "_model_module": "@jupyter-widgets/controls",
      "_model_module_version": "1.5.0",
      "_model_name": "HBoxModel",
      "_view_count": null,
      "_view_module": "@jupyter-widgets/controls",
      "_view_module_version": "1.5.0",
      "_view_name": "HBoxView",
      "box_style": "",
      "children": [
       "IPY_MODEL_9985c8bfec4c4822ac256a281070aac8",
       "IPY_MODEL_0dd772191a5c414aa0198b65aa794dbf",
       "IPY_MODEL_872ab62bafd44571b35111d05f41537a"
      ],
      "layout": "IPY_MODEL_0c3227afec5b4c3cbb72154ae55b6795"
     }
    },
    "95e4e53080864fc4a4c2305ead37ba29": {
     "model_module": "@jupyter-widgets/base",
     "model_module_version": "1.2.0",
     "model_name": "LayoutModel",
     "state": {
      "_model_module": "@jupyter-widgets/base",
      "_model_module_version": "1.2.0",
      "_model_name": "LayoutModel",
      "_view_count": null,
      "_view_module": "@jupyter-widgets/base",
      "_view_module_version": "1.2.0",
      "_view_name": "LayoutView",
      "align_content": null,
      "align_items": null,
      "align_self": null,
      "border": null,
      "bottom": null,
      "display": null,
      "flex": null,
      "flex_flow": null,
      "grid_area": null,
      "grid_auto_columns": null,
      "grid_auto_flow": null,
      "grid_auto_rows": null,
      "grid_column": null,
      "grid_gap": null,
      "grid_row": null,
      "grid_template_areas": null,
      "grid_template_columns": null,
      "grid_template_rows": null,
      "height": null,
      "justify_content": null,
      "justify_items": null,
      "left": null,
      "margin": null,
      "max_height": null,
      "max_width": null,
      "min_height": null,
      "min_width": null,
      "object_fit": null,
      "object_position": null,
      "order": null,
      "overflow": null,
      "overflow_x": null,
      "overflow_y": null,
      "padding": null,
      "right": null,
      "top": null,
      "visibility": null,
      "width": null
     }
    },
    "966f3599af144dbfa4dc25750e4c7d2d": {
     "model_module": "@jupyter-widgets/controls",
     "model_module_version": "1.5.0",
     "model_name": "FloatProgressModel",
     "state": {
      "_dom_classes": [],
      "_model_module": "@jupyter-widgets/controls",
      "_model_module_version": "1.5.0",
      "_model_name": "FloatProgressModel",
      "_view_count": null,
      "_view_module": "@jupyter-widgets/controls",
      "_view_module_version": "1.5.0",
      "_view_name": "ProgressView",
      "bar_style": "success",
      "description": "",
      "description_tooltip": null,
      "layout": "IPY_MODEL_70a7a46a9ee04a948748eaf22a0b365f",
      "max": 371146213,
      "min": 0,
      "orientation": "horizontal",
      "style": "IPY_MODEL_b56f0b5bc469453a80b70678dbb2ddaa",
      "value": 371146213
     }
    },
    "97e60977dc1940c2b7ec3221470e4785": {
     "model_module": "@jupyter-widgets/base",
     "model_module_version": "1.2.0",
     "model_name": "LayoutModel",
     "state": {
      "_model_module": "@jupyter-widgets/base",
      "_model_module_version": "1.2.0",
      "_model_name": "LayoutModel",
      "_view_count": null,
      "_view_module": "@jupyter-widgets/base",
      "_view_module_version": "1.2.0",
      "_view_name": "LayoutView",
      "align_content": null,
      "align_items": null,
      "align_self": null,
      "border": null,
      "bottom": null,
      "display": null,
      "flex": null,
      "flex_flow": null,
      "grid_area": null,
      "grid_auto_columns": null,
      "grid_auto_flow": null,
      "grid_auto_rows": null,
      "grid_column": null,
      "grid_gap": null,
      "grid_row": null,
      "grid_template_areas": null,
      "grid_template_columns": null,
      "grid_template_rows": null,
      "height": null,
      "justify_content": null,
      "justify_items": null,
      "left": null,
      "margin": null,
      "max_height": null,
      "max_width": null,
      "min_height": null,
      "min_width": null,
      "object_fit": null,
      "object_position": null,
      "order": null,
      "overflow": null,
      "overflow_x": null,
      "overflow_y": null,
      "padding": null,
      "right": null,
      "top": null,
      "visibility": null,
      "width": null
     }
    },
    "9985c8bfec4c4822ac256a281070aac8": {
     "model_module": "@jupyter-widgets/controls",
     "model_module_version": "1.5.0",
     "model_name": "HTMLModel",
     "state": {
      "_dom_classes": [],
      "_model_module": "@jupyter-widgets/controls",
      "_model_module_version": "1.5.0",
      "_model_name": "HTMLModel",
      "_view_count": null,
      "_view_module": "@jupyter-widgets/controls",
      "_view_module_version": "1.5.0",
      "_view_name": "HTMLView",
      "description": "",
      "description_tooltip": null,
      "layout": "IPY_MODEL_31af37dde3cb485e898163057af6ca7d",
      "placeholder": "​",
      "style": "IPY_MODEL_70049523bd354a98b1ac6dd05cc98b0b",
      "value": "tokenizer_config.json: 100%"
     }
    },
    "9a8ea0669a864079839db14dd423a011": {
     "model_module": "@jupyter-widgets/controls",
     "model_module_version": "1.5.0",
     "model_name": "HTMLModel",
     "state": {
      "_dom_classes": [],
      "_model_module": "@jupyter-widgets/controls",
      "_model_module_version": "1.5.0",
      "_model_name": "HTMLModel",
      "_view_count": null,
      "_view_module": "@jupyter-widgets/controls",
      "_view_module_version": "1.5.0",
      "_view_name": "HTMLView",
      "description": "",
      "description_tooltip": null,
      "layout": "IPY_MODEL_2746c90cbd4f4f69b2030f01551babd7",
      "placeholder": "​",
      "style": "IPY_MODEL_3a9dff9eba104b4b9a62176f3fa31d56",
      "value": " 371M/371M [00:02&lt;00:00, 116MB/s]"
     }
    },
    "a75ac2d938494ac0965b0154714f830a": {
     "model_module": "@jupyter-widgets/controls",
     "model_module_version": "1.5.0",
     "model_name": "HTMLModel",
     "state": {
      "_dom_classes": [],
      "_model_module": "@jupyter-widgets/controls",
      "_model_module_version": "1.5.0",
      "_model_name": "HTMLModel",
      "_view_count": null,
      "_view_module": "@jupyter-widgets/controls",
      "_view_module_version": "1.5.0",
      "_view_name": "HTMLView",
      "description": "",
      "description_tooltip": null,
      "layout": "IPY_MODEL_32cb39e690784c2381e2cf738a3bdae3",
      "placeholder": "​",
      "style": "IPY_MODEL_c7aa1f1a1a554608bae8c46a0f70e5d1",
      "value": "model.safetensors: 100%"
     }
    },
    "b0a1636c6f064713a65d7bb72e8e22dc": {
     "model_module": "@jupyter-widgets/base",
     "model_module_version": "1.2.0",
     "model_name": "LayoutModel",
     "state": {
      "_model_module": "@jupyter-widgets/base",
      "_model_module_version": "1.2.0",
      "_model_name": "LayoutModel",
      "_view_count": null,
      "_view_module": "@jupyter-widgets/base",
      "_view_module_version": "1.2.0",
      "_view_name": "LayoutView",
      "align_content": null,
      "align_items": null,
      "align_self": null,
      "border": null,
      "bottom": null,
      "display": null,
      "flex": null,
      "flex_flow": null,
      "grid_area": null,
      "grid_auto_columns": null,
      "grid_auto_flow": null,
      "grid_auto_rows": null,
      "grid_column": null,
      "grid_gap": null,
      "grid_row": null,
      "grid_template_areas": null,
      "grid_template_columns": null,
      "grid_template_rows": null,
      "height": null,
      "justify_content": null,
      "justify_items": null,
      "left": null,
      "margin": null,
      "max_height": null,
      "max_width": null,
      "min_height": null,
      "min_width": null,
      "object_fit": null,
      "object_position": null,
      "order": null,
      "overflow": null,
      "overflow_x": null,
      "overflow_y": null,
      "padding": null,
      "right": null,
      "top": null,
      "visibility": null,
      "width": null
     }
    },
    "b3fbd6a9bde14d4c8deeffaf919d5cd7": {
     "model_module": "@jupyter-widgets/base",
     "model_module_version": "1.2.0",
     "model_name": "LayoutModel",
     "state": {
      "_model_module": "@jupyter-widgets/base",
      "_model_module_version": "1.2.0",
      "_model_name": "LayoutModel",
      "_view_count": null,
      "_view_module": "@jupyter-widgets/base",
      "_view_module_version": "1.2.0",
      "_view_name": "LayoutView",
      "align_content": null,
      "align_items": null,
      "align_self": null,
      "border": null,
      "bottom": null,
      "display": null,
      "flex": null,
      "flex_flow": null,
      "grid_area": null,
      "grid_auto_columns": null,
      "grid_auto_flow": null,
      "grid_auto_rows": null,
      "grid_column": null,
      "grid_gap": null,
      "grid_row": null,
      "grid_template_areas": null,
      "grid_template_columns": null,
      "grid_template_rows": null,
      "height": null,
      "justify_content": null,
      "justify_items": null,
      "left": null,
      "margin": null,
      "max_height": null,
      "max_width": null,
      "min_height": null,
      "min_width": null,
      "object_fit": null,
      "object_position": null,
      "order": null,
      "overflow": null,
      "overflow_x": null,
      "overflow_y": null,
      "padding": null,
      "right": null,
      "top": null,
      "visibility": null,
      "width": null
     }
    },
    "b4b79713f59b4918a7a5ef22949cb41e": {
     "model_module": "@jupyter-widgets/controls",
     "model_module_version": "1.5.0",
     "model_name": "DescriptionStyleModel",
     "state": {
      "_model_module": "@jupyter-widgets/controls",
      "_model_module_version": "1.5.0",
      "_model_name": "DescriptionStyleModel",
      "_view_count": null,
      "_view_module": "@jupyter-widgets/base",
      "_view_module_version": "1.2.0",
      "_view_name": "StyleView",
      "description_width": ""
     }
    },
    "b56f0b5bc469453a80b70678dbb2ddaa": {
     "model_module": "@jupyter-widgets/controls",
     "model_module_version": "1.5.0",
     "model_name": "ProgressStyleModel",
     "state": {
      "_model_module": "@jupyter-widgets/controls",
      "_model_module_version": "1.5.0",
      "_model_name": "ProgressStyleModel",
      "_view_count": null,
      "_view_module": "@jupyter-widgets/base",
      "_view_module_version": "1.2.0",
      "_view_name": "StyleView",
      "bar_color": null,
      "description_width": ""
     }
    },
    "b5813a5fc11840e0b7c1501246b08f99": {
     "model_module": "@jupyter-widgets/controls",
     "model_module_version": "1.5.0",
     "model_name": "HTMLModel",
     "state": {
      "_dom_classes": [],
      "_model_module": "@jupyter-widgets/controls",
      "_model_module_version": "1.5.0",
      "_model_name": "HTMLModel",
      "_view_count": null,
      "_view_module": "@jupyter-widgets/controls",
      "_view_module_version": "1.5.0",
      "_view_name": "HTMLView",
      "description": "",
      "description_tooltip": null,
      "layout": "IPY_MODEL_b3fbd6a9bde14d4c8deeffaf919d5cd7",
      "placeholder": "​",
      "style": "IPY_MODEL_cac1ae7bcbaa4838b58439a5351b4ca7",
      "value": "spm.model: 100%"
     }
    },
    "c740908e5dec46189ea2385382cdb408": {
     "model_module": "@jupyter-widgets/base",
     "model_module_version": "1.2.0",
     "model_name": "LayoutModel",
     "state": {
      "_model_module": "@jupyter-widgets/base",
      "_model_module_version": "1.2.0",
      "_model_name": "LayoutModel",
      "_view_count": null,
      "_view_module": "@jupyter-widgets/base",
      "_view_module_version": "1.2.0",
      "_view_name": "LayoutView",
      "align_content": null,
      "align_items": null,
      "align_self": null,
      "border": null,
      "bottom": null,
      "display": null,
      "flex": null,
      "flex_flow": null,
      "grid_area": null,
      "grid_auto_columns": null,
      "grid_auto_flow": null,
      "grid_auto_rows": null,
      "grid_column": null,
      "grid_gap": null,
      "grid_row": null,
      "grid_template_areas": null,
      "grid_template_columns": null,
      "grid_template_rows": null,
      "height": null,
      "justify_content": null,
      "justify_items": null,
      "left": null,
      "margin": null,
      "max_height": null,
      "max_width": null,
      "min_height": null,
      "min_width": null,
      "object_fit": null,
      "object_position": null,
      "order": null,
      "overflow": null,
      "overflow_x": null,
      "overflow_y": null,
      "padding": null,
      "right": null,
      "top": null,
      "visibility": null,
      "width": null
     }
    },
    "c7aa1f1a1a554608bae8c46a0f70e5d1": {
     "model_module": "@jupyter-widgets/controls",
     "model_module_version": "1.5.0",
     "model_name": "DescriptionStyleModel",
     "state": {
      "_model_module": "@jupyter-widgets/controls",
      "_model_module_version": "1.5.0",
      "_model_name": "DescriptionStyleModel",
      "_view_count": null,
      "_view_module": "@jupyter-widgets/base",
      "_view_module_version": "1.2.0",
      "_view_name": "StyleView",
      "description_width": ""
     }
    },
    "cac1ae7bcbaa4838b58439a5351b4ca7": {
     "model_module": "@jupyter-widgets/controls",
     "model_module_version": "1.5.0",
     "model_name": "DescriptionStyleModel",
     "state": {
      "_model_module": "@jupyter-widgets/controls",
      "_model_module_version": "1.5.0",
      "_model_name": "DescriptionStyleModel",
      "_view_count": null,
      "_view_module": "@jupyter-widgets/base",
      "_view_module_version": "1.2.0",
      "_view_name": "StyleView",
      "description_width": ""
     }
    },
    "de5b334e2f8e4616ba0db8571e1dc02a": {
     "model_module": "@jupyter-widgets/controls",
     "model_module_version": "1.5.0",
     "model_name": "DescriptionStyleModel",
     "state": {
      "_model_module": "@jupyter-widgets/controls",
      "_model_module_version": "1.5.0",
      "_model_name": "DescriptionStyleModel",
      "_view_count": null,
      "_view_module": "@jupyter-widgets/base",
      "_view_module_version": "1.2.0",
      "_view_name": "StyleView",
      "description_width": ""
     }
    },
    "dfadc51ea24e489a80a130d21aedd0a7": {
     "model_module": "@jupyter-widgets/controls",
     "model_module_version": "1.5.0",
     "model_name": "HBoxModel",
     "state": {
      "_dom_classes": [],
      "_model_module": "@jupyter-widgets/controls",
      "_model_module_version": "1.5.0",
      "_model_name": "HBoxModel",
      "_view_count": null,
      "_view_module": "@jupyter-widgets/controls",
      "_view_module_version": "1.5.0",
      "_view_name": "HBoxView",
      "box_style": "",
      "children": [
       "IPY_MODEL_ec0e9819afd94f118adf89fa2e8dddbe",
       "IPY_MODEL_59916754f38d4f26b939fd1bb48e540e",
       "IPY_MODEL_fadd6868f9b94926aeee5c1fe8e48d9a"
      ],
      "layout": "IPY_MODEL_7dd032171e4d429a9d2cf59e9c2b3b96"
     }
    },
    "ec0e9819afd94f118adf89fa2e8dddbe": {
     "model_module": "@jupyter-widgets/controls",
     "model_module_version": "1.5.0",
     "model_name": "HTMLModel",
     "state": {
      "_dom_classes": [],
      "_model_module": "@jupyter-widgets/controls",
      "_model_module_version": "1.5.0",
      "_model_name": "HTMLModel",
      "_view_count": null,
      "_view_module": "@jupyter-widgets/controls",
      "_view_module_version": "1.5.0",
      "_view_name": "HTMLView",
      "description": "",
      "description_tooltip": null,
      "layout": "IPY_MODEL_f0dfd275fb6f46f0953f49e85a426036",
      "placeholder": "​",
      "style": "IPY_MODEL_5408caaf151e451ba75a886e9f013a0f",
      "value": "config.json: 100%"
     }
    },
    "f0dfd275fb6f46f0953f49e85a426036": {
     "model_module": "@jupyter-widgets/base",
     "model_module_version": "1.2.0",
     "model_name": "LayoutModel",
     "state": {
      "_model_module": "@jupyter-widgets/base",
      "_model_module_version": "1.2.0",
      "_model_name": "LayoutModel",
      "_view_count": null,
      "_view_module": "@jupyter-widgets/base",
      "_view_module_version": "1.2.0",
      "_view_name": "LayoutView",
      "align_content": null,
      "align_items": null,
      "align_self": null,
      "border": null,
      "bottom": null,
      "display": null,
      "flex": null,
      "flex_flow": null,
      "grid_area": null,
      "grid_auto_columns": null,
      "grid_auto_flow": null,
      "grid_auto_rows": null,
      "grid_column": null,
      "grid_gap": null,
      "grid_row": null,
      "grid_template_areas": null,
      "grid_template_columns": null,
      "grid_template_rows": null,
      "height": null,
      "justify_content": null,
      "justify_items": null,
      "left": null,
      "margin": null,
      "max_height": null,
      "max_width": null,
      "min_height": null,
      "min_width": null,
      "object_fit": null,
      "object_position": null,
      "order": null,
      "overflow": null,
      "overflow_x": null,
      "overflow_y": null,
      "padding": null,
      "right": null,
      "top": null,
      "visibility": null,
      "width": null
     }
    },
    "f12b337e3b9d45f8a27c8693ee8c79b4": {
     "model_module": "@jupyter-widgets/controls",
     "model_module_version": "1.5.0",
     "model_name": "HTMLModel",
     "state": {
      "_dom_classes": [],
      "_model_module": "@jupyter-widgets/controls",
      "_model_module_version": "1.5.0",
      "_model_name": "HTMLModel",
      "_view_count": null,
      "_view_module": "@jupyter-widgets/controls",
      "_view_module_version": "1.5.0",
      "_view_name": "HTMLView",
      "description": "",
      "description_tooltip": null,
      "layout": "IPY_MODEL_b0a1636c6f064713a65d7bb72e8e22dc",
      "placeholder": "​",
      "style": "IPY_MODEL_36e6dd8e07dd4cf9b749c7ab3ca5b414",
      "value": " 2.46M/2.46M [00:00&lt;00:00, 80.5MB/s]"
     }
    },
    "f2ff29289b944a2ea85b9d9108ec838f": {
     "model_module": "@jupyter-widgets/base",
     "model_module_version": "1.2.0",
     "model_name": "LayoutModel",
     "state": {
      "_model_module": "@jupyter-widgets/base",
      "_model_module_version": "1.2.0",
      "_model_name": "LayoutModel",
      "_view_count": null,
      "_view_module": "@jupyter-widgets/base",
      "_view_module_version": "1.2.0",
      "_view_name": "LayoutView",
      "align_content": null,
      "align_items": null,
      "align_self": null,
      "border": null,
      "bottom": null,
      "display": null,
      "flex": null,
      "flex_flow": null,
      "grid_area": null,
      "grid_auto_columns": null,
      "grid_auto_flow": null,
      "grid_auto_rows": null,
      "grid_column": null,
      "grid_gap": null,
      "grid_row": null,
      "grid_template_areas": null,
      "grid_template_columns": null,
      "grid_template_rows": null,
      "height": null,
      "justify_content": null,
      "justify_items": null,
      "left": null,
      "margin": null,
      "max_height": null,
      "max_width": null,
      "min_height": null,
      "min_width": null,
      "object_fit": null,
      "object_position": null,
      "order": null,
      "overflow": null,
      "overflow_x": null,
      "overflow_y": null,
      "padding": null,
      "right": null,
      "top": null,
      "visibility": null,
      "width": null
     }
    },
    "f68799b750614844b0c44cb4bed06e56": {
     "model_module": "@jupyter-widgets/controls",
     "model_module_version": "1.5.0",
     "model_name": "ProgressStyleModel",
     "state": {
      "_model_module": "@jupyter-widgets/controls",
      "_model_module_version": "1.5.0",
      "_model_name": "ProgressStyleModel",
      "_view_count": null,
      "_view_module": "@jupyter-widgets/base",
      "_view_module_version": "1.2.0",
      "_view_name": "StyleView",
      "bar_color": null,
      "description_width": ""
     }
    },
    "fadd6868f9b94926aeee5c1fe8e48d9a": {
     "model_module": "@jupyter-widgets/controls",
     "model_module_version": "1.5.0",
     "model_name": "HTMLModel",
     "state": {
      "_dom_classes": [],
      "_model_module": "@jupyter-widgets/controls",
      "_model_module_version": "1.5.0",
      "_model_name": "HTMLModel",
      "_view_count": null,
      "_view_module": "@jupyter-widgets/controls",
      "_view_module_version": "1.5.0",
      "_view_name": "HTMLView",
      "description": "",
      "description_tooltip": null,
      "layout": "IPY_MODEL_c740908e5dec46189ea2385382cdb408",
      "placeholder": "​",
      "style": "IPY_MODEL_b4b79713f59b4918a7a5ef22949cb41e",
      "value": " 579/579 [00:00&lt;00:00, 32.5kB/s]"
     }
    }
   }
  }
 },
 "nbformat": 4,
 "nbformat_minor": 5
}
