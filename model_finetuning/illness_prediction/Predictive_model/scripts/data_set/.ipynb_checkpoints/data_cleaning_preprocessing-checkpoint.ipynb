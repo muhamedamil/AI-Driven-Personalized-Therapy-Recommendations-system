{
 "cells": [
  {
   "cell_type": "code",
   "execution_count": 1,
   "id": "f9396a38-27ac-4baf-a45a-811e66386ee4",
   "metadata": {},
   "outputs": [],
   "source": [
    "import re\n",
    "import spacy\n",
    "import pandas as pd\n",
    "from emot.emo_unicode import UNICODE_EMOJI"
   ]
  },
  {
   "cell_type": "code",
   "execution_count": 181,
   "id": "4fe85458-5b70-4ccb-9c95-cd9e037f9ab1",
   "metadata": {},
   "outputs": [],
   "source": [
    "df = pd.read_csv(r\"C:\\Users\\amil\\OneDrive\\Documents\\AI-Driven Personalized Therapy Recommendations system\\Module_3\\Predictive_model\\data_set\\processed_data\\preprocessed_data.csv\")"
   ]
  },
  {
   "cell_type": "code",
   "execution_count": 183,
   "id": "0707e6b7-ddd4-4c66-83c9-16a53d252784",
   "metadata": {},
   "outputs": [
    {
     "data": {
      "text/plain": [
       "label\n",
       "stress                  7500\n",
       "schizophrenia           7500\n",
       "offmychest              7500\n",
       "panic_disorder          7500\n",
       "adhd                    7500\n",
       "hoarding disorder       7500\n",
       "social anxiety          7500\n",
       "bdd                     7500\n",
       "suicidal                7500\n",
       "bipolar                 7500\n",
       "mentalillness           7500\n",
       "anxiety                 7500\n",
       "ptsd                    7500\n",
       "normal                  7500\n",
       "bpd                     7500\n",
       "depression              7500\n",
       "personality disorder    7500\n",
       "eating disorder         7500\n",
       "ocd                     7000\n",
       "Name: count, dtype: int64"
      ]
     },
     "execution_count": 183,
     "metadata": {},
     "output_type": "execute_result"
    }
   ],
   "source": [
    "df['label'].value_counts()"
   ]
  },
  {
   "cell_type": "code",
   "execution_count": 185,
   "id": "d24d935d-b570-4b93-8b3c-88f9ff3e0a67",
   "metadata": {},
   "outputs": [],
   "source": [
    "nlp = spacy.load(\"en_core_web_sm\")\n",
    "negation_words = {\n",
    "    \"not\", \"no\", \"never\", \"none\", \"nobody\", \"nowhere\", \"nothing\", \"neither\", \"nor\", \"without\",\n",
    "    \"hardly\", \"scarcely\", \"barely\", \"isn't\", \"aren't\", \"wasn't\", \"weren't\", \"doesn't\", \"don't\",\n",
    "    \"didn't\", \"hasn't\", \"haven't\", \"hadn't\", \"won't\", \"wouldn't\", \"couldn't\", \"shouldn't\",\n",
    "    \"can't\", \"cannot\", \"mustn't\", \"shan't\", \"needn't\", \"lacks\", \"rarely\", \"seldom\",\n",
    "    \"no one\", \"not even\", \"not really\", \"no longer\", \"far from\", \"nothing but\", \"not only\"\n",
    "}\n",
    "contractions = {\n",
    "    \"don't\": \"do not\",\n",
    "    \"can't\": \"cannot\",\n",
    "    \"i'm\": \"i am\",\n",
    "    \"he's\": \"he is\",\n",
    "    \"she's\": \"she is\",\n",
    "    \"it's\": \"it is\",\n",
    "    \"that's\": \"that is\",\n",
    "    \"what's\": \"what is\",\n",
    "    \"where's\": \"where is\",\n",
    "    \"there's\": \"there is\",\n",
    "    \"didn't\": \"did not\",\n",
    "    \"won't\": \"will not\",\n",
    "    \"wouldn't\": \"would not\",\n",
    "    \"couldn't\": \"could not\",\n",
    "    \"shouldn't\": \"should not\",\n",
    "    \"haven't\": \"have not\",\n",
    "    \"hasn't\": \"has not\",\n",
    "    \"wasn't\": \"was not\",\n",
    "    \"weren't\": \"were not\",\n",
    "    \"isn't\": \"is not\",\n",
    "    \"aren't\": \"are not\",\n",
    "    \"doesn't\": \"does not\"\n",
    "}\n",
    "def expand_contractions(text):\n",
    "    for contraction, expanded in contractions.items():\n",
    "        text = re.sub(r\"\\b\" + re.escape(contraction) + r\"\\b\", expanded, text)\n",
    "    return text\n",
    "def convert_emojis(text):\n",
    "    for emoji, description in UNICODE_EMOJI.items():\n",
    "        text = text.replace(emoji, f\" {description} \")\n",
    "    return text\n",
    "def clean_text(text):\n",
    "    if not isinstance(text, str):\n",
    "        text = str(text)\n",
    "    text = text.lower()\n",
    "    text = expand_contractions(text)\n",
    "    text = convert_emojis(text)\n",
    "    text = re.sub(r\"http\\S+|www\\S+|https\\S+\", '', text, flags=re.MULTILINE)  # Remove URLs\n",
    "    text = re.sub(r'\\@w+|\\#', '', text)  # Remove mentions and hashtags\n",
    "    text = re.sub(r'[^\\w\\s]', '', text)  # Remove punctuation\n",
    "    text = re.sub(r'\\d+', '', text)  # Remove numbers\n",
    "    return text\n",
    "def preprocess_data(df, text_column, label_column):\n",
    "    df[text_column] = df[text_column].fillna(\"\").astype(str)\n",
    "    df[text_column] = df[text_column].apply(clean_text)\n",
    "    df = df[[text_column, label_column]].dropna().reset_index(drop=True)\n",
    "    return df\n",
    "text_column = 'text'\n",
    "label_column = 'label'\n",
    "df = preprocess_data(df, text_column, label_column)"
   ]
  },
  {
   "cell_type": "code",
   "execution_count": 5,
   "id": "08c9bab7-c9ea-4f6e-a2c7-9ff6810faafd",
   "metadata": {},
   "outputs": [
    {
     "data": {
      "text/html": [
       "<div>\n",
       "<style scoped>\n",
       "    .dataframe tbody tr th:only-of-type {\n",
       "        vertical-align: middle;\n",
       "    }\n",
       "\n",
       "    .dataframe tbody tr th {\n",
       "        vertical-align: top;\n",
       "    }\n",
       "\n",
       "    .dataframe thead th {\n",
       "        text-align: right;\n",
       "    }\n",
       "</style>\n",
       "<table border=\"1\" class=\"dataframe\">\n",
       "  <thead>\n",
       "    <tr style=\"text-align: right;\">\n",
       "      <th></th>\n",
       "      <th>text</th>\n",
       "      <th>label</th>\n",
       "    </tr>\n",
       "  </thead>\n",
       "  <tbody>\n",
       "    <tr>\n",
       "      <th>0</th>\n",
       "      <td>stress and anxiety are common issues that peop...</td>\n",
       "      <td>stress</td>\n",
       "    </tr>\n",
       "    <tr>\n",
       "      <th>1</th>\n",
       "      <td>the problem is not finding a doctor the proble...</td>\n",
       "      <td>panic_disorder</td>\n",
       "    </tr>\n",
       "    <tr>\n",
       "      <th>2</th>\n",
       "      <td>i f moved out of my parents house almost  year...</td>\n",
       "      <td>panic_disorder</td>\n",
       "    </tr>\n",
       "    <tr>\n",
       "      <th>3</th>\n",
       "      <td>from a buddhist perspective dealing with deper...</td>\n",
       "      <td>panic_disorder</td>\n",
       "    </tr>\n",
       "    <tr>\n",
       "      <th>4</th>\n",
       "      <td>for me it was being emotionally stuck on a few...</td>\n",
       "      <td>hoarding disorder</td>\n",
       "    </tr>\n",
       "    <tr>\n",
       "      <th>...</th>\n",
       "      <td>...</td>\n",
       "      <td>...</td>\n",
       "    </tr>\n",
       "    <tr>\n",
       "      <th>121360</th>\n",
       "      <td>scheduled an appointment with an ocd specialis...</td>\n",
       "      <td>ocd</td>\n",
       "    </tr>\n",
       "    <tr>\n",
       "      <th>121361</th>\n",
       "      <td>my second exposure ive done this week for my c...</td>\n",
       "      <td>ocd</td>\n",
       "    </tr>\n",
       "    <tr>\n",
       "      <th>121362</th>\n",
       "      <td>do you have severe ocd and meds have failed yo...</td>\n",
       "      <td>ocd</td>\n",
       "    </tr>\n",
       "    <tr>\n",
       "      <th>121363</th>\n",
       "      <td>ocd can be harmful at any level it becomes har...</td>\n",
       "      <td>ocd</td>\n",
       "    </tr>\n",
       "    <tr>\n",
       "      <th>121364</th>\n",
       "      <td>who else has intrusive thoughts about embarras...</td>\n",
       "      <td>ocd</td>\n",
       "    </tr>\n",
       "  </tbody>\n",
       "</table>\n",
       "<p>121365 rows × 2 columns</p>\n",
       "</div>"
      ],
      "text/plain": [
       "                                                     text              label\n",
       "0       stress and anxiety are common issues that peop...             stress\n",
       "1       the problem is not finding a doctor the proble...     panic_disorder\n",
       "2       i f moved out of my parents house almost  year...     panic_disorder\n",
       "3       from a buddhist perspective dealing with deper...     panic_disorder\n",
       "4       for me it was being emotionally stuck on a few...  hoarding disorder\n",
       "...                                                   ...                ...\n",
       "121360  scheduled an appointment with an ocd specialis...                ocd\n",
       "121361  my second exposure ive done this week for my c...                ocd\n",
       "121362  do you have severe ocd and meds have failed yo...                ocd\n",
       "121363  ocd can be harmful at any level it becomes har...                ocd\n",
       "121364  who else has intrusive thoughts about embarras...                ocd\n",
       "\n",
       "[121365 rows x 2 columns]"
      ]
     },
     "execution_count": 5,
     "metadata": {},
     "output_type": "execute_result"
    }
   ],
   "source": [
    "df"
   ]
  },
  {
   "cell_type": "code",
   "execution_count": 187,
   "id": "86acae3c-503c-4e45-87cf-0f2b91104c25",
   "metadata": {},
   "outputs": [],
   "source": [
    "df.to_csv('preprocessed_data1.csv',index= False)"
   ]
  },
  {
   "cell_type": "code",
   "execution_count": 175,
   "id": "86c1a338-2143-4297-a15a-f770be60c0be",
   "metadata": {},
   "outputs": [],
   "source": [
    "df.drop_duplicates(inplace= True)"
   ]
  },
  {
   "cell_type": "code",
   "execution_count": null,
   "id": "d78afe8d-dfb2-43f8-b31c-0c7b6eeea001",
   "metadata": {},
   "outputs": [],
   "source": []
  }
 ],
 "metadata": {
  "kernelspec": {
   "display_name": "tf_gpu",
   "language": "python",
   "name": "my_env"
  },
  "language_info": {
   "codemirror_mode": {
    "name": "ipython",
    "version": 3
   },
   "file_extension": ".py",
   "mimetype": "text/x-python",
   "name": "python",
   "nbconvert_exporter": "python",
   "pygments_lexer": "ipython3",
   "version": "3.8.18"
  }
 },
 "nbformat": 4,
 "nbformat_minor": 5
}
