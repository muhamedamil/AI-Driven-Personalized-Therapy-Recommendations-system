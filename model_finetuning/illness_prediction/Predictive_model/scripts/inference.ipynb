{
 "cells": [
  {
   "cell_type": "code",
   "execution_count": 5,
   "id": "917ac7f2-249d-47d9-a26f-ff8dd9fd786d",
   "metadata": {
    "scrolled": true
   },
   "outputs": [
    {
     "name": "stdout",
     "output_type": "stream",
     "text": [
      "✅ Fine-Tuned Custom DeBERTa Model Successfully Loaded from pytorch_model.bin!\n"
     ]
    }
   ],
   "source": [
    "from transformers import AutoTokenizer, AutoModel\n",
    "import torch\n",
    "import torch.nn as nn\n",
    "from torch.optim import AdamW\n",
    "\n",
    "MODEL_DIR = r\"C:\\Users\\amil\\OneDrive\\Documents\\AI-Driven Personalized Therapy Recommendations system\\Module_3\\Predictive_model\\model\\converted_model\"\n",
    "MODEL_BIN_PATH = f\"{MODEL_DIR}/pytorch_model.bin\"\n",
    "\n",
    "\n",
    "tokenizer = AutoTokenizer.from_pretrained(MODEL_DIR)\n",
    "\n",
    "MODEL_CHECKPOINT = \"microsoft/deberta-v3-base\"\n",
    "NUM_LABELS = 19\n",
    "\n",
    "deberta_model = AutoModel.from_pretrained(MODEL_CHECKPOINT)\n",
    "\n",
    "# Define your custom classifier\n",
    "class CustomDebertaClassifier(nn.Module):\n",
    "    def __init__(self, deberta_model, num_labels):\n",
    "        super(CustomDebertaClassifier, self).__init__()\n",
    "        self.deberta = deberta_model  \n",
    "        self.dropout = nn.Dropout(0.3)\n",
    "        self.classifier = nn.Linear(768, num_labels)  # 19 output classes\n",
    "        self.criterion = nn.CrossEntropyLoss()\n",
    "\n",
    "    def forward(self, input_ids, attention_mask, labels=None):\n",
    "        outputs = self.deberta(input_ids=input_ids, attention_mask=attention_mask)\n",
    "        pooled_output = outputs.last_hidden_state[:, 0, :]  # CLS token representation\n",
    "        pooled_output = self.dropout(pooled_output)\n",
    "        logits = self.classifier(pooled_output)\n",
    "        loss = None\n",
    "        if labels is not None:\n",
    "            loss = self.criterion(logits, labels)  \n",
    "        return {\"loss\": loss, \"logits\": logits}\n",
    "\n",
    "model = CustomDebertaClassifier(deberta_model, NUM_LABELS)\n",
    "device = torch.device(\"cuda\" if torch.cuda.is_available() else \"cpu\")\n",
    "model.to(device)\n",
    "\n",
    "model.load_state_dict(torch.load(MODEL_BIN_PATH, map_location=device))\n",
    "\n",
    "optimizer = AdamW(model.parameters(), lr=2e-5, weight_decay=0.01)\n",
    "\n",
    "model.eval()\n",
    "print(\"✅ Fine-Tuned Custom DeBERTa Model Successfully Loaded from pytorch_model.bin!\")\n"
   ]
  },
  {
   "cell_type": "code",
   "execution_count": 2,
   "id": "237fc796-ae65-4d1f-85d4-36d71bd1ab0c",
   "metadata": {},
   "outputs": [
    {
     "data": {
      "text/plain": [
       "CustomDebertaClassifier(\n",
       "  (deberta): DebertaV2Model(\n",
       "    (embeddings): DebertaV2Embeddings(\n",
       "      (word_embeddings): Embedding(128100, 768, padding_idx=0)\n",
       "      (LayerNorm): LayerNorm((768,), eps=1e-07, elementwise_affine=True)\n",
       "      (dropout): StableDropout()\n",
       "    )\n",
       "    (encoder): DebertaV2Encoder(\n",
       "      (layer): ModuleList(\n",
       "        (0-11): 12 x DebertaV2Layer(\n",
       "          (attention): DebertaV2Attention(\n",
       "            (self): DisentangledSelfAttention(\n",
       "              (query_proj): Linear(in_features=768, out_features=768, bias=True)\n",
       "              (key_proj): Linear(in_features=768, out_features=768, bias=True)\n",
       "              (value_proj): Linear(in_features=768, out_features=768, bias=True)\n",
       "              (pos_dropout): StableDropout()\n",
       "              (dropout): StableDropout()\n",
       "            )\n",
       "            (output): DebertaV2SelfOutput(\n",
       "              (dense): Linear(in_features=768, out_features=768, bias=True)\n",
       "              (LayerNorm): LayerNorm((768,), eps=1e-07, elementwise_affine=True)\n",
       "              (dropout): StableDropout()\n",
       "            )\n",
       "          )\n",
       "          (intermediate): DebertaV2Intermediate(\n",
       "            (dense): Linear(in_features=768, out_features=3072, bias=True)\n",
       "            (intermediate_act_fn): GELUActivation()\n",
       "          )\n",
       "          (output): DebertaV2Output(\n",
       "            (dense): Linear(in_features=3072, out_features=768, bias=True)\n",
       "            (LayerNorm): LayerNorm((768,), eps=1e-07, elementwise_affine=True)\n",
       "            (dropout): StableDropout()\n",
       "          )\n",
       "        )\n",
       "      )\n",
       "      (rel_embeddings): Embedding(512, 768)\n",
       "      (LayerNorm): LayerNorm((768,), eps=1e-07, elementwise_affine=True)\n",
       "    )\n",
       "  )\n",
       "  (dropout): Dropout(p=0.3, inplace=False)\n",
       "  (classifier): Linear(in_features=768, out_features=19, bias=True)\n",
       "  (criterion): CrossEntropyLoss()\n",
       ")"
      ]
     },
     "execution_count": 2,
     "metadata": {},
     "output_type": "execute_result"
    }
   ],
   "source": [
    "model.eval()"
   ]
  },
  {
   "cell_type": "code",
   "execution_count": 9,
   "id": "afb427f3-b7cd-4bd0-b9f7-5b2fec7a5134",
   "metadata": {},
   "outputs": [
    {
     "name": "stdout",
     "output_type": "stream",
     "text": [
      "Text: Imagine waking up in a world where reality feels like a fragile illusion—where your own thoughts betray you, where voices whisper secrets only you can hear, and where the very fabric of existence seems to shift before your eyes. This is the daily experience for someone with schizophrenia, a condition that warps perception, distorts emotions, and disrupts the very nature of self-awareness.\n",
      "Prediction: Schizophrenia (Confidence: 1.00)\n",
      "--------------------------------------------------\n"
     ]
    }
   ],
   "source": [
    "device = torch.device(\"cuda\" if torch.cuda.is_available() else \"cpu\")\n",
    "\n",
    "# Mental health mapping dictionary\n",
    "mental_health_mapping = {\n",
    "    0: \"ADHD\",\n",
    "    1: \"Anxiety\",\n",
    "    2: \"BDD\",\n",
    "    3: \"Bipolar\",\n",
    "    4: \"BPD\",\n",
    "    5: \"Depression\",\n",
    "    6: \"Eating Disorder\",\n",
    "    7: \"Hoarding Disorder\",\n",
    "    8: \"Mental Illness\",\n",
    "    9: \"Normal\",\n",
    "    10: \"OCD\",\n",
    "    11: \"Off My Chest\",\n",
    "    12: \"Panic Disorder\",\n",
    "    13: \"Personality Disorder\",\n",
    "    14: \"PTSD\",\n",
    "    15: \"Schizophrenia\",\n",
    "    16: \"Social Anxiety\",\n",
    "    17: \"Stress\",\n",
    "    18: \"Suicidal\"\n",
    "}\n",
    "\n",
    "def predict(texts):\n",
    "    \"\"\"\n",
    "    Perform inference on a list of input texts.\n",
    "    Args:\n",
    "        texts (list): List of input text strings\n",
    "    Returns:\n",
    "        list: Predicted labels and probabilities\n",
    "    \"\"\"\n",
    "    inputs = tokenizer(texts, padding=True, truncation=True, return_tensors=\"pt\")\n",
    "    \n",
    "    input_ids = inputs[\"input_ids\"].to(device)\n",
    "    attention_mask = inputs[\"attention_mask\"].to(device)\n",
    "\n",
    "    # Run inference\n",
    "    with torch.no_grad():\n",
    "        outputs = model(input_ids=input_ids, attention_mask=attention_mask)\n",
    "        logits = outputs[\"logits\"]\n",
    "\n",
    "    # Convert logits to probabilities\n",
    "    probs = torch.nn.functional.softmax(logits, dim=-1)\n",
    "    preds = torch.argmax(probs, dim=-1).cpu().numpy()\n",
    "    results = []\n",
    "    for text, pred, prob in zip(texts, preds, probs):\n",
    "        label = mental_health_mapping.get(pred, \"Unknown\")  # Map predicted index to label\n",
    "        confidence = prob.max().item()\n",
    "        results.append({\n",
    "            \"text\": text,\n",
    "            \"prediction\": label,   \n",
    "            \"confidence\": confidence\n",
    "        })\n",
    "\n",
    "    return results\n",
    "\n",
    "sample_texts = [\n",
    "    \"Imagine waking up in a world where reality feels like a fragile illusion—where your own thoughts betray you, where voices whisper secrets only you can hear, and where the very fabric of existence seems to shift before your eyes. This is the daily experience for someone with schizophrenia, a condition that warps perception, distorts emotions, and disrupts the very nature of self-awareness.\"\n",
    "]\n",
    "\n",
    "predictions = predict(sample_texts)\n",
    "\n",
    "for result in predictions:\n",
    "    print(f\"Text: {result['text']}\")\n",
    "    print(f\"Prediction: {result['prediction']} (Confidence: {result['confidence']:.2f})\")\n",
    "    print(\"-\" * 50)\n"
   ]
  }
 ],
 "metadata": {
  "kernelspec": {
   "display_name": "tf_gpu",
   "language": "python",
   "name": "my_env"
  },
  "language_info": {
   "codemirror_mode": {
    "name": "ipython",
    "version": 3
   },
   "file_extension": ".py",
   "mimetype": "text/x-python",
   "name": "python",
   "nbconvert_exporter": "python",
   "pygments_lexer": "ipython3",
   "version": "3.8.20"
  }
 },
 "nbformat": 4,
 "nbformat_minor": 5
}
